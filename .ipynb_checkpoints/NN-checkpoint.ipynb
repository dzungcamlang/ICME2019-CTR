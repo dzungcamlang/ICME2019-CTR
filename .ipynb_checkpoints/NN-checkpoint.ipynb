{
 "cells": [
  {
   "cell_type": "code",
   "execution_count": 1,
   "metadata": {
    "collapsed": true
   },
   "outputs": [],
   "source": [
    "import numpy as np\n",
    "import pandas as pd\n",
    "import ctrNet\n",
    "import tensorflow as tf\n",
    "from src import misc_utils as utils\n",
    "import os\n",
    "import gc\n",
    "from sklearn import metrics\n",
    "import random\n",
    "np.random.seed(2019)\n",
    "os.environ[\"CUDA_DEVICE_ORDER\"]='PCI_BUS_ID'\n",
    "os.environ[\"CUDA_VISIBLE_DEVICES\"]='4'"
   ]
  },
  {
   "cell_type": "code",
   "execution_count": 2,
   "metadata": {
    "collapsed": true
   },
   "outputs": [],
   "source": [
    "label='finish'\n",
    "single_features=['did_finish_positive_num', 'did_finish_negative_num','did_all_cont','did_day_cont','author_id_finish_positive_num', 'author_id_finish_negative_num',\n",
    "                'author_id_all_cont','author_id_day_cont','item_id_finish_positive_num', 'item_id_finish_negative_num',\n",
    "                'item_id_all_cont','item_id_day_cont','author_id_did_all_cont','author_include_num_of_item','author_include_num_of_uid',\n",
    "                'title_cont','uid_has_num_of_did','uid_channel_nunique','did_video_duration_max','channel_video_duration_min',\n",
    "                'item_id_uid_nunique',]\n",
    "cross_features=['uid','user_city','item_id','author_id','item_city','channel','music_id','did','video_duration','did_day_cont','author_id_did_all_cont']\n",
    "\n",
    "\n",
    "embedding_features=None\n",
    "multi_features=['title_keys']\n",
    "multi_weights=['title_values']\n",
    "dense_features=['audio_embedding_'+str(i) for i in range(64)]+['video_embedding_'+str(i) for i in range(32)]+['author_id_embedding_128_'+str(i) for i in range(128)]+\\\n",
    "                ['uid_embedding_128_'+str(i) for i in range(128)]+['did_embedding_128_'+str(i) for i in range(128)]+\\\n",
    "    ['uid_deepwalk_embedding_128_'+str(i) for i in range(128)]+['item_id_deepwalk_embedding_128_'+str(i) for i in range(128)]\n",
    "dense_features+=['beauty_min','did_finish_rate','author_id_finish_rate','item_id_finish_rate','title_mean_rate_finish','title_max_rate_finish','title_min_rate_finish'] \n",
    "dense_features+=[]\n",
    "dense_features+=[\"user_music_id_\"+str(i) for i in range(128)]+[\"user_item_id_\"+str(i) for i in range(128)]+[\"user_did_\"+str(i) for i in range(128)]+[\"user_author_id_\"+str(i) for i in range(128)]\n",
    "dense_features+=[\"item_author_id_\"+str(i) for i in range(64)]"
   ]
  },
  {
   "cell_type": "code",
   "execution_count": 3,
   "metadata": {},
   "outputs": [
    {
     "name": "stdout",
     "output_type": "stream",
     "text": [
      "  activation=['relu', 'relu', 'relu']\n",
      "  batch_norm_decay=0.9\n",
      "  batch_size=4096\n",
      "  cross_activation=relu\n",
      "  cross_features=['uid', 'user_city', 'item_id', 'author_id', 'item_city', 'channel', 'music_id', 'did', 'video_duration', 'did_day_cont', 'author_id_did_all_cont']\n",
      "  cross_hash_num=10000000\n",
      "  cross_layer_sizes=[128, 128]\n",
      "  dense_features=['audio_embedding_0', 'audio_embedding_1', 'audio_embedding_2', 'audio_embedding_3', 'audio_embedding_4', 'audio_embedding_5', 'audio_embedding_6', 'audio_embedding_7', 'audio_embedding_8', 'audio_embedding_9', 'audio_embedding_10', 'audio_embedding_11', 'audio_embedding_12', 'audio_embedding_13', 'audio_embedding_14', 'audio_embedding_15', 'audio_embedding_16', 'audio_embedding_17', 'audio_embedding_18', 'audio_embedding_19', 'audio_embedding_20', 'audio_embedding_21', 'audio_embedding_22', 'audio_embedding_23', 'audio_embedding_24', 'audio_embedding_25', 'audio_embedding_26', 'audio_embedding_27', 'audio_embedding_28', 'audio_embedding_29', 'audio_embedding_30', 'audio_embedding_31', 'audio_embedding_32', 'audio_embedding_33', 'audio_embedding_34', 'audio_embedding_35', 'audio_embedding_36', 'audio_embedding_37', 'audio_embedding_38', 'audio_embedding_39', 'audio_embedding_40', 'audio_embedding_41', 'audio_embedding_42', 'audio_embedding_43', 'audio_embedding_44', 'audio_embedding_45', 'audio_embedding_46', 'audio_embedding_47', 'audio_embedding_48', 'audio_embedding_49', 'audio_embedding_50', 'audio_embedding_51', 'audio_embedding_52', 'audio_embedding_53', 'audio_embedding_54', 'audio_embedding_55', 'audio_embedding_56', 'audio_embedding_57', 'audio_embedding_58', 'audio_embedding_59', 'audio_embedding_60', 'audio_embedding_61', 'audio_embedding_62', 'audio_embedding_63', 'video_embedding_0', 'video_embedding_1', 'video_embedding_2', 'video_embedding_3', 'video_embedding_4', 'video_embedding_5', 'video_embedding_6', 'video_embedding_7', 'video_embedding_8', 'video_embedding_9', 'video_embedding_10', 'video_embedding_11', 'video_embedding_12', 'video_embedding_13', 'video_embedding_14', 'video_embedding_15', 'video_embedding_16', 'video_embedding_17', 'video_embedding_18', 'video_embedding_19', 'video_embedding_20', 'video_embedding_21', 'video_embedding_22', 'video_embedding_23', 'video_embedding_24', 'video_embedding_25', 'video_embedding_26', 'video_embedding_27', 'video_embedding_28', 'video_embedding_29', 'video_embedding_30', 'video_embedding_31', 'author_id_embedding_128_0', 'author_id_embedding_128_1', 'author_id_embedding_128_2', 'author_id_embedding_128_3', 'author_id_embedding_128_4', 'author_id_embedding_128_5', 'author_id_embedding_128_6', 'author_id_embedding_128_7', 'author_id_embedding_128_8', 'author_id_embedding_128_9', 'author_id_embedding_128_10', 'author_id_embedding_128_11', 'author_id_embedding_128_12', 'author_id_embedding_128_13', 'author_id_embedding_128_14', 'author_id_embedding_128_15', 'author_id_embedding_128_16', 'author_id_embedding_128_17', 'author_id_embedding_128_18', 'author_id_embedding_128_19', 'author_id_embedding_128_20', 'author_id_embedding_128_21', 'author_id_embedding_128_22', 'author_id_embedding_128_23', 'author_id_embedding_128_24', 'author_id_embedding_128_25', 'author_id_embedding_128_26', 'author_id_embedding_128_27', 'author_id_embedding_128_28', 'author_id_embedding_128_29', 'author_id_embedding_128_30', 'author_id_embedding_128_31', 'author_id_embedding_128_32', 'author_id_embedding_128_33', 'author_id_embedding_128_34', 'author_id_embedding_128_35', 'author_id_embedding_128_36', 'author_id_embedding_128_37', 'author_id_embedding_128_38', 'author_id_embedding_128_39', 'author_id_embedding_128_40', 'author_id_embedding_128_41', 'author_id_embedding_128_42', 'author_id_embedding_128_43', 'author_id_embedding_128_44', 'author_id_embedding_128_45', 'author_id_embedding_128_46', 'author_id_embedding_128_47', 'author_id_embedding_128_48', 'author_id_embedding_128_49', 'author_id_embedding_128_50', 'author_id_embedding_128_51', 'author_id_embedding_128_52', 'author_id_embedding_128_53', 'author_id_embedding_128_54', 'author_id_embedding_128_55', 'author_id_embedding_128_56', 'author_id_embedding_128_57', 'author_id_embedding_128_58', 'author_id_embedding_128_59', 'author_id_embedding_128_60', 'author_id_embedding_128_61', 'author_id_embedding_128_62', 'author_id_embedding_128_63', 'author_id_embedding_128_64', 'author_id_embedding_128_65', 'author_id_embedding_128_66', 'author_id_embedding_128_67', 'author_id_embedding_128_68', 'author_id_embedding_128_69', 'author_id_embedding_128_70', 'author_id_embedding_128_71', 'author_id_embedding_128_72', 'author_id_embedding_128_73', 'author_id_embedding_128_74', 'author_id_embedding_128_75', 'author_id_embedding_128_76', 'author_id_embedding_128_77', 'author_id_embedding_128_78', 'author_id_embedding_128_79', 'author_id_embedding_128_80', 'author_id_embedding_128_81', 'author_id_embedding_128_82', 'author_id_embedding_128_83', 'author_id_embedding_128_84', 'author_id_embedding_128_85', 'author_id_embedding_128_86', 'author_id_embedding_128_87', 'author_id_embedding_128_88', 'author_id_embedding_128_89', 'author_id_embedding_128_90', 'author_id_embedding_128_91', 'author_id_embedding_128_92', 'author_id_embedding_128_93', 'author_id_embedding_128_94', 'author_id_embedding_128_95', 'author_id_embedding_128_96', 'author_id_embedding_128_97', 'author_id_embedding_128_98', 'author_id_embedding_128_99', 'author_id_embedding_128_100', 'author_id_embedding_128_101', 'author_id_embedding_128_102', 'author_id_embedding_128_103', 'author_id_embedding_128_104', 'author_id_embedding_128_105', 'author_id_embedding_128_106', 'author_id_embedding_128_107', 'author_id_embedding_128_108', 'author_id_embedding_128_109', 'author_id_embedding_128_110', 'author_id_embedding_128_111', 'author_id_embedding_128_112', 'author_id_embedding_128_113', 'author_id_embedding_128_114', 'author_id_embedding_128_115', 'author_id_embedding_128_116', 'author_id_embedding_128_117', 'author_id_embedding_128_118', 'author_id_embedding_128_119', 'author_id_embedding_128_120', 'author_id_embedding_128_121', 'author_id_embedding_128_122', 'author_id_embedding_128_123', 'author_id_embedding_128_124', 'author_id_embedding_128_125', 'author_id_embedding_128_126', 'author_id_embedding_128_127', 'uid_embedding_128_0', 'uid_embedding_128_1', 'uid_embedding_128_2', 'uid_embedding_128_3', 'uid_embedding_128_4', 'uid_embedding_128_5', 'uid_embedding_128_6', 'uid_embedding_128_7', 'uid_embedding_128_8', 'uid_embedding_128_9', 'uid_embedding_128_10', 'uid_embedding_128_11', 'uid_embedding_128_12', 'uid_embedding_128_13', 'uid_embedding_128_14', 'uid_embedding_128_15', 'uid_embedding_128_16', 'uid_embedding_128_17', 'uid_embedding_128_18', 'uid_embedding_128_19', 'uid_embedding_128_20', 'uid_embedding_128_21', 'uid_embedding_128_22', 'uid_embedding_128_23', 'uid_embedding_128_24', 'uid_embedding_128_25', 'uid_embedding_128_26', 'uid_embedding_128_27', 'uid_embedding_128_28', 'uid_embedding_128_29', 'uid_embedding_128_30', 'uid_embedding_128_31', 'uid_embedding_128_32', 'uid_embedding_128_33', 'uid_embedding_128_34', 'uid_embedding_128_35', 'uid_embedding_128_36', 'uid_embedding_128_37', 'uid_embedding_128_38', 'uid_embedding_128_39', 'uid_embedding_128_40', 'uid_embedding_128_41', 'uid_embedding_128_42', 'uid_embedding_128_43', 'uid_embedding_128_44', 'uid_embedding_128_45', 'uid_embedding_128_46', 'uid_embedding_128_47', 'uid_embedding_128_48', 'uid_embedding_128_49', 'uid_embedding_128_50', 'uid_embedding_128_51', 'uid_embedding_128_52', 'uid_embedding_128_53', 'uid_embedding_128_54', 'uid_embedding_128_55', 'uid_embedding_128_56', 'uid_embedding_128_57', 'uid_embedding_128_58', 'uid_embedding_128_59', 'uid_embedding_128_60', 'uid_embedding_128_61', 'uid_embedding_128_62', 'uid_embedding_128_63', 'uid_embedding_128_64', 'uid_embedding_128_65', 'uid_embedding_128_66', 'uid_embedding_128_67', 'uid_embedding_128_68', 'uid_embedding_128_69', 'uid_embedding_128_70', 'uid_embedding_128_71', 'uid_embedding_128_72', 'uid_embedding_128_73', 'uid_embedding_128_74', 'uid_embedding_128_75', 'uid_embedding_128_76', 'uid_embedding_128_77', 'uid_embedding_128_78', 'uid_embedding_128_79', 'uid_embedding_128_80', 'uid_embedding_128_81', 'uid_embedding_128_82', 'uid_embedding_128_83', 'uid_embedding_128_84', 'uid_embedding_128_85', 'uid_embedding_128_86', 'uid_embedding_128_87', 'uid_embedding_128_88', 'uid_embedding_128_89', 'uid_embedding_128_90', 'uid_embedding_128_91', 'uid_embedding_128_92', 'uid_embedding_128_93', 'uid_embedding_128_94', 'uid_embedding_128_95', 'uid_embedding_128_96', 'uid_embedding_128_97', 'uid_embedding_128_98', 'uid_embedding_128_99', 'uid_embedding_128_100', 'uid_embedding_128_101', 'uid_embedding_128_102', 'uid_embedding_128_103', 'uid_embedding_128_104', 'uid_embedding_128_105', 'uid_embedding_128_106', 'uid_embedding_128_107', 'uid_embedding_128_108', 'uid_embedding_128_109', 'uid_embedding_128_110', 'uid_embedding_128_111', 'uid_embedding_128_112', 'uid_embedding_128_113', 'uid_embedding_128_114', 'uid_embedding_128_115', 'uid_embedding_128_116', 'uid_embedding_128_117', 'uid_embedding_128_118', 'uid_embedding_128_119', 'uid_embedding_128_120', 'uid_embedding_128_121', 'uid_embedding_128_122', 'uid_embedding_128_123', 'uid_embedding_128_124', 'uid_embedding_128_125', 'uid_embedding_128_126', 'uid_embedding_128_127', 'did_embedding_128_0', 'did_embedding_128_1', 'did_embedding_128_2', 'did_embedding_128_3', 'did_embedding_128_4', 'did_embedding_128_5', 'did_embedding_128_6', 'did_embedding_128_7', 'did_embedding_128_8', 'did_embedding_128_9', 'did_embedding_128_10', 'did_embedding_128_11', 'did_embedding_128_12', 'did_embedding_128_13', 'did_embedding_128_14', 'did_embedding_128_15', 'did_embedding_128_16', 'did_embedding_128_17', 'did_embedding_128_18', 'did_embedding_128_19', 'did_embedding_128_20', 'did_embedding_128_21', 'did_embedding_128_22', 'did_embedding_128_23', 'did_embedding_128_24', 'did_embedding_128_25', 'did_embedding_128_26', 'did_embedding_128_27', 'did_embedding_128_28', 'did_embedding_128_29', 'did_embedding_128_30', 'did_embedding_128_31', 'did_embedding_128_32', 'did_embedding_128_33', 'did_embedding_128_34', 'did_embedding_128_35', 'did_embedding_128_36', 'did_embedding_128_37', 'did_embedding_128_38', 'did_embedding_128_39', 'did_embedding_128_40', 'did_embedding_128_41', 'did_embedding_128_42', 'did_embedding_128_43', 'did_embedding_128_44', 'did_embedding_128_45', 'did_embedding_128_46', 'did_embedding_128_47', 'did_embedding_128_48', 'did_embedding_128_49', 'did_embedding_128_50', 'did_embedding_128_51', 'did_embedding_128_52', 'did_embedding_128_53', 'did_embedding_128_54', 'did_embedding_128_55', 'did_embedding_128_56', 'did_embedding_128_57', 'did_embedding_128_58', 'did_embedding_128_59', 'did_embedding_128_60', 'did_embedding_128_61', 'did_embedding_128_62', 'did_embedding_128_63', 'did_embedding_128_64', 'did_embedding_128_65', 'did_embedding_128_66', 'did_embedding_128_67', 'did_embedding_128_68', 'did_embedding_128_69', 'did_embedding_128_70', 'did_embedding_128_71', 'did_embedding_128_72', 'did_embedding_128_73', 'did_embedding_128_74', 'did_embedding_128_75', 'did_embedding_128_76', 'did_embedding_128_77', 'did_embedding_128_78', 'did_embedding_128_79', 'did_embedding_128_80', 'did_embedding_128_81', 'did_embedding_128_82', 'did_embedding_128_83', 'did_embedding_128_84', 'did_embedding_128_85', 'did_embedding_128_86', 'did_embedding_128_87', 'did_embedding_128_88', 'did_embedding_128_89', 'did_embedding_128_90', 'did_embedding_128_91', 'did_embedding_128_92', 'did_embedding_128_93', 'did_embedding_128_94', 'did_embedding_128_95', 'did_embedding_128_96', 'did_embedding_128_97', 'did_embedding_128_98', 'did_embedding_128_99', 'did_embedding_128_100', 'did_embedding_128_101', 'did_embedding_128_102', 'did_embedding_128_103', 'did_embedding_128_104', 'did_embedding_128_105', 'did_embedding_128_106', 'did_embedding_128_107', 'did_embedding_128_108', 'did_embedding_128_109', 'did_embedding_128_110', 'did_embedding_128_111', 'did_embedding_128_112', 'did_embedding_128_113', 'did_embedding_128_114', 'did_embedding_128_115', 'did_embedding_128_116', 'did_embedding_128_117', 'did_embedding_128_118', 'did_embedding_128_119', 'did_embedding_128_120', 'did_embedding_128_121', 'did_embedding_128_122', 'did_embedding_128_123', 'did_embedding_128_124', 'did_embedding_128_125', 'did_embedding_128_126', 'did_embedding_128_127', 'uid_deepwalk_embedding_128_0', 'uid_deepwalk_embedding_128_1', 'uid_deepwalk_embedding_128_2', 'uid_deepwalk_embedding_128_3', 'uid_deepwalk_embedding_128_4', 'uid_deepwalk_embedding_128_5', 'uid_deepwalk_embedding_128_6', 'uid_deepwalk_embedding_128_7', 'uid_deepwalk_embedding_128_8', 'uid_deepwalk_embedding_128_9', 'uid_deepwalk_embedding_128_10', 'uid_deepwalk_embedding_128_11', 'uid_deepwalk_embedding_128_12', 'uid_deepwalk_embedding_128_13', 'uid_deepwalk_embedding_128_14', 'uid_deepwalk_embedding_128_15', 'uid_deepwalk_embedding_128_16', 'uid_deepwalk_embedding_128_17', 'uid_deepwalk_embedding_128_18', 'uid_deepwalk_embedding_128_19', 'uid_deepwalk_embedding_128_20', 'uid_deepwalk_embedding_128_21', 'uid_deepwalk_embedding_128_22', 'uid_deepwalk_embedding_128_23', 'uid_deepwalk_embedding_128_24', 'uid_deepwalk_embedding_128_25', 'uid_deepwalk_embedding_128_26', 'uid_deepwalk_embedding_128_27', 'uid_deepwalk_embedding_128_28', 'uid_deepwalk_embedding_128_29', 'uid_deepwalk_embedding_128_30', 'uid_deepwalk_embedding_128_31', 'uid_deepwalk_embedding_128_32', 'uid_deepwalk_embedding_128_33', 'uid_deepwalk_embedding_128_34', 'uid_deepwalk_embedding_128_35', 'uid_deepwalk_embedding_128_36', 'uid_deepwalk_embedding_128_37', 'uid_deepwalk_embedding_128_38', 'uid_deepwalk_embedding_128_39', 'uid_deepwalk_embedding_128_40', 'uid_deepwalk_embedding_128_41', 'uid_deepwalk_embedding_128_42', 'uid_deepwalk_embedding_128_43', 'uid_deepwalk_embedding_128_44', 'uid_deepwalk_embedding_128_45', 'uid_deepwalk_embedding_128_46', 'uid_deepwalk_embedding_128_47', 'uid_deepwalk_embedding_128_48', 'uid_deepwalk_embedding_128_49', 'uid_deepwalk_embedding_128_50', 'uid_deepwalk_embedding_128_51', 'uid_deepwalk_embedding_128_52', 'uid_deepwalk_embedding_128_53', 'uid_deepwalk_embedding_128_54', 'uid_deepwalk_embedding_128_55', 'uid_deepwalk_embedding_128_56', 'uid_deepwalk_embedding_128_57', 'uid_deepwalk_embedding_128_58', 'uid_deepwalk_embedding_128_59', 'uid_deepwalk_embedding_128_60', 'uid_deepwalk_embedding_128_61', 'uid_deepwalk_embedding_128_62', 'uid_deepwalk_embedding_128_63', 'uid_deepwalk_embedding_128_64', 'uid_deepwalk_embedding_128_65', 'uid_deepwalk_embedding_128_66', 'uid_deepwalk_embedding_128_67', 'uid_deepwalk_embedding_128_68', 'uid_deepwalk_embedding_128_69', 'uid_deepwalk_embedding_128_70', 'uid_deepwalk_embedding_128_71', 'uid_deepwalk_embedding_128_72', 'uid_deepwalk_embedding_128_73', 'uid_deepwalk_embedding_128_74', 'uid_deepwalk_embedding_128_75', 'uid_deepwalk_embedding_128_76', 'uid_deepwalk_embedding_128_77', 'uid_deepwalk_embedding_128_78', 'uid_deepwalk_embedding_128_79', 'uid_deepwalk_embedding_128_80', 'uid_deepwalk_embedding_128_81', 'uid_deepwalk_embedding_128_82', 'uid_deepwalk_embedding_128_83', 'uid_deepwalk_embedding_128_84', 'uid_deepwalk_embedding_128_85', 'uid_deepwalk_embedding_128_86', 'uid_deepwalk_embedding_128_87', 'uid_deepwalk_embedding_128_88', 'uid_deepwalk_embedding_128_89', 'uid_deepwalk_embedding_128_90', 'uid_deepwalk_embedding_128_91', 'uid_deepwalk_embedding_128_92', 'uid_deepwalk_embedding_128_93', 'uid_deepwalk_embedding_128_94', 'uid_deepwalk_embedding_128_95', 'uid_deepwalk_embedding_128_96', 'uid_deepwalk_embedding_128_97', 'uid_deepwalk_embedding_128_98', 'uid_deepwalk_embedding_128_99', 'uid_deepwalk_embedding_128_100', 'uid_deepwalk_embedding_128_101', 'uid_deepwalk_embedding_128_102', 'uid_deepwalk_embedding_128_103', 'uid_deepwalk_embedding_128_104', 'uid_deepwalk_embedding_128_105', 'uid_deepwalk_embedding_128_106', 'uid_deepwalk_embedding_128_107', 'uid_deepwalk_embedding_128_108', 'uid_deepwalk_embedding_128_109', 'uid_deepwalk_embedding_128_110', 'uid_deepwalk_embedding_128_111', 'uid_deepwalk_embedding_128_112', 'uid_deepwalk_embedding_128_113', 'uid_deepwalk_embedding_128_114', 'uid_deepwalk_embedding_128_115', 'uid_deepwalk_embedding_128_116', 'uid_deepwalk_embedding_128_117', 'uid_deepwalk_embedding_128_118', 'uid_deepwalk_embedding_128_119', 'uid_deepwalk_embedding_128_120', 'uid_deepwalk_embedding_128_121', 'uid_deepwalk_embedding_128_122', 'uid_deepwalk_embedding_128_123', 'uid_deepwalk_embedding_128_124', 'uid_deepwalk_embedding_128_125', 'uid_deepwalk_embedding_128_126', 'uid_deepwalk_embedding_128_127', 'item_id_deepwalk_embedding_128_0', 'item_id_deepwalk_embedding_128_1', 'item_id_deepwalk_embedding_128_2', 'item_id_deepwalk_embedding_128_3', 'item_id_deepwalk_embedding_128_4', 'item_id_deepwalk_embedding_128_5', 'item_id_deepwalk_embedding_128_6', 'item_id_deepwalk_embedding_128_7', 'item_id_deepwalk_embedding_128_8', 'item_id_deepwalk_embedding_128_9', 'item_id_deepwalk_embedding_128_10', 'item_id_deepwalk_embedding_128_11', 'item_id_deepwalk_embedding_128_12', 'item_id_deepwalk_embedding_128_13', 'item_id_deepwalk_embedding_128_14', 'item_id_deepwalk_embedding_128_15', 'item_id_deepwalk_embedding_128_16', 'item_id_deepwalk_embedding_128_17', 'item_id_deepwalk_embedding_128_18', 'item_id_deepwalk_embedding_128_19', 'item_id_deepwalk_embedding_128_20', 'item_id_deepwalk_embedding_128_21', 'item_id_deepwalk_embedding_128_22', 'item_id_deepwalk_embedding_128_23', 'item_id_deepwalk_embedding_128_24', 'item_id_deepwalk_embedding_128_25', 'item_id_deepwalk_embedding_128_26', 'item_id_deepwalk_embedding_128_27', 'item_id_deepwalk_embedding_128_28', 'item_id_deepwalk_embedding_128_29', 'item_id_deepwalk_embedding_128_30', 'item_id_deepwalk_embedding_128_31', 'item_id_deepwalk_embedding_128_32', 'item_id_deepwalk_embedding_128_33', 'item_id_deepwalk_embedding_128_34', 'item_id_deepwalk_embedding_128_35', 'item_id_deepwalk_embedding_128_36', 'item_id_deepwalk_embedding_128_37', 'item_id_deepwalk_embedding_128_38', 'item_id_deepwalk_embedding_128_39', 'item_id_deepwalk_embedding_128_40', 'item_id_deepwalk_embedding_128_41', 'item_id_deepwalk_embedding_128_42', 'item_id_deepwalk_embedding_128_43', 'item_id_deepwalk_embedding_128_44', 'item_id_deepwalk_embedding_128_45', 'item_id_deepwalk_embedding_128_46', 'item_id_deepwalk_embedding_128_47', 'item_id_deepwalk_embedding_128_48', 'item_id_deepwalk_embedding_128_49', 'item_id_deepwalk_embedding_128_50', 'item_id_deepwalk_embedding_128_51', 'item_id_deepwalk_embedding_128_52', 'item_id_deepwalk_embedding_128_53', 'item_id_deepwalk_embedding_128_54', 'item_id_deepwalk_embedding_128_55', 'item_id_deepwalk_embedding_128_56', 'item_id_deepwalk_embedding_128_57', 'item_id_deepwalk_embedding_128_58', 'item_id_deepwalk_embedding_128_59', 'item_id_deepwalk_embedding_128_60', 'item_id_deepwalk_embedding_128_61', 'item_id_deepwalk_embedding_128_62', 'item_id_deepwalk_embedding_128_63', 'item_id_deepwalk_embedding_128_64', 'item_id_deepwalk_embedding_128_65', 'item_id_deepwalk_embedding_128_66', 'item_id_deepwalk_embedding_128_67', 'item_id_deepwalk_embedding_128_68', 'item_id_deepwalk_embedding_128_69', 'item_id_deepwalk_embedding_128_70', 'item_id_deepwalk_embedding_128_71', 'item_id_deepwalk_embedding_128_72', 'item_id_deepwalk_embedding_128_73', 'item_id_deepwalk_embedding_128_74', 'item_id_deepwalk_embedding_128_75', 'item_id_deepwalk_embedding_128_76', 'item_id_deepwalk_embedding_128_77', 'item_id_deepwalk_embedding_128_78', 'item_id_deepwalk_embedding_128_79', 'item_id_deepwalk_embedding_128_80', 'item_id_deepwalk_embedding_128_81', 'item_id_deepwalk_embedding_128_82', 'item_id_deepwalk_embedding_128_83', 'item_id_deepwalk_embedding_128_84', 'item_id_deepwalk_embedding_128_85', 'item_id_deepwalk_embedding_128_86', 'item_id_deepwalk_embedding_128_87', 'item_id_deepwalk_embedding_128_88', 'item_id_deepwalk_embedding_128_89', 'item_id_deepwalk_embedding_128_90', 'item_id_deepwalk_embedding_128_91', 'item_id_deepwalk_embedding_128_92', 'item_id_deepwalk_embedding_128_93', 'item_id_deepwalk_embedding_128_94', 'item_id_deepwalk_embedding_128_95', 'item_id_deepwalk_embedding_128_96', 'item_id_deepwalk_embedding_128_97', 'item_id_deepwalk_embedding_128_98', 'item_id_deepwalk_embedding_128_99', 'item_id_deepwalk_embedding_128_100', 'item_id_deepwalk_embedding_128_101', 'item_id_deepwalk_embedding_128_102', 'item_id_deepwalk_embedding_128_103', 'item_id_deepwalk_embedding_128_104', 'item_id_deepwalk_embedding_128_105', 'item_id_deepwalk_embedding_128_106', 'item_id_deepwalk_embedding_128_107', 'item_id_deepwalk_embedding_128_108', 'item_id_deepwalk_embedding_128_109', 'item_id_deepwalk_embedding_128_110', 'item_id_deepwalk_embedding_128_111', 'item_id_deepwalk_embedding_128_112', 'item_id_deepwalk_embedding_128_113', 'item_id_deepwalk_embedding_128_114', 'item_id_deepwalk_embedding_128_115', 'item_id_deepwalk_embedding_128_116', 'item_id_deepwalk_embedding_128_117', 'item_id_deepwalk_embedding_128_118', 'item_id_deepwalk_embedding_128_119', 'item_id_deepwalk_embedding_128_120', 'item_id_deepwalk_embedding_128_121', 'item_id_deepwalk_embedding_128_122', 'item_id_deepwalk_embedding_128_123', 'item_id_deepwalk_embedding_128_124', 'item_id_deepwalk_embedding_128_125', 'item_id_deepwalk_embedding_128_126', 'item_id_deepwalk_embedding_128_127', 'beauty_min', 'did_finish_rate', 'author_id_finish_rate', 'item_id_finish_rate', 'title_mean_rate_finish', 'title_max_rate_finish', 'title_min_rate_finish', 'user_music_id_0', 'user_music_id_1', 'user_music_id_2', 'user_music_id_3', 'user_music_id_4', 'user_music_id_5', 'user_music_id_6', 'user_music_id_7', 'user_music_id_8', 'user_music_id_9', 'user_music_id_10', 'user_music_id_11', 'user_music_id_12', 'user_music_id_13', 'user_music_id_14', 'user_music_id_15', 'user_music_id_16', 'user_music_id_17', 'user_music_id_18', 'user_music_id_19', 'user_music_id_20', 'user_music_id_21', 'user_music_id_22', 'user_music_id_23', 'user_music_id_24', 'user_music_id_25', 'user_music_id_26', 'user_music_id_27', 'user_music_id_28', 'user_music_id_29', 'user_music_id_30', 'user_music_id_31', 'user_music_id_32', 'user_music_id_33', 'user_music_id_34', 'user_music_id_35', 'user_music_id_36', 'user_music_id_37', 'user_music_id_38', 'user_music_id_39', 'user_music_id_40', 'user_music_id_41', 'user_music_id_42', 'user_music_id_43', 'user_music_id_44', 'user_music_id_45', 'user_music_id_46', 'user_music_id_47', 'user_music_id_48', 'user_music_id_49', 'user_music_id_50', 'user_music_id_51', 'user_music_id_52', 'user_music_id_53', 'user_music_id_54', 'user_music_id_55', 'user_music_id_56', 'user_music_id_57', 'user_music_id_58', 'user_music_id_59', 'user_music_id_60', 'user_music_id_61', 'user_music_id_62', 'user_music_id_63', 'user_music_id_64', 'user_music_id_65', 'user_music_id_66', 'user_music_id_67', 'user_music_id_68', 'user_music_id_69', 'user_music_id_70', 'user_music_id_71', 'user_music_id_72', 'user_music_id_73', 'user_music_id_74', 'user_music_id_75', 'user_music_id_76', 'user_music_id_77', 'user_music_id_78', 'user_music_id_79', 'user_music_id_80', 'user_music_id_81', 'user_music_id_82', 'user_music_id_83', 'user_music_id_84', 'user_music_id_85', 'user_music_id_86', 'user_music_id_87', 'user_music_id_88', 'user_music_id_89', 'user_music_id_90', 'user_music_id_91', 'user_music_id_92', 'user_music_id_93', 'user_music_id_94', 'user_music_id_95', 'user_music_id_96', 'user_music_id_97', 'user_music_id_98', 'user_music_id_99', 'user_music_id_100', 'user_music_id_101', 'user_music_id_102', 'user_music_id_103', 'user_music_id_104', 'user_music_id_105', 'user_music_id_106', 'user_music_id_107', 'user_music_id_108', 'user_music_id_109', 'user_music_id_110', 'user_music_id_111', 'user_music_id_112', 'user_music_id_113', 'user_music_id_114', 'user_music_id_115', 'user_music_id_116', 'user_music_id_117', 'user_music_id_118', 'user_music_id_119', 'user_music_id_120', 'user_music_id_121', 'user_music_id_122', 'user_music_id_123', 'user_music_id_124', 'user_music_id_125', 'user_music_id_126', 'user_music_id_127', 'user_item_id_0', 'user_item_id_1', 'user_item_id_2', 'user_item_id_3', 'user_item_id_4', 'user_item_id_5', 'user_item_id_6', 'user_item_id_7', 'user_item_id_8', 'user_item_id_9', 'user_item_id_10', 'user_item_id_11', 'user_item_id_12', 'user_item_id_13', 'user_item_id_14', 'user_item_id_15', 'user_item_id_16', 'user_item_id_17', 'user_item_id_18', 'user_item_id_19', 'user_item_id_20', 'user_item_id_21', 'user_item_id_22', 'user_item_id_23', 'user_item_id_24', 'user_item_id_25', 'user_item_id_26', 'user_item_id_27', 'user_item_id_28', 'user_item_id_29', 'user_item_id_30', 'user_item_id_31', 'user_item_id_32', 'user_item_id_33', 'user_item_id_34', 'user_item_id_35', 'user_item_id_36', 'user_item_id_37', 'user_item_id_38', 'user_item_id_39', 'user_item_id_40', 'user_item_id_41', 'user_item_id_42', 'user_item_id_43', 'user_item_id_44', 'user_item_id_45', 'user_item_id_46', 'user_item_id_47', 'user_item_id_48', 'user_item_id_49', 'user_item_id_50', 'user_item_id_51', 'user_item_id_52', 'user_item_id_53', 'user_item_id_54', 'user_item_id_55', 'user_item_id_56', 'user_item_id_57', 'user_item_id_58', 'user_item_id_59', 'user_item_id_60', 'user_item_id_61', 'user_item_id_62', 'user_item_id_63', 'user_item_id_64', 'user_item_id_65', 'user_item_id_66', 'user_item_id_67', 'user_item_id_68', 'user_item_id_69', 'user_item_id_70', 'user_item_id_71', 'user_item_id_72', 'user_item_id_73', 'user_item_id_74', 'user_item_id_75', 'user_item_id_76', 'user_item_id_77', 'user_item_id_78', 'user_item_id_79', 'user_item_id_80', 'user_item_id_81', 'user_item_id_82', 'user_item_id_83', 'user_item_id_84', 'user_item_id_85', 'user_item_id_86', 'user_item_id_87', 'user_item_id_88', 'user_item_id_89', 'user_item_id_90', 'user_item_id_91', 'user_item_id_92', 'user_item_id_93', 'user_item_id_94', 'user_item_id_95', 'user_item_id_96', 'user_item_id_97', 'user_item_id_98', 'user_item_id_99', 'user_item_id_100', 'user_item_id_101', 'user_item_id_102', 'user_item_id_103', 'user_item_id_104', 'user_item_id_105', 'user_item_id_106', 'user_item_id_107', 'user_item_id_108', 'user_item_id_109', 'user_item_id_110', 'user_item_id_111', 'user_item_id_112', 'user_item_id_113', 'user_item_id_114', 'user_item_id_115', 'user_item_id_116', 'user_item_id_117', 'user_item_id_118', 'user_item_id_119', 'user_item_id_120', 'user_item_id_121', 'user_item_id_122', 'user_item_id_123', 'user_item_id_124', 'user_item_id_125', 'user_item_id_126', 'user_item_id_127', 'user_did_0', 'user_did_1', 'user_did_2', 'user_did_3', 'user_did_4', 'user_did_5', 'user_did_6', 'user_did_7', 'user_did_8', 'user_did_9', 'user_did_10', 'user_did_11', 'user_did_12', 'user_did_13', 'user_did_14', 'user_did_15', 'user_did_16', 'user_did_17', 'user_did_18', 'user_did_19', 'user_did_20', 'user_did_21', 'user_did_22', 'user_did_23', 'user_did_24', 'user_did_25', 'user_did_26', 'user_did_27', 'user_did_28', 'user_did_29', 'user_did_30', 'user_did_31', 'user_did_32', 'user_did_33', 'user_did_34', 'user_did_35', 'user_did_36', 'user_did_37', 'user_did_38', 'user_did_39', 'user_did_40', 'user_did_41', 'user_did_42', 'user_did_43', 'user_did_44', 'user_did_45', 'user_did_46', 'user_did_47', 'user_did_48', 'user_did_49', 'user_did_50', 'user_did_51', 'user_did_52', 'user_did_53', 'user_did_54', 'user_did_55', 'user_did_56', 'user_did_57', 'user_did_58', 'user_did_59', 'user_did_60', 'user_did_61', 'user_did_62', 'user_did_63', 'user_did_64', 'user_did_65', 'user_did_66', 'user_did_67', 'user_did_68', 'user_did_69', 'user_did_70', 'user_did_71', 'user_did_72', 'user_did_73', 'user_did_74', 'user_did_75', 'user_did_76', 'user_did_77', 'user_did_78', 'user_did_79', 'user_did_80', 'user_did_81', 'user_did_82', 'user_did_83', 'user_did_84', 'user_did_85', 'user_did_86', 'user_did_87', 'user_did_88', 'user_did_89', 'user_did_90', 'user_did_91', 'user_did_92', 'user_did_93', 'user_did_94', 'user_did_95', 'user_did_96', 'user_did_97', 'user_did_98', 'user_did_99', 'user_did_100', 'user_did_101', 'user_did_102', 'user_did_103', 'user_did_104', 'user_did_105', 'user_did_106', 'user_did_107', 'user_did_108', 'user_did_109', 'user_did_110', 'user_did_111', 'user_did_112', 'user_did_113', 'user_did_114', 'user_did_115', 'user_did_116', 'user_did_117', 'user_did_118', 'user_did_119', 'user_did_120', 'user_did_121', 'user_did_122', 'user_did_123', 'user_did_124', 'user_did_125', 'user_did_126', 'user_did_127', 'user_author_id_0', 'user_author_id_1', 'user_author_id_2', 'user_author_id_3', 'user_author_id_4', 'user_author_id_5', 'user_author_id_6', 'user_author_id_7', 'user_author_id_8', 'user_author_id_9', 'user_author_id_10', 'user_author_id_11', 'user_author_id_12', 'user_author_id_13', 'user_author_id_14', 'user_author_id_15', 'user_author_id_16', 'user_author_id_17', 'user_author_id_18', 'user_author_id_19', 'user_author_id_20', 'user_author_id_21', 'user_author_id_22', 'user_author_id_23', 'user_author_id_24', 'user_author_id_25', 'user_author_id_26', 'user_author_id_27', 'user_author_id_28', 'user_author_id_29', 'user_author_id_30', 'user_author_id_31', 'user_author_id_32', 'user_author_id_33', 'user_author_id_34', 'user_author_id_35', 'user_author_id_36', 'user_author_id_37', 'user_author_id_38', 'user_author_id_39', 'user_author_id_40', 'user_author_id_41', 'user_author_id_42', 'user_author_id_43', 'user_author_id_44', 'user_author_id_45', 'user_author_id_46', 'user_author_id_47', 'user_author_id_48', 'user_author_id_49', 'user_author_id_50', 'user_author_id_51', 'user_author_id_52', 'user_author_id_53', 'user_author_id_54', 'user_author_id_55', 'user_author_id_56', 'user_author_id_57', 'user_author_id_58', 'user_author_id_59', 'user_author_id_60', 'user_author_id_61', 'user_author_id_62', 'user_author_id_63', 'user_author_id_64', 'user_author_id_65', 'user_author_id_66', 'user_author_id_67', 'user_author_id_68', 'user_author_id_69', 'user_author_id_70', 'user_author_id_71', 'user_author_id_72', 'user_author_id_73', 'user_author_id_74', 'user_author_id_75', 'user_author_id_76', 'user_author_id_77', 'user_author_id_78', 'user_author_id_79', 'user_author_id_80', 'user_author_id_81', 'user_author_id_82', 'user_author_id_83', 'user_author_id_84', 'user_author_id_85', 'user_author_id_86', 'user_author_id_87', 'user_author_id_88', 'user_author_id_89', 'user_author_id_90', 'user_author_id_91', 'user_author_id_92', 'user_author_id_93', 'user_author_id_94', 'user_author_id_95', 'user_author_id_96', 'user_author_id_97', 'user_author_id_98', 'user_author_id_99', 'user_author_id_100', 'user_author_id_101', 'user_author_id_102', 'user_author_id_103', 'user_author_id_104', 'user_author_id_105', 'user_author_id_106', 'user_author_id_107', 'user_author_id_108', 'user_author_id_109', 'user_author_id_110', 'user_author_id_111', 'user_author_id_112', 'user_author_id_113', 'user_author_id_114', 'user_author_id_115', 'user_author_id_116', 'user_author_id_117', 'user_author_id_118', 'user_author_id_119', 'user_author_id_120', 'user_author_id_121', 'user_author_id_122', 'user_author_id_123', 'user_author_id_124', 'user_author_id_125', 'user_author_id_126', 'user_author_id_127', 'item_author_id_0', 'item_author_id_1', 'item_author_id_2', 'item_author_id_3', 'item_author_id_4', 'item_author_id_5', 'item_author_id_6', 'item_author_id_7', 'item_author_id_8', 'item_author_id_9', 'item_author_id_10', 'item_author_id_11', 'item_author_id_12', 'item_author_id_13', 'item_author_id_14', 'item_author_id_15', 'item_author_id_16', 'item_author_id_17', 'item_author_id_18', 'item_author_id_19', 'item_author_id_20', 'item_author_id_21', 'item_author_id_22', 'item_author_id_23', 'item_author_id_24', 'item_author_id_25', 'item_author_id_26', 'item_author_id_27', 'item_author_id_28', 'item_author_id_29', 'item_author_id_30', 'item_author_id_31', 'item_author_id_32', 'item_author_id_33', 'item_author_id_34', 'item_author_id_35', 'item_author_id_36', 'item_author_id_37', 'item_author_id_38', 'item_author_id_39', 'item_author_id_40', 'item_author_id_41', 'item_author_id_42', 'item_author_id_43', 'item_author_id_44', 'item_author_id_45', 'item_author_id_46', 'item_author_id_47', 'item_author_id_48', 'item_author_id_49', 'item_author_id_50', 'item_author_id_51', 'item_author_id_52', 'item_author_id_53', 'item_author_id_54', 'item_author_id_55', 'item_author_id_56', 'item_author_id_57', 'item_author_id_58', 'item_author_id_59', 'item_author_id_60', 'item_author_id_61', 'item_author_id_62', 'item_author_id_63']\n"
     ]
    },
    {
     "name": "stdout",
     "output_type": "stream",
     "text": [
      "  dense_hidden_size=[300]\n",
      "  dropout=0\n",
      "  embedding_features=None\n",
      "  epoch=1\n",
      "  hidden_size=[1024, 512]\n",
      "  infer_batch_size=16384\n",
      "  init_method=tnormal\n",
      "  init_value=0.001\n",
      "  k=16\n",
      "  label=finish\n",
      "  learning_rate=0.0002\n",
      "  metric=auc\n",
      "  model=xdeepfm\n",
      "  model_name=xdeepfm\n",
      "  multi_features=['title_keys']\n",
      "  multi_hash_num=1000000\n",
      "  multi_weights=['title_values']\n",
      "  norm=True\n",
      "  num_display_steps=100\n",
      "  optimizer=adam\n",
      "  single_features=['did_finish_positive_num', 'did_finish_negative_num', 'did_all_cont', 'did_day_cont', 'author_id_finish_positive_num', 'author_id_finish_negative_num', 'author_id_all_cont', 'author_id_day_cont', 'item_id_finish_positive_num', 'item_id_finish_negative_num', 'item_id_all_cont', 'item_id_day_cont', 'author_id_did_all_cont', 'author_include_num_of_item', 'author_include_num_of_uid', 'title_cont', 'uid_has_num_of_did', 'uid_channel_nunique', 'did_video_duration_max', 'channel_video_duration_min', 'item_id_uid_nunique']\n",
      "  single_hash_num=10000000\n",
      "  single_k=16\n",
      "  test=True\n"
     ]
    }
   ],
   "source": [
    "hparam=tf.contrib.training.HParams(\n",
    "            model='xdeepfm',\n",
    "            norm=True,\n",
    "            batch_norm_decay=0.9,\n",
    "            hidden_size=[1024,512],\n",
    "            dense_hidden_size=[300],\n",
    "            cross_layer_sizes=[128,128],\n",
    "            k=16,\n",
    "            single_k=16,\n",
    "            cross_hash_num=int(1e7),\n",
    "            single_hash_num=int(1e7),\n",
    "            multi_hash_num=int(1e6),\n",
    "            batch_size=4096,\n",
    "            infer_batch_size=2**14,\n",
    "            optimizer=\"adam\",\n",
    "            dropout=0,\n",
    "            learning_rate=0.0002,\n",
    "            num_display_steps=100,\n",
    "            epoch=1, #don't modify\n",
    "            metric='auc',\n",
    "            activation=['relu','relu','relu'],\n",
    "            init_method='tnormal',\n",
    "            cross_activation='relu',\n",
    "            init_value=0.001,\n",
    "            single_features=single_features,\n",
    "            cross_features=cross_features,\n",
    "            multi_features=multi_features,\n",
    "            multi_weights=multi_weights,\n",
    "            dense_features=dense_features,\n",
    "            embedding_features=embedding_features,\n",
    "            model_name=\"xdeepfm\",\n",
    "            test=True,\n",
    "            label=label)\n",
    "utils.print_hparams(hparam)"
   ]
  },
  {
   "cell_type": "code",
   "execution_count": 4,
   "metadata": {},
   "outputs": [
    {
     "name": "stdout",
     "output_type": "stream",
     "text": [
      "# Trainable variables\n",
      "  emb_v2_cross:0, (10000000, 16), \n",
      "  emb_v2_multi:0, (1000000, 16), \n",
      "  exfm_part/f_0:0, (1, 144, 128), \n",
      "  exfm_part/f_1:0, (1, 768, 128), \n",
      "  exfm_part/w_nn_output:0, (192, 1), \n",
      "  exfm_part/b_nn_output:0, (1,), \n",
      "  emb_v2_single:0, (10000000, 16), \n",
      "  dense_norm/beta:0, (1847,), \n",
      "  dense_norm/gamma:0, (1847,), \n",
      "  Variable:0, (1847, 1024), \n",
      "  Variable_1:0, (1024, 512), \n",
      "  Variable_2:0, (512, 1), \n",
      "  Variable_3:0, (), \n"
     ]
    }
   ],
   "source": [
    "try:\n",
    "    del model\n",
    "    gc.collect()\n",
    "except:\n",
    "    pass\n",
    "model=ctrNet.build_model(hparam)"
   ]
  },
  {
   "cell_type": "code",
   "execution_count": null,
   "metadata": {
    "collapsed": true
   },
   "outputs": [],
   "source": [
    "test=pd.read_pickle('data/dev_NN.pkl')"
   ]
  },
  {
   "cell_type": "code",
   "execution_count": null,
   "metadata": {},
   "outputs": [
    {
     "name": "stdout",
     "output_type": "stream",
     "text": [
      "0\n",
      "  epoch 0 step 100 lr 0.0002 logloss 0.603474 gN 0.53, Wed Mar 27 10:06:42 2019\n",
      "  epoch 0 step 200 lr 0.0002 logloss 0.575169 gN 0.32, Wed Mar 27 10:07:43 2019\n"
     ]
    }
   ],
   "source": [
    "k=10\n",
    "for i in range(k):\n",
    "    print(i)\n",
    "    train=pd.read_pickle('data/train_dev_NN_'+str(i)+'.pkl')\n",
    "    if (i+1)%2==0:\n",
    "        model.train(train,test)\n",
    "    else:\n",
    "        model.train(train,None)"
   ]
  },
  {
   "cell_type": "raw",
   "metadata": {},
   "source": [
    "0\n",
    "  epoch 0 step 100 lr 0.0002 logloss 0.628234 gN 0.26, Tue Mar 26 21:34:03 2019\n",
    "  epoch 0 step 200 lr 0.0002 logloss 0.586907 gN 0.25, Tue Mar 26 21:34:46 2019\n",
    "  epoch 0 step 300 lr 0.0002 logloss 0.579891 gN 0.24, Tue Mar 26 21:35:31 2019\n",
    "  epoch 0 step 344 lr 0.0002 logloss 0.576697 gN 0.24, Tue Mar 26 21:35:52 2019\n",
    "1\n",
    "  epoch 0 step 100 lr 0.0002 logloss 0.574024 gN 0.22, Tue Mar 26 21:38:22 2019\n",
    "  epoch 0 step 200 lr 0.0002 logloss 0.570461 gN 0.22, Tue Mar 26 21:39:08 2019\n",
    "  epoch 0 step 300 lr 0.0002 logloss 0.568698 gN 0.21, Tue Mar 26 21:39:51 2019\n",
    "  epoch 0 step 344 lr 0.0002 logloss 0.568014 gN 0.22, Tue Mar 26 21:40:09 2019\n",
    "100%|██████████| 172/172 [04:48<00:00,  1.26s/it]\n",
    "# Epcho-time 153.74s Eval AUC 0.719241. Eval logloss 0.592713. Best AUC 0.719241.finish\n",
    "2\n",
    "  epoch 0 step 100 lr 0.0002 logloss 0.567580 gN 0.20, Tue Mar 26 21:50:08 2019\n",
    "  epoch 0 step 200 lr 0.0002 logloss 0.565735 gN 0.20, Tue Mar 26 21:50:52 2019\n",
    "  epoch 0 step 300 lr 0.0002 logloss 0.564041 gN 0.20, Tue Mar 26 21:51:35 2019\n",
    "  epoch 0 step 344 lr 0.0002 logloss 0.562937 gN 0.20, Tue Mar 26 21:51:54 2019\n",
    "3\n",
    "  epoch 0 step 100 lr 0.0002 logloss 0.562812 gN 0.19, Tue Mar 26 21:53:38 2019\n",
    "  epoch 0 step 200 lr 0.0002 logloss 0.562706 gN 0.19, Tue Mar 26 21:54:20 2019\n",
    "  epoch 0 step 300 lr 0.0002 logloss 0.561351 gN 0.19, Tue Mar 26 21:55:03 2019\n",
    "  epoch 0 step 344 lr 0.0002 logloss 0.560948 gN 0.19, Tue Mar 26 21:55:21 2019\n",
    "100%|██████████| 172/172 [05:33<00:00,  1.78s/it]\n",
    "# Epcho-time 145.00s Eval AUC 0.727260. Eval logloss 0.586002. Best AUC 0.727260.finish\n",
    "4\n",
    "  epoch 0 step 100 lr 0.0002 logloss 0.560823 gN 0.18, Tue Mar 26 22:07:06 2019\n",
    "  epoch 0 step 200 lr 0.0002 logloss 0.561370 gN 0.19, Tue Mar 26 22:07:49 2019\n",
    "  epoch 0 step 300 lr 0.0002 logloss 0.559612 gN 0.19, Tue Mar 26 22:08:32 2019\n",
    "  epoch 0 step 344 lr 0.0002 logloss 0.560559 gN 0.19, Tue Mar 26 22:08:50 2019\n",
    "5\n",
    "  epoch 0 step 100 lr 0.0002 logloss 0.559210 gN 0.18, Tue Mar 26 22:12:01 2019\n",
    "  epoch 0 step 200 lr 0.0002 logloss 0.558201 gN 0.18, Tue Mar 26 22:12:46 2019\n",
    "  epoch 0 step 300 lr 0.0002 logloss 0.557781 gN 0.18, Tue Mar 26 22:13:31 2019\n",
    "  epoch 0 step 344 lr 0.0002 logloss 0.556509 gN 0.18, Tue Mar 26 22:13:50 2019\n",
    "100%|██████████| 172/172 [05:29<00:00,  1.18s/it]\n",
    "# Epcho-time 153.06s Eval AUC 0.729804. Eval logloss 0.584848. Best AUC 0.729804.finish\n",
    "6\n",
    "  epoch 0 step 100 lr 0.0002 logloss 0.557621 gN 0.18, Tue Mar 26 22:23:31 2019\n",
    "  epoch 0 step 200 lr 0.0002 logloss 0.558360 gN 0.17, Tue Mar 26 22:24:17 2019\n",
    "  epoch 0 step 300 lr 0.0002 logloss 0.556174 gN 0.17, Tue Mar 26 22:25:06 2019\n",
    "  epoch 0 step 344 lr 0.0002 logloss 0.556092 gN 0.18, Tue Mar 26 22:25:31 2019\n",
    "7\n",
    "  epoch 0 step 100 lr 0.0002 logloss 0.556165 gN 0.17, Tue Mar 26 22:27:48 2019\n",
    "  epoch 0 step 200 lr 0.0002 logloss 0.555853 gN 0.17, Tue Mar 26 22:28:36 2019\n",
    "  epoch 0 step 300 lr 0.0002 logloss 0.555260 gN 0.17, Tue Mar 26 22:29:21 2019\n",
    "  epoch 0 step 344 lr 0.0002 logloss 0.555099 gN 0.17, Tue Mar 26 22:29:41 2019\n",
    "100%|██████████| 172/172 [05:38<00:00,  1.22s/it]\n",
    "# Epcho-time 158.93s Eval AUC 0.731833. Eval logloss 0.581023. Best AUC 0.731833.finish\n",
    "8\n",
    "  epoch 0 step 100 lr 0.0002 logloss 0.556519 gN 0.17, Tue Mar 26 22:38:35 2019\n",
    "  epoch 0 step 200 lr 0.0002 logloss 0.555885 gN 0.17, Tue Mar 26 22:39:23 2019\n",
    "  epoch 0 step 300 lr 0.0002 logloss 0.553280 gN 0.17, Tue Mar 26 22:40:10 2019\n",
    "  epoch 0 step 344 lr 0.0002 logloss 0.553763 gN 0.18, Tue Mar 26 22:40:29 2019\n",
    "9\n",
    "  epoch 0 step 100 lr 0.0002 logloss 0.553890 gN 0.17, Tue Mar 26 22:45:22 2019\n",
    "  epoch 0 step 200 lr 0.0002 logloss 0.552100 gN 0.17, Tue Mar 26 22:46:09 2019\n",
    "  epoch 0 step 300 lr 0.0002 logloss 0.553840 gN 0.17, Tue Mar 26 22:46:56 2019\n",
    "  epoch 0 step 344 lr 0.0002 logloss 0.551521 gN 0.18, Tue Mar 26 22:47:16 2019\n",
    "100%|██████████| 172/172 [05:23<00:00,  1.72s/it]\n",
    "# Epcho-time 157.58s Eval AUC 0.733593. Eval logloss 0.580097. Best AUC 0.733593.finish"
   ]
  },
  {
   "cell_type": "code",
   "execution_count": null,
   "metadata": {
    "collapsed": true
   },
   "outputs": [],
   "source": [
    "print(\"Dev Inference:\")\n",
    "preds=model.infer(test)\n",
    "test[hparam.label+'_probability']=preds.round(6) \n",
    "fpr, tpr, thresholds = metrics.roc_curve(test[hparam.label]+1, test[hparam.label+'_probability'], pos_label=2)\n",
    "auc=metrics.auc(fpr, tpr)\n",
    "print(hparam.label,round(auc,6))\n",
    "score=str(round(auc,6))\n",
    "del train\n",
    "del test\n",
    "gc.collect()"
   ]
  },
  {
   "cell_type": "code",
   "execution_count": null,
   "metadata": {
    "collapsed": true
   },
   "outputs": [],
   "source": [
    "test=pd.read_pickle(\"data/test_NN.pkl\")    \n",
    "index=list(range(10))\n",
    "for i in range(5):\n",
    "    print(\"Fold\",i)\n",
    "    random.shuffle(index)\n",
    "    model=ctrNet.build_model(hparam)\n",
    "    for idx,k in enumerate(index):\n",
    "        print(idx,k)\n",
    "        train=pd.read_pickle('data/train_NN_'+str(k)+'.pkl')\n",
    "        model.train(train,None)\n",
    "    print(\"Test Inference:\")   \n",
    "    if i==0:\n",
    "        preds=model.infer(test)/5\n",
    "    else:\n",
    "        preds+=model.infer(test)/5\n",
    "\n",
    "\n",
    "\n",
    "test[hparam.label+'_probability']=preds.round(6)\n",
    "try:\n",
    "    os.mkdir('submission')\n",
    "except:\n",
    "    pass\n",
    "try:\n",
    "    os.mkdir('submission/'+hparam.label)\n",
    "except:\n",
    "    pass\n",
    "test[['uid','item_id',hparam.label+'_probability']].to_csv('submission/'+hparam.label+'/'+\\\n",
    "                                                           hparam.model+'_'+score+'.csv',index=False)"
   ]
  },
  {
   "cell_type": "code",
   "execution_count": null,
   "metadata": {
    "collapsed": true
   },
   "outputs": [],
   "source": [
    "score"
   ]
  },
  {
   "cell_type": "code",
   "execution_count": null,
   "metadata": {
    "collapsed": true
   },
   "outputs": [],
   "source": [
    "score"
   ]
  },
  {
   "cell_type": "code",
   "execution_count": null,
   "metadata": {
    "collapsed": true
   },
   "outputs": [],
   "source": []
  }
 ],
 "metadata": {
  "kernelspec": {
   "display_name": "Python 3",
   "language": "python",
   "name": "python3"
  },
  "language_info": {
   "codemirror_mode": {
    "name": "ipython",
    "version": 3
   },
   "file_extension": ".py",
   "mimetype": "text/x-python",
   "name": "python",
   "nbconvert_exporter": "python",
   "pygments_lexer": "ipython3",
   "version": "3.6.7"
  }
 },
 "nbformat": 4,
 "nbformat_minor": 2
}
