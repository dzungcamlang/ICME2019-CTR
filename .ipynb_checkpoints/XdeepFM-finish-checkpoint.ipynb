{
 "cells": [
  {
   "cell_type": "code",
   "execution_count": 13,
   "metadata": {
    "collapsed": true
   },
   "outputs": [],
   "source": [
    "import numpy as np\n",
    "import pandas as pd\n",
    "import ctrNet\n",
    "import tensorflow as tf\n",
    "from src import misc_utils as utils\n",
    "import os\n",
    "import gc\n",
    "from sklearn import metrics\n",
    "import random\n",
    "np.random.seed(2019)\n",
    "os.environ[\"CUDA_DEVICE_ORDER\"]='PCI_BUS_ID'\n",
    "os.environ[\"CUDA_VISIBLE_DEVICES\"]='2'"
   ]
  },
  {
   "cell_type": "code",
   "execution_count": 14,
   "metadata": {
    "collapsed": true
   },
   "outputs": [],
   "source": [
    "label='finish'\n",
    "single_features=['did_finish_positive_num', 'did_finish_negative_num','did_all_cont','did_day_cont','author_id_finish_positive_num', 'author_id_finish_negative_num',\n",
    "                'author_id_all_cont','author_id_day_cont','item_id_finish_positive_num', 'item_id_finish_negative_num',\n",
    "                'item_id_all_cont','item_id_day_cont','author_id_did_all_cont','author_include_num_of_item','author_include_num_of_uid',\n",
    "                'title_cont','uid_has_num_of_did','uid_channel_nunique','did_video_duration_max','channel_video_duration_min',\n",
    "                'item_id_uid_nunique']\n",
    "cross_features=['uid','user_city','item_id','author_id','item_city','channel','music_id','did','video_duration','did_day_cont','author_id_did_all_cont']\n",
    "\n",
    "\n",
    "embedding_features=None\n",
    "multi_features=['title_keys']\n",
    "multi_weights=['title_values']\n",
    "dense_features=['audio_embedding_'+str(i) for i in range(64)]+['video_embedding_'+str(i) for i in range(32)]+['author_id_embedding_128_'+str(i) for i in range(128)]+\\\n",
    "                ['uid_embedding_128_'+str(i) for i in range(128)]+['did_embedding_128_'+str(i) for i in range(128)]\n",
    "dense_features+=['did_finish_rate','author_id_finish_rate','item_id_finish_rate', 'title_mean_rate_finish','title_max_rate_finish','title_min_rate_finish'] \n",
    "dense_features+=['beauty_min','title_mean',  'uid_num_of_author_mean','uid_num_of_author_var','uid_num_of_author_fft_var','uid_channel_title_mean_mean', 'uid_channel_title_mean_std', 'uid_channel_title_mean_skew']\n",
    "dense_features+=[\"user_music_id_\"+str(i) for i in range(128)]+[\"user_item_id_\"+str(i) for i in range(128)]+[\"user_did_\"+str(i) for i in range(128)]+[\"user_author_id_\"+str(i) for i in range(128)]\n",
    "dense_features+=[\"item_author_id_\"+str(i) for i in range(64)]+[\"item_music_id_\"+str(i) for i in range(64)]+[\"item_did_\"+str(i) for i in range(64)]+[\"item_uid_\"+str(i) for i in range(64)]\n",
    "dense_features+=[\"did_author_id_\"+str(i) for i in range(64)]+[\"did_music_id_\"+str(i) for i in range(64)]+[\"did_item_id_\"+str(i) for i in range(64)]+[\"did_uid_\"+str(i) for i in range(64)]\n",
    "dense_features+=[\"author_did_\"+str(i) for i in range(64)]+[\"author_uid_\"+str(i) for i in range(64)]+[\"author_music_id_\"+str(i) for i in range(64)]+[\"author_item_id_\"+str(i) for i in range(64)]\n",
    "\n",
    "for f1,f2 in [('uid','item_id'),('uid','author_id'),('did','item_id'),('did','author_id')]:\n",
    "    for i in range(64):\n",
    "        dense_features.append(f1+'_'+ f2+'_'+f1+'_deepwalk_embedding_64_'+str(i))\n",
    "        dense_features.append(f1+'_'+ f2+'_'+f2+'_deepwalk_embedding_'+str(i))\n",
    "        \n",
    "kv_features=['uid_did_nunique', 'uid_did_count', 'uid_channel_nunique', 'did_video_duration_min', \n",
    "                        'did_video_duration_max', 'did_video_duration_mean', 'did_video_duration_std', \n",
    "                        'channel_video_duration_min', 'channel_video_duration_max', 'channel_video_duration_mean', \n",
    "                        'channel_video_duration_std', 'uid_item_id_unique_mean', 'uid_author_id_unique_mean', \n",
    "                        'uid_channel_unique_mean', 'did_item_id_unique_mean', 'did_author_id_unique_mean', \n",
    "                        'did_channel_unique_mean', 'uid_item_id_unique_var', 'uid_author_id_unique_var', \n",
    "                        'uid_channel_unique_var', 'did_item_id_unique_var', 'did_author_id_unique_var', \n",
    "                        'did_channel_unique_var', 'author_id_title_cont_skew', 'author_id_title_cont_mean', \n",
    "                        'author_id_title_cont_std', 'did_title_cont_skew', 'did_title_cont_mean', \n",
    "                        'did_title_cont_std', 'uid_channel_title_cont_skew', 'uid_channel_title_cont_mean', \n",
    "                        'uid_channel_title_cont_std', 'item_id_uid_nunique', 'item_id_uid_count', \n",
    "                        'author_id_item_id_nunique', 'author_id_item_id_count', 'uid_user_city_nunique', \n",
    "                        'uid_author_id_nunique', 'channel_user_city_nunique', 'did_video_duration_skew', \n",
    "                        'channel_video_duration_skew',  'item_id_pagerank', 'uid_item_id_pagerank', \n",
    "                        'uid_author_id_pagerank', 'did_item_id_pagerank', 'did_author_id_pagerank',\n",
    "                        'item_id_uid_pagerank', 'item_id_did_pagerank', 'author_id_uid_pagerank', \n",
    "                        'author_id_did_pagerank', 'title_mean', 'uid_title_mean_mean', \n",
    "                        'uid_title_mean_std', 'uid_title_mean_skew', 'author_id_title_mean_mean', \n",
    "                        'author_id_title_mean_std', 'author_id_title_mean_skew', 'did_title_mean_mean', \n",
    "                        'did_title_mean_std', 'did_title_mean_skew']"
   ]
  },
  {
   "cell_type": "code",
   "execution_count": 15,
   "metadata": {},
   "outputs": [
    {
     "name": "stdout",
     "output_type": "stream",
     "text": [
      "  activation=['relu', 'relu', 'relu']\n",
      "  batch_norm_decay=0.9\n",
      "  batch_size=4096\n",
      "  cross_activation=relu\n",
      "  cross_features=['channel', 'music_id', 'did', 'video_duration', 'did_day_cont', 'author_id_did_all_cont']\n",
      "  cross_hash_num=5000000\n",
      "  cross_layer_sizes=[128, 128]\n",
      "  dense_features=['audio_embedding_0', 'audio_embedding_1', 'audio_embedding_2', 'audio_embedding_3', 'audio_embedding_4', 'audio_embedding_5', 'audio_embedding_6', 'audio_embedding_7', 'audio_embedding_8', 'audio_embedding_9', 'audio_embedding_10', 'audio_embedding_11', 'audio_embedding_12', 'audio_embedding_13', 'audio_embedding_14', 'audio_embedding_15', 'audio_embedding_16', 'audio_embedding_17', 'audio_embedding_18', 'audio_embedding_19', 'audio_embedding_20', 'audio_embedding_21', 'audio_embedding_22', 'audio_embedding_23', 'audio_embedding_24', 'audio_embedding_25', 'audio_embedding_26', 'audio_embedding_27', 'audio_embedding_28', 'audio_embedding_29', 'audio_embedding_30', 'audio_embedding_31', 'audio_embedding_32', 'audio_embedding_33', 'audio_embedding_34', 'audio_embedding_35', 'audio_embedding_36', 'audio_embedding_37', 'audio_embedding_38', 'audio_embedding_39', 'audio_embedding_40', 'audio_embedding_41', 'audio_embedding_42', 'audio_embedding_43', 'audio_embedding_44', 'audio_embedding_45', 'audio_embedding_46', 'audio_embedding_47', 'audio_embedding_48', 'audio_embedding_49', 'audio_embedding_50', 'audio_embedding_51', 'audio_embedding_52', 'audio_embedding_53', 'audio_embedding_54', 'audio_embedding_55', 'audio_embedding_56', 'audio_embedding_57', 'audio_embedding_58', 'audio_embedding_59', 'audio_embedding_60', 'audio_embedding_61', 'audio_embedding_62', 'audio_embedding_63', 'video_embedding_0', 'video_embedding_1', 'video_embedding_2', 'video_embedding_3', 'video_embedding_4', 'video_embedding_5', 'video_embedding_6', 'video_embedding_7', 'video_embedding_8', 'video_embedding_9', 'video_embedding_10', 'video_embedding_11', 'video_embedding_12', 'video_embedding_13', 'video_embedding_14', 'video_embedding_15', 'video_embedding_16', 'video_embedding_17', 'video_embedding_18', 'video_embedding_19', 'video_embedding_20', 'video_embedding_21', 'video_embedding_22', 'video_embedding_23', 'video_embedding_24', 'video_embedding_25', 'video_embedding_26', 'video_embedding_27', 'video_embedding_28', 'video_embedding_29', 'video_embedding_30', 'video_embedding_31', 'did_finish_rate', 'author_id_finish_rate', 'item_id_finish_rate', 'title_mean_rate_finish', 'title_max_rate_finish', 'title_min_rate_finish', 'beauty_min', 'title_mean', 'uid_num_of_author_mean', 'uid_num_of_author_var', 'uid_num_of_author_fft_var', 'uid_channel_title_mean_mean', 'uid_channel_title_mean_std', 'uid_channel_title_mean_skew', 'user_music_id_0', 'user_music_id_1', 'user_music_id_2', 'user_music_id_3', 'user_music_id_4', 'user_music_id_5', 'user_music_id_6', 'user_music_id_7', 'user_music_id_8', 'user_music_id_9', 'user_music_id_10', 'user_music_id_11', 'user_music_id_12', 'user_music_id_13', 'user_music_id_14', 'user_music_id_15', 'user_music_id_16', 'user_music_id_17', 'user_music_id_18', 'user_music_id_19', 'user_music_id_20', 'user_music_id_21', 'user_music_id_22', 'user_music_id_23', 'user_music_id_24', 'user_music_id_25', 'user_music_id_26', 'user_music_id_27', 'user_music_id_28', 'user_music_id_29', 'user_music_id_30', 'user_music_id_31', 'user_music_id_32', 'user_music_id_33', 'user_music_id_34', 'user_music_id_35', 'user_music_id_36', 'user_music_id_37', 'user_music_id_38', 'user_music_id_39', 'user_music_id_40', 'user_music_id_41', 'user_music_id_42', 'user_music_id_43', 'user_music_id_44', 'user_music_id_45', 'user_music_id_46', 'user_music_id_47', 'user_music_id_48', 'user_music_id_49', 'user_music_id_50', 'user_music_id_51', 'user_music_id_52', 'user_music_id_53', 'user_music_id_54', 'user_music_id_55', 'user_music_id_56', 'user_music_id_57', 'user_music_id_58', 'user_music_id_59', 'user_music_id_60', 'user_music_id_61', 'user_music_id_62', 'user_music_id_63', 'user_music_id_64', 'user_music_id_65', 'user_music_id_66', 'user_music_id_67', 'user_music_id_68', 'user_music_id_69', 'user_music_id_70', 'user_music_id_71', 'user_music_id_72', 'user_music_id_73', 'user_music_id_74', 'user_music_id_75', 'user_music_id_76', 'user_music_id_77', 'user_music_id_78', 'user_music_id_79', 'user_music_id_80', 'user_music_id_81', 'user_music_id_82', 'user_music_id_83', 'user_music_id_84', 'user_music_id_85', 'user_music_id_86', 'user_music_id_87', 'user_music_id_88', 'user_music_id_89', 'user_music_id_90', 'user_music_id_91', 'user_music_id_92', 'user_music_id_93', 'user_music_id_94', 'user_music_id_95', 'user_music_id_96', 'user_music_id_97', 'user_music_id_98', 'user_music_id_99', 'user_music_id_100', 'user_music_id_101', 'user_music_id_102', 'user_music_id_103', 'user_music_id_104', 'user_music_id_105', 'user_music_id_106', 'user_music_id_107', 'user_music_id_108', 'user_music_id_109', 'user_music_id_110', 'user_music_id_111', 'user_music_id_112', 'user_music_id_113', 'user_music_id_114', 'user_music_id_115', 'user_music_id_116', 'user_music_id_117', 'user_music_id_118', 'user_music_id_119', 'user_music_id_120', 'user_music_id_121', 'user_music_id_122', 'user_music_id_123', 'user_music_id_124', 'user_music_id_125', 'user_music_id_126', 'user_music_id_127', 'user_item_id_0', 'user_item_id_1', 'user_item_id_2', 'user_item_id_3', 'user_item_id_4', 'user_item_id_5', 'user_item_id_6', 'user_item_id_7', 'user_item_id_8', 'user_item_id_9', 'user_item_id_10', 'user_item_id_11', 'user_item_id_12', 'user_item_id_13', 'user_item_id_14', 'user_item_id_15', 'user_item_id_16', 'user_item_id_17', 'user_item_id_18', 'user_item_id_19', 'user_item_id_20', 'user_item_id_21', 'user_item_id_22', 'user_item_id_23', 'user_item_id_24', 'user_item_id_25', 'user_item_id_26', 'user_item_id_27', 'user_item_id_28', 'user_item_id_29', 'user_item_id_30', 'user_item_id_31', 'user_item_id_32', 'user_item_id_33', 'user_item_id_34', 'user_item_id_35', 'user_item_id_36', 'user_item_id_37', 'user_item_id_38', 'user_item_id_39', 'user_item_id_40', 'user_item_id_41', 'user_item_id_42', 'user_item_id_43', 'user_item_id_44', 'user_item_id_45', 'user_item_id_46', 'user_item_id_47', 'user_item_id_48', 'user_item_id_49', 'user_item_id_50', 'user_item_id_51', 'user_item_id_52', 'user_item_id_53', 'user_item_id_54', 'user_item_id_55', 'user_item_id_56', 'user_item_id_57', 'user_item_id_58', 'user_item_id_59', 'user_item_id_60', 'user_item_id_61', 'user_item_id_62', 'user_item_id_63', 'user_item_id_64', 'user_item_id_65', 'user_item_id_66', 'user_item_id_67', 'user_item_id_68', 'user_item_id_69', 'user_item_id_70', 'user_item_id_71', 'user_item_id_72', 'user_item_id_73', 'user_item_id_74', 'user_item_id_75', 'user_item_id_76', 'user_item_id_77', 'user_item_id_78', 'user_item_id_79', 'user_item_id_80', 'user_item_id_81', 'user_item_id_82', 'user_item_id_83', 'user_item_id_84', 'user_item_id_85', 'user_item_id_86', 'user_item_id_87', 'user_item_id_88', 'user_item_id_89', 'user_item_id_90', 'user_item_id_91', 'user_item_id_92', 'user_item_id_93', 'user_item_id_94', 'user_item_id_95', 'user_item_id_96', 'user_item_id_97', 'user_item_id_98', 'user_item_id_99', 'user_item_id_100', 'user_item_id_101', 'user_item_id_102', 'user_item_id_103', 'user_item_id_104', 'user_item_id_105', 'user_item_id_106', 'user_item_id_107', 'user_item_id_108', 'user_item_id_109', 'user_item_id_110', 'user_item_id_111', 'user_item_id_112', 'user_item_id_113', 'user_item_id_114', 'user_item_id_115', 'user_item_id_116', 'user_item_id_117', 'user_item_id_118', 'user_item_id_119', 'user_item_id_120', 'user_item_id_121', 'user_item_id_122', 'user_item_id_123', 'user_item_id_124', 'user_item_id_125', 'user_item_id_126', 'user_item_id_127', 'user_did_0', 'user_did_1', 'user_did_2', 'user_did_3', 'user_did_4', 'user_did_5', 'user_did_6', 'user_did_7', 'user_did_8', 'user_did_9', 'user_did_10', 'user_did_11', 'user_did_12', 'user_did_13', 'user_did_14', 'user_did_15', 'user_did_16', 'user_did_17', 'user_did_18', 'user_did_19', 'user_did_20', 'user_did_21', 'user_did_22', 'user_did_23', 'user_did_24', 'user_did_25', 'user_did_26', 'user_did_27', 'user_did_28', 'user_did_29', 'user_did_30', 'user_did_31', 'user_did_32', 'user_did_33', 'user_did_34', 'user_did_35', 'user_did_36', 'user_did_37', 'user_did_38', 'user_did_39', 'user_did_40', 'user_did_41', 'user_did_42', 'user_did_43', 'user_did_44', 'user_did_45', 'user_did_46', 'user_did_47', 'user_did_48', 'user_did_49', 'user_did_50', 'user_did_51', 'user_did_52', 'user_did_53', 'user_did_54', 'user_did_55', 'user_did_56', 'user_did_57', 'user_did_58', 'user_did_59', 'user_did_60', 'user_did_61', 'user_did_62', 'user_did_63', 'user_did_64', 'user_did_65', 'user_did_66', 'user_did_67', 'user_did_68', 'user_did_69', 'user_did_70', 'user_did_71', 'user_did_72', 'user_did_73', 'user_did_74', 'user_did_75', 'user_did_76', 'user_did_77', 'user_did_78', 'user_did_79', 'user_did_80', 'user_did_81', 'user_did_82', 'user_did_83', 'user_did_84', 'user_did_85', 'user_did_86', 'user_did_87', 'user_did_88', 'user_did_89', 'user_did_90', 'user_did_91', 'user_did_92', 'user_did_93', 'user_did_94', 'user_did_95', 'user_did_96', 'user_did_97', 'user_did_98', 'user_did_99', 'user_did_100', 'user_did_101', 'user_did_102', 'user_did_103', 'user_did_104', 'user_did_105', 'user_did_106', 'user_did_107', 'user_did_108', 'user_did_109', 'user_did_110', 'user_did_111', 'user_did_112', 'user_did_113', 'user_did_114', 'user_did_115', 'user_did_116', 'user_did_117', 'user_did_118', 'user_did_119', 'user_did_120', 'user_did_121', 'user_did_122', 'user_did_123', 'user_did_124', 'user_did_125', 'user_did_126', 'user_did_127', 'user_author_id_0', 'user_author_id_1', 'user_author_id_2', 'user_author_id_3', 'user_author_id_4', 'user_author_id_5', 'user_author_id_6', 'user_author_id_7', 'user_author_id_8', 'user_author_id_9', 'user_author_id_10', 'user_author_id_11', 'user_author_id_12', 'user_author_id_13', 'user_author_id_14', 'user_author_id_15', 'user_author_id_16', 'user_author_id_17', 'user_author_id_18', 'user_author_id_19', 'user_author_id_20', 'user_author_id_21', 'user_author_id_22', 'user_author_id_23', 'user_author_id_24', 'user_author_id_25', 'user_author_id_26', 'user_author_id_27', 'user_author_id_28', 'user_author_id_29', 'user_author_id_30', 'user_author_id_31', 'user_author_id_32', 'user_author_id_33', 'user_author_id_34', 'user_author_id_35', 'user_author_id_36', 'user_author_id_37', 'user_author_id_38', 'user_author_id_39', 'user_author_id_40', 'user_author_id_41', 'user_author_id_42', 'user_author_id_43', 'user_author_id_44', 'user_author_id_45', 'user_author_id_46', 'user_author_id_47', 'user_author_id_48', 'user_author_id_49', 'user_author_id_50', 'user_author_id_51', 'user_author_id_52', 'user_author_id_53', 'user_author_id_54', 'user_author_id_55', 'user_author_id_56', 'user_author_id_57', 'user_author_id_58', 'user_author_id_59', 'user_author_id_60', 'user_author_id_61', 'user_author_id_62', 'user_author_id_63', 'user_author_id_64', 'user_author_id_65', 'user_author_id_66', 'user_author_id_67', 'user_author_id_68', 'user_author_id_69', 'user_author_id_70', 'user_author_id_71', 'user_author_id_72', 'user_author_id_73', 'user_author_id_74', 'user_author_id_75', 'user_author_id_76', 'user_author_id_77', 'user_author_id_78', 'user_author_id_79', 'user_author_id_80', 'user_author_id_81', 'user_author_id_82', 'user_author_id_83', 'user_author_id_84', 'user_author_id_85', 'user_author_id_86', 'user_author_id_87', 'user_author_id_88', 'user_author_id_89', 'user_author_id_90', 'user_author_id_91', 'user_author_id_92', 'user_author_id_93', 'user_author_id_94', 'user_author_id_95', 'user_author_id_96', 'user_author_id_97', 'user_author_id_98', 'user_author_id_99', 'user_author_id_100', 'user_author_id_101', 'user_author_id_102', 'user_author_id_103', 'user_author_id_104', 'user_author_id_105', 'user_author_id_106', 'user_author_id_107', 'user_author_id_108', 'user_author_id_109', 'user_author_id_110', 'user_author_id_111', 'user_author_id_112', 'user_author_id_113', 'user_author_id_114', 'user_author_id_115', 'user_author_id_116', 'user_author_id_117', 'user_author_id_118', 'user_author_id_119', 'user_author_id_120', 'user_author_id_121', 'user_author_id_122', 'user_author_id_123', 'user_author_id_124', 'user_author_id_125', 'user_author_id_126', 'user_author_id_127', 'item_author_id_0', 'item_author_id_1', 'item_author_id_2', 'item_author_id_3', 'item_author_id_4', 'item_author_id_5', 'item_author_id_6', 'item_author_id_7', 'item_author_id_8', 'item_author_id_9', 'item_author_id_10', 'item_author_id_11', 'item_author_id_12', 'item_author_id_13', 'item_author_id_14', 'item_author_id_15', 'item_author_id_16', 'item_author_id_17', 'item_author_id_18', 'item_author_id_19', 'item_author_id_20', 'item_author_id_21', 'item_author_id_22', 'item_author_id_23', 'item_author_id_24', 'item_author_id_25', 'item_author_id_26', 'item_author_id_27', 'item_author_id_28', 'item_author_id_29', 'item_author_id_30', 'item_author_id_31', 'item_author_id_32', 'item_author_id_33', 'item_author_id_34', 'item_author_id_35', 'item_author_id_36', 'item_author_id_37', 'item_author_id_38', 'item_author_id_39', 'item_author_id_40', 'item_author_id_41', 'item_author_id_42', 'item_author_id_43', 'item_author_id_44', 'item_author_id_45', 'item_author_id_46', 'item_author_id_47', 'item_author_id_48', 'item_author_id_49', 'item_author_id_50', 'item_author_id_51', 'item_author_id_52', 'item_author_id_53', 'item_author_id_54', 'item_author_id_55', 'item_author_id_56', 'item_author_id_57', 'item_author_id_58', 'item_author_id_59', 'item_author_id_60', 'item_author_id_61', 'item_author_id_62', 'item_author_id_63', 'item_music_id_0', 'item_music_id_1', 'item_music_id_2', 'item_music_id_3', 'item_music_id_4', 'item_music_id_5', 'item_music_id_6', 'item_music_id_7', 'item_music_id_8', 'item_music_id_9', 'item_music_id_10', 'item_music_id_11', 'item_music_id_12', 'item_music_id_13', 'item_music_id_14', 'item_music_id_15', 'item_music_id_16', 'item_music_id_17', 'item_music_id_18', 'item_music_id_19', 'item_music_id_20', 'item_music_id_21', 'item_music_id_22', 'item_music_id_23', 'item_music_id_24', 'item_music_id_25', 'item_music_id_26', 'item_music_id_27', 'item_music_id_28', 'item_music_id_29', 'item_music_id_30', 'item_music_id_31', 'item_music_id_32', 'item_music_id_33', 'item_music_id_34', 'item_music_id_35', 'item_music_id_36', 'item_music_id_37', 'item_music_id_38', 'item_music_id_39', 'item_music_id_40', 'item_music_id_41', 'item_music_id_42', 'item_music_id_43', 'item_music_id_44', 'item_music_id_45', 'item_music_id_46', 'item_music_id_47', 'item_music_id_48', 'item_music_id_49', 'item_music_id_50', 'item_music_id_51', 'item_music_id_52', 'item_music_id_53', 'item_music_id_54', 'item_music_id_55', 'item_music_id_56', 'item_music_id_57', 'item_music_id_58', 'item_music_id_59', 'item_music_id_60', 'item_music_id_61', 'item_music_id_62', 'item_music_id_63', 'item_did_0', 'item_did_1', 'item_did_2', 'item_did_3', 'item_did_4', 'item_did_5', 'item_did_6', 'item_did_7', 'item_did_8', 'item_did_9', 'item_did_10', 'item_did_11', 'item_did_12', 'item_did_13', 'item_did_14', 'item_did_15', 'item_did_16', 'item_did_17', 'item_did_18', 'item_did_19', 'item_did_20', 'item_did_21', 'item_did_22', 'item_did_23', 'item_did_24', 'item_did_25', 'item_did_26', 'item_did_27', 'item_did_28', 'item_did_29', 'item_did_30', 'item_did_31', 'item_did_32', 'item_did_33', 'item_did_34', 'item_did_35', 'item_did_36', 'item_did_37', 'item_did_38', 'item_did_39', 'item_did_40', 'item_did_41', 'item_did_42', 'item_did_43', 'item_did_44', 'item_did_45', 'item_did_46', 'item_did_47', 'item_did_48', 'item_did_49', 'item_did_50', 'item_did_51', 'item_did_52', 'item_did_53', 'item_did_54', 'item_did_55', 'item_did_56', 'item_did_57', 'item_did_58', 'item_did_59', 'item_did_60', 'item_did_61', 'item_did_62', 'item_did_63', 'item_uid_0', 'item_uid_1', 'item_uid_2', 'item_uid_3', 'item_uid_4', 'item_uid_5', 'item_uid_6', 'item_uid_7', 'item_uid_8', 'item_uid_9', 'item_uid_10', 'item_uid_11', 'item_uid_12', 'item_uid_13', 'item_uid_14', 'item_uid_15', 'item_uid_16', 'item_uid_17', 'item_uid_18', 'item_uid_19', 'item_uid_20', 'item_uid_21', 'item_uid_22', 'item_uid_23', 'item_uid_24', 'item_uid_25', 'item_uid_26', 'item_uid_27', 'item_uid_28', 'item_uid_29', 'item_uid_30', 'item_uid_31', 'item_uid_32', 'item_uid_33', 'item_uid_34', 'item_uid_35', 'item_uid_36', 'item_uid_37', 'item_uid_38', 'item_uid_39', 'item_uid_40', 'item_uid_41', 'item_uid_42', 'item_uid_43', 'item_uid_44', 'item_uid_45', 'item_uid_46', 'item_uid_47', 'item_uid_48', 'item_uid_49', 'item_uid_50', 'item_uid_51', 'item_uid_52', 'item_uid_53', 'item_uid_54', 'item_uid_55', 'item_uid_56', 'item_uid_57', 'item_uid_58', 'item_uid_59', 'item_uid_60', 'item_uid_61', 'item_uid_62', 'item_uid_63', 'did_author_id_0', 'did_author_id_1', 'did_author_id_2', 'did_author_id_3', 'did_author_id_4', 'did_author_id_5', 'did_author_id_6', 'did_author_id_7', 'did_author_id_8', 'did_author_id_9', 'did_author_id_10', 'did_author_id_11', 'did_author_id_12', 'did_author_id_13', 'did_author_id_14', 'did_author_id_15', 'did_author_id_16', 'did_author_id_17', 'did_author_id_18', 'did_author_id_19', 'did_author_id_20', 'did_author_id_21', 'did_author_id_22', 'did_author_id_23', 'did_author_id_24', 'did_author_id_25', 'did_author_id_26', 'did_author_id_27', 'did_author_id_28', 'did_author_id_29', 'did_author_id_30', 'did_author_id_31', 'did_author_id_32', 'did_author_id_33', 'did_author_id_34', 'did_author_id_35', 'did_author_id_36', 'did_author_id_37', 'did_author_id_38', 'did_author_id_39', 'did_author_id_40', 'did_author_id_41', 'did_author_id_42', 'did_author_id_43', 'did_author_id_44', 'did_author_id_45', 'did_author_id_46', 'did_author_id_47', 'did_author_id_48', 'did_author_id_49', 'did_author_id_50', 'did_author_id_51', 'did_author_id_52', 'did_author_id_53', 'did_author_id_54', 'did_author_id_55', 'did_author_id_56', 'did_author_id_57', 'did_author_id_58', 'did_author_id_59', 'did_author_id_60', 'did_author_id_61', 'did_author_id_62', 'did_author_id_63', 'did_music_id_0', 'did_music_id_1', 'did_music_id_2', 'did_music_id_3', 'did_music_id_4', 'did_music_id_5', 'did_music_id_6', 'did_music_id_7', 'did_music_id_8', 'did_music_id_9', 'did_music_id_10', 'did_music_id_11', 'did_music_id_12', 'did_music_id_13', 'did_music_id_14', 'did_music_id_15', 'did_music_id_16', 'did_music_id_17', 'did_music_id_18', 'did_music_id_19', 'did_music_id_20', 'did_music_id_21', 'did_music_id_22', 'did_music_id_23', 'did_music_id_24', 'did_music_id_25', 'did_music_id_26', 'did_music_id_27', 'did_music_id_28', 'did_music_id_29', 'did_music_id_30', 'did_music_id_31', 'did_music_id_32', 'did_music_id_33', 'did_music_id_34', 'did_music_id_35', 'did_music_id_36', 'did_music_id_37', 'did_music_id_38', 'did_music_id_39', 'did_music_id_40', 'did_music_id_41', 'did_music_id_42', 'did_music_id_43', 'did_music_id_44', 'did_music_id_45', 'did_music_id_46', 'did_music_id_47', 'did_music_id_48', 'did_music_id_49', 'did_music_id_50', 'did_music_id_51', 'did_music_id_52', 'did_music_id_53', 'did_music_id_54', 'did_music_id_55', 'did_music_id_56', 'did_music_id_57', 'did_music_id_58', 'did_music_id_59', 'did_music_id_60', 'did_music_id_61', 'did_music_id_62', 'did_music_id_63', 'did_item_id_0', 'did_item_id_1', 'did_item_id_2', 'did_item_id_3', 'did_item_id_4', 'did_item_id_5', 'did_item_id_6', 'did_item_id_7', 'did_item_id_8', 'did_item_id_9', 'did_item_id_10', 'did_item_id_11', 'did_item_id_12', 'did_item_id_13', 'did_item_id_14', 'did_item_id_15', 'did_item_id_16', 'did_item_id_17', 'did_item_id_18', 'did_item_id_19', 'did_item_id_20', 'did_item_id_21', 'did_item_id_22', 'did_item_id_23', 'did_item_id_24', 'did_item_id_25', 'did_item_id_26', 'did_item_id_27', 'did_item_id_28', 'did_item_id_29', 'did_item_id_30', 'did_item_id_31', 'did_item_id_32', 'did_item_id_33', 'did_item_id_34', 'did_item_id_35', 'did_item_id_36', 'did_item_id_37', 'did_item_id_38', 'did_item_id_39', 'did_item_id_40', 'did_item_id_41', 'did_item_id_42', 'did_item_id_43', 'did_item_id_44', 'did_item_id_45', 'did_item_id_46', 'did_item_id_47', 'did_item_id_48', 'did_item_id_49', 'did_item_id_50', 'did_item_id_51', 'did_item_id_52', 'did_item_id_53', 'did_item_id_54', 'did_item_id_55', 'did_item_id_56', 'did_item_id_57', 'did_item_id_58', 'did_item_id_59', 'did_item_id_60', 'did_item_id_61', 'did_item_id_62', 'did_item_id_63', 'did_uid_0', 'did_uid_1', 'did_uid_2', 'did_uid_3', 'did_uid_4', 'did_uid_5', 'did_uid_6', 'did_uid_7', 'did_uid_8', 'did_uid_9', 'did_uid_10', 'did_uid_11', 'did_uid_12', 'did_uid_13', 'did_uid_14', 'did_uid_15', 'did_uid_16', 'did_uid_17', 'did_uid_18', 'did_uid_19', 'did_uid_20', 'did_uid_21', 'did_uid_22', 'did_uid_23', 'did_uid_24', 'did_uid_25', 'did_uid_26', 'did_uid_27', 'did_uid_28', 'did_uid_29', 'did_uid_30', 'did_uid_31', 'did_uid_32', 'did_uid_33', 'did_uid_34', 'did_uid_35', 'did_uid_36', 'did_uid_37', 'did_uid_38', 'did_uid_39', 'did_uid_40', 'did_uid_41', 'did_uid_42', 'did_uid_43', 'did_uid_44', 'did_uid_45', 'did_uid_46', 'did_uid_47', 'did_uid_48', 'did_uid_49', 'did_uid_50', 'did_uid_51', 'did_uid_52', 'did_uid_53', 'did_uid_54', 'did_uid_55', 'did_uid_56', 'did_uid_57', 'did_uid_58', 'did_uid_59', 'did_uid_60', 'did_uid_61', 'did_uid_62', 'did_uid_63', 'author_did_0', 'author_did_1', 'author_did_2', 'author_did_3', 'author_did_4', 'author_did_5', 'author_did_6', 'author_did_7', 'author_did_8', 'author_did_9', 'author_did_10', 'author_did_11', 'author_did_12', 'author_did_13', 'author_did_14', 'author_did_15', 'author_did_16', 'author_did_17', 'author_did_18', 'author_did_19', 'author_did_20', 'author_did_21', 'author_did_22', 'author_did_23', 'author_did_24', 'author_did_25', 'author_did_26', 'author_did_27', 'author_did_28', 'author_did_29', 'author_did_30', 'author_did_31', 'author_did_32', 'author_did_33', 'author_did_34', 'author_did_35', 'author_did_36', 'author_did_37', 'author_did_38', 'author_did_39', 'author_did_40', 'author_did_41', 'author_did_42', 'author_did_43', 'author_did_44', 'author_did_45', 'author_did_46', 'author_did_47', 'author_did_48', 'author_did_49', 'author_did_50', 'author_did_51', 'author_did_52', 'author_did_53', 'author_did_54', 'author_did_55', 'author_did_56', 'author_did_57', 'author_did_58', 'author_did_59', 'author_did_60', 'author_did_61', 'author_did_62', 'author_did_63', 'author_uid_0', 'author_uid_1', 'author_uid_2', 'author_uid_3', 'author_uid_4', 'author_uid_5', 'author_uid_6', 'author_uid_7', 'author_uid_8', 'author_uid_9', 'author_uid_10', 'author_uid_11', 'author_uid_12', 'author_uid_13', 'author_uid_14', 'author_uid_15', 'author_uid_16', 'author_uid_17', 'author_uid_18', 'author_uid_19', 'author_uid_20', 'author_uid_21', 'author_uid_22', 'author_uid_23', 'author_uid_24', 'author_uid_25', 'author_uid_26', 'author_uid_27', 'author_uid_28', 'author_uid_29', 'author_uid_30', 'author_uid_31', 'author_uid_32', 'author_uid_33', 'author_uid_34', 'author_uid_35', 'author_uid_36', 'author_uid_37', 'author_uid_38', 'author_uid_39', 'author_uid_40', 'author_uid_41', 'author_uid_42', 'author_uid_43', 'author_uid_44', 'author_uid_45', 'author_uid_46', 'author_uid_47', 'author_uid_48', 'author_uid_49', 'author_uid_50', 'author_uid_51', 'author_uid_52', 'author_uid_53', 'author_uid_54', 'author_uid_55', 'author_uid_56', 'author_uid_57', 'author_uid_58', 'author_uid_59', 'author_uid_60', 'author_uid_61', 'author_uid_62', 'author_uid_63', 'author_music_id_0', 'author_music_id_1', 'author_music_id_2', 'author_music_id_3', 'author_music_id_4', 'author_music_id_5', 'author_music_id_6', 'author_music_id_7', 'author_music_id_8', 'author_music_id_9', 'author_music_id_10', 'author_music_id_11', 'author_music_id_12', 'author_music_id_13', 'author_music_id_14', 'author_music_id_15', 'author_music_id_16', 'author_music_id_17', 'author_music_id_18', 'author_music_id_19', 'author_music_id_20', 'author_music_id_21', 'author_music_id_22', 'author_music_id_23', 'author_music_id_24', 'author_music_id_25', 'author_music_id_26', 'author_music_id_27', 'author_music_id_28', 'author_music_id_29', 'author_music_id_30', 'author_music_id_31', 'author_music_id_32', 'author_music_id_33', 'author_music_id_34', 'author_music_id_35', 'author_music_id_36', 'author_music_id_37', 'author_music_id_38', 'author_music_id_39', 'author_music_id_40', 'author_music_id_41', 'author_music_id_42', 'author_music_id_43', 'author_music_id_44', 'author_music_id_45', 'author_music_id_46', 'author_music_id_47', 'author_music_id_48', 'author_music_id_49', 'author_music_id_50', 'author_music_id_51', 'author_music_id_52', 'author_music_id_53', 'author_music_id_54', 'author_music_id_55', 'author_music_id_56', 'author_music_id_57', 'author_music_id_58', 'author_music_id_59', 'author_music_id_60', 'author_music_id_61', 'author_music_id_62', 'author_music_id_63', 'author_item_id_0', 'author_item_id_1', 'author_item_id_2', 'author_item_id_3', 'author_item_id_4', 'author_item_id_5', 'author_item_id_6', 'author_item_id_7', 'author_item_id_8', 'author_item_id_9', 'author_item_id_10', 'author_item_id_11', 'author_item_id_12', 'author_item_id_13', 'author_item_id_14', 'author_item_id_15', 'author_item_id_16', 'author_item_id_17', 'author_item_id_18', 'author_item_id_19', 'author_item_id_20', 'author_item_id_21', 'author_item_id_22', 'author_item_id_23', 'author_item_id_24', 'author_item_id_25', 'author_item_id_26', 'author_item_id_27', 'author_item_id_28', 'author_item_id_29', 'author_item_id_30', 'author_item_id_31', 'author_item_id_32', 'author_item_id_33', 'author_item_id_34', 'author_item_id_35', 'author_item_id_36', 'author_item_id_37', 'author_item_id_38', 'author_item_id_39', 'author_item_id_40', 'author_item_id_41', 'author_item_id_42', 'author_item_id_43', 'author_item_id_44', 'author_item_id_45', 'author_item_id_46', 'author_item_id_47', 'author_item_id_48', 'author_item_id_49', 'author_item_id_50', 'author_item_id_51', 'author_item_id_52', 'author_item_id_53', 'author_item_id_54', 'author_item_id_55', 'author_item_id_56', 'author_item_id_57', 'author_item_id_58', 'author_item_id_59', 'author_item_id_60', 'author_item_id_61', 'author_item_id_62', 'author_item_id_63', 'uid_item_id_uid_deepwalk_embedding_64_0', 'uid_item_id_item_id_deepwalk_embedding_0', 'uid_item_id_uid_deepwalk_embedding_64_1', 'uid_item_id_item_id_deepwalk_embedding_1', 'uid_item_id_uid_deepwalk_embedding_64_2', 'uid_item_id_item_id_deepwalk_embedding_2', 'uid_item_id_uid_deepwalk_embedding_64_3', 'uid_item_id_item_id_deepwalk_embedding_3', 'uid_item_id_uid_deepwalk_embedding_64_4', 'uid_item_id_item_id_deepwalk_embedding_4', 'uid_item_id_uid_deepwalk_embedding_64_5', 'uid_item_id_item_id_deepwalk_embedding_5', 'uid_item_id_uid_deepwalk_embedding_64_6', 'uid_item_id_item_id_deepwalk_embedding_6', 'uid_item_id_uid_deepwalk_embedding_64_7', 'uid_item_id_item_id_deepwalk_embedding_7', 'uid_item_id_uid_deepwalk_embedding_64_8', 'uid_item_id_item_id_deepwalk_embedding_8', 'uid_item_id_uid_deepwalk_embedding_64_9', 'uid_item_id_item_id_deepwalk_embedding_9', 'uid_item_id_uid_deepwalk_embedding_64_10', 'uid_item_id_item_id_deepwalk_embedding_10', 'uid_item_id_uid_deepwalk_embedding_64_11', 'uid_item_id_item_id_deepwalk_embedding_11', 'uid_item_id_uid_deepwalk_embedding_64_12', 'uid_item_id_item_id_deepwalk_embedding_12', 'uid_item_id_uid_deepwalk_embedding_64_13', 'uid_item_id_item_id_deepwalk_embedding_13', 'uid_item_id_uid_deepwalk_embedding_64_14', 'uid_item_id_item_id_deepwalk_embedding_14', 'uid_item_id_uid_deepwalk_embedding_64_15', 'uid_item_id_item_id_deepwalk_embedding_15', 'uid_item_id_uid_deepwalk_embedding_64_16', 'uid_item_id_item_id_deepwalk_embedding_16', 'uid_item_id_uid_deepwalk_embedding_64_17', 'uid_item_id_item_id_deepwalk_embedding_17', 'uid_item_id_uid_deepwalk_embedding_64_18', 'uid_item_id_item_id_deepwalk_embedding_18', 'uid_item_id_uid_deepwalk_embedding_64_19', 'uid_item_id_item_id_deepwalk_embedding_19', 'uid_item_id_uid_deepwalk_embedding_64_20', 'uid_item_id_item_id_deepwalk_embedding_20', 'uid_item_id_uid_deepwalk_embedding_64_21', 'uid_item_id_item_id_deepwalk_embedding_21', 'uid_item_id_uid_deepwalk_embedding_64_22', 'uid_item_id_item_id_deepwalk_embedding_22', 'uid_item_id_uid_deepwalk_embedding_64_23', 'uid_item_id_item_id_deepwalk_embedding_23', 'uid_item_id_uid_deepwalk_embedding_64_24', 'uid_item_id_item_id_deepwalk_embedding_24', 'uid_item_id_uid_deepwalk_embedding_64_25', 'uid_item_id_item_id_deepwalk_embedding_25', 'uid_item_id_uid_deepwalk_embedding_64_26', 'uid_item_id_item_id_deepwalk_embedding_26', 'uid_item_id_uid_deepwalk_embedding_64_27', 'uid_item_id_item_id_deepwalk_embedding_27', 'uid_item_id_uid_deepwalk_embedding_64_28', 'uid_item_id_item_id_deepwalk_embedding_28', 'uid_item_id_uid_deepwalk_embedding_64_29', 'uid_item_id_item_id_deepwalk_embedding_29', 'uid_item_id_uid_deepwalk_embedding_64_30', 'uid_item_id_item_id_deepwalk_embedding_30', 'uid_item_id_uid_deepwalk_embedding_64_31', 'uid_item_id_item_id_deepwalk_embedding_31', 'uid_item_id_uid_deepwalk_embedding_64_32', 'uid_item_id_item_id_deepwalk_embedding_32', 'uid_item_id_uid_deepwalk_embedding_64_33', 'uid_item_id_item_id_deepwalk_embedding_33', 'uid_item_id_uid_deepwalk_embedding_64_34', 'uid_item_id_item_id_deepwalk_embedding_34', 'uid_item_id_uid_deepwalk_embedding_64_35', 'uid_item_id_item_id_deepwalk_embedding_35', 'uid_item_id_uid_deepwalk_embedding_64_36', 'uid_item_id_item_id_deepwalk_embedding_36', 'uid_item_id_uid_deepwalk_embedding_64_37', 'uid_item_id_item_id_deepwalk_embedding_37', 'uid_item_id_uid_deepwalk_embedding_64_38', 'uid_item_id_item_id_deepwalk_embedding_38', 'uid_item_id_uid_deepwalk_embedding_64_39', 'uid_item_id_item_id_deepwalk_embedding_39', 'uid_item_id_uid_deepwalk_embedding_64_40', 'uid_item_id_item_id_deepwalk_embedding_40', 'uid_item_id_uid_deepwalk_embedding_64_41', 'uid_item_id_item_id_deepwalk_embedding_41', 'uid_item_id_uid_deepwalk_embedding_64_42', 'uid_item_id_item_id_deepwalk_embedding_42', 'uid_item_id_uid_deepwalk_embedding_64_43', 'uid_item_id_item_id_deepwalk_embedding_43', 'uid_item_id_uid_deepwalk_embedding_64_44', 'uid_item_id_item_id_deepwalk_embedding_44', 'uid_item_id_uid_deepwalk_embedding_64_45', 'uid_item_id_item_id_deepwalk_embedding_45', 'uid_item_id_uid_deepwalk_embedding_64_46', 'uid_item_id_item_id_deepwalk_embedding_46', 'uid_item_id_uid_deepwalk_embedding_64_47', 'uid_item_id_item_id_deepwalk_embedding_47', 'uid_item_id_uid_deepwalk_embedding_64_48', 'uid_item_id_item_id_deepwalk_embedding_48', 'uid_item_id_uid_deepwalk_embedding_64_49', 'uid_item_id_item_id_deepwalk_embedding_49', 'uid_item_id_uid_deepwalk_embedding_64_50', 'uid_item_id_item_id_deepwalk_embedding_50', 'uid_item_id_uid_deepwalk_embedding_64_51', 'uid_item_id_item_id_deepwalk_embedding_51', 'uid_item_id_uid_deepwalk_embedding_64_52', 'uid_item_id_item_id_deepwalk_embedding_52', 'uid_item_id_uid_deepwalk_embedding_64_53', 'uid_item_id_item_id_deepwalk_embedding_53', 'uid_item_id_uid_deepwalk_embedding_64_54', 'uid_item_id_item_id_deepwalk_embedding_54', 'uid_item_id_uid_deepwalk_embedding_64_55', 'uid_item_id_item_id_deepwalk_embedding_55', 'uid_item_id_uid_deepwalk_embedding_64_56', 'uid_item_id_item_id_deepwalk_embedding_56', 'uid_item_id_uid_deepwalk_embedding_64_57', 'uid_item_id_item_id_deepwalk_embedding_57', 'uid_item_id_uid_deepwalk_embedding_64_58', 'uid_item_id_item_id_deepwalk_embedding_58', 'uid_item_id_uid_deepwalk_embedding_64_59', 'uid_item_id_item_id_deepwalk_embedding_59', 'uid_item_id_uid_deepwalk_embedding_64_60', 'uid_item_id_item_id_deepwalk_embedding_60', 'uid_item_id_uid_deepwalk_embedding_64_61', 'uid_item_id_item_id_deepwalk_embedding_61', 'uid_item_id_uid_deepwalk_embedding_64_62', 'uid_item_id_item_id_deepwalk_embedding_62', 'uid_item_id_uid_deepwalk_embedding_64_63', 'uid_item_id_item_id_deepwalk_embedding_63', 'uid_author_id_uid_deepwalk_embedding_64_0', 'uid_author_id_author_id_deepwalk_embedding_0', 'uid_author_id_uid_deepwalk_embedding_64_1', 'uid_author_id_author_id_deepwalk_embedding_1', 'uid_author_id_uid_deepwalk_embedding_64_2', 'uid_author_id_author_id_deepwalk_embedding_2', 'uid_author_id_uid_deepwalk_embedding_64_3', 'uid_author_id_author_id_deepwalk_embedding_3', 'uid_author_id_uid_deepwalk_embedding_64_4', 'uid_author_id_author_id_deepwalk_embedding_4', 'uid_author_id_uid_deepwalk_embedding_64_5', 'uid_author_id_author_id_deepwalk_embedding_5', 'uid_author_id_uid_deepwalk_embedding_64_6', 'uid_author_id_author_id_deepwalk_embedding_6', 'uid_author_id_uid_deepwalk_embedding_64_7', 'uid_author_id_author_id_deepwalk_embedding_7', 'uid_author_id_uid_deepwalk_embedding_64_8', 'uid_author_id_author_id_deepwalk_embedding_8', 'uid_author_id_uid_deepwalk_embedding_64_9', 'uid_author_id_author_id_deepwalk_embedding_9', 'uid_author_id_uid_deepwalk_embedding_64_10', 'uid_author_id_author_id_deepwalk_embedding_10', 'uid_author_id_uid_deepwalk_embedding_64_11', 'uid_author_id_author_id_deepwalk_embedding_11', 'uid_author_id_uid_deepwalk_embedding_64_12', 'uid_author_id_author_id_deepwalk_embedding_12', 'uid_author_id_uid_deepwalk_embedding_64_13', 'uid_author_id_author_id_deepwalk_embedding_13', 'uid_author_id_uid_deepwalk_embedding_64_14', 'uid_author_id_author_id_deepwalk_embedding_14', 'uid_author_id_uid_deepwalk_embedding_64_15', 'uid_author_id_author_id_deepwalk_embedding_15', 'uid_author_id_uid_deepwalk_embedding_64_16', 'uid_author_id_author_id_deepwalk_embedding_16', 'uid_author_id_uid_deepwalk_embedding_64_17', 'uid_author_id_author_id_deepwalk_embedding_17', 'uid_author_id_uid_deepwalk_embedding_64_18', 'uid_author_id_author_id_deepwalk_embedding_18', 'uid_author_id_uid_deepwalk_embedding_64_19', 'uid_author_id_author_id_deepwalk_embedding_19', 'uid_author_id_uid_deepwalk_embedding_64_20', 'uid_author_id_author_id_deepwalk_embedding_20', 'uid_author_id_uid_deepwalk_embedding_64_21', 'uid_author_id_author_id_deepwalk_embedding_21', 'uid_author_id_uid_deepwalk_embedding_64_22', 'uid_author_id_author_id_deepwalk_embedding_22', 'uid_author_id_uid_deepwalk_embedding_64_23', 'uid_author_id_author_id_deepwalk_embedding_23', 'uid_author_id_uid_deepwalk_embedding_64_24', 'uid_author_id_author_id_deepwalk_embedding_24', 'uid_author_id_uid_deepwalk_embedding_64_25', 'uid_author_id_author_id_deepwalk_embedding_25', 'uid_author_id_uid_deepwalk_embedding_64_26', 'uid_author_id_author_id_deepwalk_embedding_26', 'uid_author_id_uid_deepwalk_embedding_64_27', 'uid_author_id_author_id_deepwalk_embedding_27', 'uid_author_id_uid_deepwalk_embedding_64_28', 'uid_author_id_author_id_deepwalk_embedding_28', 'uid_author_id_uid_deepwalk_embedding_64_29', 'uid_author_id_author_id_deepwalk_embedding_29', 'uid_author_id_uid_deepwalk_embedding_64_30', 'uid_author_id_author_id_deepwalk_embedding_30', 'uid_author_id_uid_deepwalk_embedding_64_31', 'uid_author_id_author_id_deepwalk_embedding_31', 'uid_author_id_uid_deepwalk_embedding_64_32', 'uid_author_id_author_id_deepwalk_embedding_32', 'uid_author_id_uid_deepwalk_embedding_64_33', 'uid_author_id_author_id_deepwalk_embedding_33', 'uid_author_id_uid_deepwalk_embedding_64_34', 'uid_author_id_author_id_deepwalk_embedding_34', 'uid_author_id_uid_deepwalk_embedding_64_35', 'uid_author_id_author_id_deepwalk_embedding_35', 'uid_author_id_uid_deepwalk_embedding_64_36', 'uid_author_id_author_id_deepwalk_embedding_36', 'uid_author_id_uid_deepwalk_embedding_64_37', 'uid_author_id_author_id_deepwalk_embedding_37', 'uid_author_id_uid_deepwalk_embedding_64_38', 'uid_author_id_author_id_deepwalk_embedding_38', 'uid_author_id_uid_deepwalk_embedding_64_39', 'uid_author_id_author_id_deepwalk_embedding_39', 'uid_author_id_uid_deepwalk_embedding_64_40', 'uid_author_id_author_id_deepwalk_embedding_40', 'uid_author_id_uid_deepwalk_embedding_64_41', 'uid_author_id_author_id_deepwalk_embedding_41', 'uid_author_id_uid_deepwalk_embedding_64_42', 'uid_author_id_author_id_deepwalk_embedding_42', 'uid_author_id_uid_deepwalk_embedding_64_43', 'uid_author_id_author_id_deepwalk_embedding_43', 'uid_author_id_uid_deepwalk_embedding_64_44', 'uid_author_id_author_id_deepwalk_embedding_44', 'uid_author_id_uid_deepwalk_embedding_64_45', 'uid_author_id_author_id_deepwalk_embedding_45', 'uid_author_id_uid_deepwalk_embedding_64_46', 'uid_author_id_author_id_deepwalk_embedding_46', 'uid_author_id_uid_deepwalk_embedding_64_47', 'uid_author_id_author_id_deepwalk_embedding_47', 'uid_author_id_uid_deepwalk_embedding_64_48', 'uid_author_id_author_id_deepwalk_embedding_48', 'uid_author_id_uid_deepwalk_embedding_64_49', 'uid_author_id_author_id_deepwalk_embedding_49', 'uid_author_id_uid_deepwalk_embedding_64_50', 'uid_author_id_author_id_deepwalk_embedding_50', 'uid_author_id_uid_deepwalk_embedding_64_51', 'uid_author_id_author_id_deepwalk_embedding_51', 'uid_author_id_uid_deepwalk_embedding_64_52', 'uid_author_id_author_id_deepwalk_embedding_52', 'uid_author_id_uid_deepwalk_embedding_64_53', 'uid_author_id_author_id_deepwalk_embedding_53', 'uid_author_id_uid_deepwalk_embedding_64_54', 'uid_author_id_author_id_deepwalk_embedding_54', 'uid_author_id_uid_deepwalk_embedding_64_55', 'uid_author_id_author_id_deepwalk_embedding_55', 'uid_author_id_uid_deepwalk_embedding_64_56', 'uid_author_id_author_id_deepwalk_embedding_56', 'uid_author_id_uid_deepwalk_embedding_64_57', 'uid_author_id_author_id_deepwalk_embedding_57', 'uid_author_id_uid_deepwalk_embedding_64_58', 'uid_author_id_author_id_deepwalk_embedding_58', 'uid_author_id_uid_deepwalk_embedding_64_59', 'uid_author_id_author_id_deepwalk_embedding_59', 'uid_author_id_uid_deepwalk_embedding_64_60', 'uid_author_id_author_id_deepwalk_embedding_60', 'uid_author_id_uid_deepwalk_embedding_64_61', 'uid_author_id_author_id_deepwalk_embedding_61', 'uid_author_id_uid_deepwalk_embedding_64_62', 'uid_author_id_author_id_deepwalk_embedding_62', 'uid_author_id_uid_deepwalk_embedding_64_63', 'uid_author_id_author_id_deepwalk_embedding_63', 'did_item_id_did_deepwalk_embedding_64_0', 'did_item_id_item_id_deepwalk_embedding_0', 'did_item_id_did_deepwalk_embedding_64_1', 'did_item_id_item_id_deepwalk_embedding_1', 'did_item_id_did_deepwalk_embedding_64_2', 'did_item_id_item_id_deepwalk_embedding_2', 'did_item_id_did_deepwalk_embedding_64_3', 'did_item_id_item_id_deepwalk_embedding_3', 'did_item_id_did_deepwalk_embedding_64_4', 'did_item_id_item_id_deepwalk_embedding_4', 'did_item_id_did_deepwalk_embedding_64_5', 'did_item_id_item_id_deepwalk_embedding_5', 'did_item_id_did_deepwalk_embedding_64_6', 'did_item_id_item_id_deepwalk_embedding_6', 'did_item_id_did_deepwalk_embedding_64_7', 'did_item_id_item_id_deepwalk_embedding_7', 'did_item_id_did_deepwalk_embedding_64_8', 'did_item_id_item_id_deepwalk_embedding_8', 'did_item_id_did_deepwalk_embedding_64_9', 'did_item_id_item_id_deepwalk_embedding_9', 'did_item_id_did_deepwalk_embedding_64_10', 'did_item_id_item_id_deepwalk_embedding_10', 'did_item_id_did_deepwalk_embedding_64_11', 'did_item_id_item_id_deepwalk_embedding_11', 'did_item_id_did_deepwalk_embedding_64_12', 'did_item_id_item_id_deepwalk_embedding_12', 'did_item_id_did_deepwalk_embedding_64_13', 'did_item_id_item_id_deepwalk_embedding_13', 'did_item_id_did_deepwalk_embedding_64_14', 'did_item_id_item_id_deepwalk_embedding_14', 'did_item_id_did_deepwalk_embedding_64_15', 'did_item_id_item_id_deepwalk_embedding_15', 'did_item_id_did_deepwalk_embedding_64_16', 'did_item_id_item_id_deepwalk_embedding_16', 'did_item_id_did_deepwalk_embedding_64_17', 'did_item_id_item_id_deepwalk_embedding_17', 'did_item_id_did_deepwalk_embedding_64_18', 'did_item_id_item_id_deepwalk_embedding_18', 'did_item_id_did_deepwalk_embedding_64_19', 'did_item_id_item_id_deepwalk_embedding_19', 'did_item_id_did_deepwalk_embedding_64_20', 'did_item_id_item_id_deepwalk_embedding_20', 'did_item_id_did_deepwalk_embedding_64_21', 'did_item_id_item_id_deepwalk_embedding_21', 'did_item_id_did_deepwalk_embedding_64_22', 'did_item_id_item_id_deepwalk_embedding_22', 'did_item_id_did_deepwalk_embedding_64_23', 'did_item_id_item_id_deepwalk_embedding_23', 'did_item_id_did_deepwalk_embedding_64_24', 'did_item_id_item_id_deepwalk_embedding_24', 'did_item_id_did_deepwalk_embedding_64_25', 'did_item_id_item_id_deepwalk_embedding_25', 'did_item_id_did_deepwalk_embedding_64_26', 'did_item_id_item_id_deepwalk_embedding_26', 'did_item_id_did_deepwalk_embedding_64_27', 'did_item_id_item_id_deepwalk_embedding_27', 'did_item_id_did_deepwalk_embedding_64_28', 'did_item_id_item_id_deepwalk_embedding_28', 'did_item_id_did_deepwalk_embedding_64_29', 'did_item_id_item_id_deepwalk_embedding_29', 'did_item_id_did_deepwalk_embedding_64_30', 'did_item_id_item_id_deepwalk_embedding_30', 'did_item_id_did_deepwalk_embedding_64_31', 'did_item_id_item_id_deepwalk_embedding_31', 'did_item_id_did_deepwalk_embedding_64_32', 'did_item_id_item_id_deepwalk_embedding_32', 'did_item_id_did_deepwalk_embedding_64_33', 'did_item_id_item_id_deepwalk_embedding_33', 'did_item_id_did_deepwalk_embedding_64_34', 'did_item_id_item_id_deepwalk_embedding_34', 'did_item_id_did_deepwalk_embedding_64_35', 'did_item_id_item_id_deepwalk_embedding_35', 'did_item_id_did_deepwalk_embedding_64_36', 'did_item_id_item_id_deepwalk_embedding_36', 'did_item_id_did_deepwalk_embedding_64_37', 'did_item_id_item_id_deepwalk_embedding_37', 'did_item_id_did_deepwalk_embedding_64_38', 'did_item_id_item_id_deepwalk_embedding_38', 'did_item_id_did_deepwalk_embedding_64_39', 'did_item_id_item_id_deepwalk_embedding_39', 'did_item_id_did_deepwalk_embedding_64_40', 'did_item_id_item_id_deepwalk_embedding_40', 'did_item_id_did_deepwalk_embedding_64_41', 'did_item_id_item_id_deepwalk_embedding_41', 'did_item_id_did_deepwalk_embedding_64_42', 'did_item_id_item_id_deepwalk_embedding_42', 'did_item_id_did_deepwalk_embedding_64_43', 'did_item_id_item_id_deepwalk_embedding_43', 'did_item_id_did_deepwalk_embedding_64_44', 'did_item_id_item_id_deepwalk_embedding_44', 'did_item_id_did_deepwalk_embedding_64_45', 'did_item_id_item_id_deepwalk_embedding_45', 'did_item_id_did_deepwalk_embedding_64_46', 'did_item_id_item_id_deepwalk_embedding_46', 'did_item_id_did_deepwalk_embedding_64_47', 'did_item_id_item_id_deepwalk_embedding_47', 'did_item_id_did_deepwalk_embedding_64_48', 'did_item_id_item_id_deepwalk_embedding_48', 'did_item_id_did_deepwalk_embedding_64_49', 'did_item_id_item_id_deepwalk_embedding_49', 'did_item_id_did_deepwalk_embedding_64_50', 'did_item_id_item_id_deepwalk_embedding_50', 'did_item_id_did_deepwalk_embedding_64_51', 'did_item_id_item_id_deepwalk_embedding_51', 'did_item_id_did_deepwalk_embedding_64_52', 'did_item_id_item_id_deepwalk_embedding_52', 'did_item_id_did_deepwalk_embedding_64_53', 'did_item_id_item_id_deepwalk_embedding_53', 'did_item_id_did_deepwalk_embedding_64_54', 'did_item_id_item_id_deepwalk_embedding_54', 'did_item_id_did_deepwalk_embedding_64_55', 'did_item_id_item_id_deepwalk_embedding_55', 'did_item_id_did_deepwalk_embedding_64_56', 'did_item_id_item_id_deepwalk_embedding_56', 'did_item_id_did_deepwalk_embedding_64_57', 'did_item_id_item_id_deepwalk_embedding_57', 'did_item_id_did_deepwalk_embedding_64_58', 'did_item_id_item_id_deepwalk_embedding_58', 'did_item_id_did_deepwalk_embedding_64_59', 'did_item_id_item_id_deepwalk_embedding_59', 'did_item_id_did_deepwalk_embedding_64_60', 'did_item_id_item_id_deepwalk_embedding_60', 'did_item_id_did_deepwalk_embedding_64_61', 'did_item_id_item_id_deepwalk_embedding_61', 'did_item_id_did_deepwalk_embedding_64_62', 'did_item_id_item_id_deepwalk_embedding_62', 'did_item_id_did_deepwalk_embedding_64_63', 'did_item_id_item_id_deepwalk_embedding_63', 'did_author_id_did_deepwalk_embedding_64_0', 'did_author_id_author_id_deepwalk_embedding_0', 'did_author_id_did_deepwalk_embedding_64_1', 'did_author_id_author_id_deepwalk_embedding_1', 'did_author_id_did_deepwalk_embedding_64_2', 'did_author_id_author_id_deepwalk_embedding_2', 'did_author_id_did_deepwalk_embedding_64_3', 'did_author_id_author_id_deepwalk_embedding_3', 'did_author_id_did_deepwalk_embedding_64_4', 'did_author_id_author_id_deepwalk_embedding_4', 'did_author_id_did_deepwalk_embedding_64_5', 'did_author_id_author_id_deepwalk_embedding_5', 'did_author_id_did_deepwalk_embedding_64_6', 'did_author_id_author_id_deepwalk_embedding_6', 'did_author_id_did_deepwalk_embedding_64_7', 'did_author_id_author_id_deepwalk_embedding_7', 'did_author_id_did_deepwalk_embedding_64_8', 'did_author_id_author_id_deepwalk_embedding_8', 'did_author_id_did_deepwalk_embedding_64_9', 'did_author_id_author_id_deepwalk_embedding_9', 'did_author_id_did_deepwalk_embedding_64_10', 'did_author_id_author_id_deepwalk_embedding_10', 'did_author_id_did_deepwalk_embedding_64_11', 'did_author_id_author_id_deepwalk_embedding_11', 'did_author_id_did_deepwalk_embedding_64_12', 'did_author_id_author_id_deepwalk_embedding_12', 'did_author_id_did_deepwalk_embedding_64_13', 'did_author_id_author_id_deepwalk_embedding_13', 'did_author_id_did_deepwalk_embedding_64_14', 'did_author_id_author_id_deepwalk_embedding_14', 'did_author_id_did_deepwalk_embedding_64_15', 'did_author_id_author_id_deepwalk_embedding_15', 'did_author_id_did_deepwalk_embedding_64_16', 'did_author_id_author_id_deepwalk_embedding_16', 'did_author_id_did_deepwalk_embedding_64_17', 'did_author_id_author_id_deepwalk_embedding_17', 'did_author_id_did_deepwalk_embedding_64_18', 'did_author_id_author_id_deepwalk_embedding_18', 'did_author_id_did_deepwalk_embedding_64_19', 'did_author_id_author_id_deepwalk_embedding_19', 'did_author_id_did_deepwalk_embedding_64_20', 'did_author_id_author_id_deepwalk_embedding_20', 'did_author_id_did_deepwalk_embedding_64_21', 'did_author_id_author_id_deepwalk_embedding_21', 'did_author_id_did_deepwalk_embedding_64_22', 'did_author_id_author_id_deepwalk_embedding_22', 'did_author_id_did_deepwalk_embedding_64_23', 'did_author_id_author_id_deepwalk_embedding_23', 'did_author_id_did_deepwalk_embedding_64_24', 'did_author_id_author_id_deepwalk_embedding_24', 'did_author_id_did_deepwalk_embedding_64_25', 'did_author_id_author_id_deepwalk_embedding_25', 'did_author_id_did_deepwalk_embedding_64_26', 'did_author_id_author_id_deepwalk_embedding_26', 'did_author_id_did_deepwalk_embedding_64_27', 'did_author_id_author_id_deepwalk_embedding_27', 'did_author_id_did_deepwalk_embedding_64_28', 'did_author_id_author_id_deepwalk_embedding_28', 'did_author_id_did_deepwalk_embedding_64_29', 'did_author_id_author_id_deepwalk_embedding_29', 'did_author_id_did_deepwalk_embedding_64_30', 'did_author_id_author_id_deepwalk_embedding_30', 'did_author_id_did_deepwalk_embedding_64_31', 'did_author_id_author_id_deepwalk_embedding_31', 'did_author_id_did_deepwalk_embedding_64_32', 'did_author_id_author_id_deepwalk_embedding_32', 'did_author_id_did_deepwalk_embedding_64_33', 'did_author_id_author_id_deepwalk_embedding_33', 'did_author_id_did_deepwalk_embedding_64_34', 'did_author_id_author_id_deepwalk_embedding_34', 'did_author_id_did_deepwalk_embedding_64_35', 'did_author_id_author_id_deepwalk_embedding_35', 'did_author_id_did_deepwalk_embedding_64_36', 'did_author_id_author_id_deepwalk_embedding_36', 'did_author_id_did_deepwalk_embedding_64_37', 'did_author_id_author_id_deepwalk_embedding_37', 'did_author_id_did_deepwalk_embedding_64_38', 'did_author_id_author_id_deepwalk_embedding_38', 'did_author_id_did_deepwalk_embedding_64_39', 'did_author_id_author_id_deepwalk_embedding_39', 'did_author_id_did_deepwalk_embedding_64_40', 'did_author_id_author_id_deepwalk_embedding_40', 'did_author_id_did_deepwalk_embedding_64_41', 'did_author_id_author_id_deepwalk_embedding_41', 'did_author_id_did_deepwalk_embedding_64_42', 'did_author_id_author_id_deepwalk_embedding_42', 'did_author_id_did_deepwalk_embedding_64_43', 'did_author_id_author_id_deepwalk_embedding_43', 'did_author_id_did_deepwalk_embedding_64_44', 'did_author_id_author_id_deepwalk_embedding_44', 'did_author_id_did_deepwalk_embedding_64_45', 'did_author_id_author_id_deepwalk_embedding_45', 'did_author_id_did_deepwalk_embedding_64_46', 'did_author_id_author_id_deepwalk_embedding_46', 'did_author_id_did_deepwalk_embedding_64_47', 'did_author_id_author_id_deepwalk_embedding_47', 'did_author_id_did_deepwalk_embedding_64_48', 'did_author_id_author_id_deepwalk_embedding_48', 'did_author_id_did_deepwalk_embedding_64_49', 'did_author_id_author_id_deepwalk_embedding_49', 'did_author_id_did_deepwalk_embedding_64_50', 'did_author_id_author_id_deepwalk_embedding_50', 'did_author_id_did_deepwalk_embedding_64_51', 'did_author_id_author_id_deepwalk_embedding_51', 'did_author_id_did_deepwalk_embedding_64_52', 'did_author_id_author_id_deepwalk_embedding_52', 'did_author_id_did_deepwalk_embedding_64_53', 'did_author_id_author_id_deepwalk_embedding_53', 'did_author_id_did_deepwalk_embedding_64_54', 'did_author_id_author_id_deepwalk_embedding_54', 'did_author_id_did_deepwalk_embedding_64_55', 'did_author_id_author_id_deepwalk_embedding_55', 'did_author_id_did_deepwalk_embedding_64_56', 'did_author_id_author_id_deepwalk_embedding_56', 'did_author_id_did_deepwalk_embedding_64_57', 'did_author_id_author_id_deepwalk_embedding_57', 'did_author_id_did_deepwalk_embedding_64_58', 'did_author_id_author_id_deepwalk_embedding_58', 'did_author_id_did_deepwalk_embedding_64_59', 'did_author_id_author_id_deepwalk_embedding_59', 'did_author_id_did_deepwalk_embedding_64_60', 'did_author_id_author_id_deepwalk_embedding_60', 'did_author_id_did_deepwalk_embedding_64_61', 'did_author_id_author_id_deepwalk_embedding_61', 'did_author_id_did_deepwalk_embedding_64_62', 'did_author_id_author_id_deepwalk_embedding_62', 'did_author_id_did_deepwalk_embedding_64_63', 'did_author_id_author_id_deepwalk_embedding_63']\n"
     ]
    },
    {
     "name": "stdout",
     "output_type": "stream",
     "text": [
      "  dense_hidden_size=[300]\n",
      "  dropout=0\n",
      "  embedding_features=None\n",
      "  epoch=1\n",
      "  hidden_size=[1024, 512]\n",
      "  infer_batch_size=16384\n",
      "  init_method=tnormal\n",
      "  init_value=0.001\n",
      "  k=16\n",
      "  kv_batch_num=10\n",
      "  kv_features=['uid_did_nunique', 'uid_did_count', 'uid_channel_nunique', 'did_video_duration_min', 'did_video_duration_max', 'did_video_duration_mean', 'did_video_duration_std', 'channel_video_duration_min', 'channel_video_duration_max', 'channel_video_duration_mean', 'channel_video_duration_std', 'uid_item_id_unique_mean', 'uid_author_id_unique_mean', 'uid_channel_unique_mean', 'did_item_id_unique_mean', 'did_author_id_unique_mean', 'did_channel_unique_mean', 'uid_item_id_unique_var', 'uid_author_id_unique_var', 'uid_channel_unique_var', 'did_item_id_unique_var', 'did_author_id_unique_var', 'did_channel_unique_var', 'author_id_title_cont_skew', 'author_id_title_cont_mean', 'author_id_title_cont_std', 'did_title_cont_skew', 'did_title_cont_mean', 'did_title_cont_std', 'uid_channel_title_cont_skew', 'uid_channel_title_cont_mean', 'uid_channel_title_cont_std', 'item_id_uid_nunique', 'item_id_uid_count', 'author_id_item_id_nunique', 'author_id_item_id_count', 'uid_user_city_nunique', 'uid_author_id_nunique', 'channel_user_city_nunique', 'did_video_duration_skew', 'channel_video_duration_skew', 'item_id_pagerank', 'uid_item_id_pagerank', 'uid_author_id_pagerank', 'did_item_id_pagerank', 'did_author_id_pagerank', 'item_id_uid_pagerank', 'item_id_did_pagerank', 'author_id_uid_pagerank', 'author_id_did_pagerank', 'title_mean', 'uid_title_mean_mean', 'uid_title_mean_std', 'uid_title_mean_skew', 'author_id_title_mean_mean', 'author_id_title_mean_std', 'author_id_title_mean_skew', 'did_title_mean_mean', 'did_title_mean_std', 'did_title_mean_skew']\n",
      "  label=finish\n",
      "  learning_rate=0.0002\n",
      "  metric=auc\n",
      "  model=xdeepfm\n",
      "  model_name=xdeepfm\n",
      "  multi_features=['title_keys']\n",
      "  multi_hash_num=1000000\n",
      "  multi_weights=['title_values']\n",
      "  norm=True\n",
      "  num_display_steps=100\n",
      "  optimizer=adam\n",
      "  single_features=['did_finish_positive_num', 'did_finish_negative_num', 'did_all_cont', 'did_day_cont', 'author_id_finish_positive_num', 'author_id_finish_negative_num', 'author_id_all_cont', 'author_id_day_cont', 'item_id_finish_positive_num', 'item_id_finish_negative_num', 'item_id_all_cont', 'item_id_day_cont', 'author_id_did_all_cont', 'author_include_num_of_item', 'author_include_num_of_uid', 'title_cont', 'uid_has_num_of_did', 'uid_channel_nunique', 'did_video_duration_max', 'channel_video_duration_min', 'item_id_uid_nunique']\n",
      "  single_hash_num=5000000\n",
      "  single_k=16\n",
      "  test=True\n"
     ]
    }
   ],
   "source": [
    "hparam=tf.contrib.training.HParams(\n",
    "            model='xdeepfm',\n",
    "            norm=True,\n",
    "            batch_norm_decay=0.9,\n",
    "            hidden_size=[1024,512],\n",
    "            dense_hidden_size=[300],\n",
    "            cross_layer_sizes=[128,128],\n",
    "            k=16,\n",
    "            single_k=16,\n",
    "            cross_hash_num=int(5e6),\n",
    "            single_hash_num=int(5e6),\n",
    "            multi_hash_num=int(1e6),\n",
    "            batch_size=4096,\n",
    "            infer_batch_size=2**14,\n",
    "            optimizer=\"adam\",\n",
    "            dropout=0,\n",
    "            kv_batch_num=10,\n",
    "            learning_rate=0.0002,\n",
    "            num_display_steps=100,\n",
    "            epoch=1, #don't modify\n",
    "            metric='auc',\n",
    "            activation=['relu','relu','relu'],\n",
    "            init_method='tnormal',\n",
    "            cross_activation='relu',\n",
    "            init_value=0.001,\n",
    "            single_features=single_features,\n",
    "            cross_features=cross_features,\n",
    "            multi_features=multi_features,\n",
    "            multi_weights=multi_weights,\n",
    "            dense_features=dense_features,\n",
    "            embedding_features=embedding_features,\n",
    "            kv_features=kv_features,\n",
    "            model_name=\"xdeepfm\",\n",
    "            test=True,\n",
    "            label=label)\n",
    "utils.print_hparams(hparam)"
   ]
  },
  {
   "cell_type": "code",
   "execution_count": 16,
   "metadata": {},
   "outputs": [
    {
     "name": "stdout",
     "output_type": "stream",
     "text": [
      "# Trainable variables\n",
      "  emb_v2_kv:0, (60, 10, 16), \n",
      "  emb_v2_cross:0, (5000000, 16), \n",
      "  emb_v2_multi:0, (1000000, 16), \n",
      "  exfm_part/f_0:0, (1, 49, 128), \n",
      "  exfm_part/f_1:0, (1, 448, 128), \n",
      "  exfm_part/w_nn_output:0, (192, 1), \n",
      "  exfm_part/b_nn_output:0, (1,), \n",
      "  emb_v2_single:0, (5000000, 16), \n",
      "  dense_norm/beta:0, (3310,), \n",
      "  dense_norm/gamma:0, (3310,), \n",
      "  Variable:0, (3310, 1024), \n",
      "  Variable_1:0, (1024, 512), \n",
      "  Variable_2:0, (512, 1), \n",
      "  Variable_3:0, (), \n"
     ]
    }
   ],
   "source": [
    "try:\n",
    "    del model\n",
    "    gc.collect()\n",
    "except:\n",
    "    pass\n",
    "model=ctrNet.build_model(hparam)"
   ]
  },
  {
   "cell_type": "code",
   "execution_count": 17,
   "metadata": {
    "collapsed": true
   },
   "outputs": [],
   "source": [
    "test=pd.read_pickle('data/dev_NN.pkl')"
   ]
  },
  {
   "cell_type": "code",
   "execution_count": 18,
   "metadata": {
    "scrolled": true
   },
   "outputs": [
    {
     "name": "stdout",
     "output_type": "stream",
     "text": [
      "0\n",
      "  epoch 0 step 100 lr 0.0002 logloss 0.620893 gN 0.73, Thu Apr 11 23:54:14 2019\n",
      "  epoch 0 step 200 lr 0.0002 logloss 0.573730 gN 0.33, Thu Apr 11 23:55:15 2019\n",
      "  epoch 0 step 300 lr 0.0002 logloss 0.569610 gN 0.30, Thu Apr 11 23:56:18 2019\n",
      "  epoch 0 step 344 lr 0.0002 logloss 0.566901 gN 0.29, Thu Apr 11 23:56:46 2019\n",
      "1\n",
      "  epoch 0 step 100 lr 0.0002 logloss 0.565601 gN 0.28, Fri Apr 12 00:00:46 2019\n",
      "  epoch 0 step 200 lr 0.0002 logloss 0.562565 gN 0.28, Fri Apr 12 00:01:49 2019\n",
      "  epoch 0 step 300 lr 0.0002 logloss 0.561115 gN 0.27, Fri Apr 12 00:02:51 2019\n",
      "  epoch 0 step 344 lr 0.0002 logloss 0.561256 gN 0.30, Fri Apr 12 00:03:17 2019\n"
     ]
    },
    {
     "name": "stderr",
     "output_type": "stream",
     "text": [
      "100%|██████████| 172/172 [10:35<00:00,  2.68s/it]\n"
     ]
    },
    {
     "name": "stdout",
     "output_type": "stream",
     "text": [
      "# Epcho-time 209.12s Eval AUC 0.731385. Eval logloss 0.581648. Best AUC 0.731385.finish\n",
      "2\n",
      "  epoch 0 step 100 lr 0.0002 logloss 0.561028 gN 0.25, Fri Apr 12 00:24:03 2019\n",
      "  epoch 0 step 200 lr 0.0002 logloss 0.559466 gN 0.26, Fri Apr 12 00:25:08 2019\n",
      "  epoch 0 step 300 lr 0.0002 logloss 0.558210 gN 0.25, Fri Apr 12 00:26:08 2019\n",
      "  epoch 0 step 344 lr 0.0002 logloss 0.556709 gN 0.26, Fri Apr 12 00:26:35 2019\n",
      "3\n",
      "  epoch 0 step 100 lr 0.0002 logloss 0.557441 gN 0.25, Fri Apr 12 00:32:53 2019\n",
      "  epoch 0 step 200 lr 0.0002 logloss 0.557868 gN 0.25, Fri Apr 12 00:33:57 2019\n",
      "  epoch 0 step 300 lr 0.0002 logloss 0.556532 gN 0.24, Fri Apr 12 00:35:02 2019\n",
      "  epoch 0 step 344 lr 0.0002 logloss 0.556607 gN 0.25, Fri Apr 12 00:35:30 2019\n"
     ]
    },
    {
     "name": "stderr",
     "output_type": "stream",
     "text": [
      "100%|██████████| 172/172 [07:16<00:00,  1.94s/it]\n"
     ]
    },
    {
     "name": "stdout",
     "output_type": "stream",
     "text": [
      "# Epcho-time 222.98s Eval AUC 0.734369. Eval logloss 0.579971. Best AUC 0.734369.finish\n",
      "4\n",
      "  epoch 0 step 100 lr 0.0002 logloss 0.556910 gN 0.26, Fri Apr 12 00:52:15 2019\n",
      "  epoch 0 step 200 lr 0.0002 logloss 0.556707 gN 0.23, Fri Apr 12 00:53:20 2019\n",
      "  epoch 0 step 300 lr 0.0002 logloss 0.555991 gN 0.23, Fri Apr 12 00:54:19 2019\n",
      "  epoch 0 step 344 lr 0.0002 logloss 0.556657 gN 0.23, Fri Apr 12 00:54:45 2019\n",
      "5\n",
      "  epoch 0 step 100 lr 0.0002 logloss 0.555261 gN 0.24, Fri Apr 12 01:01:35 2019\n",
      "  epoch 0 step 200 lr 0.0002 logloss 0.554631 gN 0.23, Fri Apr 12 01:02:36 2019\n",
      "  epoch 0 step 300 lr 0.0002 logloss 0.554154 gN 0.23, Fri Apr 12 01:03:37 2019\n",
      "  epoch 0 step 344 lr 0.0002 logloss 0.553422 gN 0.23, Fri Apr 12 01:04:03 2019\n"
     ]
    },
    {
     "name": "stderr",
     "output_type": "stream",
     "text": [
      "100%|██████████| 172/172 [07:44<00:00,  2.23s/it]\n"
     ]
    },
    {
     "name": "stdout",
     "output_type": "stream",
     "text": [
      "# Epcho-time 219.00s Eval AUC 0.737472. Eval logloss 0.577132. Best AUC 0.737472.finish\n",
      "6\n",
      "  epoch 0 step 100 lr 0.0002 logloss 0.554804 gN 0.25, Fri Apr 12 01:20:33 2019\n",
      "  epoch 0 step 200 lr 0.0002 logloss 0.555086 gN 0.20, Fri Apr 12 01:21:38 2019\n",
      "  epoch 0 step 300 lr 0.0002 logloss 0.553090 gN 0.21, Fri Apr 12 01:22:43 2019\n",
      "  epoch 0 step 344 lr 0.0002 logloss 0.553014 gN 0.22, Fri Apr 12 01:23:11 2019\n",
      "7\n",
      "  epoch 0 step 100 lr 0.0002 logloss 0.552915 gN 0.22, Fri Apr 12 01:29:45 2019\n",
      "  epoch 0 step 200 lr 0.0002 logloss 0.552988 gN 0.21, Fri Apr 12 01:30:52 2019\n",
      "  epoch 0 step 300 lr 0.0002 logloss 0.552444 gN 0.20, Fri Apr 12 01:32:00 2019\n",
      "  epoch 0 step 344 lr 0.0002 logloss 0.552817 gN 0.20, Fri Apr 12 01:32:28 2019\n"
     ]
    },
    {
     "name": "stderr",
     "output_type": "stream",
     "text": [
      "100%|██████████| 172/172 [07:38<00:00,  2.35s/it]\n"
     ]
    },
    {
     "name": "stdout",
     "output_type": "stream",
     "text": [
      "# Epcho-time 226.39s Eval AUC 0.735525. Eval logloss 0.578124. Best AUC 0.737472.finish\n",
      "8\n",
      "  epoch 0 step 100 lr 0.0002 logloss 0.553853 gN 0.21, Fri Apr 12 01:48:32 2019\n",
      "  epoch 0 step 200 lr 0.0002 logloss 0.553521 gN 0.22, Fri Apr 12 01:49:34 2019\n",
      "  epoch 0 step 300 lr 0.0002 logloss 0.551603 gN 0.20, Fri Apr 12 01:50:33 2019\n",
      "  epoch 0 step 344 lr 0.0002 logloss 0.551680 gN 0.21, Fri Apr 12 01:50:59 2019\n",
      "9\n",
      "  epoch 0 step 100 lr 0.0002 logloss 0.552320 gN 0.19, Fri Apr 12 01:56:15 2019\n",
      "  epoch 0 step 200 lr 0.0002 logloss 0.550993 gN 0.19, Fri Apr 12 01:57:23 2019\n",
      "  epoch 0 step 300 lr 0.0002 logloss 0.552960 gN 0.20, Fri Apr 12 01:58:26 2019\n",
      "  epoch 0 step 344 lr 0.0002 logloss 0.550304 gN 0.19, Fri Apr 12 01:58:51 2019\n"
     ]
    },
    {
     "name": "stderr",
     "output_type": "stream",
     "text": [
      "100%|██████████| 172/172 [08:31<00:00,  2.13s/it]\n"
     ]
    },
    {
     "name": "stdout",
     "output_type": "stream",
     "text": [
      "# Epcho-time 219.75s Eval AUC 0.738744. Eval logloss 0.576201. Best AUC 0.738744.finish\n"
     ]
    }
   ],
   "source": [
    "k=10\n",
    "for i in range(k):\n",
    "    print(i)\n",
    "    train=pd.read_pickle('data/train_dev_NN_'+str(i)+'.pkl')\n",
    "    if (i+1)%2==0:\n",
    "        model.train(train,test)\n",
    "    else:\n",
    "        model.train(train,None)"
   ]
  },
  {
   "cell_type": "raw",
   "metadata": {},
   "source": [
    "\n",
    "\n",
    "0\n",
    "  epoch 0 step 100 lr 0.0002 logloss 0.621310 gN 0.73, Sun Apr  7 11:29:50 2019\n",
    "  epoch 0 step 200 lr 0.0002 logloss 0.573603 gN 0.31, Sun Apr  7 11:31:25 2019\n",
    "  epoch 0 step 300 lr 0.0002 logloss 0.569552 gN 0.29, Sun Apr  7 11:32:51 2019\n",
    "  epoch 0 step 344 lr 0.0002 logloss 0.566963 gN 0.29, Sun Apr  7 11:33:28 2019\n",
    "1\n",
    "  epoch 0 step 100 lr 0.0002 logloss 0.565501 gN 0.27, Sun Apr  7 11:37:02 2019\n",
    "  epoch 0 step 200 lr 0.0002 logloss 0.562032 gN 0.28, Sun Apr  7 11:38:29 2019\n",
    "  epoch 0 step 300 lr 0.0002 logloss 0.560862 gN 0.26, Sun Apr  7 11:40:03 2019\n",
    "  epoch 0 step 344 lr 0.0002 logloss 0.560641 gN 0.29, Sun Apr  7 11:40:44 2019\n",
    "\n",
    "100%|██████████| 172/172 [07:21<00:00,  1.80s/it]\n",
    "\n",
    "# Epcho-time 311.59s Eval AUC 0.731732. Eval logloss 0.581360. Best AUC 0.731732.finish\n",
    "2\n",
    "  epoch 0 step 100 lr 0.0002 logloss 0.560668 gN 0.24, Sun Apr  7 12:05:14 2019\n",
    "  epoch 0 step 200 lr 0.0002 logloss 0.559210 gN 0.26, Sun Apr  7 12:06:47 2019\n",
    "  epoch 0 step 300 lr 0.0002 logloss 0.557912 gN 0.24, Sun Apr  7 12:07:58 2019\n",
    "  epoch 0 step 344 lr 0.0002 logloss 0.556276 gN 0.26, Sun Apr  7 12:08:29 2019\n",
    "3\n",
    "  epoch 0 step 100 lr 0.0002 logloss 0.557381 gN 0.25, Sun Apr  7 12:14:34 2019\n",
    "  epoch 0 step 200 lr 0.0002 logloss 0.557168 gN 0.24, Sun Apr  7 12:16:35 2019\n",
    "  epoch 0 step 300 lr 0.0002 logloss 0.556261 gN 0.24, Sun Apr  7 12:18:28 2019\n",
    "  epoch 0 step 344 lr 0.0002 logloss 0.555839 gN 0.26, Sun Apr  7 12:18:56 2019\n",
    "\n",
    "100%|██████████| 172/172 [10:47<00:00,  2.82s/it]\n",
    "\n",
    "# Epcho-time 392.34s Eval AUC 0.734734. Eval logloss 0.579644. Best AUC 0.734734.finish\n",
    "4\n",
    "  epoch 0 step 100 lr 0.0002 logloss 0.556418 gN 0.26, Sun Apr  7 12:38:00 2019\n",
    "  epoch 0 step 200 lr 0.0002 logloss 0.556410 gN 0.23, Sun Apr  7 12:39:12 2019\n",
    "  epoch 0 step 300 lr 0.0002 logloss 0.555129 gN 0.23, Sun Apr  7 12:40:26 2019\n",
    "  epoch 0 step 344 lr 0.0002 logloss 0.555715 gN 0.24, Sun Apr  7 12:40:58 2019\n",
    "5\n",
    "  epoch 0 step 100 lr 0.0002 logloss 0.554693 gN 0.25, Sun Apr  7 12:49:25 2019\n",
    "  epoch 0 step 200 lr 0.0002 logloss 0.553713 gN 0.23, Sun Apr  7 12:50:36 2019\n",
    "  epoch 0 step 300 lr 0.0002 logloss 0.553459 gN 0.23, Sun Apr  7 12:51:47 2019\n",
    "  epoch 0 step 344 lr 0.0002 logloss 0.552636 gN 0.23, Sun Apr  7 12:52:17 2019\n",
    "\n",
    "100%|██████████| 172/172 [06:00<00:00,  1.58s/it]\n",
    "\n",
    "# Epcho-time 267.12s Eval AUC 0.738544. Eval logloss 0.576137. Best AUC 0.738544.finish\n",
    "6\n",
    "  epoch 0 step 100 lr 0.0002 logloss 0.554008 gN 0.25, Sun Apr  7 13:11:45 2019\n",
    "  epoch 0 step 200 lr 0.0002 logloss 0.554201 gN 0.20, Sun Apr  7 13:13:20 2019\n",
    "  epoch 0 step 300 lr 0.0002 logloss 0.552043 gN 0.21, Sun Apr  7 13:15:08 2019\n",
    "  epoch 0 step 344 lr 0.0002 logloss 0.552011 gN 0.23, Sun Apr  7 13:16:02 2019\n",
    "7\n",
    "  epoch 0 step 100 lr 0.0002 logloss 0.552183 gN 0.23, Sun Apr  7 13:23:51 2019\n",
    "  epoch 0 step 200 lr 0.0002 logloss 0.551919 gN 0.21, Sun Apr  7 13:25:07 2019\n",
    "  epoch 0 step 300 lr 0.0002 logloss 0.551249 gN 0.21, Sun Apr  7 13:26:22 2019\n",
    "  epoch 0 step 344 lr 0.0002 logloss 0.551331 gN 0.21, Sun Apr  7 13:26:53 2019\n",
    "\n",
    "100%|██████████| 172/172 [06:50<00:00,  1.58s/it]\n",
    "\n",
    "# Epcho-time 258.84s Eval AUC 0.737146. Eval logloss 0.576665. Best AUC 0.738544.finish\n",
    "8\n",
    "  epoch 0 step 100 lr 0.0002 logloss 0.553148 gN 0.22, Sun Apr  7 13:51:21 2019\n",
    "  epoch 0 step 200 lr 0.0002 logloss 0.552559 gN 0.23, Sun Apr  7 13:52:26 2019\n",
    "  epoch 0 step 300 lr 0.0002 logloss 0.550286 gN 0.20, Sun Apr  7 13:53:30 2019\n",
    "  epoch 0 step 344 lr 0.0002 logloss 0.550440 gN 0.22, Sun Apr  7 13:53:57 2019\n",
    "9\n",
    "  epoch 0 step 100 lr 0.0002 logloss 0.551000 gN 0.19, Sun Apr  7 14:02:43 2019\n",
    "  epoch 0 step 200 lr 0.0002 logloss 0.549444 gN 0.19, Sun Apr  7 14:04:41 2019\n",
    "  epoch 0 step 300 lr 0.0002 logloss 0.551640 gN 0.21, Sun Apr  7 14:06:33 2019\n",
    "  epoch 0 step 344 lr 0.0002 logloss 0.548741 gN 0.19, Sun Apr  7 14:07:16 2019\n",
    "\n",
    "100%|██████████| 172/172 [09:02<00:00,  2.69s/it]\n",
    "\n",
    "# Epcho-time 384.25s Eval AUC 0.739711. Eval logloss 0.575404. Best AUC 0.739711.finish"
   ]
  },
  {
   "cell_type": "code",
   "execution_count": null,
   "metadata": {},
   "outputs": [
    {
     "name": "stdout",
     "output_type": "stream",
     "text": [
      "Dev Inference:\n"
     ]
    },
    {
     "name": "stderr",
     "output_type": "stream",
     "text": [
      "100%|██████████| 172/172 [13:42<00:00,  2.97s/it]\n"
     ]
    },
    {
     "name": "stdout",
     "output_type": "stream",
     "text": [
      "finish 0.739663\n"
     ]
    },
    {
     "data": {
      "text/plain": [
       "91"
      ]
     },
     "execution_count": 7,
     "metadata": {},
     "output_type": "execute_result"
    }
   ],
   "source": [
    "print(\"Dev Inference:\")\n",
    "preds=model.infer(test)\n",
    "test[hparam.label+'_probability']=preds.round(6) \n",
    "fpr, tpr, thresholds = metrics.roc_curve(test[hparam.label]+1, test[hparam.label+'_probability'], pos_label=2)\n",
    "auc=metrics.auc(fpr, tpr)\n",
    "print(hparam.label,round(auc,6))\n",
    "score=str(round(auc,6))\n",
    "del train\n",
    "del test\n",
    "gc.collect()"
   ]
  },
  {
   "cell_type": "code",
   "execution_count": null,
   "metadata": {},
   "outputs": [
    {
     "name": "stdout",
     "output_type": "stream",
     "text": [
      "Fold 0\n",
      "# Trainable variables\n",
      "  emb_v2_kv:0, (60, 10, 16), \n",
      "  emb_v2_cross:0, (5000000, 16), \n",
      "  emb_v2_multi:0, (1000000, 16), \n",
      "  exfm_part/f_0:0, (1, 144, 128), \n",
      "  exfm_part/f_1:0, (1, 768, 128), \n",
      "  exfm_part/w_nn_output:0, (192, 1), \n",
      "  exfm_part/b_nn_output:0, (1,), \n",
      "  emb_v2_single:0, (5000000, 16), \n",
      "  dense_norm/beta:0, (3774,), \n",
      "  dense_norm/gamma:0, (3774,), \n",
      "  Variable:0, (3774, 1024), \n",
      "  Variable_1:0, (1024, 512), \n",
      "  Variable_2:0, (512, 1), \n",
      "  Variable_3:0, (), \n",
      "0 9\n",
      "  epoch 0 step 100 lr 0.0002 logloss 0.617777 gN 0.74, Sun Apr  7 14:55:57 2019\n",
      "  epoch 0 step 200 lr 0.0002 logloss 0.573083 gN 0.32, Sun Apr  7 14:58:06 2019\n",
      "  epoch 0 step 300 lr 0.0002 logloss 0.568884 gN 0.32, Sun Apr  7 14:59:34 2019\n",
      "  epoch 0 step 400 lr 0.0002 logloss 0.565814 gN 0.30, Sun Apr  7 15:01:06 2019\n",
      "  epoch 0 step 481 lr 0.0002 logloss 0.565630 gN 0.30, Sun Apr  7 15:02:44 2019\n",
      "1 7\n",
      "  epoch 0 step 100 lr 0.0002 logloss 0.562404 gN 0.26, Sun Apr  7 15:15:48 2019\n",
      "  epoch 0 step 200 lr 0.0002 logloss 0.562291 gN 0.28, Sun Apr  7 15:17:01 2019\n",
      "  epoch 0 step 300 lr 0.0002 logloss 0.559696 gN 0.28, Sun Apr  7 15:18:18 2019\n",
      "  epoch 0 step 400 lr 0.0002 logloss 0.560095 gN 0.26, Sun Apr  7 15:19:47 2019\n",
      "  epoch 0 step 481 lr 0.0002 logloss 0.558060 gN 0.27, Sun Apr  7 15:21:28 2019\n",
      "2 0\n",
      "  epoch 0 step 100 lr 0.0002 logloss 0.558353 gN 0.26, Sun Apr  7 15:35:59 2019\n",
      "  epoch 0 step 200 lr 0.0002 logloss 0.557967 gN 0.26, Sun Apr  7 15:37:28 2019\n",
      "  epoch 0 step 300 lr 0.0002 logloss 0.557617 gN 0.25, Sun Apr  7 15:38:41 2019\n",
      "  epoch 0 step 400 lr 0.0002 logloss 0.556932 gN 0.25, Sun Apr  7 15:39:57 2019\n",
      "  epoch 0 step 481 lr 0.0002 logloss 0.556883 gN 0.24, Sun Apr  7 15:40:54 2019\n",
      "3 5\n",
      "  epoch 0 step 100 lr 0.0002 logloss 0.558087 gN 0.26, Sun Apr  7 15:55:32 2019\n",
      "  epoch 0 step 200 lr 0.0002 logloss 0.555020 gN 0.24, Sun Apr  7 15:56:53 2019\n",
      "  epoch 0 step 300 lr 0.0002 logloss 0.555315 gN 0.23, Sun Apr  7 15:59:12 2019\n",
      "  epoch 0 step 400 lr 0.0002 logloss 0.555579 gN 0.22, Sun Apr  7 16:01:31 2019\n",
      "  epoch 0 step 481 lr 0.0002 logloss 0.553995 gN 0.24, Sun Apr  7 16:03:09 2019\n",
      "4 2\n",
      "  epoch 0 step 100 lr 0.0002 logloss 0.554466 gN 0.22, Sun Apr  7 16:23:35 2019\n",
      "  epoch 0 step 200 lr 0.0002 logloss 0.555492 gN 0.25, Sun Apr  7 16:25:08 2019\n",
      "  epoch 0 step 300 lr 0.0002 logloss 0.553383 gN 0.23, Sun Apr  7 16:26:19 2019\n",
      "  epoch 0 step 400 lr 0.0002 logloss 0.552856 gN 0.21, Sun Apr  7 16:27:30 2019\n",
      "  epoch 0 step 481 lr 0.0002 logloss 0.554120 gN 0.22, Sun Apr  7 16:28:29 2019\n",
      "5 3\n",
      "  epoch 0 step 100 lr 0.0002 logloss 0.553512 gN 0.23, Sun Apr  7 16:39:56 2019\n",
      "  epoch 0 step 200 lr 0.0002 logloss 0.551803 gN 0.21, Sun Apr  7 16:41:47 2019\n",
      "  epoch 0 step 300 lr 0.0002 logloss 0.551492 gN 0.22, Sun Apr  7 16:43:13 2019\n",
      "  epoch 0 step 400 lr 0.0002 logloss 0.551987 gN 0.20, Sun Apr  7 16:44:26 2019\n",
      "  epoch 0 step 481 lr 0.0002 logloss 0.551710 gN 0.20, Sun Apr  7 16:45:24 2019\n",
      "6 8\n",
      "  epoch 0 step 100 lr 0.0002 logloss 0.552211 gN 0.21, Sun Apr  7 17:01:56 2019\n",
      "  epoch 0 step 200 lr 0.0002 logloss 0.551709 gN 0.21, Sun Apr  7 17:04:01 2019\n",
      "  epoch 0 step 300 lr 0.0002 logloss 0.550952 gN 0.21, Sun Apr  7 17:05:53 2019\n",
      "  epoch 0 step 400 lr 0.0002 logloss 0.551151 gN 0.21, Sun Apr  7 17:07:07 2019\n",
      "  epoch 0 step 481 lr 0.0002 logloss 0.548686 gN 0.21, Sun Apr  7 17:08:03 2019\n",
      "7 4\n",
      "  epoch 0 step 100 lr 0.0002 logloss 0.550493 gN 0.20, Sun Apr  7 17:24:05 2019\n",
      "  epoch 0 step 200 lr 0.0002 logloss 0.551357 gN 0.19, Sun Apr  7 17:25:32 2019\n",
      "  epoch 0 step 300 lr 0.0002 logloss 0.550305 gN 0.21, Sun Apr  7 17:26:46 2019\n",
      "  epoch 0 step 400 lr 0.0002 logloss 0.550122 gN 0.18, Sun Apr  7 17:27:59 2019\n",
      "  epoch 0 step 481 lr 0.0002 logloss 0.549306 gN 0.22, Sun Apr  7 17:28:58 2019\n",
      "8 1\n",
      "  epoch 0 step 100 lr 0.0002 logloss 0.550424 gN 0.20, Sun Apr  7 17:44:01 2019\n",
      "  epoch 0 step 200 lr 0.0002 logloss 0.548646 gN 0.21, Sun Apr  7 17:45:33 2019\n",
      "  epoch 0 step 300 lr 0.0002 logloss 0.548607 gN 0.22, Sun Apr  7 17:46:44 2019\n",
      "  epoch 0 step 400 lr 0.0002 logloss 0.546641 gN 0.18, Sun Apr  7 17:47:56 2019\n",
      "  epoch 0 step 481 lr 0.0002 logloss 0.547716 gN 0.19, Sun Apr  7 17:48:53 2019\n",
      "9 6\n"
     ]
    }
   ],
   "source": [
    "test=pd.read_pickle(\"data/test_NN.pkl\")    \n",
    "index=list(range(10))\n",
    "for i in range(5):\n",
    "    print(\"Fold\",i)\n",
    "    random.shuffle(index)\n",
    "    model=ctrNet.build_model(hparam)\n",
    "    for idx,k in enumerate(index):\n",
    "        print(idx,k)\n",
    "        train=pd.read_pickle('data/train_NN_'+str(k)+'.pkl')\n",
    "        model.train(train,None)\n",
    "    print(\"Test Inference:\")   \n",
    "    if i==0:\n",
    "        preds=model.infer(test)/5\n",
    "        temp=preds*5\n",
    "        test[hparam.label+'_probability']=temp.round(6)\n",
    "    else:\n",
    "        preds+=model.infer(test)/5\n",
    "        temp=preds*5/(i+1)\n",
    "        test[hparam.label+'_probability']=temp.round(6)\n",
    "    test[['uid','item_id',hparam.label+'_probability']].to_csv('submission/'+hparam.label+'/'+\\\n",
    "                                                           hparam.model+'_'+score+'_'+str(i)+'.csv',index=False)\n",
    "\n",
    "\n",
    "\n",
    "test[hparam.label+'_probability']=preds.round(6)\n",
    "try:\n",
    "    os.mkdir('submission')\n",
    "except:\n",
    "    pass\n",
    "try:\n",
    "    os.mkdir('submission/'+hparam.label)\n",
    "except:\n",
    "    pass\n",
    "test[['uid','item_id',hparam.label+'_probability']].to_csv('submission/'+hparam.label+'/'+\\\n",
    "                                                           hparam.model+'_'+score+'.csv',index=False)\n",
    "print(test[hparam.label+'_probability'].mean())"
   ]
  },
  {
   "cell_type": "code",
   "execution_count": null,
   "metadata": {
    "collapsed": true
   },
   "outputs": [],
   "source": [
    "score"
   ]
  },
  {
   "cell_type": "code",
   "execution_count": null,
   "metadata": {
    "collapsed": true
   },
   "outputs": [],
   "source": [
    "score"
   ]
  },
  {
   "cell_type": "code",
   "execution_count": null,
   "metadata": {
    "collapsed": true
   },
   "outputs": [],
   "source": []
  }
 ],
 "metadata": {
  "kernelspec": {
   "display_name": "Python 3",
   "language": "python",
   "name": "python3"
  },
  "language_info": {
   "codemirror_mode": {
    "name": "ipython",
    "version": 3
   },
   "file_extension": ".py",
   "mimetype": "text/x-python",
   "name": "python",
   "nbconvert_exporter": "python",
   "pygments_lexer": "ipython3",
   "version": "3.6.7"
  }
 },
 "nbformat": 4,
 "nbformat_minor": 2
}
