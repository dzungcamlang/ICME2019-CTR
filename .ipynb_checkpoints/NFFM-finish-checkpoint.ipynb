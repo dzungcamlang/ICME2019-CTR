{
 "cells": [
  {
   "cell_type": "code",
   "execution_count": 1,
   "metadata": {
    "collapsed": true
   },
   "outputs": [],
   "source": [
    "import numpy as np\n",
    "import pandas as pd\n",
    "import ctrNet\n",
    "import tensorflow as tf\n",
    "from src import misc_utils as utils\n",
    "import os\n",
    "import gc\n",
    "from sklearn import metrics\n",
    "import random\n",
    "np.random.seed(2019)\n",
    "os.environ[\"CUDA_DEVICE_ORDER\"]='PCI_BUS_ID'\n",
    "os.environ[\"CUDA_VISIBLE_DEVICES\"]='7'"
   ]
  },
  {
   "cell_type": "code",
   "execution_count": 2,
   "metadata": {
    "collapsed": true
   },
   "outputs": [],
   "source": [
    "label='finish'\n",
    "\n",
    "single_features=['did_finish_positive_num', 'did_finish_negative_num','did_all_cont','did_day_cont','author_id_finish_positive_num', 'author_id_finish_negative_num',\n",
    "                'author_id_all_cont','author_id_day_cont','item_id_finish_positive_num', 'item_id_finish_negative_num',\n",
    "                'item_id_all_cont','item_id_day_cont','author_id_did_all_cont','author_include_num_of_item','author_include_num_of_uid',\n",
    "                'title_cont','uid_has_num_of_did','uid_channel_nunique','did_video_duration_max','channel_video_duration_min',\n",
    "                'item_id_uid_nunique',]\n",
    "cross_features=['uid','user_city','item_id','author_id','item_city','channel','music_id','did','video_duration','did_day_cont','author_id_did_all_cont']\n",
    "embedding_features=None\n",
    "multi_features=['title_keys']\n",
    "multi_weights=['title_values']\n",
    "dense_features=['audio_embedding_'+str(i) for i in range(64)]+['video_embedding_'+str(i) for i in range(32)]+['author_id_embedding_128_'+str(i) for i in range(128)]+\\\n",
    "                ['uid_embedding_128_'+str(i) for i in range(128)]+['did_embedding_128_'+str(i) for i in range(128)]\n",
    "dense_features+=['beauty_min','did_finish_rate','author_id_finish_rate','item_id_finish_rate','title_mean_rate_finish','title_max_rate_finish','title_min_rate_finish'] \n",
    "kv_features=['uid_did_nunique', 'uid_did_count', 'uid_channel_nunique', 'did_video_duration_min', \n",
    "                        'did_video_duration_max', 'did_video_duration_mean', 'did_video_duration_std', \n",
    "                        'channel_video_duration_min', 'channel_video_duration_max', 'channel_video_duration_mean', \n",
    "                        'channel_video_duration_std', 'uid_item_id_unique_mean', 'uid_author_id_unique_mean', \n",
    "                        'uid_channel_unique_mean', 'did_item_id_unique_mean', 'did_author_id_unique_mean', \n",
    "                        'did_channel_unique_mean', 'uid_item_id_unique_var', 'uid_author_id_unique_var', \n",
    "                        'uid_channel_unique_var', 'did_item_id_unique_var', 'did_author_id_unique_var', \n",
    "                        'did_channel_unique_var', 'author_id_title_cont_skew', 'author_id_title_cont_mean', \n",
    "                        'author_id_title_cont_std', 'did_title_cont_skew', 'did_title_cont_mean', \n",
    "                        'did_title_cont_std', 'uid_channel_title_cont_skew', 'uid_channel_title_cont_mean', \n",
    "                        'uid_channel_title_cont_std', 'item_id_uid_nunique', 'item_id_uid_count', \n",
    "                        'author_id_item_id_nunique', 'author_id_item_id_count', 'uid_user_city_nunique', \n",
    "                        'uid_author_id_nunique', 'channel_user_city_nunique', 'did_video_duration_skew', \n",
    "                        'channel_video_duration_skew',  'item_id_pagerank', 'uid_item_id_pagerank', \n",
    "                        'uid_author_id_pagerank', 'did_item_id_pagerank', 'did_author_id_pagerank',\n",
    "                        'item_id_uid_pagerank', 'item_id_did_pagerank', 'author_id_uid_pagerank', \n",
    "                        'author_id_did_pagerank', 'title_mean', 'uid_title_mean_mean', \n",
    "                        'uid_title_mean_std', 'uid_title_mean_skew', 'author_id_title_mean_mean', \n",
    "                        'author_id_title_mean_std', 'author_id_title_mean_skew', 'did_title_mean_mean', \n",
    "                        'did_title_mean_std', 'did_title_mean_skew']\n",
    "dense_features+=[\"user_music_id_\"+str(i) for i in range(128)]+[\"user_item_id_\"+str(i) for i in range(128)]+[\"user_did_\"+str(i) for i in range(128)]+[\"user_author_id_\"+str(i) for i in range(128)]\n",
    "dense_features+=[\"item_author_id_\"+str(i) for i in range(64)]+[\"item_music_id_\"+str(i) for i in range(64)]+[\"item_did_\"+str(i) for i in range(64)]+[\"item_uid_\"+str(i) for i in range(64)]\n",
    "dense_features+=[\"did_author_id_\"+str(i) for i in range(64)]+[\"did_music_id_\"+str(i) for i in range(64)]+[\"did_item_id_\"+str(i) for i in range(64)]+[\"did_uid_\"+str(i) for i in range(64)]\n",
    "dense_features+=[\"author_did_\"+str(i) for i in range(64)]+[\"author_uid_\"+str(i) for i in range(64)]+[\"author_music_id_\"+str(i) for i in range(64)]+[\"author_item_id_\"+str(i) for i in range(64)]\n",
    "for f1,f2 in [('uid','item_id'),('uid','author_id'),('did','item_id'),('did','author_id')]:\n",
    "    for i in range(64):\n",
    "        dense_features.append(f1+'_'+ f2+'_'+f1+'_deepwalk_embedding_64_'+str(i))\n",
    "        dense_features.append(f1+'_'+ f2+'_'+f2+'_deepwalk_embedding_'+str(i))"
   ]
  },
  {
   "cell_type": "code",
   "execution_count": 3,
   "metadata": {},
   "outputs": [
    {
     "name": "stdout",
     "output_type": "stream",
     "text": [
      "  activation=['relu', 'relu', 'relu']\n",
      "  batch_norm_decay=0.9\n",
      "  batch_size=4096\n",
      "  cross_activation=relu\n",
      "  cross_features=['uid', 'user_city', 'item_id', 'author_id', 'item_city', 'channel', 'music_id', 'did', 'video_duration', 'did_day_cont', 'author_id_did_all_cont']\n",
      "  cross_hash_num=500000\n",
      "  cross_layer_sizes=[128, 128]\n",
      "  dense_features=['audio_embedding_0', 'audio_embedding_1', 'audio_embedding_2', 'audio_embedding_3', 'audio_embedding_4', 'audio_embedding_5', 'audio_embedding_6', 'audio_embedding_7', 'audio_embedding_8', 'audio_embedding_9', 'audio_embedding_10', 'audio_embedding_11', 'audio_embedding_12', 'audio_embedding_13', 'audio_embedding_14', 'audio_embedding_15', 'audio_embedding_16', 'audio_embedding_17', 'audio_embedding_18', 'audio_embedding_19', 'audio_embedding_20', 'audio_embedding_21', 'audio_embedding_22', 'audio_embedding_23', 'audio_embedding_24', 'audio_embedding_25', 'audio_embedding_26', 'audio_embedding_27', 'audio_embedding_28', 'audio_embedding_29', 'audio_embedding_30', 'audio_embedding_31', 'audio_embedding_32', 'audio_embedding_33', 'audio_embedding_34', 'audio_embedding_35', 'audio_embedding_36', 'audio_embedding_37', 'audio_embedding_38', 'audio_embedding_39', 'audio_embedding_40', 'audio_embedding_41', 'audio_embedding_42', 'audio_embedding_43', 'audio_embedding_44', 'audio_embedding_45', 'audio_embedding_46', 'audio_embedding_47', 'audio_embedding_48', 'audio_embedding_49', 'audio_embedding_50', 'audio_embedding_51', 'audio_embedding_52', 'audio_embedding_53', 'audio_embedding_54', 'audio_embedding_55', 'audio_embedding_56', 'audio_embedding_57', 'audio_embedding_58', 'audio_embedding_59', 'audio_embedding_60', 'audio_embedding_61', 'audio_embedding_62', 'audio_embedding_63', 'video_embedding_0', 'video_embedding_1', 'video_embedding_2', 'video_embedding_3', 'video_embedding_4', 'video_embedding_5', 'video_embedding_6', 'video_embedding_7', 'video_embedding_8', 'video_embedding_9', 'video_embedding_10', 'video_embedding_11', 'video_embedding_12', 'video_embedding_13', 'video_embedding_14', 'video_embedding_15', 'video_embedding_16', 'video_embedding_17', 'video_embedding_18', 'video_embedding_19', 'video_embedding_20', 'video_embedding_21', 'video_embedding_22', 'video_embedding_23', 'video_embedding_24', 'video_embedding_25', 'video_embedding_26', 'video_embedding_27', 'video_embedding_28', 'video_embedding_29', 'video_embedding_30', 'video_embedding_31', 'author_id_embedding_128_0', 'author_id_embedding_128_1', 'author_id_embedding_128_2', 'author_id_embedding_128_3', 'author_id_embedding_128_4', 'author_id_embedding_128_5', 'author_id_embedding_128_6', 'author_id_embedding_128_7', 'author_id_embedding_128_8', 'author_id_embedding_128_9', 'author_id_embedding_128_10', 'author_id_embedding_128_11', 'author_id_embedding_128_12', 'author_id_embedding_128_13', 'author_id_embedding_128_14', 'author_id_embedding_128_15', 'author_id_embedding_128_16', 'author_id_embedding_128_17', 'author_id_embedding_128_18', 'author_id_embedding_128_19', 'author_id_embedding_128_20', 'author_id_embedding_128_21', 'author_id_embedding_128_22', 'author_id_embedding_128_23', 'author_id_embedding_128_24', 'author_id_embedding_128_25', 'author_id_embedding_128_26', 'author_id_embedding_128_27', 'author_id_embedding_128_28', 'author_id_embedding_128_29', 'author_id_embedding_128_30', 'author_id_embedding_128_31', 'author_id_embedding_128_32', 'author_id_embedding_128_33', 'author_id_embedding_128_34', 'author_id_embedding_128_35', 'author_id_embedding_128_36', 'author_id_embedding_128_37', 'author_id_embedding_128_38', 'author_id_embedding_128_39', 'author_id_embedding_128_40', 'author_id_embedding_128_41', 'author_id_embedding_128_42', 'author_id_embedding_128_43', 'author_id_embedding_128_44', 'author_id_embedding_128_45', 'author_id_embedding_128_46', 'author_id_embedding_128_47', 'author_id_embedding_128_48', 'author_id_embedding_128_49', 'author_id_embedding_128_50', 'author_id_embedding_128_51', 'author_id_embedding_128_52', 'author_id_embedding_128_53', 'author_id_embedding_128_54', 'author_id_embedding_128_55', 'author_id_embedding_128_56', 'author_id_embedding_128_57', 'author_id_embedding_128_58', 'author_id_embedding_128_59', 'author_id_embedding_128_60', 'author_id_embedding_128_61', 'author_id_embedding_128_62', 'author_id_embedding_128_63', 'author_id_embedding_128_64', 'author_id_embedding_128_65', 'author_id_embedding_128_66', 'author_id_embedding_128_67', 'author_id_embedding_128_68', 'author_id_embedding_128_69', 'author_id_embedding_128_70', 'author_id_embedding_128_71', 'author_id_embedding_128_72', 'author_id_embedding_128_73', 'author_id_embedding_128_74', 'author_id_embedding_128_75', 'author_id_embedding_128_76', 'author_id_embedding_128_77', 'author_id_embedding_128_78', 'author_id_embedding_128_79', 'author_id_embedding_128_80', 'author_id_embedding_128_81', 'author_id_embedding_128_82', 'author_id_embedding_128_83', 'author_id_embedding_128_84', 'author_id_embedding_128_85', 'author_id_embedding_128_86', 'author_id_embedding_128_87', 'author_id_embedding_128_88', 'author_id_embedding_128_89', 'author_id_embedding_128_90', 'author_id_embedding_128_91', 'author_id_embedding_128_92', 'author_id_embedding_128_93', 'author_id_embedding_128_94', 'author_id_embedding_128_95', 'author_id_embedding_128_96', 'author_id_embedding_128_97', 'author_id_embedding_128_98', 'author_id_embedding_128_99', 'author_id_embedding_128_100', 'author_id_embedding_128_101', 'author_id_embedding_128_102', 'author_id_embedding_128_103', 'author_id_embedding_128_104', 'author_id_embedding_128_105', 'author_id_embedding_128_106', 'author_id_embedding_128_107', 'author_id_embedding_128_108', 'author_id_embedding_128_109', 'author_id_embedding_128_110', 'author_id_embedding_128_111', 'author_id_embedding_128_112', 'author_id_embedding_128_113', 'author_id_embedding_128_114', 'author_id_embedding_128_115', 'author_id_embedding_128_116', 'author_id_embedding_128_117', 'author_id_embedding_128_118', 'author_id_embedding_128_119', 'author_id_embedding_128_120', 'author_id_embedding_128_121', 'author_id_embedding_128_122', 'author_id_embedding_128_123', 'author_id_embedding_128_124', 'author_id_embedding_128_125', 'author_id_embedding_128_126', 'author_id_embedding_128_127', 'uid_embedding_128_0', 'uid_embedding_128_1', 'uid_embedding_128_2', 'uid_embedding_128_3', 'uid_embedding_128_4', 'uid_embedding_128_5', 'uid_embedding_128_6', 'uid_embedding_128_7', 'uid_embedding_128_8', 'uid_embedding_128_9', 'uid_embedding_128_10', 'uid_embedding_128_11', 'uid_embedding_128_12', 'uid_embedding_128_13', 'uid_embedding_128_14', 'uid_embedding_128_15', 'uid_embedding_128_16', 'uid_embedding_128_17', 'uid_embedding_128_18', 'uid_embedding_128_19', 'uid_embedding_128_20', 'uid_embedding_128_21', 'uid_embedding_128_22', 'uid_embedding_128_23', 'uid_embedding_128_24', 'uid_embedding_128_25', 'uid_embedding_128_26', 'uid_embedding_128_27', 'uid_embedding_128_28', 'uid_embedding_128_29', 'uid_embedding_128_30', 'uid_embedding_128_31', 'uid_embedding_128_32', 'uid_embedding_128_33', 'uid_embedding_128_34', 'uid_embedding_128_35', 'uid_embedding_128_36', 'uid_embedding_128_37', 'uid_embedding_128_38', 'uid_embedding_128_39', 'uid_embedding_128_40', 'uid_embedding_128_41', 'uid_embedding_128_42', 'uid_embedding_128_43', 'uid_embedding_128_44', 'uid_embedding_128_45', 'uid_embedding_128_46', 'uid_embedding_128_47', 'uid_embedding_128_48', 'uid_embedding_128_49', 'uid_embedding_128_50', 'uid_embedding_128_51', 'uid_embedding_128_52', 'uid_embedding_128_53', 'uid_embedding_128_54', 'uid_embedding_128_55', 'uid_embedding_128_56', 'uid_embedding_128_57', 'uid_embedding_128_58', 'uid_embedding_128_59', 'uid_embedding_128_60', 'uid_embedding_128_61', 'uid_embedding_128_62', 'uid_embedding_128_63', 'uid_embedding_128_64', 'uid_embedding_128_65', 'uid_embedding_128_66', 'uid_embedding_128_67', 'uid_embedding_128_68', 'uid_embedding_128_69', 'uid_embedding_128_70', 'uid_embedding_128_71', 'uid_embedding_128_72', 'uid_embedding_128_73', 'uid_embedding_128_74', 'uid_embedding_128_75', 'uid_embedding_128_76', 'uid_embedding_128_77', 'uid_embedding_128_78', 'uid_embedding_128_79', 'uid_embedding_128_80', 'uid_embedding_128_81', 'uid_embedding_128_82', 'uid_embedding_128_83', 'uid_embedding_128_84', 'uid_embedding_128_85', 'uid_embedding_128_86', 'uid_embedding_128_87', 'uid_embedding_128_88', 'uid_embedding_128_89', 'uid_embedding_128_90', 'uid_embedding_128_91', 'uid_embedding_128_92', 'uid_embedding_128_93', 'uid_embedding_128_94', 'uid_embedding_128_95', 'uid_embedding_128_96', 'uid_embedding_128_97', 'uid_embedding_128_98', 'uid_embedding_128_99', 'uid_embedding_128_100', 'uid_embedding_128_101', 'uid_embedding_128_102', 'uid_embedding_128_103', 'uid_embedding_128_104', 'uid_embedding_128_105', 'uid_embedding_128_106', 'uid_embedding_128_107', 'uid_embedding_128_108', 'uid_embedding_128_109', 'uid_embedding_128_110', 'uid_embedding_128_111', 'uid_embedding_128_112', 'uid_embedding_128_113', 'uid_embedding_128_114', 'uid_embedding_128_115', 'uid_embedding_128_116', 'uid_embedding_128_117', 'uid_embedding_128_118', 'uid_embedding_128_119', 'uid_embedding_128_120', 'uid_embedding_128_121', 'uid_embedding_128_122', 'uid_embedding_128_123', 'uid_embedding_128_124', 'uid_embedding_128_125', 'uid_embedding_128_126', 'uid_embedding_128_127', 'did_embedding_128_0', 'did_embedding_128_1', 'did_embedding_128_2', 'did_embedding_128_3', 'did_embedding_128_4', 'did_embedding_128_5', 'did_embedding_128_6', 'did_embedding_128_7', 'did_embedding_128_8', 'did_embedding_128_9', 'did_embedding_128_10', 'did_embedding_128_11', 'did_embedding_128_12', 'did_embedding_128_13', 'did_embedding_128_14', 'did_embedding_128_15', 'did_embedding_128_16', 'did_embedding_128_17', 'did_embedding_128_18', 'did_embedding_128_19', 'did_embedding_128_20', 'did_embedding_128_21', 'did_embedding_128_22', 'did_embedding_128_23', 'did_embedding_128_24', 'did_embedding_128_25', 'did_embedding_128_26', 'did_embedding_128_27', 'did_embedding_128_28', 'did_embedding_128_29', 'did_embedding_128_30', 'did_embedding_128_31', 'did_embedding_128_32', 'did_embedding_128_33', 'did_embedding_128_34', 'did_embedding_128_35', 'did_embedding_128_36', 'did_embedding_128_37', 'did_embedding_128_38', 'did_embedding_128_39', 'did_embedding_128_40', 'did_embedding_128_41', 'did_embedding_128_42', 'did_embedding_128_43', 'did_embedding_128_44', 'did_embedding_128_45', 'did_embedding_128_46', 'did_embedding_128_47', 'did_embedding_128_48', 'did_embedding_128_49', 'did_embedding_128_50', 'did_embedding_128_51', 'did_embedding_128_52', 'did_embedding_128_53', 'did_embedding_128_54', 'did_embedding_128_55', 'did_embedding_128_56', 'did_embedding_128_57', 'did_embedding_128_58', 'did_embedding_128_59', 'did_embedding_128_60', 'did_embedding_128_61', 'did_embedding_128_62', 'did_embedding_128_63', 'did_embedding_128_64', 'did_embedding_128_65', 'did_embedding_128_66', 'did_embedding_128_67', 'did_embedding_128_68', 'did_embedding_128_69', 'did_embedding_128_70', 'did_embedding_128_71', 'did_embedding_128_72', 'did_embedding_128_73', 'did_embedding_128_74', 'did_embedding_128_75', 'did_embedding_128_76', 'did_embedding_128_77', 'did_embedding_128_78', 'did_embedding_128_79', 'did_embedding_128_80', 'did_embedding_128_81', 'did_embedding_128_82', 'did_embedding_128_83', 'did_embedding_128_84', 'did_embedding_128_85', 'did_embedding_128_86', 'did_embedding_128_87', 'did_embedding_128_88', 'did_embedding_128_89', 'did_embedding_128_90', 'did_embedding_128_91', 'did_embedding_128_92', 'did_embedding_128_93', 'did_embedding_128_94', 'did_embedding_128_95', 'did_embedding_128_96', 'did_embedding_128_97', 'did_embedding_128_98', 'did_embedding_128_99', 'did_embedding_128_100', 'did_embedding_128_101', 'did_embedding_128_102', 'did_embedding_128_103', 'did_embedding_128_104', 'did_embedding_128_105', 'did_embedding_128_106', 'did_embedding_128_107', 'did_embedding_128_108', 'did_embedding_128_109', 'did_embedding_128_110', 'did_embedding_128_111', 'did_embedding_128_112', 'did_embedding_128_113', 'did_embedding_128_114', 'did_embedding_128_115', 'did_embedding_128_116', 'did_embedding_128_117', 'did_embedding_128_118', 'did_embedding_128_119', 'did_embedding_128_120', 'did_embedding_128_121', 'did_embedding_128_122', 'did_embedding_128_123', 'did_embedding_128_124', 'did_embedding_128_125', 'did_embedding_128_126', 'did_embedding_128_127', 'beauty_min', 'did_finish_rate', 'author_id_finish_rate', 'item_id_finish_rate', 'title_mean_rate_finish', 'title_max_rate_finish', 'title_min_rate_finish', 'uid_did_nunique', 'uid_did_count', 'uid_channel_nunique', 'did_video_duration_min', 'did_video_duration_max', 'did_video_duration_mean', 'did_video_duration_std', 'channel_video_duration_min', 'channel_video_duration_max', 'channel_video_duration_mean', 'channel_video_duration_std', 'uid_item_id_unique_mean', 'uid_author_id_unique_mean', 'uid_channel_unique_mean', 'did_item_id_unique_mean', 'did_author_id_unique_mean', 'did_channel_unique_mean', 'uid_item_id_unique_var', 'uid_author_id_unique_var', 'uid_channel_unique_var', 'did_item_id_unique_var', 'did_author_id_unique_var', 'did_channel_unique_var', 'author_id_title_cont_skew', 'author_id_title_cont_mean', 'author_id_title_cont_std', 'did_title_cont_skew', 'did_title_cont_mean', 'did_title_cont_std', 'uid_channel_title_cont_skew', 'uid_channel_title_cont_mean', 'uid_channel_title_cont_std', 'item_id_uid_nunique', 'item_id_uid_count', 'author_id_item_id_nunique', 'author_id_item_id_count', 'uid_user_city_nunique', 'uid_author_id_nunique', 'channel_user_city_nunique', 'did_video_duration_skew', 'channel_video_duration_skew', 'item_id_pagerank', 'uid_item_id_pagerank', 'uid_author_id_pagerank', 'did_item_id_pagerank', 'did_author_id_pagerank', 'item_id_uid_pagerank', 'item_id_did_pagerank', 'author_id_uid_pagerank', 'author_id_did_pagerank', 'title_mean', 'uid_title_mean_mean', 'uid_title_mean_std', 'uid_title_mean_skew', 'author_id_title_mean_mean', 'author_id_title_mean_std', 'author_id_title_mean_skew', 'did_title_mean_mean', 'did_title_mean_std', 'did_title_mean_skew', 'user_music_id_0', 'user_music_id_1', 'user_music_id_2', 'user_music_id_3', 'user_music_id_4', 'user_music_id_5', 'user_music_id_6', 'user_music_id_7', 'user_music_id_8', 'user_music_id_9', 'user_music_id_10', 'user_music_id_11', 'user_music_id_12', 'user_music_id_13', 'user_music_id_14', 'user_music_id_15', 'user_music_id_16', 'user_music_id_17', 'user_music_id_18', 'user_music_id_19', 'user_music_id_20', 'user_music_id_21', 'user_music_id_22', 'user_music_id_23', 'user_music_id_24', 'user_music_id_25', 'user_music_id_26', 'user_music_id_27', 'user_music_id_28', 'user_music_id_29', 'user_music_id_30', 'user_music_id_31', 'user_music_id_32', 'user_music_id_33', 'user_music_id_34', 'user_music_id_35', 'user_music_id_36', 'user_music_id_37', 'user_music_id_38', 'user_music_id_39', 'user_music_id_40', 'user_music_id_41', 'user_music_id_42', 'user_music_id_43', 'user_music_id_44', 'user_music_id_45', 'user_music_id_46', 'user_music_id_47', 'user_music_id_48', 'user_music_id_49', 'user_music_id_50', 'user_music_id_51', 'user_music_id_52', 'user_music_id_53', 'user_music_id_54', 'user_music_id_55', 'user_music_id_56', 'user_music_id_57', 'user_music_id_58', 'user_music_id_59', 'user_music_id_60', 'user_music_id_61', 'user_music_id_62', 'user_music_id_63', 'user_music_id_64', 'user_music_id_65', 'user_music_id_66', 'user_music_id_67', 'user_music_id_68', 'user_music_id_69', 'user_music_id_70', 'user_music_id_71', 'user_music_id_72', 'user_music_id_73', 'user_music_id_74', 'user_music_id_75', 'user_music_id_76', 'user_music_id_77', 'user_music_id_78', 'user_music_id_79', 'user_music_id_80', 'user_music_id_81', 'user_music_id_82', 'user_music_id_83', 'user_music_id_84', 'user_music_id_85', 'user_music_id_86', 'user_music_id_87', 'user_music_id_88', 'user_music_id_89', 'user_music_id_90', 'user_music_id_91', 'user_music_id_92', 'user_music_id_93', 'user_music_id_94', 'user_music_id_95', 'user_music_id_96', 'user_music_id_97', 'user_music_id_98', 'user_music_id_99', 'user_music_id_100', 'user_music_id_101', 'user_music_id_102', 'user_music_id_103', 'user_music_id_104', 'user_music_id_105', 'user_music_id_106', 'user_music_id_107', 'user_music_id_108', 'user_music_id_109', 'user_music_id_110', 'user_music_id_111', 'user_music_id_112', 'user_music_id_113', 'user_music_id_114', 'user_music_id_115', 'user_music_id_116', 'user_music_id_117', 'user_music_id_118', 'user_music_id_119', 'user_music_id_120', 'user_music_id_121', 'user_music_id_122', 'user_music_id_123', 'user_music_id_124', 'user_music_id_125', 'user_music_id_126', 'user_music_id_127', 'user_item_id_0', 'user_item_id_1', 'user_item_id_2', 'user_item_id_3', 'user_item_id_4', 'user_item_id_5', 'user_item_id_6', 'user_item_id_7', 'user_item_id_8', 'user_item_id_9', 'user_item_id_10', 'user_item_id_11', 'user_item_id_12', 'user_item_id_13', 'user_item_id_14', 'user_item_id_15', 'user_item_id_16', 'user_item_id_17', 'user_item_id_18', 'user_item_id_19', 'user_item_id_20', 'user_item_id_21', 'user_item_id_22', 'user_item_id_23', 'user_item_id_24', 'user_item_id_25', 'user_item_id_26', 'user_item_id_27', 'user_item_id_28', 'user_item_id_29', 'user_item_id_30', 'user_item_id_31', 'user_item_id_32', 'user_item_id_33', 'user_item_id_34', 'user_item_id_35', 'user_item_id_36', 'user_item_id_37', 'user_item_id_38', 'user_item_id_39', 'user_item_id_40', 'user_item_id_41', 'user_item_id_42', 'user_item_id_43', 'user_item_id_44', 'user_item_id_45', 'user_item_id_46', 'user_item_id_47', 'user_item_id_48', 'user_item_id_49', 'user_item_id_50', 'user_item_id_51', 'user_item_id_52', 'user_item_id_53', 'user_item_id_54', 'user_item_id_55', 'user_item_id_56', 'user_item_id_57', 'user_item_id_58', 'user_item_id_59', 'user_item_id_60', 'user_item_id_61', 'user_item_id_62', 'user_item_id_63', 'user_item_id_64', 'user_item_id_65', 'user_item_id_66', 'user_item_id_67', 'user_item_id_68', 'user_item_id_69', 'user_item_id_70', 'user_item_id_71', 'user_item_id_72', 'user_item_id_73', 'user_item_id_74', 'user_item_id_75', 'user_item_id_76', 'user_item_id_77', 'user_item_id_78', 'user_item_id_79', 'user_item_id_80', 'user_item_id_81', 'user_item_id_82', 'user_item_id_83', 'user_item_id_84', 'user_item_id_85', 'user_item_id_86', 'user_item_id_87', 'user_item_id_88', 'user_item_id_89', 'user_item_id_90', 'user_item_id_91', 'user_item_id_92', 'user_item_id_93', 'user_item_id_94', 'user_item_id_95', 'user_item_id_96', 'user_item_id_97', 'user_item_id_98', 'user_item_id_99', 'user_item_id_100', 'user_item_id_101', 'user_item_id_102', 'user_item_id_103', 'user_item_id_104', 'user_item_id_105', 'user_item_id_106', 'user_item_id_107', 'user_item_id_108', 'user_item_id_109', 'user_item_id_110', 'user_item_id_111', 'user_item_id_112', 'user_item_id_113', 'user_item_id_114', 'user_item_id_115', 'user_item_id_116', 'user_item_id_117', 'user_item_id_118', 'user_item_id_119', 'user_item_id_120', 'user_item_id_121', 'user_item_id_122', 'user_item_id_123', 'user_item_id_124', 'user_item_id_125', 'user_item_id_126', 'user_item_id_127', 'user_did_0', 'user_did_1', 'user_did_2', 'user_did_3', 'user_did_4', 'user_did_5', 'user_did_6', 'user_did_7', 'user_did_8', 'user_did_9', 'user_did_10', 'user_did_11', 'user_did_12', 'user_did_13', 'user_did_14', 'user_did_15', 'user_did_16', 'user_did_17', 'user_did_18', 'user_did_19', 'user_did_20', 'user_did_21', 'user_did_22', 'user_did_23', 'user_did_24', 'user_did_25', 'user_did_26', 'user_did_27', 'user_did_28', 'user_did_29', 'user_did_30', 'user_did_31', 'user_did_32', 'user_did_33', 'user_did_34', 'user_did_35', 'user_did_36', 'user_did_37', 'user_did_38', 'user_did_39', 'user_did_40', 'user_did_41', 'user_did_42', 'user_did_43', 'user_did_44', 'user_did_45', 'user_did_46', 'user_did_47', 'user_did_48', 'user_did_49', 'user_did_50', 'user_did_51', 'user_did_52', 'user_did_53', 'user_did_54', 'user_did_55', 'user_did_56', 'user_did_57', 'user_did_58', 'user_did_59', 'user_did_60', 'user_did_61', 'user_did_62', 'user_did_63', 'user_did_64', 'user_did_65', 'user_did_66', 'user_did_67', 'user_did_68', 'user_did_69', 'user_did_70', 'user_did_71', 'user_did_72', 'user_did_73', 'user_did_74', 'user_did_75', 'user_did_76', 'user_did_77', 'user_did_78', 'user_did_79', 'user_did_80', 'user_did_81', 'user_did_82', 'user_did_83', 'user_did_84', 'user_did_85', 'user_did_86', 'user_did_87', 'user_did_88', 'user_did_89', 'user_did_90', 'user_did_91', 'user_did_92', 'user_did_93', 'user_did_94', 'user_did_95', 'user_did_96', 'user_did_97', 'user_did_98', 'user_did_99', 'user_did_100', 'user_did_101', 'user_did_102', 'user_did_103', 'user_did_104', 'user_did_105', 'user_did_106', 'user_did_107', 'user_did_108', 'user_did_109', 'user_did_110', 'user_did_111', 'user_did_112', 'user_did_113', 'user_did_114', 'user_did_115', 'user_did_116', 'user_did_117', 'user_did_118', 'user_did_119', 'user_did_120', 'user_did_121', 'user_did_122', 'user_did_123', 'user_did_124', 'user_did_125', 'user_did_126', 'user_did_127', 'user_author_id_0', 'user_author_id_1', 'user_author_id_2', 'user_author_id_3', 'user_author_id_4', 'user_author_id_5', 'user_author_id_6', 'user_author_id_7', 'user_author_id_8', 'user_author_id_9', 'user_author_id_10', 'user_author_id_11', 'user_author_id_12', 'user_author_id_13', 'user_author_id_14', 'user_author_id_15', 'user_author_id_16', 'user_author_id_17', 'user_author_id_18', 'user_author_id_19', 'user_author_id_20', 'user_author_id_21', 'user_author_id_22', 'user_author_id_23', 'user_author_id_24', 'user_author_id_25', 'user_author_id_26', 'user_author_id_27', 'user_author_id_28', 'user_author_id_29', 'user_author_id_30', 'user_author_id_31', 'user_author_id_32', 'user_author_id_33', 'user_author_id_34', 'user_author_id_35', 'user_author_id_36', 'user_author_id_37', 'user_author_id_38', 'user_author_id_39', 'user_author_id_40', 'user_author_id_41', 'user_author_id_42', 'user_author_id_43', 'user_author_id_44', 'user_author_id_45', 'user_author_id_46', 'user_author_id_47', 'user_author_id_48', 'user_author_id_49', 'user_author_id_50', 'user_author_id_51', 'user_author_id_52', 'user_author_id_53', 'user_author_id_54', 'user_author_id_55', 'user_author_id_56', 'user_author_id_57', 'user_author_id_58', 'user_author_id_59', 'user_author_id_60', 'user_author_id_61', 'user_author_id_62', 'user_author_id_63', 'user_author_id_64', 'user_author_id_65', 'user_author_id_66', 'user_author_id_67', 'user_author_id_68', 'user_author_id_69', 'user_author_id_70', 'user_author_id_71', 'user_author_id_72', 'user_author_id_73', 'user_author_id_74', 'user_author_id_75', 'user_author_id_76', 'user_author_id_77', 'user_author_id_78', 'user_author_id_79', 'user_author_id_80', 'user_author_id_81', 'user_author_id_82', 'user_author_id_83', 'user_author_id_84', 'user_author_id_85', 'user_author_id_86', 'user_author_id_87', 'user_author_id_88', 'user_author_id_89', 'user_author_id_90', 'user_author_id_91', 'user_author_id_92', 'user_author_id_93', 'user_author_id_94', 'user_author_id_95', 'user_author_id_96', 'user_author_id_97', 'user_author_id_98', 'user_author_id_99', 'user_author_id_100', 'user_author_id_101', 'user_author_id_102', 'user_author_id_103', 'user_author_id_104', 'user_author_id_105', 'user_author_id_106', 'user_author_id_107', 'user_author_id_108', 'user_author_id_109', 'user_author_id_110', 'user_author_id_111', 'user_author_id_112', 'user_author_id_113', 'user_author_id_114', 'user_author_id_115', 'user_author_id_116', 'user_author_id_117', 'user_author_id_118', 'user_author_id_119', 'user_author_id_120', 'user_author_id_121', 'user_author_id_122', 'user_author_id_123', 'user_author_id_124', 'user_author_id_125', 'user_author_id_126', 'user_author_id_127', 'item_author_id_0', 'item_author_id_1', 'item_author_id_2', 'item_author_id_3', 'item_author_id_4', 'item_author_id_5', 'item_author_id_6', 'item_author_id_7', 'item_author_id_8', 'item_author_id_9', 'item_author_id_10', 'item_author_id_11', 'item_author_id_12', 'item_author_id_13', 'item_author_id_14', 'item_author_id_15', 'item_author_id_16', 'item_author_id_17', 'item_author_id_18', 'item_author_id_19', 'item_author_id_20', 'item_author_id_21', 'item_author_id_22', 'item_author_id_23', 'item_author_id_24', 'item_author_id_25', 'item_author_id_26', 'item_author_id_27', 'item_author_id_28', 'item_author_id_29', 'item_author_id_30', 'item_author_id_31', 'item_author_id_32', 'item_author_id_33', 'item_author_id_34', 'item_author_id_35', 'item_author_id_36', 'item_author_id_37', 'item_author_id_38', 'item_author_id_39', 'item_author_id_40', 'item_author_id_41', 'item_author_id_42', 'item_author_id_43', 'item_author_id_44', 'item_author_id_45', 'item_author_id_46', 'item_author_id_47', 'item_author_id_48', 'item_author_id_49', 'item_author_id_50', 'item_author_id_51', 'item_author_id_52', 'item_author_id_53', 'item_author_id_54', 'item_author_id_55', 'item_author_id_56', 'item_author_id_57', 'item_author_id_58', 'item_author_id_59', 'item_author_id_60', 'item_author_id_61', 'item_author_id_62', 'item_author_id_63', 'item_music_id_0', 'item_music_id_1', 'item_music_id_2', 'item_music_id_3', 'item_music_id_4', 'item_music_id_5', 'item_music_id_6', 'item_music_id_7', 'item_music_id_8', 'item_music_id_9', 'item_music_id_10', 'item_music_id_11', 'item_music_id_12', 'item_music_id_13', 'item_music_id_14', 'item_music_id_15', 'item_music_id_16', 'item_music_id_17', 'item_music_id_18', 'item_music_id_19', 'item_music_id_20', 'item_music_id_21', 'item_music_id_22', 'item_music_id_23', 'item_music_id_24', 'item_music_id_25', 'item_music_id_26', 'item_music_id_27', 'item_music_id_28', 'item_music_id_29', 'item_music_id_30', 'item_music_id_31', 'item_music_id_32', 'item_music_id_33', 'item_music_id_34', 'item_music_id_35', 'item_music_id_36', 'item_music_id_37', 'item_music_id_38', 'item_music_id_39', 'item_music_id_40', 'item_music_id_41', 'item_music_id_42', 'item_music_id_43', 'item_music_id_44', 'item_music_id_45', 'item_music_id_46', 'item_music_id_47', 'item_music_id_48', 'item_music_id_49', 'item_music_id_50', 'item_music_id_51', 'item_music_id_52', 'item_music_id_53', 'item_music_id_54', 'item_music_id_55', 'item_music_id_56', 'item_music_id_57', 'item_music_id_58', 'item_music_id_59', 'item_music_id_60', 'item_music_id_61', 'item_music_id_62', 'item_music_id_63', 'item_did_0', 'item_did_1', 'item_did_2', 'item_did_3', 'item_did_4', 'item_did_5', 'item_did_6', 'item_did_7', 'item_did_8', 'item_did_9', 'item_did_10', 'item_did_11', 'item_did_12', 'item_did_13', 'item_did_14', 'item_did_15', 'item_did_16', 'item_did_17', 'item_did_18', 'item_did_19', 'item_did_20', 'item_did_21', 'item_did_22', 'item_did_23', 'item_did_24', 'item_did_25', 'item_did_26', 'item_did_27', 'item_did_28', 'item_did_29', 'item_did_30', 'item_did_31', 'item_did_32', 'item_did_33', 'item_did_34', 'item_did_35', 'item_did_36', 'item_did_37', 'item_did_38', 'item_did_39', 'item_did_40', 'item_did_41', 'item_did_42', 'item_did_43', 'item_did_44', 'item_did_45', 'item_did_46', 'item_did_47', 'item_did_48', 'item_did_49', 'item_did_50', 'item_did_51', 'item_did_52', 'item_did_53', 'item_did_54', 'item_did_55', 'item_did_56', 'item_did_57', 'item_did_58', 'item_did_59', 'item_did_60', 'item_did_61', 'item_did_62', 'item_did_63', 'item_uid_0', 'item_uid_1', 'item_uid_2', 'item_uid_3', 'item_uid_4', 'item_uid_5', 'item_uid_6', 'item_uid_7', 'item_uid_8', 'item_uid_9', 'item_uid_10', 'item_uid_11', 'item_uid_12', 'item_uid_13', 'item_uid_14', 'item_uid_15', 'item_uid_16', 'item_uid_17', 'item_uid_18', 'item_uid_19', 'item_uid_20', 'item_uid_21', 'item_uid_22', 'item_uid_23', 'item_uid_24', 'item_uid_25', 'item_uid_26', 'item_uid_27', 'item_uid_28', 'item_uid_29', 'item_uid_30', 'item_uid_31', 'item_uid_32', 'item_uid_33', 'item_uid_34', 'item_uid_35', 'item_uid_36', 'item_uid_37', 'item_uid_38', 'item_uid_39', 'item_uid_40', 'item_uid_41', 'item_uid_42', 'item_uid_43', 'item_uid_44', 'item_uid_45', 'item_uid_46', 'item_uid_47', 'item_uid_48', 'item_uid_49', 'item_uid_50', 'item_uid_51', 'item_uid_52', 'item_uid_53', 'item_uid_54', 'item_uid_55', 'item_uid_56', 'item_uid_57', 'item_uid_58', 'item_uid_59', 'item_uid_60', 'item_uid_61', 'item_uid_62', 'item_uid_63', 'did_author_id_0', 'did_author_id_1', 'did_author_id_2', 'did_author_id_3', 'did_author_id_4', 'did_author_id_5', 'did_author_id_6', 'did_author_id_7', 'did_author_id_8', 'did_author_id_9', 'did_author_id_10', 'did_author_id_11', 'did_author_id_12', 'did_author_id_13', 'did_author_id_14', 'did_author_id_15', 'did_author_id_16', 'did_author_id_17', 'did_author_id_18', 'did_author_id_19', 'did_author_id_20', 'did_author_id_21', 'did_author_id_22', 'did_author_id_23', 'did_author_id_24', 'did_author_id_25', 'did_author_id_26', 'did_author_id_27', 'did_author_id_28', 'did_author_id_29', 'did_author_id_30', 'did_author_id_31', 'did_author_id_32', 'did_author_id_33', 'did_author_id_34', 'did_author_id_35', 'did_author_id_36', 'did_author_id_37', 'did_author_id_38', 'did_author_id_39', 'did_author_id_40', 'did_author_id_41', 'did_author_id_42', 'did_author_id_43', 'did_author_id_44', 'did_author_id_45', 'did_author_id_46', 'did_author_id_47', 'did_author_id_48', 'did_author_id_49', 'did_author_id_50', 'did_author_id_51', 'did_author_id_52', 'did_author_id_53', 'did_author_id_54', 'did_author_id_55', 'did_author_id_56', 'did_author_id_57', 'did_author_id_58', 'did_author_id_59', 'did_author_id_60', 'did_author_id_61', 'did_author_id_62', 'did_author_id_63', 'did_music_id_0', 'did_music_id_1', 'did_music_id_2', 'did_music_id_3', 'did_music_id_4', 'did_music_id_5', 'did_music_id_6', 'did_music_id_7', 'did_music_id_8', 'did_music_id_9', 'did_music_id_10', 'did_music_id_11', 'did_music_id_12', 'did_music_id_13', 'did_music_id_14', 'did_music_id_15', 'did_music_id_16', 'did_music_id_17', 'did_music_id_18', 'did_music_id_19', 'did_music_id_20', 'did_music_id_21', 'did_music_id_22', 'did_music_id_23', 'did_music_id_24', 'did_music_id_25', 'did_music_id_26', 'did_music_id_27', 'did_music_id_28', 'did_music_id_29', 'did_music_id_30', 'did_music_id_31', 'did_music_id_32', 'did_music_id_33', 'did_music_id_34', 'did_music_id_35', 'did_music_id_36', 'did_music_id_37', 'did_music_id_38', 'did_music_id_39', 'did_music_id_40', 'did_music_id_41', 'did_music_id_42', 'did_music_id_43', 'did_music_id_44', 'did_music_id_45', 'did_music_id_46', 'did_music_id_47', 'did_music_id_48', 'did_music_id_49', 'did_music_id_50', 'did_music_id_51', 'did_music_id_52', 'did_music_id_53', 'did_music_id_54', 'did_music_id_55', 'did_music_id_56', 'did_music_id_57', 'did_music_id_58', 'did_music_id_59', 'did_music_id_60', 'did_music_id_61', 'did_music_id_62', 'did_music_id_63', 'did_item_id_0', 'did_item_id_1', 'did_item_id_2', 'did_item_id_3', 'did_item_id_4', 'did_item_id_5', 'did_item_id_6', 'did_item_id_7', 'did_item_id_8', 'did_item_id_9', 'did_item_id_10', 'did_item_id_11', 'did_item_id_12', 'did_item_id_13', 'did_item_id_14', 'did_item_id_15', 'did_item_id_16', 'did_item_id_17', 'did_item_id_18', 'did_item_id_19', 'did_item_id_20', 'did_item_id_21', 'did_item_id_22', 'did_item_id_23', 'did_item_id_24', 'did_item_id_25', 'did_item_id_26', 'did_item_id_27', 'did_item_id_28', 'did_item_id_29', 'did_item_id_30', 'did_item_id_31', 'did_item_id_32', 'did_item_id_33', 'did_item_id_34', 'did_item_id_35', 'did_item_id_36', 'did_item_id_37', 'did_item_id_38', 'did_item_id_39', 'did_item_id_40', 'did_item_id_41', 'did_item_id_42', 'did_item_id_43', 'did_item_id_44', 'did_item_id_45', 'did_item_id_46', 'did_item_id_47', 'did_item_id_48', 'did_item_id_49', 'did_item_id_50', 'did_item_id_51', 'did_item_id_52', 'did_item_id_53', 'did_item_id_54', 'did_item_id_55', 'did_item_id_56', 'did_item_id_57', 'did_item_id_58', 'did_item_id_59', 'did_item_id_60', 'did_item_id_61', 'did_item_id_62', 'did_item_id_63', 'did_uid_0', 'did_uid_1', 'did_uid_2', 'did_uid_3', 'did_uid_4', 'did_uid_5', 'did_uid_6', 'did_uid_7', 'did_uid_8', 'did_uid_9', 'did_uid_10', 'did_uid_11', 'did_uid_12', 'did_uid_13', 'did_uid_14', 'did_uid_15', 'did_uid_16', 'did_uid_17', 'did_uid_18', 'did_uid_19', 'did_uid_20', 'did_uid_21', 'did_uid_22', 'did_uid_23', 'did_uid_24', 'did_uid_25', 'did_uid_26', 'did_uid_27', 'did_uid_28', 'did_uid_29', 'did_uid_30', 'did_uid_31', 'did_uid_32', 'did_uid_33', 'did_uid_34', 'did_uid_35', 'did_uid_36', 'did_uid_37', 'did_uid_38', 'did_uid_39', 'did_uid_40', 'did_uid_41', 'did_uid_42', 'did_uid_43', 'did_uid_44', 'did_uid_45', 'did_uid_46', 'did_uid_47', 'did_uid_48', 'did_uid_49', 'did_uid_50', 'did_uid_51', 'did_uid_52', 'did_uid_53', 'did_uid_54', 'did_uid_55', 'did_uid_56', 'did_uid_57', 'did_uid_58', 'did_uid_59', 'did_uid_60', 'did_uid_61', 'did_uid_62', 'did_uid_63', 'author_did_0', 'author_did_1', 'author_did_2', 'author_did_3', 'author_did_4', 'author_did_5', 'author_did_6', 'author_did_7', 'author_did_8', 'author_did_9', 'author_did_10', 'author_did_11', 'author_did_12', 'author_did_13', 'author_did_14', 'author_did_15', 'author_did_16', 'author_did_17', 'author_did_18', 'author_did_19', 'author_did_20', 'author_did_21', 'author_did_22', 'author_did_23', 'author_did_24', 'author_did_25', 'author_did_26', 'author_did_27', 'author_did_28', 'author_did_29', 'author_did_30', 'author_did_31', 'author_did_32', 'author_did_33', 'author_did_34', 'author_did_35', 'author_did_36', 'author_did_37', 'author_did_38', 'author_did_39', 'author_did_40', 'author_did_41', 'author_did_42', 'author_did_43', 'author_did_44', 'author_did_45', 'author_did_46', 'author_did_47', 'author_did_48', 'author_did_49', 'author_did_50', 'author_did_51', 'author_did_52', 'author_did_53', 'author_did_54', 'author_did_55', 'author_did_56', 'author_did_57', 'author_did_58', 'author_did_59', 'author_did_60', 'author_did_61', 'author_did_62', 'author_did_63', 'author_uid_0', 'author_uid_1', 'author_uid_2', 'author_uid_3', 'author_uid_4', 'author_uid_5', 'author_uid_6', 'author_uid_7', 'author_uid_8', 'author_uid_9', 'author_uid_10', 'author_uid_11', 'author_uid_12', 'author_uid_13', 'author_uid_14', 'author_uid_15', 'author_uid_16', 'author_uid_17', 'author_uid_18', 'author_uid_19', 'author_uid_20', 'author_uid_21', 'author_uid_22', 'author_uid_23', 'author_uid_24', 'author_uid_25', 'author_uid_26', 'author_uid_27', 'author_uid_28', 'author_uid_29', 'author_uid_30', 'author_uid_31', 'author_uid_32', 'author_uid_33', 'author_uid_34', 'author_uid_35', 'author_uid_36', 'author_uid_37', 'author_uid_38', 'author_uid_39', 'author_uid_40', 'author_uid_41', 'author_uid_42', 'author_uid_43', 'author_uid_44', 'author_uid_45', 'author_uid_46', 'author_uid_47', 'author_uid_48', 'author_uid_49', 'author_uid_50', 'author_uid_51', 'author_uid_52', 'author_uid_53', 'author_uid_54', 'author_uid_55', 'author_uid_56', 'author_uid_57', 'author_uid_58', 'author_uid_59', 'author_uid_60', 'author_uid_61', 'author_uid_62', 'author_uid_63', 'author_music_id_0', 'author_music_id_1', 'author_music_id_2', 'author_music_id_3', 'author_music_id_4', 'author_music_id_5', 'author_music_id_6', 'author_music_id_7', 'author_music_id_8', 'author_music_id_9', 'author_music_id_10', 'author_music_id_11', 'author_music_id_12', 'author_music_id_13', 'author_music_id_14', 'author_music_id_15', 'author_music_id_16', 'author_music_id_17', 'author_music_id_18', 'author_music_id_19', 'author_music_id_20', 'author_music_id_21', 'author_music_id_22', 'author_music_id_23', 'author_music_id_24', 'author_music_id_25', 'author_music_id_26', 'author_music_id_27', 'author_music_id_28', 'author_music_id_29', 'author_music_id_30', 'author_music_id_31', 'author_music_id_32', 'author_music_id_33', 'author_music_id_34', 'author_music_id_35', 'author_music_id_36', 'author_music_id_37', 'author_music_id_38', 'author_music_id_39', 'author_music_id_40', 'author_music_id_41', 'author_music_id_42', 'author_music_id_43', 'author_music_id_44', 'author_music_id_45', 'author_music_id_46', 'author_music_id_47', 'author_music_id_48', 'author_music_id_49', 'author_music_id_50', 'author_music_id_51', 'author_music_id_52', 'author_music_id_53', 'author_music_id_54', 'author_music_id_55', 'author_music_id_56', 'author_music_id_57', 'author_music_id_58', 'author_music_id_59', 'author_music_id_60', 'author_music_id_61', 'author_music_id_62', 'author_music_id_63', 'author_item_id_0', 'author_item_id_1', 'author_item_id_2', 'author_item_id_3', 'author_item_id_4', 'author_item_id_5', 'author_item_id_6', 'author_item_id_7', 'author_item_id_8', 'author_item_id_9', 'author_item_id_10', 'author_item_id_11', 'author_item_id_12', 'author_item_id_13', 'author_item_id_14', 'author_item_id_15', 'author_item_id_16', 'author_item_id_17', 'author_item_id_18', 'author_item_id_19', 'author_item_id_20', 'author_item_id_21', 'author_item_id_22', 'author_item_id_23', 'author_item_id_24', 'author_item_id_25', 'author_item_id_26', 'author_item_id_27', 'author_item_id_28', 'author_item_id_29', 'author_item_id_30', 'author_item_id_31', 'author_item_id_32', 'author_item_id_33', 'author_item_id_34', 'author_item_id_35', 'author_item_id_36', 'author_item_id_37', 'author_item_id_38', 'author_item_id_39', 'author_item_id_40', 'author_item_id_41', 'author_item_id_42', 'author_item_id_43', 'author_item_id_44', 'author_item_id_45', 'author_item_id_46', 'author_item_id_47', 'author_item_id_48', 'author_item_id_49', 'author_item_id_50', 'author_item_id_51', 'author_item_id_52', 'author_item_id_53', 'author_item_id_54', 'author_item_id_55', 'author_item_id_56', 'author_item_id_57', 'author_item_id_58', 'author_item_id_59', 'author_item_id_60', 'author_item_id_61', 'author_item_id_62', 'author_item_id_63', 'uid_item_id_uid_deepwalk_embedding_64_0', 'uid_item_id_item_id_deepwalk_embedding_0', 'uid_item_id_uid_deepwalk_embedding_64_1', 'uid_item_id_item_id_deepwalk_embedding_1', 'uid_item_id_uid_deepwalk_embedding_64_2', 'uid_item_id_item_id_deepwalk_embedding_2', 'uid_item_id_uid_deepwalk_embedding_64_3', 'uid_item_id_item_id_deepwalk_embedding_3', 'uid_item_id_uid_deepwalk_embedding_64_4', 'uid_item_id_item_id_deepwalk_embedding_4', 'uid_item_id_uid_deepwalk_embedding_64_5', 'uid_item_id_item_id_deepwalk_embedding_5', 'uid_item_id_uid_deepwalk_embedding_64_6', 'uid_item_id_item_id_deepwalk_embedding_6', 'uid_item_id_uid_deepwalk_embedding_64_7', 'uid_item_id_item_id_deepwalk_embedding_7', 'uid_item_id_uid_deepwalk_embedding_64_8', 'uid_item_id_item_id_deepwalk_embedding_8', 'uid_item_id_uid_deepwalk_embedding_64_9', 'uid_item_id_item_id_deepwalk_embedding_9', 'uid_item_id_uid_deepwalk_embedding_64_10', 'uid_item_id_item_id_deepwalk_embedding_10', 'uid_item_id_uid_deepwalk_embedding_64_11', 'uid_item_id_item_id_deepwalk_embedding_11', 'uid_item_id_uid_deepwalk_embedding_64_12', 'uid_item_id_item_id_deepwalk_embedding_12', 'uid_item_id_uid_deepwalk_embedding_64_13', 'uid_item_id_item_id_deepwalk_embedding_13', 'uid_item_id_uid_deepwalk_embedding_64_14', 'uid_item_id_item_id_deepwalk_embedding_14', 'uid_item_id_uid_deepwalk_embedding_64_15', 'uid_item_id_item_id_deepwalk_embedding_15', 'uid_item_id_uid_deepwalk_embedding_64_16', 'uid_item_id_item_id_deepwalk_embedding_16', 'uid_item_id_uid_deepwalk_embedding_64_17', 'uid_item_id_item_id_deepwalk_embedding_17', 'uid_item_id_uid_deepwalk_embedding_64_18', 'uid_item_id_item_id_deepwalk_embedding_18', 'uid_item_id_uid_deepwalk_embedding_64_19', 'uid_item_id_item_id_deepwalk_embedding_19', 'uid_item_id_uid_deepwalk_embedding_64_20', 'uid_item_id_item_id_deepwalk_embedding_20', 'uid_item_id_uid_deepwalk_embedding_64_21', 'uid_item_id_item_id_deepwalk_embedding_21', 'uid_item_id_uid_deepwalk_embedding_64_22', 'uid_item_id_item_id_deepwalk_embedding_22', 'uid_item_id_uid_deepwalk_embedding_64_23', 'uid_item_id_item_id_deepwalk_embedding_23', 'uid_item_id_uid_deepwalk_embedding_64_24', 'uid_item_id_item_id_deepwalk_embedding_24', 'uid_item_id_uid_deepwalk_embedding_64_25', 'uid_item_id_item_id_deepwalk_embedding_25', 'uid_item_id_uid_deepwalk_embedding_64_26', 'uid_item_id_item_id_deepwalk_embedding_26', 'uid_item_id_uid_deepwalk_embedding_64_27', 'uid_item_id_item_id_deepwalk_embedding_27', 'uid_item_id_uid_deepwalk_embedding_64_28', 'uid_item_id_item_id_deepwalk_embedding_28', 'uid_item_id_uid_deepwalk_embedding_64_29', 'uid_item_id_item_id_deepwalk_embedding_29', 'uid_item_id_uid_deepwalk_embedding_64_30', 'uid_item_id_item_id_deepwalk_embedding_30', 'uid_item_id_uid_deepwalk_embedding_64_31', 'uid_item_id_item_id_deepwalk_embedding_31', 'uid_item_id_uid_deepwalk_embedding_64_32', 'uid_item_id_item_id_deepwalk_embedding_32', 'uid_item_id_uid_deepwalk_embedding_64_33', 'uid_item_id_item_id_deepwalk_embedding_33', 'uid_item_id_uid_deepwalk_embedding_64_34', 'uid_item_id_item_id_deepwalk_embedding_34', 'uid_item_id_uid_deepwalk_embedding_64_35', 'uid_item_id_item_id_deepwalk_embedding_35', 'uid_item_id_uid_deepwalk_embedding_64_36', 'uid_item_id_item_id_deepwalk_embedding_36', 'uid_item_id_uid_deepwalk_embedding_64_37', 'uid_item_id_item_id_deepwalk_embedding_37', 'uid_item_id_uid_deepwalk_embedding_64_38', 'uid_item_id_item_id_deepwalk_embedding_38', 'uid_item_id_uid_deepwalk_embedding_64_39', 'uid_item_id_item_id_deepwalk_embedding_39', 'uid_item_id_uid_deepwalk_embedding_64_40', 'uid_item_id_item_id_deepwalk_embedding_40', 'uid_item_id_uid_deepwalk_embedding_64_41', 'uid_item_id_item_id_deepwalk_embedding_41', 'uid_item_id_uid_deepwalk_embedding_64_42', 'uid_item_id_item_id_deepwalk_embedding_42', 'uid_item_id_uid_deepwalk_embedding_64_43', 'uid_item_id_item_id_deepwalk_embedding_43', 'uid_item_id_uid_deepwalk_embedding_64_44', 'uid_item_id_item_id_deepwalk_embedding_44', 'uid_item_id_uid_deepwalk_embedding_64_45', 'uid_item_id_item_id_deepwalk_embedding_45', 'uid_item_id_uid_deepwalk_embedding_64_46', 'uid_item_id_item_id_deepwalk_embedding_46', 'uid_item_id_uid_deepwalk_embedding_64_47', 'uid_item_id_item_id_deepwalk_embedding_47', 'uid_item_id_uid_deepwalk_embedding_64_48', 'uid_item_id_item_id_deepwalk_embedding_48', 'uid_item_id_uid_deepwalk_embedding_64_49', 'uid_item_id_item_id_deepwalk_embedding_49', 'uid_item_id_uid_deepwalk_embedding_64_50', 'uid_item_id_item_id_deepwalk_embedding_50', 'uid_item_id_uid_deepwalk_embedding_64_51', 'uid_item_id_item_id_deepwalk_embedding_51', 'uid_item_id_uid_deepwalk_embedding_64_52', 'uid_item_id_item_id_deepwalk_embedding_52', 'uid_item_id_uid_deepwalk_embedding_64_53', 'uid_item_id_item_id_deepwalk_embedding_53', 'uid_item_id_uid_deepwalk_embedding_64_54', 'uid_item_id_item_id_deepwalk_embedding_54', 'uid_item_id_uid_deepwalk_embedding_64_55', 'uid_item_id_item_id_deepwalk_embedding_55', 'uid_item_id_uid_deepwalk_embedding_64_56', 'uid_item_id_item_id_deepwalk_embedding_56', 'uid_item_id_uid_deepwalk_embedding_64_57', 'uid_item_id_item_id_deepwalk_embedding_57', 'uid_item_id_uid_deepwalk_embedding_64_58', 'uid_item_id_item_id_deepwalk_embedding_58', 'uid_item_id_uid_deepwalk_embedding_64_59', 'uid_item_id_item_id_deepwalk_embedding_59', 'uid_item_id_uid_deepwalk_embedding_64_60', 'uid_item_id_item_id_deepwalk_embedding_60', 'uid_item_id_uid_deepwalk_embedding_64_61', 'uid_item_id_item_id_deepwalk_embedding_61', 'uid_item_id_uid_deepwalk_embedding_64_62', 'uid_item_id_item_id_deepwalk_embedding_62', 'uid_item_id_uid_deepwalk_embedding_64_63', 'uid_item_id_item_id_deepwalk_embedding_63', 'uid_author_id_uid_deepwalk_embedding_64_0', 'uid_author_id_author_id_deepwalk_embedding_0', 'uid_author_id_uid_deepwalk_embedding_64_1', 'uid_author_id_author_id_deepwalk_embedding_1', 'uid_author_id_uid_deepwalk_embedding_64_2', 'uid_author_id_author_id_deepwalk_embedding_2', 'uid_author_id_uid_deepwalk_embedding_64_3', 'uid_author_id_author_id_deepwalk_embedding_3', 'uid_author_id_uid_deepwalk_embedding_64_4', 'uid_author_id_author_id_deepwalk_embedding_4', 'uid_author_id_uid_deepwalk_embedding_64_5', 'uid_author_id_author_id_deepwalk_embedding_5', 'uid_author_id_uid_deepwalk_embedding_64_6', 'uid_author_id_author_id_deepwalk_embedding_6', 'uid_author_id_uid_deepwalk_embedding_64_7', 'uid_author_id_author_id_deepwalk_embedding_7', 'uid_author_id_uid_deepwalk_embedding_64_8', 'uid_author_id_author_id_deepwalk_embedding_8', 'uid_author_id_uid_deepwalk_embedding_64_9', 'uid_author_id_author_id_deepwalk_embedding_9', 'uid_author_id_uid_deepwalk_embedding_64_10', 'uid_author_id_author_id_deepwalk_embedding_10', 'uid_author_id_uid_deepwalk_embedding_64_11', 'uid_author_id_author_id_deepwalk_embedding_11', 'uid_author_id_uid_deepwalk_embedding_64_12', 'uid_author_id_author_id_deepwalk_embedding_12', 'uid_author_id_uid_deepwalk_embedding_64_13', 'uid_author_id_author_id_deepwalk_embedding_13', 'uid_author_id_uid_deepwalk_embedding_64_14', 'uid_author_id_author_id_deepwalk_embedding_14', 'uid_author_id_uid_deepwalk_embedding_64_15', 'uid_author_id_author_id_deepwalk_embedding_15', 'uid_author_id_uid_deepwalk_embedding_64_16', 'uid_author_id_author_id_deepwalk_embedding_16', 'uid_author_id_uid_deepwalk_embedding_64_17', 'uid_author_id_author_id_deepwalk_embedding_17', 'uid_author_id_uid_deepwalk_embedding_64_18', 'uid_author_id_author_id_deepwalk_embedding_18', 'uid_author_id_uid_deepwalk_embedding_64_19', 'uid_author_id_author_id_deepwalk_embedding_19', 'uid_author_id_uid_deepwalk_embedding_64_20', 'uid_author_id_author_id_deepwalk_embedding_20', 'uid_author_id_uid_deepwalk_embedding_64_21', 'uid_author_id_author_id_deepwalk_embedding_21', 'uid_author_id_uid_deepwalk_embedding_64_22', 'uid_author_id_author_id_deepwalk_embedding_22', 'uid_author_id_uid_deepwalk_embedding_64_23', 'uid_author_id_author_id_deepwalk_embedding_23', 'uid_author_id_uid_deepwalk_embedding_64_24', 'uid_author_id_author_id_deepwalk_embedding_24', 'uid_author_id_uid_deepwalk_embedding_64_25', 'uid_author_id_author_id_deepwalk_embedding_25', 'uid_author_id_uid_deepwalk_embedding_64_26', 'uid_author_id_author_id_deepwalk_embedding_26', 'uid_author_id_uid_deepwalk_embedding_64_27', 'uid_author_id_author_id_deepwalk_embedding_27', 'uid_author_id_uid_deepwalk_embedding_64_28', 'uid_author_id_author_id_deepwalk_embedding_28', 'uid_author_id_uid_deepwalk_embedding_64_29', 'uid_author_id_author_id_deepwalk_embedding_29', 'uid_author_id_uid_deepwalk_embedding_64_30', 'uid_author_id_author_id_deepwalk_embedding_30', 'uid_author_id_uid_deepwalk_embedding_64_31', 'uid_author_id_author_id_deepwalk_embedding_31', 'uid_author_id_uid_deepwalk_embedding_64_32', 'uid_author_id_author_id_deepwalk_embedding_32', 'uid_author_id_uid_deepwalk_embedding_64_33', 'uid_author_id_author_id_deepwalk_embedding_33', 'uid_author_id_uid_deepwalk_embedding_64_34', 'uid_author_id_author_id_deepwalk_embedding_34', 'uid_author_id_uid_deepwalk_embedding_64_35', 'uid_author_id_author_id_deepwalk_embedding_35', 'uid_author_id_uid_deepwalk_embedding_64_36', 'uid_author_id_author_id_deepwalk_embedding_36', 'uid_author_id_uid_deepwalk_embedding_64_37', 'uid_author_id_author_id_deepwalk_embedding_37', 'uid_author_id_uid_deepwalk_embedding_64_38', 'uid_author_id_author_id_deepwalk_embedding_38', 'uid_author_id_uid_deepwalk_embedding_64_39', 'uid_author_id_author_id_deepwalk_embedding_39', 'uid_author_id_uid_deepwalk_embedding_64_40', 'uid_author_id_author_id_deepwalk_embedding_40', 'uid_author_id_uid_deepwalk_embedding_64_41', 'uid_author_id_author_id_deepwalk_embedding_41', 'uid_author_id_uid_deepwalk_embedding_64_42', 'uid_author_id_author_id_deepwalk_embedding_42', 'uid_author_id_uid_deepwalk_embedding_64_43', 'uid_author_id_author_id_deepwalk_embedding_43', 'uid_author_id_uid_deepwalk_embedding_64_44', 'uid_author_id_author_id_deepwalk_embedding_44', 'uid_author_id_uid_deepwalk_embedding_64_45', 'uid_author_id_author_id_deepwalk_embedding_45', 'uid_author_id_uid_deepwalk_embedding_64_46', 'uid_author_id_author_id_deepwalk_embedding_46', 'uid_author_id_uid_deepwalk_embedding_64_47', 'uid_author_id_author_id_deepwalk_embedding_47', 'uid_author_id_uid_deepwalk_embedding_64_48', 'uid_author_id_author_id_deepwalk_embedding_48', 'uid_author_id_uid_deepwalk_embedding_64_49', 'uid_author_id_author_id_deepwalk_embedding_49', 'uid_author_id_uid_deepwalk_embedding_64_50', 'uid_author_id_author_id_deepwalk_embedding_50', 'uid_author_id_uid_deepwalk_embedding_64_51', 'uid_author_id_author_id_deepwalk_embedding_51', 'uid_author_id_uid_deepwalk_embedding_64_52', 'uid_author_id_author_id_deepwalk_embedding_52', 'uid_author_id_uid_deepwalk_embedding_64_53', 'uid_author_id_author_id_deepwalk_embedding_53', 'uid_author_id_uid_deepwalk_embedding_64_54', 'uid_author_id_author_id_deepwalk_embedding_54', 'uid_author_id_uid_deepwalk_embedding_64_55', 'uid_author_id_author_id_deepwalk_embedding_55', 'uid_author_id_uid_deepwalk_embedding_64_56', 'uid_author_id_author_id_deepwalk_embedding_56', 'uid_author_id_uid_deepwalk_embedding_64_57', 'uid_author_id_author_id_deepwalk_embedding_57', 'uid_author_id_uid_deepwalk_embedding_64_58', 'uid_author_id_author_id_deepwalk_embedding_58', 'uid_author_id_uid_deepwalk_embedding_64_59', 'uid_author_id_author_id_deepwalk_embedding_59', 'uid_author_id_uid_deepwalk_embedding_64_60', 'uid_author_id_author_id_deepwalk_embedding_60', 'uid_author_id_uid_deepwalk_embedding_64_61', 'uid_author_id_author_id_deepwalk_embedding_61', 'uid_author_id_uid_deepwalk_embedding_64_62', 'uid_author_id_author_id_deepwalk_embedding_62', 'uid_author_id_uid_deepwalk_embedding_64_63', 'uid_author_id_author_id_deepwalk_embedding_63', 'did_item_id_did_deepwalk_embedding_64_0', 'did_item_id_item_id_deepwalk_embedding_0', 'did_item_id_did_deepwalk_embedding_64_1', 'did_item_id_item_id_deepwalk_embedding_1', 'did_item_id_did_deepwalk_embedding_64_2', 'did_item_id_item_id_deepwalk_embedding_2', 'did_item_id_did_deepwalk_embedding_64_3', 'did_item_id_item_id_deepwalk_embedding_3', 'did_item_id_did_deepwalk_embedding_64_4', 'did_item_id_item_id_deepwalk_embedding_4', 'did_item_id_did_deepwalk_embedding_64_5', 'did_item_id_item_id_deepwalk_embedding_5', 'did_item_id_did_deepwalk_embedding_64_6', 'did_item_id_item_id_deepwalk_embedding_6', 'did_item_id_did_deepwalk_embedding_64_7', 'did_item_id_item_id_deepwalk_embedding_7', 'did_item_id_did_deepwalk_embedding_64_8', 'did_item_id_item_id_deepwalk_embedding_8', 'did_item_id_did_deepwalk_embedding_64_9', 'did_item_id_item_id_deepwalk_embedding_9', 'did_item_id_did_deepwalk_embedding_64_10', 'did_item_id_item_id_deepwalk_embedding_10', 'did_item_id_did_deepwalk_embedding_64_11', 'did_item_id_item_id_deepwalk_embedding_11', 'did_item_id_did_deepwalk_embedding_64_12', 'did_item_id_item_id_deepwalk_embedding_12', 'did_item_id_did_deepwalk_embedding_64_13', 'did_item_id_item_id_deepwalk_embedding_13', 'did_item_id_did_deepwalk_embedding_64_14', 'did_item_id_item_id_deepwalk_embedding_14', 'did_item_id_did_deepwalk_embedding_64_15', 'did_item_id_item_id_deepwalk_embedding_15', 'did_item_id_did_deepwalk_embedding_64_16', 'did_item_id_item_id_deepwalk_embedding_16', 'did_item_id_did_deepwalk_embedding_64_17', 'did_item_id_item_id_deepwalk_embedding_17', 'did_item_id_did_deepwalk_embedding_64_18', 'did_item_id_item_id_deepwalk_embedding_18', 'did_item_id_did_deepwalk_embedding_64_19', 'did_item_id_item_id_deepwalk_embedding_19', 'did_item_id_did_deepwalk_embedding_64_20', 'did_item_id_item_id_deepwalk_embedding_20', 'did_item_id_did_deepwalk_embedding_64_21', 'did_item_id_item_id_deepwalk_embedding_21', 'did_item_id_did_deepwalk_embedding_64_22', 'did_item_id_item_id_deepwalk_embedding_22', 'did_item_id_did_deepwalk_embedding_64_23', 'did_item_id_item_id_deepwalk_embedding_23', 'did_item_id_did_deepwalk_embedding_64_24', 'did_item_id_item_id_deepwalk_embedding_24', 'did_item_id_did_deepwalk_embedding_64_25', 'did_item_id_item_id_deepwalk_embedding_25', 'did_item_id_did_deepwalk_embedding_64_26', 'did_item_id_item_id_deepwalk_embedding_26', 'did_item_id_did_deepwalk_embedding_64_27', 'did_item_id_item_id_deepwalk_embedding_27', 'did_item_id_did_deepwalk_embedding_64_28', 'did_item_id_item_id_deepwalk_embedding_28', 'did_item_id_did_deepwalk_embedding_64_29', 'did_item_id_item_id_deepwalk_embedding_29', 'did_item_id_did_deepwalk_embedding_64_30', 'did_item_id_item_id_deepwalk_embedding_30', 'did_item_id_did_deepwalk_embedding_64_31', 'did_item_id_item_id_deepwalk_embedding_31', 'did_item_id_did_deepwalk_embedding_64_32', 'did_item_id_item_id_deepwalk_embedding_32', 'did_item_id_did_deepwalk_embedding_64_33', 'did_item_id_item_id_deepwalk_embedding_33', 'did_item_id_did_deepwalk_embedding_64_34', 'did_item_id_item_id_deepwalk_embedding_34', 'did_item_id_did_deepwalk_embedding_64_35', 'did_item_id_item_id_deepwalk_embedding_35', 'did_item_id_did_deepwalk_embedding_64_36', 'did_item_id_item_id_deepwalk_embedding_36', 'did_item_id_did_deepwalk_embedding_64_37', 'did_item_id_item_id_deepwalk_embedding_37', 'did_item_id_did_deepwalk_embedding_64_38', 'did_item_id_item_id_deepwalk_embedding_38', 'did_item_id_did_deepwalk_embedding_64_39', 'did_item_id_item_id_deepwalk_embedding_39', 'did_item_id_did_deepwalk_embedding_64_40', 'did_item_id_item_id_deepwalk_embedding_40', 'did_item_id_did_deepwalk_embedding_64_41', 'did_item_id_item_id_deepwalk_embedding_41', 'did_item_id_did_deepwalk_embedding_64_42', 'did_item_id_item_id_deepwalk_embedding_42', 'did_item_id_did_deepwalk_embedding_64_43', 'did_item_id_item_id_deepwalk_embedding_43', 'did_item_id_did_deepwalk_embedding_64_44', 'did_item_id_item_id_deepwalk_embedding_44', 'did_item_id_did_deepwalk_embedding_64_45', 'did_item_id_item_id_deepwalk_embedding_45', 'did_item_id_did_deepwalk_embedding_64_46', 'did_item_id_item_id_deepwalk_embedding_46', 'did_item_id_did_deepwalk_embedding_64_47', 'did_item_id_item_id_deepwalk_embedding_47', 'did_item_id_did_deepwalk_embedding_64_48', 'did_item_id_item_id_deepwalk_embedding_48', 'did_item_id_did_deepwalk_embedding_64_49', 'did_item_id_item_id_deepwalk_embedding_49', 'did_item_id_did_deepwalk_embedding_64_50', 'did_item_id_item_id_deepwalk_embedding_50', 'did_item_id_did_deepwalk_embedding_64_51', 'did_item_id_item_id_deepwalk_embedding_51', 'did_item_id_did_deepwalk_embedding_64_52', 'did_item_id_item_id_deepwalk_embedding_52', 'did_item_id_did_deepwalk_embedding_64_53', 'did_item_id_item_id_deepwalk_embedding_53', 'did_item_id_did_deepwalk_embedding_64_54', 'did_item_id_item_id_deepwalk_embedding_54', 'did_item_id_did_deepwalk_embedding_64_55', 'did_item_id_item_id_deepwalk_embedding_55', 'did_item_id_did_deepwalk_embedding_64_56', 'did_item_id_item_id_deepwalk_embedding_56', 'did_item_id_did_deepwalk_embedding_64_57', 'did_item_id_item_id_deepwalk_embedding_57', 'did_item_id_did_deepwalk_embedding_64_58', 'did_item_id_item_id_deepwalk_embedding_58', 'did_item_id_did_deepwalk_embedding_64_59', 'did_item_id_item_id_deepwalk_embedding_59', 'did_item_id_did_deepwalk_embedding_64_60', 'did_item_id_item_id_deepwalk_embedding_60', 'did_item_id_did_deepwalk_embedding_64_61', 'did_item_id_item_id_deepwalk_embedding_61', 'did_item_id_did_deepwalk_embedding_64_62', 'did_item_id_item_id_deepwalk_embedding_62', 'did_item_id_did_deepwalk_embedding_64_63', 'did_item_id_item_id_deepwalk_embedding_63', 'did_author_id_did_deepwalk_embedding_64_0', 'did_author_id_author_id_deepwalk_embedding_0', 'did_author_id_did_deepwalk_embedding_64_1', 'did_author_id_author_id_deepwalk_embedding_1', 'did_author_id_did_deepwalk_embedding_64_2', 'did_author_id_author_id_deepwalk_embedding_2', 'did_author_id_did_deepwalk_embedding_64_3', 'did_author_id_author_id_deepwalk_embedding_3', 'did_author_id_did_deepwalk_embedding_64_4', 'did_author_id_author_id_deepwalk_embedding_4', 'did_author_id_did_deepwalk_embedding_64_5', 'did_author_id_author_id_deepwalk_embedding_5', 'did_author_id_did_deepwalk_embedding_64_6', 'did_author_id_author_id_deepwalk_embedding_6', 'did_author_id_did_deepwalk_embedding_64_7', 'did_author_id_author_id_deepwalk_embedding_7', 'did_author_id_did_deepwalk_embedding_64_8', 'did_author_id_author_id_deepwalk_embedding_8', 'did_author_id_did_deepwalk_embedding_64_9', 'did_author_id_author_id_deepwalk_embedding_9', 'did_author_id_did_deepwalk_embedding_64_10', 'did_author_id_author_id_deepwalk_embedding_10', 'did_author_id_did_deepwalk_embedding_64_11', 'did_author_id_author_id_deepwalk_embedding_11', 'did_author_id_did_deepwalk_embedding_64_12', 'did_author_id_author_id_deepwalk_embedding_12', 'did_author_id_did_deepwalk_embedding_64_13', 'did_author_id_author_id_deepwalk_embedding_13', 'did_author_id_did_deepwalk_embedding_64_14', 'did_author_id_author_id_deepwalk_embedding_14', 'did_author_id_did_deepwalk_embedding_64_15', 'did_author_id_author_id_deepwalk_embedding_15', 'did_author_id_did_deepwalk_embedding_64_16', 'did_author_id_author_id_deepwalk_embedding_16', 'did_author_id_did_deepwalk_embedding_64_17', 'did_author_id_author_id_deepwalk_embedding_17', 'did_author_id_did_deepwalk_embedding_64_18', 'did_author_id_author_id_deepwalk_embedding_18', 'did_author_id_did_deepwalk_embedding_64_19', 'did_author_id_author_id_deepwalk_embedding_19', 'did_author_id_did_deepwalk_embedding_64_20', 'did_author_id_author_id_deepwalk_embedding_20', 'did_author_id_did_deepwalk_embedding_64_21', 'did_author_id_author_id_deepwalk_embedding_21', 'did_author_id_did_deepwalk_embedding_64_22', 'did_author_id_author_id_deepwalk_embedding_22', 'did_author_id_did_deepwalk_embedding_64_23', 'did_author_id_author_id_deepwalk_embedding_23', 'did_author_id_did_deepwalk_embedding_64_24', 'did_author_id_author_id_deepwalk_embedding_24', 'did_author_id_did_deepwalk_embedding_64_25', 'did_author_id_author_id_deepwalk_embedding_25', 'did_author_id_did_deepwalk_embedding_64_26', 'did_author_id_author_id_deepwalk_embedding_26', 'did_author_id_did_deepwalk_embedding_64_27', 'did_author_id_author_id_deepwalk_embedding_27', 'did_author_id_did_deepwalk_embedding_64_28', 'did_author_id_author_id_deepwalk_embedding_28', 'did_author_id_did_deepwalk_embedding_64_29', 'did_author_id_author_id_deepwalk_embedding_29', 'did_author_id_did_deepwalk_embedding_64_30', 'did_author_id_author_id_deepwalk_embedding_30', 'did_author_id_did_deepwalk_embedding_64_31', 'did_author_id_author_id_deepwalk_embedding_31', 'did_author_id_did_deepwalk_embedding_64_32', 'did_author_id_author_id_deepwalk_embedding_32', 'did_author_id_did_deepwalk_embedding_64_33', 'did_author_id_author_id_deepwalk_embedding_33', 'did_author_id_did_deepwalk_embedding_64_34', 'did_author_id_author_id_deepwalk_embedding_34', 'did_author_id_did_deepwalk_embedding_64_35', 'did_author_id_author_id_deepwalk_embedding_35', 'did_author_id_did_deepwalk_embedding_64_36', 'did_author_id_author_id_deepwalk_embedding_36', 'did_author_id_did_deepwalk_embedding_64_37', 'did_author_id_author_id_deepwalk_embedding_37', 'did_author_id_did_deepwalk_embedding_64_38', 'did_author_id_author_id_deepwalk_embedding_38', 'did_author_id_did_deepwalk_embedding_64_39', 'did_author_id_author_id_deepwalk_embedding_39', 'did_author_id_did_deepwalk_embedding_64_40', 'did_author_id_author_id_deepwalk_embedding_40', 'did_author_id_did_deepwalk_embedding_64_41', 'did_author_id_author_id_deepwalk_embedding_41', 'did_author_id_did_deepwalk_embedding_64_42', 'did_author_id_author_id_deepwalk_embedding_42', 'did_author_id_did_deepwalk_embedding_64_43', 'did_author_id_author_id_deepwalk_embedding_43', 'did_author_id_did_deepwalk_embedding_64_44', 'did_author_id_author_id_deepwalk_embedding_44', 'did_author_id_did_deepwalk_embedding_64_45', 'did_author_id_author_id_deepwalk_embedding_45', 'did_author_id_did_deepwalk_embedding_64_46', 'did_author_id_author_id_deepwalk_embedding_46', 'did_author_id_did_deepwalk_embedding_64_47', 'did_author_id_author_id_deepwalk_embedding_47', 'did_author_id_did_deepwalk_embedding_64_48', 'did_author_id_author_id_deepwalk_embedding_48', 'did_author_id_did_deepwalk_embedding_64_49', 'did_author_id_author_id_deepwalk_embedding_49', 'did_author_id_did_deepwalk_embedding_64_50', 'did_author_id_author_id_deepwalk_embedding_50', 'did_author_id_did_deepwalk_embedding_64_51', 'did_author_id_author_id_deepwalk_embedding_51', 'did_author_id_did_deepwalk_embedding_64_52', 'did_author_id_author_id_deepwalk_embedding_52', 'did_author_id_did_deepwalk_embedding_64_53', 'did_author_id_author_id_deepwalk_embedding_53', 'did_author_id_did_deepwalk_embedding_64_54', 'did_author_id_author_id_deepwalk_embedding_54', 'did_author_id_did_deepwalk_embedding_64_55', 'did_author_id_author_id_deepwalk_embedding_55', 'did_author_id_did_deepwalk_embedding_64_56', 'did_author_id_author_id_deepwalk_embedding_56', 'did_author_id_did_deepwalk_embedding_64_57', 'did_author_id_author_id_deepwalk_embedding_57', 'did_author_id_did_deepwalk_embedding_64_58', 'did_author_id_author_id_deepwalk_embedding_58', 'did_author_id_did_deepwalk_embedding_64_59', 'did_author_id_author_id_deepwalk_embedding_59', 'did_author_id_did_deepwalk_embedding_64_60', 'did_author_id_author_id_deepwalk_embedding_60', 'did_author_id_did_deepwalk_embedding_64_61', 'did_author_id_author_id_deepwalk_embedding_61', 'did_author_id_did_deepwalk_embedding_64_62', 'did_author_id_author_id_deepwalk_embedding_62', 'did_author_id_did_deepwalk_embedding_64_63', 'did_author_id_author_id_deepwalk_embedding_63']\n"
     ]
    },
    {
     "name": "stdout",
     "output_type": "stream",
     "text": [
      "  dense_hidden_size=[512]\n",
      "  dropout=0\n",
      "  embedding_features=None\n",
      "  epoch=1\n",
      "  hidden_size=[1024, 512]\n",
      "  infer_batch_size=8192\n",
      "  init_method=tnormal\n",
      "  init_value=0.01\n",
      "  k=16\n",
      "  label=finish\n",
      "  learning_rate=0.0002\n",
      "  metric=auc\n",
      "  model=nffm\n",
      "  model_name=nffm\n",
      "  multi_features=['title_keys']\n",
      "  multi_hash_num=500000\n",
      "  multi_weights=['title_values']\n",
      "  norm=True\n",
      "  num_display_steps=100\n",
      "  optimizer=adam\n",
      "  single_features=['did_finish_positive_num', 'did_finish_negative_num', 'did_all_cont', 'did_day_cont', 'author_id_finish_positive_num', 'author_id_finish_negative_num', 'author_id_all_cont', 'author_id_day_cont', 'item_id_finish_positive_num', 'item_id_finish_negative_num', 'item_id_all_cont', 'item_id_day_cont', 'author_id_did_all_cont', 'author_include_num_of_item', 'author_include_num_of_uid', 'title_cont', 'uid_has_num_of_did', 'uid_channel_nunique', 'did_video_duration_max', 'channel_video_duration_min', 'item_id_uid_nunique']\n",
      "  single_hash_num=5000000\n",
      "  single_k=16\n",
      "  test=True\n"
     ]
    }
   ],
   "source": [
    "hparam=tf.contrib.training.HParams(\n",
    "            model='nffm',\n",
    "            norm=True,\n",
    "            batch_norm_decay=0.9,\n",
    "            hidden_size=[1024,512],\n",
    "            dense_hidden_size=[512],\n",
    "            cross_layer_sizes=[128,128],\n",
    "            k=16,\n",
    "            single_k=16,\n",
    "            cross_hash_num=int(5e5),\n",
    "            single_hash_num=int(5e6),\n",
    "            multi_hash_num=int(5e5),\n",
    "            batch_size=4096,\n",
    "            infer_batch_size=2**13,\n",
    "            optimizer=\"adam\",\n",
    "            dropout=0,\n",
    "            kv_batch_num=100,\n",
    "            learning_rate=0.0002,\n",
    "            num_display_steps=100,\n",
    "            epoch=1, #don't modify\n",
    "            metric='auc',\n",
    "            activation=['relu','relu','relu'],\n",
    "            init_method='tnormal',\n",
    "            cross_activation='relu',\n",
    "            init_value=0.01,\n",
    "            cross_features=cross_features,\n",
    "            single_features=single_features,\n",
    "            multi_features=multi_features,\n",
    "            multi_weights=multi_weights,\n",
    "            dense_features=dense_features,\n",
    "            embedding_features=embedding_features,\n",
    "            kv_features=kv_features,\n",
    "            model_name=\"nffm\",\n",
    "            test=True,\n",
    "            label=label)\n",
    "utils.print_hparams(hparam)"
   ]
  },
  {
   "cell_type": "code",
   "execution_count": 4,
   "metadata": {},
   "outputs": [
    {
     "name": "stdout",
     "output_type": "stream",
     "text": [
      "# Trainable variables\n",
      "  emb_v2_cross:0, (500000, 12, 16), \n",
      "  emb_v2_multi:0, (500000, 12, 16), \n",
      "  emb_v2_single:0, (5000000, 16), \n",
      "  dense_norm/beta:0, (4979,), \n",
      "  dense_norm/gamma:0, (4979,), \n",
      "  Variable:0, (4979, 1024), \n",
      "  Variable_1:0, (1024, 512), \n",
      "  Variable_2:0, (512, 1), \n",
      "  Variable_3:0, (), \n"
     ]
    }
   ],
   "source": [
    "try:\n",
    "    del model\n",
    "    gc.collect()\n",
    "except:\n",
    "    pass\n",
    "model=ctrNet.build_model(hparam)"
   ]
  },
  {
   "cell_type": "code",
   "execution_count": 5,
   "metadata": {
    "collapsed": true
   },
   "outputs": [],
   "source": [
    "test=pd.read_pickle('data/dev_NN.pkl')"
   ]
  },
  {
   "cell_type": "code",
   "execution_count": 6,
   "metadata": {},
   "outputs": [
    {
     "name": "stdout",
     "output_type": "stream",
     "text": [
      "0\n",
      "  epoch 0 step 100 lr 0.0002 logloss 0.621560 gN 0.63, Tue Apr  2 22:16:18 2019\n",
      "  epoch 0 step 200 lr 0.0002 logloss 0.573525 gN 0.29, Tue Apr  2 22:18:02 2019\n",
      "  epoch 0 step 300 lr 0.0002 logloss 0.569380 gN 0.27, Tue Apr  2 22:19:53 2019\n",
      "  epoch 0 step 344 lr 0.0002 logloss 0.567086 gN 0.28, Tue Apr  2 22:20:20 2019\n"
     ]
    },
    {
     "name": "stderr",
     "output_type": "stream",
     "text": [
      "100%|██████████| 343/343 [08:44<00:00,  1.34it/s]\n"
     ]
    },
    {
     "name": "stdout",
     "output_type": "stream",
     "text": [
      "# Epcho-time 353.50s Eval AUC 0.728956. Eval logloss 0.583474. Best AUC 0.728956.finish\n",
      "1\n",
      "  epoch 0 step 100 lr 0.0002 logloss 0.565074 gN 0.26, Tue Apr  2 22:46:05 2019\n",
      "  epoch 0 step 200 lr 0.0002 logloss 0.562575 gN 0.25, Tue Apr  2 22:47:08 2019\n",
      "  epoch 0 step 300 lr 0.0002 logloss 0.561295 gN 0.24, Tue Apr  2 22:48:08 2019\n",
      "  epoch 0 step 344 lr 0.0002 logloss 0.560976 gN 0.26, Tue Apr  2 22:48:33 2019\n"
     ]
    },
    {
     "name": "stderr",
     "output_type": "stream",
     "text": [
      "100%|██████████| 343/343 [10:10<00:00,  1.48s/it]\n"
     ]
    },
    {
     "name": "stdout",
     "output_type": "stream",
     "text": [
      "# Epcho-time 216.62s Eval AUC 0.730404. Eval logloss 0.582524. Best AUC 0.730404.finish\n",
      "2\n",
      "  epoch 0 step 100 lr 0.0002 logloss 0.561436 gN 0.23, Tue Apr  2 23:08:14 2019\n",
      "  epoch 0 step 200 lr 0.0002 logloss 0.559770 gN 0.23, Tue Apr  2 23:09:16 2019\n",
      "  epoch 0 step 300 lr 0.0002 logloss 0.558889 gN 0.23, Tue Apr  2 23:10:17 2019\n",
      "  epoch 0 step 344 lr 0.0002 logloss 0.557003 gN 0.23, Tue Apr  2 23:10:43 2019\n"
     ]
    },
    {
     "name": "stderr",
     "output_type": "stream",
     "text": [
      "100%|██████████| 343/343 [06:21<00:00,  1.28it/s]\n"
     ]
    },
    {
     "name": "stdout",
     "output_type": "stream",
     "text": [
      "# Epcho-time 234.74s Eval AUC 0.734242. Eval logloss 0.579278. Best AUC 0.734242.finish\n",
      "3\n",
      "  epoch 0 step 100 lr 0.0002 logloss 0.558171 gN 0.22, Tue Apr  2 23:31:16 2019\n",
      "  epoch 0 step 200 lr 0.0002 logloss 0.558120 gN 0.22, Tue Apr  2 23:32:15 2019\n",
      "  epoch 0 step 300 lr 0.0002 logloss 0.557076 gN 0.22, Tue Apr  2 23:33:16 2019\n",
      "  epoch 0 step 344 lr 0.0002 logloss 0.556807 gN 0.22, Tue Apr  2 23:33:42 2019\n"
     ]
    },
    {
     "name": "stderr",
     "output_type": "stream",
     "text": [
      "100%|██████████| 343/343 [12:55<00:00,  1.04s/it]\n"
     ]
    },
    {
     "name": "stdout",
     "output_type": "stream",
     "text": [
      "# Epcho-time 251.30s Eval AUC 0.734274. Eval logloss 0.579998. Best AUC 0.734274.finish\n",
      "4\n",
      "  epoch 0 step 100 lr 0.0002 logloss 0.557176 gN 0.22, Wed Apr  3 00:00:10 2019\n",
      "  epoch 0 step 200 lr 0.0002 logloss 0.557742 gN 0.21, Wed Apr  3 00:01:15 2019\n",
      "  epoch 0 step 300 lr 0.0002 logloss 0.556329 gN 0.20, Wed Apr  3 00:02:18 2019\n",
      "  epoch 0 step 344 lr 0.0002 logloss 0.557113 gN 0.20, Wed Apr  3 00:03:01 2019\n"
     ]
    },
    {
     "name": "stderr",
     "output_type": "stream",
     "text": [
      "100%|██████████| 343/343 [08:40<00:00,  1.96s/it]\n"
     ]
    },
    {
     "name": "stdout",
     "output_type": "stream",
     "text": [
      "# Epcho-time 234.11s Eval AUC 0.735333. Eval logloss 0.578040. Best AUC 0.735333.finish\n",
      "5\n",
      "  epoch 0 step 100 lr 0.0002 logloss 0.555762 gN 0.21, Wed Apr  3 00:31:29 2019\n",
      "  epoch 0 step 200 lr 0.0002 logloss 0.555262 gN 0.20, Wed Apr  3 00:32:29 2019\n",
      "  epoch 0 step 300 lr 0.0002 logloss 0.554838 gN 0.20, Wed Apr  3 00:33:31 2019\n",
      "  epoch 0 step 344 lr 0.0002 logloss 0.554348 gN 0.21, Wed Apr  3 00:33:56 2019\n"
     ]
    },
    {
     "name": "stderr",
     "output_type": "stream",
     "text": [
      "100%|██████████| 343/343 [11:34<00:00,  1.52s/it]\n"
     ]
    },
    {
     "name": "stdout",
     "output_type": "stream",
     "text": [
      "# Epcho-time 227.93s Eval AUC 0.737892. Eval logloss 0.576467. Best AUC 0.737892.finish\n",
      "6\n",
      "  epoch 0 step 100 lr 0.0002 logloss 0.555395 gN 0.20, Wed Apr  3 00:53:27 2019\n",
      "  epoch 0 step 200 lr 0.0002 logloss 0.555861 gN 0.18, Wed Apr  3 00:54:39 2019\n",
      "  epoch 0 step 300 lr 0.0002 logloss 0.553912 gN 0.19, Wed Apr  3 00:55:41 2019\n",
      "  epoch 0 step 344 lr 0.0002 logloss 0.554193 gN 0.20, Wed Apr  3 00:56:07 2019\n"
     ]
    },
    {
     "name": "stderr",
     "output_type": "stream",
     "text": [
      "100%|██████████| 343/343 [13:25<00:00,  2.02s/it]\n"
     ]
    },
    {
     "name": "stdout",
     "output_type": "stream",
     "text": [
      "# Epcho-time 266.96s Eval AUC 0.737335. Eval logloss 0.577136. Best AUC 0.737892.finish\n",
      "7\n",
      "  epoch 0 step 100 lr 0.0002 logloss 0.553817 gN 0.19, Wed Apr  3 01:25:19 2019\n",
      "  epoch 0 step 200 lr 0.0002 logloss 0.554132 gN 0.19, Wed Apr  3 01:26:19 2019\n",
      "  epoch 0 step 300 lr 0.0002 logloss 0.553346 gN 0.18, Wed Apr  3 01:27:19 2019\n",
      "  epoch 0 step 344 lr 0.0002 logloss 0.554016 gN 0.18, Wed Apr  3 01:27:44 2019\n"
     ]
    },
    {
     "name": "stderr",
     "output_type": "stream",
     "text": [
      "100%|██████████| 343/343 [10:35<00:00,  1.30it/s]\n"
     ]
    },
    {
     "name": "stdout",
     "output_type": "stream",
     "text": [
      "# Epcho-time 210.40s Eval AUC 0.735879. Eval logloss 0.577630. Best AUC 0.737892.finish\n",
      "8\n",
      "  epoch 0 step 100 lr 0.0002 logloss 0.555019 gN 0.19, Wed Apr  3 01:47:15 2019\n",
      "  epoch 0 step 200 lr 0.0002 logloss 0.554795 gN 0.20, Wed Apr  3 01:48:24 2019\n",
      "  epoch 0 step 300 lr 0.0002 logloss 0.552915 gN 0.18, Wed Apr  3 01:49:28 2019\n",
      "  epoch 0 step 344 lr 0.0002 logloss 0.553176 gN 0.19, Wed Apr  3 01:49:56 2019\n"
     ]
    },
    {
     "name": "stderr",
     "output_type": "stream",
     "text": [
      "100%|██████████| 343/343 [11:07<00:00,  1.33s/it]\n"
     ]
    },
    {
     "name": "stdout",
     "output_type": "stream",
     "text": [
      "# Epcho-time 225.98s Eval AUC 0.737561. Eval logloss 0.576396. Best AUC 0.737892.finish\n",
      "9\n",
      "  epoch 0 step 100 lr 0.0002 logloss 0.553686 gN 0.17, Wed Apr  3 02:17:25 2019\n",
      "  epoch 0 step 200 lr 0.0002 logloss 0.552284 gN 0.17, Wed Apr  3 02:18:26 2019\n",
      "  epoch 0 step 300 lr 0.0002 logloss 0.554523 gN 0.18, Wed Apr  3 02:19:27 2019\n",
      "  epoch 0 step 344 lr 0.0002 logloss 0.552057 gN 0.17, Wed Apr  3 02:19:54 2019\n"
     ]
    },
    {
     "name": "stderr",
     "output_type": "stream",
     "text": [
      "100%|██████████| 343/343 [06:28<00:00,  1.27it/s]\n"
     ]
    },
    {
     "name": "stdout",
     "output_type": "stream",
     "text": [
      "# Epcho-time 239.07s Eval AUC 0.738538. Eval logloss 0.576098. Best AUC 0.738538.finish\n"
     ]
    }
   ],
   "source": [
    "k=10\n",
    "for i in range(k):\n",
    "    print(i)\n",
    "    train=pd.read_pickle('data/train_dev_NN_'+str(i)+'.pkl')\n",
    "    if (i+1)%1==0:      \n",
    "        model.train(train,test)\n",
    "    else:\n",
    "        model.train(train,None)"
   ]
  },
  {
   "cell_type": "raw",
   "metadata": {},
   "source": [
    "0\n",
    "  epoch 0 step 100 lr 0.0002 logloss 0.624227 gN 0.51, Thu Mar 28 04:32:00 2019\n",
    "  epoch 0 step 200 lr 0.0002 logloss 0.577713 gN 0.27, Thu Mar 28 04:32:58 2019\n",
    "  epoch 0 step 300 lr 0.0002 logloss 0.572622 gN 0.26, Thu Mar 28 04:34:00 2019\n",
    "  epoch 0 step 344 lr 0.0002 logloss 0.569354 gN 0.26, Thu Mar 28 04:34:26 2019\n",
    "100%|██████████| 343/343 [07:03<00:00,  1.24it/s]\n",
    "# Epcho-time 207.21s Eval AUC 0.726102. Eval logloss 0.585764. Best AUC 0.726102.finish\n",
    "1\n",
    "  epoch 0 step 100 lr 0.0002 logloss 0.567847 gN 0.25, Thu Mar 28 04:50:23 2019\n",
    "  epoch 0 step 200 lr 0.0002 logloss 0.564409 gN 0.24, Thu Mar 28 04:51:28 2019\n",
    "  epoch 0 step 300 lr 0.0002 logloss 0.562651 gN 0.23, Thu Mar 28 04:52:36 2019\n",
    "  epoch 0 step 344 lr 0.0002 logloss 0.562131 gN 0.24, Thu Mar 28 04:53:07 2019\n",
    "100%|██████████| 343/343 [07:54<00:00,  1.30s/it]\n",
    "# Epcho-time 225.30s Eval AUC 0.729076. Eval logloss 0.583065. Best AUC 0.729076.finish\n",
    "2\n",
    "  epoch 0 step 100 lr 0.0002 logloss 0.562583 gN 0.22, Thu Mar 28 05:13:57 2019\n",
    "  epoch 0 step 200 lr 0.0002 logloss 0.561285 gN 0.23, Thu Mar 28 05:14:57 2019\n",
    "  epoch 0 step 300 lr 0.0002 logloss 0.560118 gN 0.22, Thu Mar 28 05:15:56 2019\n",
    "  epoch 0 step 344 lr 0.0002 logloss 0.557487 gN 0.22, Thu Mar 28 05:16:22 2019\n",
    "100%|██████████| 343/343 [07:17<00:00,  1.31s/it]\n",
    "# Epcho-time 206.40s Eval AUC 0.731624. Eval logloss 0.581666. Best AUC 0.731624.finish\n",
    "3\n",
    "  epoch 0 step 100 lr 0.0002 logloss 0.558742 gN 0.21, Thu Mar 28 05:35:19 2019\n",
    "  epoch 0 step 200 lr 0.0002 logloss 0.558843 gN 0.22, Thu Mar 28 05:36:13 2019\n",
    "  epoch 0 step 300 lr 0.0002 logloss 0.558039 gN 0.21, Thu Mar 28 05:37:08 2019\n",
    "  epoch 0 step 344 lr 0.0002 logloss 0.558098 gN 0.22, Thu Mar 28 05:37:33 2019\n",
    "100%|██████████| 343/343 [06:48<00:00,  1.33s/it]\n",
    "# Epcho-time 189.65s Eval AUC 0.733413. Eval logloss 0.580025. Best AUC 0.733413.finish\n",
    "4\n",
    "  epoch 0 step 100 lr 0.0002 logloss 0.557914 gN 0.20, Thu Mar 28 05:57:11 2019\n",
    "  epoch 0 step 200 lr 0.0002 logloss 0.558552 gN 0.21, Thu Mar 28 05:58:24 2019\n",
    "  epoch 0 step 300 lr 0.0002 logloss 0.557587 gN 0.22, Thu Mar 28 05:59:17 2019\n",
    "  epoch 0 step 344 lr 0.0002 logloss 0.558468 gN 0.21, Thu Mar 28 05:59:39 2019\n",
    "100%|██████████| 343/343 [07:54<00:00,  1.35s/it]\n",
    "# Epcho-time 255.76s Eval AUC 0.733269. Eval logloss 0.579697. Best AUC 0.733413.finish\n",
    "5\n",
    "  epoch 0 step 100 lr 0.0002 logloss 0.556178 gN 0.20, Thu Mar 28 06:17:31 2019\n",
    "  epoch 0 step 200 lr 0.0002 logloss 0.555998 gN 0.19, Thu Mar 28 06:18:51 2019\n",
    "  epoch 0 step 300 lr 0.0002 logloss 0.555600 gN 0.20, Thu Mar 28 06:20:14 2019\n",
    "  epoch 0 step 344 lr 0.0002 logloss 0.554673 gN 0.21, Thu Mar 28 06:20:49 2019\n",
    "100%|██████████| 343/343 [10:56<00:00,  1.18s/it]\n",
    "# Epcho-time 280.90s Eval AUC 0.735153. Eval logloss 0.579105. Best AUC 0.735153.finish\n",
    "6\n",
    "  epoch 0 step 100 lr 0.0002 logloss 0.556256 gN 0.21, Thu Mar 28 06:47:25 2019\n",
    "  epoch 0 step 200 lr 0.0002 logloss 0.556842 gN 0.19, Thu Mar 28 06:49:27 2019\n",
    "  epoch 0 step 300 lr 0.0002 logloss 0.554628 gN 0.19, Thu Mar 28 06:50:59 2019\n",
    "  epoch 0 step 344 lr 0.0002 logloss 0.554889 gN 0.19, Thu Mar 28 06:51:56 2019\n",
    "100%|██████████| 343/343 [11:56<00:00,  1.13s/it]\n",
    "# Epcho-time 356.86s Eval AUC 0.735825. Eval logloss 0.578561. Best AUC 0.735825.finish\n",
    "7\n",
    "  epoch 0 step 100 lr 0.0002 logloss 0.554510 gN 0.19, Thu Mar 28 07:08:24 2019\n",
    "  epoch 0 step 200 lr 0.0002 logloss 0.554817 gN 0.20, Thu Mar 28 07:09:45 2019\n",
    "  epoch 0 step 300 lr 0.0002 logloss 0.554102 gN 0.18, Thu Mar 28 07:11:09 2019\n",
    "  epoch 0 step 344 lr 0.0002 logloss 0.554703 gN 0.18, Thu Mar 28 07:11:41 2019\n",
    "100%|██████████| 343/343 [10:02<00:00,  1.16s/it]\n",
    "# Epcho-time 280.68s Eval AUC 0.734962. Eval logloss 0.578430. Best AUC 0.735825.finish\n",
    "8\n",
    "  epoch 0 step 100 lr 0.0002 logloss 0.555911 gN 0.19, Thu Mar 28 07:28:22 2019\n",
    "  epoch 0 step 200 lr 0.0002 logloss 0.555504 gN 0.20, Thu Mar 28 07:29:15 2019\n",
    "  epoch 0 step 300 lr 0.0002 logloss 0.553509 gN 0.18, Thu Mar 28 07:30:07 2019\n",
    "  epoch 0 step 344 lr 0.0002 logloss 0.553952 gN 0.19, Thu Mar 28 07:30:30 2019\n",
    "100%|██████████| 343/343 [11:13<00:00,  1.33s/it]\n",
    "# Epcho-time 202.17s Eval AUC 0.735498. Eval logloss 0.578122. Best AUC 0.735825.finish\n",
    "9\n",
    "  epoch 0 step 100 lr 0.0002 logloss 0.554442 gN 0.18, Thu Mar 28 07:49:39 2019\n",
    "  epoch 0 step 200 lr 0.0002 logloss 0.553011 gN 0.17, Thu Mar 28 07:50:33 2019\n",
    "  epoch 0 step 300 lr 0.0002 logloss 0.555311 gN 0.19, Thu Mar 28 07:51:34 2019\n",
    "  epoch 0 step 344 lr 0.0002 logloss 0.552700 gN 0.18, Thu Mar 28 07:52:09 2019\n",
    "100%|██████████| 343/343 [08:05<00:00,  1.32it/s]\n",
    "# Epcho-time 203.39s Eval AUC 0.737225. Eval logloss 0.576923. Best AUC 0.737225.finish"
   ]
  },
  {
   "cell_type": "code",
   "execution_count": 7,
   "metadata": {},
   "outputs": [
    {
     "name": "stdout",
     "output_type": "stream",
     "text": [
      "Dev Inference:\n"
     ]
    },
    {
     "name": "stderr",
     "output_type": "stream",
     "text": [
      "100%|██████████| 343/343 [11:37<00:00,  1.50s/it]\n"
     ]
    },
    {
     "name": "stdout",
     "output_type": "stream",
     "text": [
      "finish 0.738499\n"
     ]
    },
    {
     "data": {
      "text/plain": [
       "91"
      ]
     },
     "execution_count": 7,
     "metadata": {},
     "output_type": "execute_result"
    }
   ],
   "source": [
    "print(\"Dev Inference:\")\n",
    "preds=model.infer(test)\n",
    "test[hparam.label+'_probability']=preds.round(6) \n",
    "fpr, tpr, thresholds = metrics.roc_curve(test[hparam.label]+1, test[hparam.label+'_probability'], pos_label=2)\n",
    "auc=metrics.auc(fpr, tpr)\n",
    "print(hparam.label,round(auc,6))\n",
    "score=str(round(auc,6))\n",
    "del train\n",
    "del test\n",
    "gc.collect()"
   ]
  },
  {
   "cell_type": "code",
   "execution_count": 8,
   "metadata": {},
   "outputs": [
    {
     "name": "stdout",
     "output_type": "stream",
     "text": [
      "Fold 0\n",
      "# Trainable variables\n",
      "  emb_v2_cross:0, (500000, 12, 16), \n",
      "  emb_v2_multi:0, (500000, 12, 16), \n",
      "  emb_v2_single:0, (5000000, 16), \n",
      "  dense_norm/beta:0, (4979,), \n",
      "  dense_norm/gamma:0, (4979,), \n",
      "  Variable:0, (4979, 1024), \n",
      "  Variable_1:0, (1024, 512), \n",
      "  Variable_2:0, (512, 1), \n",
      "  Variable_3:0, (), \n",
      "0 1\n",
      "  epoch 0 step 100 lr 0.0002 logloss 0.609101 gN 0.59, Wed Apr  3 03:01:57 2019\n",
      "  epoch 0 step 200 lr 0.0002 logloss 0.573586 gN 0.31, Wed Apr  3 03:03:42 2019\n",
      "  epoch 0 step 300 lr 0.0002 logloss 0.568233 gN 0.30, Wed Apr  3 03:05:11 2019\n",
      "  epoch 0 step 400 lr 0.0002 logloss 0.564325 gN 0.28, Wed Apr  3 03:06:36 2019\n",
      "  epoch 0 step 481 lr 0.0002 logloss 0.564140 gN 0.28, Wed Apr  3 03:07:51 2019\n",
      "1 7\n",
      "  epoch 0 step 100 lr 0.0002 logloss 0.562477 gN 0.25, Wed Apr  3 03:29:55 2019\n",
      "  epoch 0 step 200 lr 0.0002 logloss 0.562850 gN 0.26, Wed Apr  3 03:31:11 2019\n",
      "  epoch 0 step 300 lr 0.0002 logloss 0.560067 gN 0.26, Wed Apr  3 03:32:14 2019\n",
      "  epoch 0 step 400 lr 0.0002 logloss 0.560507 gN 0.24, Wed Apr  3 03:33:19 2019\n",
      "  epoch 0 step 481 lr 0.0002 logloss 0.558776 gN 0.25, Wed Apr  3 03:34:09 2019\n",
      "2 8\n",
      "  epoch 0 step 100 lr 0.0002 logloss 0.560111 gN 0.24, Wed Apr  3 03:52:30 2019\n",
      "  epoch 0 step 200 lr 0.0002 logloss 0.559129 gN 0.23, Wed Apr  3 03:53:34 2019\n",
      "  epoch 0 step 300 lr 0.0002 logloss 0.557969 gN 0.24, Wed Apr  3 03:54:36 2019\n",
      "  epoch 0 step 400 lr 0.0002 logloss 0.557567 gN 0.22, Wed Apr  3 03:55:38 2019\n",
      "  epoch 0 step 481 lr 0.0002 logloss 0.554993 gN 0.23, Wed Apr  3 03:56:27 2019\n",
      "3 4\n",
      "  epoch 0 step 100 lr 0.0002 logloss 0.556765 gN 0.23, Wed Apr  3 04:09:56 2019\n",
      "  epoch 0 step 200 lr 0.0002 logloss 0.557779 gN 0.21, Wed Apr  3 04:10:59 2019\n",
      "  epoch 0 step 300 lr 0.0002 logloss 0.556504 gN 0.21, Wed Apr  3 04:12:03 2019\n",
      "  epoch 0 step 400 lr 0.0002 logloss 0.556097 gN 0.19, Wed Apr  3 04:13:37 2019\n",
      "  epoch 0 step 481 lr 0.0002 logloss 0.555354 gN 0.22, Wed Apr  3 04:15:00 2019\n",
      "4 6\n",
      "  epoch 0 step 100 lr 0.0002 logloss 0.555953 gN 0.21, Wed Apr  3 04:29:44 2019\n",
      "  epoch 0 step 200 lr 0.0002 logloss 0.555828 gN 0.20, Wed Apr  3 04:31:04 2019\n",
      "  epoch 0 step 300 lr 0.0002 logloss 0.554226 gN 0.20, Wed Apr  3 04:32:09 2019\n",
      "  epoch 0 step 400 lr 0.0002 logloss 0.556240 gN 0.19, Wed Apr  3 04:33:46 2019\n",
      "  epoch 0 step 481 lr 0.0002 logloss 0.554108 gN 0.19, Wed Apr  3 04:35:20 2019\n",
      "5 3\n",
      "  epoch 0 step 100 lr 0.0002 logloss 0.555364 gN 0.20, Wed Apr  3 04:48:28 2019\n",
      "  epoch 0 step 200 lr 0.0002 logloss 0.553466 gN 0.19, Wed Apr  3 04:49:34 2019\n",
      "  epoch 0 step 300 lr 0.0002 logloss 0.553351 gN 0.20, Wed Apr  3 04:50:39 2019\n",
      "  epoch 0 step 400 lr 0.0002 logloss 0.553464 gN 0.18, Wed Apr  3 04:51:41 2019\n",
      "  epoch 0 step 481 lr 0.0002 logloss 0.553574 gN 0.19, Wed Apr  3 04:52:31 2019\n",
      "6 2\n",
      "  epoch 0 step 100 lr 0.0002 logloss 0.553697 gN 0.20, Wed Apr  3 05:07:30 2019\n",
      "  epoch 0 step 200 lr 0.0002 logloss 0.555268 gN 0.22, Wed Apr  3 05:08:42 2019\n",
      "  epoch 0 step 300 lr 0.0002 logloss 0.553288 gN 0.20, Wed Apr  3 05:10:32 2019\n",
      "  epoch 0 step 400 lr 0.0002 logloss 0.552549 gN 0.18, Wed Apr  3 05:12:22 2019\n",
      "  epoch 0 step 481 lr 0.0002 logloss 0.553533 gN 0.19, Wed Apr  3 05:13:49 2019\n",
      "7 0\n",
      "  epoch 0 step 100 lr 0.0002 logloss 0.552198 gN 0.17, Wed Apr  3 05:35:55 2019\n",
      "  epoch 0 step 200 lr 0.0002 logloss 0.552850 gN 0.20, Wed Apr  3 05:37:01 2019\n",
      "  epoch 0 step 300 lr 0.0002 logloss 0.552768 gN 0.19, Wed Apr  3 05:38:03 2019\n",
      "  epoch 0 step 400 lr 0.0002 logloss 0.552589 gN 0.18, Wed Apr  3 05:39:07 2019\n",
      "  epoch 0 step 481 lr 0.0002 logloss 0.552725 gN 0.18, Wed Apr  3 05:39:56 2019\n",
      "8 9\n",
      "  epoch 0 step 100 lr 0.0002 logloss 0.552159 gN 0.20, Wed Apr  3 06:00:11 2019\n",
      "  epoch 0 step 200 lr 0.0002 logloss 0.551625 gN 0.17, Wed Apr  3 06:01:15 2019\n",
      "  epoch 0 step 300 lr 0.0002 logloss 0.551891 gN 0.19, Wed Apr  3 06:02:19 2019\n",
      "  epoch 0 step 400 lr 0.0002 logloss 0.551829 gN 0.18, Wed Apr  3 06:03:23 2019\n",
      "  epoch 0 step 481 lr 0.0002 logloss 0.552901 gN 0.18, Wed Apr  3 06:04:14 2019\n",
      "9 5\n",
      "  epoch 0 step 100 lr 0.0002 logloss 0.553632 gN 0.21, Wed Apr  3 06:21:21 2019\n",
      "  epoch 0 step 200 lr 0.0002 logloss 0.550847 gN 0.19, Wed Apr  3 06:23:11 2019\n",
      "  epoch 0 step 300 lr 0.0002 logloss 0.551547 gN 0.18, Wed Apr  3 06:24:14 2019\n",
      "  epoch 0 step 400 lr 0.0002 logloss 0.552009 gN 0.17, Wed Apr  3 06:25:17 2019\n",
      "  epoch 0 step 481 lr 0.0002 logloss 0.550732 gN 0.19, Wed Apr  3 06:26:07 2019\n",
      "Test Inference:\n"
     ]
    },
    {
     "name": "stderr",
     "output_type": "stream",
     "text": [
      "100%|██████████| 338/338 [11:48<00:00,  1.50s/it]\n"
     ]
    },
    {
     "name": "stdout",
     "output_type": "stream",
     "text": [
      "Fold 1\n",
      "# Trainable variables\n",
      "  emb_v2_cross:0, (500000, 12, 16), \n",
      "  emb_v2_multi:0, (500000, 12, 16), \n",
      "  emb_v2_single:0, (5000000, 16), \n",
      "  dense_norm/beta:0, (4979,), \n",
      "  dense_norm/gamma:0, (4979,), \n",
      "  Variable:0, (4979, 1024), \n",
      "  Variable_1:0, (1024, 512), \n",
      "  Variable_2:0, (512, 1), \n",
      "  Variable_3:0, (), \n",
      "0 5\n",
      "  epoch 0 step 100 lr 0.0002 logloss 0.617136 gN 0.62, Wed Apr  3 06:57:17 2019\n",
      "  epoch 0 step 200 lr 0.0002 logloss 0.573034 gN 0.28, Wed Apr  3 06:59:03 2019\n",
      "  epoch 0 step 300 lr 0.0002 logloss 0.568694 gN 0.27, Wed Apr  3 07:00:50 2019\n",
      "  epoch 0 step 400 lr 0.0002 logloss 0.566279 gN 0.25, Wed Apr  3 07:02:21 2019\n",
      "  epoch 0 step 481 lr 0.0002 logloss 0.563612 gN 0.27, Wed Apr  3 07:03:48 2019\n",
      "1 9\n",
      "  epoch 0 step 100 lr 0.0002 logloss 0.563230 gN 0.26, Wed Apr  3 07:26:32 2019\n",
      "  epoch 0 step 200 lr 0.0002 logloss 0.560649 gN 0.24, Wed Apr  3 07:28:11 2019\n",
      "  epoch 0 step 300 lr 0.0002 logloss 0.560718 gN 0.25, Wed Apr  3 07:29:15 2019\n",
      "  epoch 0 step 400 lr 0.0002 logloss 0.559852 gN 0.23, Wed Apr  3 07:30:19 2019\n",
      "  epoch 0 step 481 lr 0.0002 logloss 0.560690 gN 0.24, Wed Apr  3 07:31:10 2019\n",
      "2 3\n",
      "  epoch 0 step 100 lr 0.0002 logloss 0.560160 gN 0.25, Wed Apr  3 07:49:59 2019\n",
      "  epoch 0 step 200 lr 0.0002 logloss 0.558040 gN 0.22, Wed Apr  3 07:51:01 2019\n",
      "  epoch 0 step 300 lr 0.0002 logloss 0.557407 gN 0.23, Wed Apr  3 07:52:50 2019\n",
      "  epoch 0 step 400 lr 0.0002 logloss 0.557061 gN 0.21, Wed Apr  3 07:54:41 2019\n",
      "  epoch 0 step 481 lr 0.0002 logloss 0.556890 gN 0.21, Wed Apr  3 07:56:03 2019\n",
      "3 8\n",
      "  epoch 0 step 100 lr 0.0002 logloss 0.557679 gN 0.21, Wed Apr  3 08:12:56 2019\n",
      "  epoch 0 step 200 lr 0.0002 logloss 0.556894 gN 0.21, Wed Apr  3 08:14:08 2019\n",
      "  epoch 0 step 300 lr 0.0002 logloss 0.555986 gN 0.21, Wed Apr  3 08:15:14 2019\n",
      "  epoch 0 step 400 lr 0.0002 logloss 0.556158 gN 0.20, Wed Apr  3 08:16:46 2019\n",
      "  epoch 0 step 481 lr 0.0002 logloss 0.553170 gN 0.21, Wed Apr  3 08:17:37 2019\n",
      "4 2\n",
      "  epoch 0 step 100 lr 0.0002 logloss 0.555761 gN 0.21, Wed Apr  3 08:35:58 2019\n",
      "  epoch 0 step 200 lr 0.0002 logloss 0.557004 gN 0.23, Wed Apr  3 08:37:10 2019\n",
      "  epoch 0 step 300 lr 0.0002 logloss 0.554883 gN 0.19, Wed Apr  3 08:38:11 2019\n",
      "  epoch 0 step 400 lr 0.0002 logloss 0.554143 gN 0.18, Wed Apr  3 08:39:14 2019\n",
      "  epoch 0 step 481 lr 0.0002 logloss 0.555298 gN 0.19, Wed Apr  3 08:40:01 2019\n",
      "5 7\n",
      "  epoch 0 step 100 lr 0.0002 logloss 0.553469 gN 0.17, Wed Apr  3 08:54:35 2019\n",
      "  epoch 0 step 200 lr 0.0002 logloss 0.555351 gN 0.20, Wed Apr  3 08:55:49 2019\n",
      "  epoch 0 step 300 lr 0.0002 logloss 0.553133 gN 0.20, Wed Apr  3 08:56:55 2019\n",
      "  epoch 0 step 400 lr 0.0002 logloss 0.554275 gN 0.18, Wed Apr  3 08:57:59 2019\n",
      "  epoch 0 step 481 lr 0.0002 logloss 0.552573 gN 0.19, Wed Apr  3 08:58:50 2019\n",
      "6 4\n",
      "  epoch 0 step 100 lr 0.0002 logloss 0.553088 gN 0.18, Wed Apr  3 09:13:18 2019\n",
      "  epoch 0 step 200 lr 0.0002 logloss 0.554780 gN 0.17, Wed Apr  3 09:15:06 2019\n",
      "  epoch 0 step 300 lr 0.0002 logloss 0.553521 gN 0.19, Wed Apr  3 09:16:53 2019\n",
      "  epoch 0 step 400 lr 0.0002 logloss 0.553170 gN 0.17, Wed Apr  3 09:18:38 2019\n",
      "  epoch 0 step 481 lr 0.0002 logloss 0.552888 gN 0.19, Wed Apr  3 09:19:36 2019\n",
      "7 1\n",
      "  epoch 0 step 100 lr 0.0002 logloss 0.554005 gN 0.18, Wed Apr  3 09:37:20 2019\n",
      "  epoch 0 step 200 lr 0.0002 logloss 0.552143 gN 0.20, Wed Apr  3 09:38:25 2019\n",
      "  epoch 0 step 300 lr 0.0002 logloss 0.552026 gN 0.20, Wed Apr  3 09:39:28 2019\n",
      "  epoch 0 step 400 lr 0.0002 logloss 0.550563 gN 0.17, Wed Apr  3 09:40:31 2019\n",
      "  epoch 0 step 481 lr 0.0002 logloss 0.551808 gN 0.17, Wed Apr  3 09:41:22 2019\n",
      "8 0\n",
      "  epoch 0 step 100 lr 0.0002 logloss 0.551838 gN 0.16, Wed Apr  3 09:54:57 2019\n",
      "  epoch 0 step 200 lr 0.0002 logloss 0.552352 gN 0.19, Wed Apr  3 09:55:59 2019\n",
      "  epoch 0 step 300 lr 0.0002 logloss 0.552015 gN 0.19, Wed Apr  3 09:57:02 2019\n",
      "  epoch 0 step 400 lr 0.0002 logloss 0.552044 gN 0.18, Wed Apr  3 09:58:05 2019\n",
      "  epoch 0 step 481 lr 0.0002 logloss 0.552221 gN 0.17, Wed Apr  3 09:58:54 2019\n",
      "9 6\n",
      "  epoch 0 step 100 lr 0.0002 logloss 0.551780 gN 0.18, Wed Apr  3 10:11:07 2019\n",
      "  epoch 0 step 200 lr 0.0002 logloss 0.552119 gN 0.17, Wed Apr  3 10:12:14 2019\n",
      "  epoch 0 step 300 lr 0.0002 logloss 0.550604 gN 0.17, Wed Apr  3 10:13:17 2019\n",
      "  epoch 0 step 400 lr 0.0002 logloss 0.553060 gN 0.17, Wed Apr  3 10:14:19 2019\n",
      "  epoch 0 step 481 lr 0.0002 logloss 0.550916 gN 0.17, Wed Apr  3 10:15:08 2019\n",
      "Test Inference:\n"
     ]
    },
    {
     "name": "stderr",
     "output_type": "stream",
     "text": [
      "100%|██████████| 338/338 [13:54<00:00,  2.01s/it]\n"
     ]
    },
    {
     "name": "stdout",
     "output_type": "stream",
     "text": [
      "Fold 2\n",
      "# Trainable variables\n",
      "  emb_v2_cross:0, (500000, 12, 16), \n",
      "  emb_v2_multi:0, (500000, 12, 16), \n",
      "  emb_v2_single:0, (5000000, 16), \n",
      "  dense_norm/beta:0, (4979,), \n",
      "  dense_norm/gamma:0, (4979,), \n",
      "  Variable:0, (4979, 1024), \n",
      "  Variable_1:0, (1024, 512), \n",
      "  Variable_2:0, (512, 1), \n",
      "  Variable_3:0, (), \n",
      "0 6\n",
      "  epoch 0 step 100 lr 0.0002 logloss 0.608095 gN 0.60, Wed Apr  3 10:42:49 2019\n",
      "  epoch 0 step 200 lr 0.0002 logloss 0.574805 gN 0.31, Wed Apr  3 10:44:36 2019\n",
      "  epoch 0 step 300 lr 0.0002 logloss 0.568368 gN 0.31, Wed Apr  3 10:45:41 2019\n",
      "  epoch 0 step 400 lr 0.0002 logloss 0.567525 gN 0.29, Wed Apr  3 10:46:45 2019\n",
      "  epoch 0 step 481 lr 0.0002 logloss 0.564452 gN 0.30, Wed Apr  3 10:47:36 2019\n",
      "1 1\n",
      "  epoch 0 step 100 lr 0.0002 logloss 0.564860 gN 0.29, Wed Apr  3 11:08:33 2019\n",
      "  epoch 0 step 200 lr 0.0002 logloss 0.561616 gN 0.28, Wed Apr  3 11:10:12 2019\n",
      "  epoch 0 step 300 lr 0.0002 logloss 0.560021 gN 0.26, Wed Apr  3 11:11:15 2019\n",
      "  epoch 0 step 400 lr 0.0002 logloss 0.558301 gN 0.26, Wed Apr  3 11:12:17 2019\n",
      "  epoch 0 step 481 lr 0.0002 logloss 0.559457 gN 0.28, Wed Apr  3 11:13:08 2019\n",
      "2 8\n",
      "  epoch 0 step 100 lr 0.0002 logloss 0.560115 gN 0.28, Wed Apr  3 11:37:55 2019\n",
      "  epoch 0 step 200 lr 0.0002 logloss 0.558906 gN 0.24, Wed Apr  3 11:39:08 2019\n",
      "  epoch 0 step 300 lr 0.0002 logloss 0.558179 gN 0.27, Wed Apr  3 11:40:29 2019\n",
      "  epoch 0 step 400 lr 0.0002 logloss 0.557934 gN 0.23, Wed Apr  3 11:41:51 2019\n",
      "  epoch 0 step 481 lr 0.0002 logloss 0.554794 gN 0.24, Wed Apr  3 11:42:46 2019\n",
      "3 3\n",
      "  epoch 0 step 100 lr 0.0002 logloss 0.558584 gN 0.28, Wed Apr  3 11:55:24 2019\n",
      "  epoch 0 step 200 lr 0.0002 logloss 0.556207 gN 0.22, Wed Apr  3 11:56:30 2019\n",
      "  epoch 0 step 300 lr 0.0002 logloss 0.555694 gN 0.23, Wed Apr  3 11:57:58 2019\n",
      "  epoch 0 step 400 lr 0.0002 logloss 0.555641 gN 0.22, Wed Apr  3 11:59:22 2019\n",
      "  epoch 0 step 481 lr 0.0002 logloss 0.555517 gN 0.21, Wed Apr  3 12:00:21 2019\n",
      "4 4\n",
      "  epoch 0 step 100 lr 0.0002 logloss 0.555538 gN 0.23, Wed Apr  3 12:17:14 2019\n",
      "  epoch 0 step 200 lr 0.0002 logloss 0.556392 gN 0.21, Wed Apr  3 12:18:40 2019\n",
      "  epoch 0 step 300 lr 0.0002 logloss 0.555584 gN 0.22, Wed Apr  3 12:19:41 2019\n",
      "  epoch 0 step 400 lr 0.0002 logloss 0.555301 gN 0.19, Wed Apr  3 12:20:45 2019\n",
      "  epoch 0 step 481 lr 0.0002 logloss 0.554606 gN 0.22, Wed Apr  3 12:21:34 2019\n",
      "5 2\n",
      "  epoch 0 step 100 lr 0.0002 logloss 0.554815 gN 0.21, Wed Apr  3 12:38:54 2019\n",
      "  epoch 0 step 200 lr 0.0002 logloss 0.556208 gN 0.24, Wed Apr  3 12:39:54 2019\n",
      "  epoch 0 step 300 lr 0.0002 logloss 0.554237 gN 0.21, Wed Apr  3 12:40:58 2019\n",
      "  epoch 0 step 400 lr 0.0002 logloss 0.553502 gN 0.20, Wed Apr  3 12:42:02 2019\n",
      "  epoch 0 step 481 lr 0.0002 logloss 0.554640 gN 0.21, Wed Apr  3 12:42:51 2019\n",
      "6 0\n",
      "  epoch 0 step 100 lr 0.0002 logloss 0.553232 gN 0.19, Wed Apr  3 12:57:43 2019\n",
      "  epoch 0 step 200 lr 0.0002 logloss 0.553745 gN 0.21, Wed Apr  3 12:59:08 2019\n",
      "  epoch 0 step 300 lr 0.0002 logloss 0.553713 gN 0.20, Wed Apr  3 13:00:10 2019\n",
      "  epoch 0 step 400 lr 0.0002 logloss 0.553341 gN 0.19, Wed Apr  3 13:01:12 2019\n",
      "  epoch 0 step 481 lr 0.0002 logloss 0.553475 gN 0.19, Wed Apr  3 13:02:01 2019\n",
      "7 7\n",
      "  epoch 0 step 100 lr 0.0002 logloss 0.552328 gN 0.18, Wed Apr  3 13:20:54 2019\n",
      "  epoch 0 step 200 lr 0.0002 logloss 0.553944 gN 0.20, Wed Apr  3 13:21:56 2019\n",
      "  epoch 0 step 300 lr 0.0002 logloss 0.551574 gN 0.20, Wed Apr  3 13:23:00 2019\n",
      "  epoch 0 step 400 lr 0.0002 logloss 0.552921 gN 0.18, Wed Apr  3 13:24:04 2019\n",
      "  epoch 0 step 481 lr 0.0002 logloss 0.551320 gN 0.19, Wed Apr  3 13:24:55 2019\n",
      "8 5\n",
      "  epoch 0 step 100 lr 0.0002 logloss 0.554238 gN 0.21, Wed Apr  3 13:37:46 2019\n",
      "  epoch 0 step 200 lr 0.0002 logloss 0.551721 gN 0.19, Wed Apr  3 13:39:21 2019\n",
      "  epoch 0 step 300 lr 0.0002 logloss 0.552333 gN 0.19, Wed Apr  3 13:40:26 2019\n",
      "  epoch 0 step 400 lr 0.0002 logloss 0.552708 gN 0.17, Wed Apr  3 13:41:33 2019\n",
      "  epoch 0 step 481 lr 0.0002 logloss 0.551433 gN 0.20, Wed Apr  3 13:42:26 2019\n",
      "9 9\n",
      "  epoch 0 step 100 lr 0.0002 logloss 0.551483 gN 0.19, Wed Apr  3 13:54:10 2019\n",
      "  epoch 0 step 200 lr 0.0002 logloss 0.551246 gN 0.17, Wed Apr  3 13:55:17 2019\n",
      "  epoch 0 step 300 lr 0.0002 logloss 0.551414 gN 0.19, Wed Apr  3 13:56:22 2019\n",
      "  epoch 0 step 400 lr 0.0002 logloss 0.551539 gN 0.18, Wed Apr  3 13:57:28 2019\n",
      "  epoch 0 step 481 lr 0.0002 logloss 0.552553 gN 0.18, Wed Apr  3 13:58:21 2019\n",
      "Test Inference:\n"
     ]
    },
    {
     "name": "stderr",
     "output_type": "stream",
     "text": [
      "100%|██████████| 338/338 [17:05<00:00,  2.97s/it]\n"
     ]
    },
    {
     "name": "stdout",
     "output_type": "stream",
     "text": [
      "Fold 3\n",
      "# Trainable variables\n",
      "  emb_v2_cross:0, (500000, 12, 16), \n",
      "  emb_v2_multi:0, (500000, 12, 16), \n",
      "  emb_v2_single:0, (5000000, 16), \n",
      "  dense_norm/beta:0, (4979,), \n",
      "  dense_norm/gamma:0, (4979,), \n",
      "  Variable:0, (4979, 1024), \n",
      "  Variable_1:0, (1024, 512), \n",
      "  Variable_2:0, (512, 1), \n",
      "  Variable_3:0, (), \n",
      "0 4\n",
      "  epoch 0 step 100 lr 0.0002 logloss 0.622248 gN 0.66, Wed Apr  3 14:31:09 2019\n",
      "  epoch 0 step 200 lr 0.0002 logloss 0.574529 gN 0.29, Wed Apr  3 14:33:01 2019\n",
      "  epoch 0 step 300 lr 0.0002 logloss 0.568809 gN 0.29, Wed Apr  3 14:34:56 2019\n",
      "  epoch 0 step 400 lr 0.0002 logloss 0.566247 gN 0.26, Wed Apr  3 14:36:49 2019\n",
      "  epoch 0 step 481 lr 0.0002 logloss 0.564248 gN 0.28, Wed Apr  3 14:38:17 2019\n",
      "1 2\n",
      "  epoch 0 step 100 lr 0.0002 logloss 0.563344 gN 0.25, Wed Apr  3 14:49:34 2019\n",
      "  epoch 0 step 200 lr 0.0002 logloss 0.563455 gN 0.27, Wed Apr  3 14:50:53 2019\n",
      "  epoch 0 step 300 lr 0.0002 logloss 0.561294 gN 0.25, Wed Apr  3 14:52:06 2019\n",
      "  epoch 0 step 400 lr 0.0002 logloss 0.559851 gN 0.23, Wed Apr  3 14:53:19 2019\n",
      "  epoch 0 step 481 lr 0.0002 logloss 0.560478 gN 0.24, Wed Apr  3 14:54:15 2019\n",
      "2 6\n",
      "  epoch 0 step 100 lr 0.0002 logloss 0.559035 gN 0.23, Wed Apr  3 15:04:02 2019\n",
      "  epoch 0 step 200 lr 0.0002 logloss 0.559047 gN 0.22, Wed Apr  3 15:05:42 2019\n",
      "  epoch 0 step 300 lr 0.0002 logloss 0.557267 gN 0.22, Wed Apr  3 15:07:13 2019\n",
      "  epoch 0 step 400 lr 0.0002 logloss 0.558896 gN 0.21, Wed Apr  3 15:08:32 2019\n",
      "  epoch 0 step 481 lr 0.0002 logloss 0.557045 gN 0.21, Wed Apr  3 15:09:37 2019\n",
      "3 7\n",
      "  epoch 0 step 100 lr 0.0002 logloss 0.556094 gN 0.20, Wed Apr  3 15:25:11 2019\n",
      "  epoch 0 step 200 lr 0.0002 logloss 0.557540 gN 0.21, Wed Apr  3 15:27:28 2019\n",
      "  epoch 0 step 300 lr 0.0002 logloss 0.555216 gN 0.22, Wed Apr  3 15:28:44 2019\n",
      "  epoch 0 step 400 lr 0.0002 logloss 0.556250 gN 0.20, Wed Apr  3 15:30:03 2019\n",
      "  epoch 0 step 481 lr 0.0002 logloss 0.554989 gN 0.21, Wed Apr  3 15:31:06 2019\n",
      "4 1\n",
      "  epoch 0 step 100 lr 0.0002 logloss 0.556719 gN 0.20, Wed Apr  3 15:47:22 2019\n",
      "  epoch 0 step 200 lr 0.0002 logloss 0.554410 gN 0.20, Wed Apr  3 15:48:36 2019\n",
      "  epoch 0 step 300 lr 0.0002 logloss 0.554523 gN 0.20, Wed Apr  3 15:49:48 2019\n",
      "  epoch 0 step 400 lr 0.0002 logloss 0.552798 gN 0.19, Wed Apr  3 15:51:37 2019\n",
      "  epoch 0 step 481 lr 0.0002 logloss 0.554057 gN 0.19, Wed Apr  3 15:53:08 2019\n",
      "5 0\n",
      "  epoch 0 step 100 lr 0.0002 logloss 0.554150 gN 0.17, Wed Apr  3 16:01:27 2019\n",
      "  epoch 0 step 200 lr 0.0002 logloss 0.554412 gN 0.20, Wed Apr  3 16:02:50 2019\n",
      "  epoch 0 step 300 lr 0.0002 logloss 0.554135 gN 0.19, Wed Apr  3 16:04:00 2019\n",
      "  epoch 0 step 400 lr 0.0002 logloss 0.554006 gN 0.19, Wed Apr  3 16:05:12 2019\n",
      "  epoch 0 step 481 lr 0.0002 logloss 0.554148 gN 0.18, Wed Apr  3 16:06:08 2019\n",
      "6 5\n",
      "  epoch 0 step 100 lr 0.0002 logloss 0.555493 gN 0.21, Wed Apr  3 16:21:12 2019\n",
      "  epoch 0 step 200 lr 0.0002 logloss 0.552985 gN 0.19, Wed Apr  3 16:22:26 2019\n",
      "  epoch 0 step 300 lr 0.0002 logloss 0.553444 gN 0.18, Wed Apr  3 16:23:42 2019\n",
      "  epoch 0 step 400 lr 0.0002 logloss 0.553854 gN 0.17, Wed Apr  3 16:24:55 2019\n",
      "  epoch 0 step 481 lr 0.0002 logloss 0.552497 gN 0.20, Wed Apr  3 16:25:52 2019\n",
      "7 3\n",
      "  epoch 0 step 100 lr 0.0002 logloss 0.553501 gN 0.20, Wed Apr  3 16:40:33 2019\n",
      "  epoch 0 step 200 lr 0.0002 logloss 0.552243 gN 0.17, Wed Apr  3 16:41:49 2019\n",
      "  epoch 0 step 300 lr 0.0002 logloss 0.551829 gN 0.19, Wed Apr  3 16:43:01 2019\n",
      "  epoch 0 step 400 lr 0.0002 logloss 0.552436 gN 0.19, Wed Apr  3 16:44:16 2019\n",
      "  epoch 0 step 481 lr 0.0002 logloss 0.552096 gN 0.18, Wed Apr  3 16:45:14 2019\n",
      "8 9\n",
      "  epoch 0 step 100 lr 0.0002 logloss 0.551889 gN 0.19, Wed Apr  3 16:52:26 2019\n",
      "  epoch 0 step 200 lr 0.0002 logloss 0.551608 gN 0.17, Wed Apr  3 16:53:36 2019\n",
      "  epoch 0 step 300 lr 0.0002 logloss 0.551965 gN 0.18, Wed Apr  3 16:54:57 2019\n",
      "  epoch 0 step 400 lr 0.0002 logloss 0.551743 gN 0.18, Wed Apr  3 16:56:16 2019\n",
      "  epoch 0 step 481 lr 0.0002 logloss 0.552904 gN 0.18, Wed Apr  3 16:57:22 2019\n",
      "9 8\n",
      "  epoch 0 step 100 lr 0.0002 logloss 0.552501 gN 0.19, Wed Apr  3 17:03:03 2019\n",
      "  epoch 0 step 200 lr 0.0002 logloss 0.552185 gN 0.18, Wed Apr  3 17:04:21 2019\n",
      "  epoch 0 step 300 lr 0.0002 logloss 0.551112 gN 0.17, Wed Apr  3 17:05:36 2019\n",
      "  epoch 0 step 400 lr 0.0002 logloss 0.551808 gN 0.20, Wed Apr  3 17:06:52 2019\n",
      "  epoch 0 step 481 lr 0.0002 logloss 0.548795 gN 0.17, Wed Apr  3 17:07:51 2019\n",
      "Test Inference:\n"
     ]
    },
    {
     "name": "stderr",
     "output_type": "stream",
     "text": [
      "100%|██████████| 338/338 [07:29<00:00,  1.12it/s]\n"
     ]
    },
    {
     "name": "stdout",
     "output_type": "stream",
     "text": [
      "Fold 4\n",
      "# Trainable variables\n",
      "  emb_v2_cross:0, (500000, 12, 16), \n",
      "  emb_v2_multi:0, (500000, 12, 16), \n",
      "  emb_v2_single:0, (5000000, 16), \n",
      "  dense_norm/beta:0, (4979,), \n",
      "  dense_norm/gamma:0, (4979,), \n",
      "  Variable:0, (4979, 1024), \n",
      "  Variable_1:0, (1024, 512), \n",
      "  Variable_2:0, (512, 1), \n",
      "  Variable_3:0, (), \n",
      "0 9\n",
      "  epoch 0 step 100 lr 0.0002 logloss 0.614286 gN 0.65, Wed Apr  3 17:23:56 2019\n",
      "  epoch 0 step 200 lr 0.0002 logloss 0.573364 gN 0.29, Wed Apr  3 17:25:04 2019\n",
      "  epoch 0 step 300 lr 0.0002 logloss 0.568741 gN 0.29, Wed Apr  3 17:26:11 2019\n",
      "  epoch 0 step 400 lr 0.0002 logloss 0.565905 gN 0.28, Wed Apr  3 17:27:19 2019\n",
      "  epoch 0 step 481 lr 0.0002 logloss 0.565377 gN 0.28, Wed Apr  3 17:28:12 2019\n",
      "1 3\n",
      "  epoch 0 step 100 lr 0.0002 logloss 0.564202 gN 0.28, Wed Apr  3 17:32:22 2019\n",
      "  epoch 0 step 200 lr 0.0002 logloss 0.561540 gN 0.25, Wed Apr  3 17:33:30 2019\n",
      "  epoch 0 step 300 lr 0.0002 logloss 0.560495 gN 0.26, Wed Apr  3 17:34:36 2019\n",
      "  epoch 0 step 400 lr 0.0002 logloss 0.559631 gN 0.23, Wed Apr  3 17:35:46 2019\n",
      "  epoch 0 step 481 lr 0.0002 logloss 0.559275 gN 0.23, Wed Apr  3 17:36:40 2019\n",
      "2 0\n",
      "  epoch 0 step 100 lr 0.0002 logloss 0.558784 gN 0.23, Wed Apr  3 17:41:09 2019\n",
      "  epoch 0 step 200 lr 0.0002 logloss 0.558741 gN 0.23, Wed Apr  3 17:42:18 2019\n",
      "  epoch 0 step 300 lr 0.0002 logloss 0.558061 gN 0.22, Wed Apr  3 17:43:26 2019\n",
      "  epoch 0 step 400 lr 0.0002 logloss 0.557524 gN 0.22, Wed Apr  3 17:44:34 2019\n",
      "  epoch 0 step 481 lr 0.0002 logloss 0.557251 gN 0.21, Wed Apr  3 17:45:27 2019\n",
      "3 8\n",
      "  epoch 0 step 100 lr 0.0002 logloss 0.558051 gN 0.21, Wed Apr  3 18:01:58 2019\n",
      "  epoch 0 step 200 lr 0.0002 logloss 0.556940 gN 0.21, Wed Apr  3 18:03:10 2019\n",
      "  epoch 0 step 300 lr 0.0002 logloss 0.555962 gN 0.21, Wed Apr  3 18:04:19 2019\n",
      "  epoch 0 step 400 lr 0.0002 logloss 0.555829 gN 0.20, Wed Apr  3 18:05:28 2019\n",
      "  epoch 0 step 481 lr 0.0002 logloss 0.553179 gN 0.20, Wed Apr  3 18:06:24 2019\n",
      "4 6\n",
      "  epoch 0 step 100 lr 0.0002 logloss 0.555845 gN 0.20, Wed Apr  3 18:13:25 2019\n",
      "  epoch 0 step 200 lr 0.0002 logloss 0.555619 gN 0.19, Wed Apr  3 18:14:36 2019\n",
      "  epoch 0 step 300 lr 0.0002 logloss 0.554062 gN 0.19, Wed Apr  3 18:15:43 2019\n",
      "  epoch 0 step 400 lr 0.0002 logloss 0.556218 gN 0.18, Wed Apr  3 18:16:51 2019\n",
      "  epoch 0 step 481 lr 0.0002 logloss 0.553956 gN 0.18, Wed Apr  3 18:17:46 2019\n",
      "5 4\n",
      "  epoch 0 step 100 lr 0.0002 logloss 0.554264 gN 0.19, Wed Apr  3 18:26:16 2019\n",
      "  epoch 0 step 200 lr 0.0002 logloss 0.555479 gN 0.18, Wed Apr  3 18:27:25 2019\n",
      "  epoch 0 step 300 lr 0.0002 logloss 0.554254 gN 0.19, Wed Apr  3 18:28:33 2019\n",
      "  epoch 0 step 400 lr 0.0002 logloss 0.553970 gN 0.17, Wed Apr  3 18:29:41 2019\n",
      "  epoch 0 step 481 lr 0.0002 logloss 0.553530 gN 0.20, Wed Apr  3 18:30:36 2019\n",
      "6 7\n",
      "  epoch 0 step 100 lr 0.0002 logloss 0.552617 gN 0.18, Wed Apr  3 18:42:36 2019\n",
      "  epoch 0 step 200 lr 0.0002 logloss 0.554368 gN 0.19, Wed Apr  3 18:43:45 2019\n",
      "  epoch 0 step 300 lr 0.0002 logloss 0.552160 gN 0.19, Wed Apr  3 18:44:55 2019\n",
      "  epoch 0 step 400 lr 0.0002 logloss 0.553648 gN 0.18, Wed Apr  3 18:46:06 2019\n",
      "  epoch 0 step 481 lr 0.0002 logloss 0.552048 gN 0.18, Wed Apr  3 18:47:01 2019\n",
      "7 5\n",
      "  epoch 0 step 100 lr 0.0002 logloss 0.554764 gN 0.20, Wed Apr  3 19:00:36 2019\n",
      "  epoch 0 step 200 lr 0.0002 logloss 0.552048 gN 0.18, Wed Apr  3 19:01:42 2019\n",
      "  epoch 0 step 300 lr 0.0002 logloss 0.552726 gN 0.18, Wed Apr  3 19:02:45 2019\n",
      "  epoch 0 step 400 lr 0.0002 logloss 0.553118 gN 0.16, Wed Apr  3 19:03:48 2019\n",
      "  epoch 0 step 481 lr 0.0002 logloss 0.551819 gN 0.19, Wed Apr  3 19:04:41 2019\n",
      "8 2\n",
      "  epoch 0 step 100 lr 0.0002 logloss 0.552257 gN 0.16, Wed Apr  3 19:19:42 2019\n",
      "  epoch 0 step 200 lr 0.0002 logloss 0.553639 gN 0.19, Wed Apr  3 19:20:45 2019\n",
      "  epoch 0 step 300 lr 0.0002 logloss 0.551857 gN 0.18, Wed Apr  3 19:21:46 2019\n",
      "  epoch 0 step 400 lr 0.0002 logloss 0.551404 gN 0.17, Wed Apr  3 19:22:50 2019\n",
      "  epoch 0 step 481 lr 0.0002 logloss 0.552348 gN 0.18, Wed Apr  3 19:23:38 2019\n",
      "9 1\n",
      "  epoch 0 step 100 lr 0.0002 logloss 0.552821 gN 0.18, Wed Apr  3 19:40:27 2019\n",
      "  epoch 0 step 200 lr 0.0002 logloss 0.550787 gN 0.19, Wed Apr  3 19:41:32 2019\n",
      "  epoch 0 step 300 lr 0.0002 logloss 0.550890 gN 0.19, Wed Apr  3 19:42:33 2019\n",
      "  epoch 0 step 400 lr 0.0002 logloss 0.549460 gN 0.16, Wed Apr  3 19:43:36 2019\n",
      "  epoch 0 step 481 lr 0.0002 logloss 0.550525 gN 0.16, Wed Apr  3 19:44:25 2019\n",
      "Test Inference:\n"
     ]
    },
    {
     "name": "stderr",
     "output_type": "stream",
     "text": [
      "100%|██████████| 338/338 [06:33<00:00,  1.35it/s]\n"
     ]
    },
    {
     "name": "stdout",
     "output_type": "stream",
     "text": [
      "0.36955371499061584\n"
     ]
    }
   ],
   "source": [
    "test=pd.read_pickle(\"data/test_NN.pkl\")    \n",
    "index=list(range(10))\n",
    "for i in range(5):\n",
    "    print(\"Fold\",i)\n",
    "    random.shuffle(index)\n",
    "    model=ctrNet.build_model(hparam)\n",
    "    for idx,k in enumerate(index):\n",
    "        print(idx,k)\n",
    "        train=pd.read_pickle('data/train_NN_'+str(k)+'.pkl')\n",
    "        model.train(train,None)\n",
    "    print(\"Test Inference:\")   \n",
    "    if i==0:\n",
    "        preds=model.infer(test)/5\n",
    "        temp=preds*5\n",
    "        test[hparam.label+'_probability']=temp.round(6)\n",
    "    else:\n",
    "        preds+=model.infer(test)/5\n",
    "        temp=preds*5/(i+1)\n",
    "        test[hparam.label+'_probability']=temp.round(6)\n",
    "    test[['uid','item_id',hparam.label+'_probability']].to_csv('submission/'+hparam.label+'/'+\\\n",
    "                                                           hparam.model+'_'+score+'_'+str(i)+'.csv',index=False)\n",
    "\n",
    "\n",
    "\n",
    "test[hparam.label+'_probability']=preds.round(6)\n",
    "try:\n",
    "    os.mkdir('submission')\n",
    "except:\n",
    "    pass\n",
    "try:\n",
    "    os.mkdir('submission/'+hparam.label)\n",
    "except:\n",
    "    pass\n",
    "test[['uid','item_id',hparam.label+'_probability']].to_csv('submission/'+hparam.label+'/'+\\\n",
    "                                                           hparam.model+'_'+score+'.csv',index=False)\n",
    "print(test[hparam.label+'_probability'].mean())"
   ]
  },
  {
   "cell_type": "code",
   "execution_count": 9,
   "metadata": {},
   "outputs": [
    {
     "data": {
      "text/plain": [
       "'0.738499'"
      ]
     },
     "execution_count": 9,
     "metadata": {},
     "output_type": "execute_result"
    }
   ],
   "source": [
    "score"
   ]
  },
  {
   "cell_type": "code",
   "execution_count": 10,
   "metadata": {},
   "outputs": [
    {
     "data": {
      "text/plain": [
       "'0.738499'"
      ]
     },
     "execution_count": 10,
     "metadata": {},
     "output_type": "execute_result"
    }
   ],
   "source": [
    "score"
   ]
  },
  {
   "cell_type": "code",
   "execution_count": null,
   "metadata": {
    "collapsed": true
   },
   "outputs": [],
   "source": []
  }
 ],
 "metadata": {
  "kernelspec": {
   "display_name": "Python 3",
   "language": "python",
   "name": "python3"
  },
  "language_info": {
   "codemirror_mode": {
    "name": "ipython",
    "version": 3
   },
   "file_extension": ".py",
   "mimetype": "text/x-python",
   "name": "python",
   "nbconvert_exporter": "python",
   "pygments_lexer": "ipython3",
   "version": "3.6.7"
  }
 },
 "nbformat": 4,
 "nbformat_minor": 2
}
