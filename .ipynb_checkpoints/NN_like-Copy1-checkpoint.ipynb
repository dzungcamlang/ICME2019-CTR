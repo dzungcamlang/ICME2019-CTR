{
 "cells": [
  {
   "cell_type": "code",
   "execution_count": 1,
   "metadata": {
    "collapsed": true
   },
   "outputs": [],
   "source": [
    "import numpy as np\n",
    "import pandas as pd\n",
    "import ctrNet\n",
    "import tensorflow as tf\n",
    "from src import misc_utils as utils\n",
    "import os\n",
    "import gc\n",
    "from sklearn import metrics\n",
    "import random\n",
    "np.random.seed(2019)\n",
    "os.environ[\"CUDA_DEVICE_ORDER\"]='PCI_BUS_ID'\n",
    "os.environ[\"CUDA_VISIBLE_DEVICES\"]='4'"
   ]
  },
  {
   "cell_type": "code",
   "execution_count": 2,
   "metadata": {
    "collapsed": true
   },
   "outputs": [],
   "source": [
    "label='like'\n",
    "cross_features=['uid','user_city','item_id','author_id','item_city','channel','music_id','did','video_duration',\n",
    "              'did_like_positive_num', 'did_like_negative_num',  'did_all_cont','did_day_cont',\n",
    "              'author_id_like_positive_num', 'author_id_like_negative_num','author_id_all_cont','author_id_day_cont',\n",
    "              'item_id_like_positive_num', 'item_id_like_negative_num','item_id_all_cont','item_id_day_cont',\n",
    "             'uid_like_positive_num', 'uid_like_negative_num', \n",
    "             'user_city_like_positive_num', 'user_city_like_negative_num', \n",
    "             'item_city_like_positive_num', 'item_city_like_negative_num', \n",
    "             'music_id_like_positive_num', 'music_id_like_negative_num', \n",
    "                           'author_include_num_of_item','author_include_num_of_uid','author_id_did_all_cont'\n",
    "                 ]\n",
    "single_features=['uid','user_city','item_id','author_id','item_city','channel','music_id','did','video_duration',\\'video_duration',\n",
    "              'did_like_positive_num', 'did_like_negative_num',  'did_all_cont','did_day_cont',\n",
    "              'author_id_like_positive_num', 'author_id_like_negative_num','author_id_all_cont','author_id_day_cont',\n",
    "              'item_id_like_positive_num', 'item_id_like_negative_num','item_id_all_cont','item_id_day_cont',\n",
    "             'uid_like_positive_num', 'uid_like_negative_num', \n",
    "             'user_city_like_positive_num', 'user_city_like_negative_num', \n",
    "             'item_city_like_positive_num', 'item_city_like_negative_num', \n",
    "             'music_id_like_positive_num', 'music_id_like_negative_num', \n",
    "                           'author_include_num_of_item','author_include_num_of_uid','author_id_did_all_cont'\n",
    "                 ,'author_include_num_of_item','author_include_num_of_uid',\n",
    "                'title_cont','uid_has_num_of_did','uid_channel_nunique','did_video_duration_max','channel_video_duration_min',\n",
    "                'item_id_uid_nunique']\n",
    "embedding_features=None\n",
    "multi_features=['title_keys']\n",
    "multi_weights=['title_values']\n",
    "dense_features=['audio_embedding_'+str(i) for i in range(64)]+['video_embedding_'+str(i) for i in range(32)]+['author_id_embedding_'+str(i) for i in range(10)]+\\\n",
    "                ['uid_embedding_'+str(i) for i in range(10)]+['did_embedding_'+str(i) for i in range(10)]+\\\n",
    "    ['uid_deepwalk_embedding_'+str(i) for i in range(10)]+['item_id_deepwalk_embedding_'+str(i) for i in range(10)]\n",
    "dense_features+=['beauty_min','did_like_rate','author_id_like_rate','uid_like_rate','user_city_like_rate','item_city_like_rate',\n",
    "                'music_id_like_rate','item_id_like_rate','title_mean_rate_finish','title_max_rate_finish','title_min_rate_finish'] \n",
    "dense_features+=['uid_did_nunique', 'uid_did_count', 'uid_channel_nunique', 'did_video_duration_min', \n",
    "                        'did_video_duration_max', 'did_video_duration_mean', 'did_video_duration_std', \n",
    "                        'channel_video_duration_min', 'channel_video_duration_max', 'channel_video_duration_mean', \n",
    "                        'channel_video_duration_std', 'uid_item_id_unique_mean', 'uid_author_id_unique_mean', \n",
    "                        'uid_channel_unique_mean', 'did_item_id_unique_mean', 'did_author_id_unique_mean', \n",
    "                        'did_channel_unique_mean', 'uid_item_id_unique_var', 'uid_author_id_unique_var', \n",
    "                        'uid_channel_unique_var', 'did_item_id_unique_var', 'did_author_id_unique_var', \n",
    "                        'did_channel_unique_var', 'author_id_title_cont_skew', 'author_id_title_cont_mean', \n",
    "                        'author_id_title_cont_std', 'did_title_cont_skew', 'did_title_cont_mean', \n",
    "                        'did_title_cont_std', 'uid_channel_title_cont_skew', 'uid_channel_title_cont_mean', \n",
    "                        'uid_channel_title_cont_std', 'item_id_uid_nunique', 'item_id_uid_count', \n",
    "                        'author_id_item_id_nunique', 'author_id_item_id_count', 'uid_user_city_nunique', \n",
    "                        'uid_author_id_nunique', 'channel_user_city_nunique', 'did_video_duration_skew', \n",
    "                        'channel_video_duration_skew',  'item_id_pagerank', 'uid_item_id_pagerank', \n",
    "                        'uid_author_id_pagerank', 'did_item_id_pagerank', 'did_author_id_pagerank',\n",
    "                        'item_id_uid_pagerank', 'item_id_did_pagerank', 'author_id_uid_pagerank', \n",
    "                        'author_id_did_pagerank', 'title_mean', 'uid_title_mean_mean', \n",
    "                        'uid_title_mean_std', 'uid_title_mean_skew', 'author_id_title_mean_mean', \n",
    "                        'author_id_title_mean_std', 'author_id_title_mean_skew', 'did_title_mean_mean', \n",
    "                        'did_title_mean_std', 'did_title_mean_skew', 'uid_channel_title_mean_mean', \n",
    "                        'uid_channel_title_mean_std', 'uid_channel_title_mean_skew']\n",
    "dense_features+=[\"user_music_id_\"+str(i) for i in range(128)]+[\"user_item_id_\"+str(i) for i in range(128)]+[\"user_did_\"+str(i) for i in range(128)]+[\"user_author_id_\"+str(i) for i in range(128)]\n",
    "dense_features+=[\"item_author_id_\"+str(i) for i in range(64)]"
   ]
  },
  {
   "cell_type": "code",
   "execution_count": 3,
   "metadata": {},
   "outputs": [
    {
     "name": "stdout",
     "output_type": "stream",
     "text": [
      "  activation=['relu', 'relu', 'relu']\n",
      "  batch_norm_decay=0.9\n",
      "  batch_size=4096\n",
      "  cross_activation=identity\n",
      "  cross_features=['uid', 'user_city', 'item_id', 'author_id', 'item_city', 'channel', 'music_id', 'did', 'video_duration']\n",
      "  cross_hash_num=10000000\n",
      "  cross_layer_sizes=[300, 300]\n",
      "  dense_features=['audio_embedding_0', 'audio_embedding_1', 'audio_embedding_2', 'audio_embedding_3', 'audio_embedding_4', 'audio_embedding_5', 'audio_embedding_6', 'audio_embedding_7', 'audio_embedding_8', 'audio_embedding_9', 'audio_embedding_10', 'audio_embedding_11', 'audio_embedding_12', 'audio_embedding_13', 'audio_embedding_14', 'audio_embedding_15', 'audio_embedding_16', 'audio_embedding_17', 'audio_embedding_18', 'audio_embedding_19', 'audio_embedding_20', 'audio_embedding_21', 'audio_embedding_22', 'audio_embedding_23', 'audio_embedding_24', 'audio_embedding_25', 'audio_embedding_26', 'audio_embedding_27', 'audio_embedding_28', 'audio_embedding_29', 'audio_embedding_30', 'audio_embedding_31', 'audio_embedding_32', 'audio_embedding_33', 'audio_embedding_34', 'audio_embedding_35', 'audio_embedding_36', 'audio_embedding_37', 'audio_embedding_38', 'audio_embedding_39', 'audio_embedding_40', 'audio_embedding_41', 'audio_embedding_42', 'audio_embedding_43', 'audio_embedding_44', 'audio_embedding_45', 'audio_embedding_46', 'audio_embedding_47', 'audio_embedding_48', 'audio_embedding_49', 'audio_embedding_50', 'audio_embedding_51', 'audio_embedding_52', 'audio_embedding_53', 'audio_embedding_54', 'audio_embedding_55', 'audio_embedding_56', 'audio_embedding_57', 'audio_embedding_58', 'audio_embedding_59', 'audio_embedding_60', 'audio_embedding_61', 'audio_embedding_62', 'audio_embedding_63', 'video_embedding_0', 'video_embedding_1', 'video_embedding_2', 'video_embedding_3', 'video_embedding_4', 'video_embedding_5', 'video_embedding_6', 'video_embedding_7', 'video_embedding_8', 'video_embedding_9', 'video_embedding_10', 'video_embedding_11', 'video_embedding_12', 'video_embedding_13', 'video_embedding_14', 'video_embedding_15', 'video_embedding_16', 'video_embedding_17', 'video_embedding_18', 'video_embedding_19', 'video_embedding_20', 'video_embedding_21', 'video_embedding_22', 'video_embedding_23', 'video_embedding_24', 'video_embedding_25', 'video_embedding_26', 'video_embedding_27', 'video_embedding_28', 'video_embedding_29', 'video_embedding_30', 'video_embedding_31', 'author_id_embedding_0', 'author_id_embedding_1', 'author_id_embedding_2', 'author_id_embedding_3', 'author_id_embedding_4', 'author_id_embedding_5', 'author_id_embedding_6', 'author_id_embedding_7', 'author_id_embedding_8', 'author_id_embedding_9', 'uid_embedding_0', 'uid_embedding_1', 'uid_embedding_2', 'uid_embedding_3', 'uid_embedding_4', 'uid_embedding_5', 'uid_embedding_6', 'uid_embedding_7', 'uid_embedding_8', 'uid_embedding_9', 'did_embedding_0', 'did_embedding_1', 'did_embedding_2', 'did_embedding_3', 'did_embedding_4', 'did_embedding_5', 'did_embedding_6', 'did_embedding_7', 'did_embedding_8', 'did_embedding_9', 'uid_deepwalk_embedding_0', 'uid_deepwalk_embedding_1', 'uid_deepwalk_embedding_2', 'uid_deepwalk_embedding_3', 'uid_deepwalk_embedding_4', 'uid_deepwalk_embedding_5', 'uid_deepwalk_embedding_6', 'uid_deepwalk_embedding_7', 'uid_deepwalk_embedding_8', 'uid_deepwalk_embedding_9', 'item_id_deepwalk_embedding_0', 'item_id_deepwalk_embedding_1', 'item_id_deepwalk_embedding_2', 'item_id_deepwalk_embedding_3', 'item_id_deepwalk_embedding_4', 'item_id_deepwalk_embedding_5', 'item_id_deepwalk_embedding_6', 'item_id_deepwalk_embedding_7', 'item_id_deepwalk_embedding_8', 'item_id_deepwalk_embedding_9', 'beauty_min', 'did_like_rate', 'author_id_like_rate', 'uid_like_rate', 'user_city_like_rate', 'item_city_like_rate', 'music_id_like_rate', 'item_id_like_rate', 'title_mean_rate_finish', 'title_max_rate_finish', 'title_min_rate_finish', 'uid_did_nunique', 'uid_did_count', 'uid_channel_nunique', 'did_video_duration_min', 'did_video_duration_max', 'did_video_duration_mean', 'did_video_duration_std', 'channel_video_duration_min', 'channel_video_duration_max', 'channel_video_duration_mean', 'channel_video_duration_std', 'uid_item_id_unique_mean', 'uid_author_id_unique_mean', 'uid_channel_unique_mean', 'did_item_id_unique_mean', 'did_author_id_unique_mean', 'did_channel_unique_mean', 'uid_item_id_unique_var', 'uid_author_id_unique_var', 'uid_channel_unique_var', 'did_item_id_unique_var', 'did_author_id_unique_var', 'did_channel_unique_var', 'author_id_title_cont_skew', 'author_id_title_cont_mean', 'author_id_title_cont_std', 'did_title_cont_skew', 'did_title_cont_mean', 'did_title_cont_std', 'uid_channel_title_cont_skew', 'uid_channel_title_cont_mean', 'uid_channel_title_cont_std', 'item_id_uid_nunique', 'item_id_uid_count', 'author_id_item_id_nunique', 'author_id_item_id_count', 'uid_user_city_nunique', 'uid_author_id_nunique', 'channel_user_city_nunique', 'did_video_duration_skew', 'channel_video_duration_skew', 'item_id_pagerank', 'uid_item_id_pagerank', 'uid_author_id_pagerank', 'did_item_id_pagerank', 'did_author_id_pagerank', 'item_id_uid_pagerank', 'item_id_did_pagerank', 'author_id_uid_pagerank', 'author_id_did_pagerank', 'title_mean', 'uid_title_mean_mean', 'uid_title_mean_std', 'uid_title_mean_skew', 'author_id_title_mean_mean', 'author_id_title_mean_std', 'author_id_title_mean_skew', 'did_title_mean_mean', 'did_title_mean_std', 'did_title_mean_skew', 'uid_channel_title_mean_mean', 'uid_channel_title_mean_std', 'uid_channel_title_mean_skew', 'user_music_id_0', 'user_music_id_1', 'user_music_id_2', 'user_music_id_3', 'user_music_id_4', 'user_music_id_5', 'user_music_id_6', 'user_music_id_7', 'user_music_id_8', 'user_music_id_9', 'user_music_id_10', 'user_music_id_11', 'user_music_id_12', 'user_music_id_13', 'user_music_id_14', 'user_music_id_15', 'user_music_id_16', 'user_music_id_17', 'user_music_id_18', 'user_music_id_19', 'user_music_id_20', 'user_music_id_21', 'user_music_id_22', 'user_music_id_23', 'user_music_id_24', 'user_music_id_25', 'user_music_id_26', 'user_music_id_27', 'user_music_id_28', 'user_music_id_29', 'user_music_id_30', 'user_music_id_31', 'user_music_id_32', 'user_music_id_33', 'user_music_id_34', 'user_music_id_35', 'user_music_id_36', 'user_music_id_37', 'user_music_id_38', 'user_music_id_39', 'user_music_id_40', 'user_music_id_41', 'user_music_id_42', 'user_music_id_43', 'user_music_id_44', 'user_music_id_45', 'user_music_id_46', 'user_music_id_47', 'user_music_id_48', 'user_music_id_49', 'user_music_id_50', 'user_music_id_51', 'user_music_id_52', 'user_music_id_53', 'user_music_id_54', 'user_music_id_55', 'user_music_id_56', 'user_music_id_57', 'user_music_id_58', 'user_music_id_59', 'user_music_id_60', 'user_music_id_61', 'user_music_id_62', 'user_music_id_63', 'user_music_id_64', 'user_music_id_65', 'user_music_id_66', 'user_music_id_67', 'user_music_id_68', 'user_music_id_69', 'user_music_id_70', 'user_music_id_71', 'user_music_id_72', 'user_music_id_73', 'user_music_id_74', 'user_music_id_75', 'user_music_id_76', 'user_music_id_77', 'user_music_id_78', 'user_music_id_79', 'user_music_id_80', 'user_music_id_81', 'user_music_id_82', 'user_music_id_83', 'user_music_id_84', 'user_music_id_85', 'user_music_id_86', 'user_music_id_87', 'user_music_id_88', 'user_music_id_89', 'user_music_id_90', 'user_music_id_91', 'user_music_id_92', 'user_music_id_93', 'user_music_id_94', 'user_music_id_95', 'user_music_id_96', 'user_music_id_97', 'user_music_id_98', 'user_music_id_99', 'user_music_id_100', 'user_music_id_101', 'user_music_id_102', 'user_music_id_103', 'user_music_id_104', 'user_music_id_105', 'user_music_id_106', 'user_music_id_107', 'user_music_id_108', 'user_music_id_109', 'user_music_id_110', 'user_music_id_111', 'user_music_id_112', 'user_music_id_113', 'user_music_id_114', 'user_music_id_115', 'user_music_id_116', 'user_music_id_117', 'user_music_id_118', 'user_music_id_119', 'user_music_id_120', 'user_music_id_121', 'user_music_id_122', 'user_music_id_123', 'user_music_id_124', 'user_music_id_125', 'user_music_id_126', 'user_music_id_127', 'user_item_id_0', 'user_item_id_1', 'user_item_id_2', 'user_item_id_3', 'user_item_id_4', 'user_item_id_5', 'user_item_id_6', 'user_item_id_7', 'user_item_id_8', 'user_item_id_9', 'user_item_id_10', 'user_item_id_11', 'user_item_id_12', 'user_item_id_13', 'user_item_id_14', 'user_item_id_15', 'user_item_id_16', 'user_item_id_17', 'user_item_id_18', 'user_item_id_19', 'user_item_id_20', 'user_item_id_21', 'user_item_id_22', 'user_item_id_23', 'user_item_id_24', 'user_item_id_25', 'user_item_id_26', 'user_item_id_27', 'user_item_id_28', 'user_item_id_29', 'user_item_id_30', 'user_item_id_31', 'user_item_id_32', 'user_item_id_33', 'user_item_id_34', 'user_item_id_35', 'user_item_id_36', 'user_item_id_37', 'user_item_id_38', 'user_item_id_39', 'user_item_id_40', 'user_item_id_41', 'user_item_id_42', 'user_item_id_43', 'user_item_id_44', 'user_item_id_45', 'user_item_id_46', 'user_item_id_47', 'user_item_id_48', 'user_item_id_49', 'user_item_id_50', 'user_item_id_51', 'user_item_id_52', 'user_item_id_53', 'user_item_id_54', 'user_item_id_55', 'user_item_id_56', 'user_item_id_57', 'user_item_id_58', 'user_item_id_59', 'user_item_id_60', 'user_item_id_61', 'user_item_id_62', 'user_item_id_63', 'user_item_id_64', 'user_item_id_65', 'user_item_id_66', 'user_item_id_67', 'user_item_id_68', 'user_item_id_69', 'user_item_id_70', 'user_item_id_71', 'user_item_id_72', 'user_item_id_73', 'user_item_id_74', 'user_item_id_75', 'user_item_id_76', 'user_item_id_77', 'user_item_id_78', 'user_item_id_79', 'user_item_id_80', 'user_item_id_81', 'user_item_id_82', 'user_item_id_83', 'user_item_id_84', 'user_item_id_85', 'user_item_id_86', 'user_item_id_87', 'user_item_id_88', 'user_item_id_89', 'user_item_id_90', 'user_item_id_91', 'user_item_id_92', 'user_item_id_93', 'user_item_id_94', 'user_item_id_95', 'user_item_id_96', 'user_item_id_97', 'user_item_id_98', 'user_item_id_99', 'user_item_id_100', 'user_item_id_101', 'user_item_id_102', 'user_item_id_103', 'user_item_id_104', 'user_item_id_105', 'user_item_id_106', 'user_item_id_107', 'user_item_id_108', 'user_item_id_109', 'user_item_id_110', 'user_item_id_111', 'user_item_id_112', 'user_item_id_113', 'user_item_id_114', 'user_item_id_115', 'user_item_id_116', 'user_item_id_117', 'user_item_id_118', 'user_item_id_119', 'user_item_id_120', 'user_item_id_121', 'user_item_id_122', 'user_item_id_123', 'user_item_id_124', 'user_item_id_125', 'user_item_id_126', 'user_item_id_127', 'user_did_0', 'user_did_1', 'user_did_2', 'user_did_3', 'user_did_4', 'user_did_5', 'user_did_6', 'user_did_7', 'user_did_8', 'user_did_9', 'user_did_10', 'user_did_11', 'user_did_12', 'user_did_13', 'user_did_14', 'user_did_15', 'user_did_16', 'user_did_17', 'user_did_18', 'user_did_19', 'user_did_20', 'user_did_21', 'user_did_22', 'user_did_23', 'user_did_24', 'user_did_25', 'user_did_26', 'user_did_27', 'user_did_28', 'user_did_29', 'user_did_30', 'user_did_31', 'user_did_32', 'user_did_33', 'user_did_34', 'user_did_35', 'user_did_36', 'user_did_37', 'user_did_38', 'user_did_39', 'user_did_40', 'user_did_41', 'user_did_42', 'user_did_43', 'user_did_44', 'user_did_45', 'user_did_46', 'user_did_47', 'user_did_48', 'user_did_49', 'user_did_50', 'user_did_51', 'user_did_52', 'user_did_53', 'user_did_54', 'user_did_55', 'user_did_56', 'user_did_57', 'user_did_58', 'user_did_59', 'user_did_60', 'user_did_61', 'user_did_62', 'user_did_63', 'user_did_64', 'user_did_65', 'user_did_66', 'user_did_67', 'user_did_68', 'user_did_69', 'user_did_70', 'user_did_71', 'user_did_72', 'user_did_73', 'user_did_74', 'user_did_75', 'user_did_76', 'user_did_77', 'user_did_78', 'user_did_79', 'user_did_80', 'user_did_81', 'user_did_82', 'user_did_83', 'user_did_84', 'user_did_85', 'user_did_86', 'user_did_87', 'user_did_88', 'user_did_89', 'user_did_90', 'user_did_91', 'user_did_92', 'user_did_93', 'user_did_94', 'user_did_95', 'user_did_96', 'user_did_97', 'user_did_98', 'user_did_99', 'user_did_100', 'user_did_101', 'user_did_102', 'user_did_103', 'user_did_104', 'user_did_105', 'user_did_106', 'user_did_107', 'user_did_108', 'user_did_109', 'user_did_110', 'user_did_111', 'user_did_112', 'user_did_113', 'user_did_114', 'user_did_115', 'user_did_116', 'user_did_117', 'user_did_118', 'user_did_119', 'user_did_120', 'user_did_121', 'user_did_122', 'user_did_123', 'user_did_124', 'user_did_125', 'user_did_126', 'user_did_127', 'user_author_id_0', 'user_author_id_1', 'user_author_id_2', 'user_author_id_3', 'user_author_id_4', 'user_author_id_5', 'user_author_id_6', 'user_author_id_7', 'user_author_id_8', 'user_author_id_9', 'user_author_id_10', 'user_author_id_11', 'user_author_id_12', 'user_author_id_13', 'user_author_id_14', 'user_author_id_15', 'user_author_id_16', 'user_author_id_17', 'user_author_id_18', 'user_author_id_19', 'user_author_id_20', 'user_author_id_21', 'user_author_id_22', 'user_author_id_23', 'user_author_id_24', 'user_author_id_25', 'user_author_id_26', 'user_author_id_27', 'user_author_id_28', 'user_author_id_29', 'user_author_id_30', 'user_author_id_31', 'user_author_id_32', 'user_author_id_33', 'user_author_id_34', 'user_author_id_35', 'user_author_id_36', 'user_author_id_37', 'user_author_id_38', 'user_author_id_39', 'user_author_id_40', 'user_author_id_41', 'user_author_id_42', 'user_author_id_43', 'user_author_id_44', 'user_author_id_45', 'user_author_id_46', 'user_author_id_47', 'user_author_id_48', 'user_author_id_49', 'user_author_id_50', 'user_author_id_51', 'user_author_id_52', 'user_author_id_53', 'user_author_id_54', 'user_author_id_55', 'user_author_id_56', 'user_author_id_57', 'user_author_id_58', 'user_author_id_59', 'user_author_id_60', 'user_author_id_61', 'user_author_id_62', 'user_author_id_63', 'user_author_id_64', 'user_author_id_65', 'user_author_id_66', 'user_author_id_67', 'user_author_id_68', 'user_author_id_69', 'user_author_id_70', 'user_author_id_71', 'user_author_id_72', 'user_author_id_73', 'user_author_id_74', 'user_author_id_75', 'user_author_id_76', 'user_author_id_77', 'user_author_id_78', 'user_author_id_79', 'user_author_id_80', 'user_author_id_81', 'user_author_id_82', 'user_author_id_83', 'user_author_id_84', 'user_author_id_85', 'user_author_id_86', 'user_author_id_87', 'user_author_id_88', 'user_author_id_89', 'user_author_id_90', 'user_author_id_91', 'user_author_id_92', 'user_author_id_93', 'user_author_id_94', 'user_author_id_95', 'user_author_id_96', 'user_author_id_97', 'user_author_id_98', 'user_author_id_99', 'user_author_id_100', 'user_author_id_101', 'user_author_id_102', 'user_author_id_103', 'user_author_id_104', 'user_author_id_105', 'user_author_id_106', 'user_author_id_107', 'user_author_id_108', 'user_author_id_109', 'user_author_id_110', 'user_author_id_111', 'user_author_id_112', 'user_author_id_113', 'user_author_id_114', 'user_author_id_115', 'user_author_id_116', 'user_author_id_117', 'user_author_id_118', 'user_author_id_119', 'user_author_id_120', 'user_author_id_121', 'user_author_id_122', 'user_author_id_123', 'user_author_id_124', 'user_author_id_125', 'user_author_id_126', 'user_author_id_127', 'item_author_id_0', 'item_author_id_1', 'item_author_id_2', 'item_author_id_3', 'item_author_id_4', 'item_author_id_5', 'item_author_id_6', 'item_author_id_7', 'item_author_id_8', 'item_author_id_9', 'item_author_id_10', 'item_author_id_11', 'item_author_id_12', 'item_author_id_13', 'item_author_id_14', 'item_author_id_15', 'item_author_id_16', 'item_author_id_17', 'item_author_id_18', 'item_author_id_19', 'item_author_id_20', 'item_author_id_21', 'item_author_id_22', 'item_author_id_23', 'item_author_id_24', 'item_author_id_25', 'item_author_id_26', 'item_author_id_27', 'item_author_id_28', 'item_author_id_29', 'item_author_id_30', 'item_author_id_31', 'item_author_id_32', 'item_author_id_33', 'item_author_id_34', 'item_author_id_35', 'item_author_id_36', 'item_author_id_37', 'item_author_id_38', 'item_author_id_39', 'item_author_id_40', 'item_author_id_41', 'item_author_id_42', 'item_author_id_43', 'item_author_id_44', 'item_author_id_45', 'item_author_id_46', 'item_author_id_47', 'item_author_id_48', 'item_author_id_49', 'item_author_id_50', 'item_author_id_51', 'item_author_id_52', 'item_author_id_53', 'item_author_id_54', 'item_author_id_55', 'item_author_id_56', 'item_author_id_57', 'item_author_id_58', 'item_author_id_59', 'item_author_id_60', 'item_author_id_61', 'item_author_id_62', 'item_author_id_63']\n"
     ]
    },
    {
     "name": "stdout",
     "output_type": "stream",
     "text": [
      "  dense_hidden_size=[512, 256]\n",
      "  dropout=0.3\n",
      "  embedding_features=None\n",
      "  epoch=1\n",
      "  hidden_size=[1024, 512]\n",
      "  infer_batch_size=8192\n",
      "  init_method=tnormal\n",
      "  init_value=0.001\n",
      "  k=16\n",
      "  label=like\n",
      "  learning_rate=0.0002\n",
      "  metric=auc\n",
      "  model=xdeepfm\n",
      "  model_name=xdeepfm\n",
      "  multi_features=['title_keys']\n",
      "  multi_hash_num=1000000\n",
      "  multi_weights=['title_values']\n",
      "  norm=True\n",
      "  num_display_steps=100\n",
      "  optimizer=adam\n",
      "  single_features=['video_duration', 'did_like_positive_num', 'did_like_negative_num', 'did_all_cont', 'did_day_cont', 'author_id_like_positive_num', 'author_id_like_negative_num', 'author_id_all_cont', 'author_id_day_cont', 'item_id_like_positive_num', 'item_id_like_negative_num', 'item_id_all_cont', 'item_id_day_cont', 'uid_like_positive_num', 'uid_like_negative_num', 'user_city_like_positive_num', 'user_city_like_negative_num', 'item_city_like_positive_num', 'item_city_like_negative_num', 'music_id_like_positive_num', 'music_id_like_negative_num', 'author_include_num_of_item', 'author_include_num_of_uid', 'author_id_did_all_cont', 'author_include_num_of_item', 'author_include_num_of_uid', 'title_cont', 'uid_has_num_of_did', 'uid_channel_nunique', 'did_video_duration_max', 'channel_video_duration_min', 'item_id_uid_nunique']\n",
      "  single_hash_num=10000000\n",
      "  single_k=16\n",
      "  test=True\n"
     ]
    }
   ],
   "source": [
    "hparam=tf.contrib.training.HParams(\n",
    "            model='xdeepfm',\n",
    "            norm=True,\n",
    "            batch_norm_decay=0.9,\n",
    "            hidden_size=[1024,512],\n",
    "            dense_hidden_size=[512,256],\n",
    "            cross_layer_sizes=[300,300],\n",
    "            k=16,\n",
    "            single_k=16,\n",
    "            cross_hash_num=int(1e7),\n",
    "            single_hash_num=int(1e7),\n",
    "            multi_hash_num=int(1e6),\n",
    "            batch_size=4096,\n",
    "            infer_batch_size=2**13,\n",
    "            optimizer=\"adam\",\n",
    "            dropout=0.3,\n",
    "            learning_rate=0.0002,\n",
    "            num_display_steps=100,\n",
    "            epoch=1, #don't modify\n",
    "            metric='auc',\n",
    "            activation=['relu','relu','relu'],\n",
    "            init_method='tnormal',\n",
    "            cross_activation='identity',\n",
    "            init_value=0.001,\n",
    "            single_features=single_features,\n",
    "            multi_features=multi_features,\n",
    "            cross_features=cross_features,\n",
    "            multi_weights=multi_weights,\n",
    "            dense_features=dense_features,\n",
    "            embedding_features=embedding_features,\n",
    "            model_name=\"xdeepfm\",\n",
    "            test=True,\n",
    "            label=label)\n",
    "utils.print_hparams(hparam)"
   ]
  },
  {
   "cell_type": "code",
   "execution_count": 4,
   "metadata": {},
   "outputs": [
    {
     "name": "stdout",
     "output_type": "stream",
     "text": [
      "# Trainable variables\n",
      "  emb_v2_cross:0, (10000000, 16), \n",
      "  emb_v2_multi:0, (1000000, 16), \n",
      "  exfm_part/f_0:0, (1, 100, 300), \n",
      "  exfm_part/f_1:0, (1, 1500, 300), \n",
      "  exfm_part/w_nn_output:0, (450, 1), \n",
      "  exfm_part/b_nn_output:0, (1,), \n",
      "  emb_v2_single:0, (10000000, 16), \n",
      "  dense_norm/beta:0, (1468,), \n",
      "  dense_norm/gamma:0, (1468,), \n",
      "  Variable:0, (1468, 1024), \n",
      "  Variable_1:0, (1024, 512), \n",
      "  Variable_2:0, (512, 1), \n",
      "  Variable_3:0, (), \n"
     ]
    }
   ],
   "source": [
    "try:\n",
    "    del model\n",
    "    gc.collect()\n",
    "except:\n",
    "    pass\n",
    "model=ctrNet.build_model(hparam)"
   ]
  },
  {
   "cell_type": "code",
   "execution_count": null,
   "metadata": {
    "collapsed": true
   },
   "outputs": [],
   "source": [
    "test=pd.read_pickle('data/dev_NN.pkl')"
   ]
  },
  {
   "cell_type": "code",
   "execution_count": null,
   "metadata": {},
   "outputs": [
    {
     "name": "stdout",
     "output_type": "stream",
     "text": [
      "0\n",
      "  epoch 0 step 100 lr 0.0002 logloss 0.044367 gN 0.11, Tue Mar 26 23:06:34 2019\n",
      "  epoch 0 step 200 lr 0.0002 logloss 0.036959 gN 0.09, Tue Mar 26 23:07:47 2019\n",
      "  epoch 0 step 300 lr 0.0002 logloss 0.036162 gN 0.08, Tue Mar 26 23:09:01 2019\n",
      "  epoch 0 step 344 lr 0.0002 logloss 0.034516 gN 0.08, Tue Mar 26 23:09:32 2019\n",
      "1\n",
      "  epoch 0 step 100 lr 0.0002 logloss 0.035142 gN 0.08, Tue Mar 26 23:14:12 2019\n"
     ]
    }
   ],
   "source": [
    "k=10\n",
    "for i in range(k):\n",
    "    print(i)\n",
    "    train=pd.read_pickle('data/train_dev_NN_'+str(i)+'.pkl')\n",
    "    if (i+1)%2==0:\n",
    "        model.train(train,test)\n",
    "    else:\n",
    "        model.train(train,None)"
   ]
  },
  {
   "cell_type": "raw",
   "metadata": {},
   "source": [
    "0\n",
    "  epoch 0 step 100 lr 0.0002 logloss 0.085683 gN 0.34, Tue Mar 26 21:15:20 2019\n",
    "  epoch 0 step 200 lr 0.0002 logloss 0.038832 gN 0.05, Tue Mar 26 21:16:20 2019\n",
    "  epoch 0 step 300 lr 0.0002 logloss 0.035252 gN 0.05, Tue Mar 26 21:17:23 2019\n",
    "  epoch 0 step 344 lr 0.0002 logloss 0.033623 gN 0.06, Tue Mar 26 21:17:48 2019\n",
    "1\n",
    "  epoch 0 step 100 lr 0.0002 logloss 0.034161 gN 0.05, Tue Mar 26 21:20:04 2019\n",
    "  epoch 0 step 200 lr 0.0002 logloss 0.033708 gN 0.05, Tue Mar 26 21:21:00 2019\n",
    "  epoch 0 step 300 lr 0.0002 logloss 0.034017 gN 0.05, Tue Mar 26 21:21:56 2019\n",
    "  epoch 0 step 344 lr 0.0002 logloss 0.033870 gN 0.05, Tue Mar 26 21:22:20 2019\n",
    "100%|██████████| 343/343 [05:10<00:00,  1.45it/s]\n",
    "# Epcho-time 193.75s Eval AUC 0.927174. Eval logloss 0.038713. Best AUC 0.927174.like\n",
    "2\n",
    "  epoch 0 step 100 lr 0.0002 logloss 0.033095 gN 0.05, Tue Mar 26 21:31:06 2019\n",
    "  epoch 0 step 200 lr 0.0002 logloss 0.034232 gN 0.05, Tue Mar 26 21:32:02 2019\n",
    "  epoch 0 step 300 lr 0.0002 logloss 0.032743 gN 0.05, Tue Mar 26 21:32:57 2019\n",
    "  epoch 0 step 344 lr 0.0002 logloss 0.033183 gN 0.05, Tue Mar 26 21:33:20 2019\n",
    "3\n",
    "  epoch 0 step 100 lr 0.0002 logloss 0.032701 gN 0.05, Tue Mar 26 21:35:16 2019\n",
    "  epoch 0 step 200 lr 0.0002 logloss 0.033499 gN 0.05, Tue Mar 26 21:36:11 2019\n",
    "  epoch 0 step 300 lr 0.0002 logloss 0.032582 gN 0.05, Tue Mar 26 21:37:08 2019\n",
    "  epoch 0 step 344 lr 0.0002 logloss 0.033082 gN 0.05, Tue Mar 26 21:37:32 2019\n",
    "100%|██████████| 343/343 [05:17<00:00,  1.47it/s]\n",
    "# Epcho-time 191.92s Eval AUC 0.930138. Eval logloss 0.038019. Best AUC 0.930138.like\n",
    "4\n",
    "  epoch 0 step 100 lr 0.0002 logloss 0.032363 gN 0.05, Tue Mar 26 21:46:30 2019\n",
    "  epoch 0 step 200 lr 0.0002 logloss 0.032745 gN 0.05, Tue Mar 26 21:47:25 2019\n",
    "  epoch 0 step 300 lr 0.0002 logloss 0.032737 gN 0.05, Tue Mar 26 21:48:21 2019\n",
    "  epoch 0 step 344 lr 0.0002 logloss 0.032555 gN 0.05, Tue Mar 26 21:48:44 2019\n",
    "5\n",
    "  epoch 0 step 100 lr 0.0002 logloss 0.032212 gN 0.05, Tue Mar 26 21:51:53 2019\n",
    "  epoch 0 step 200 lr 0.0002 logloss 0.032920 gN 0.05, Tue Mar 26 21:52:51 2019\n",
    "  epoch 0 step 300 lr 0.0002 logloss 0.032653 gN 0.05, Tue Mar 26 21:53:49 2019\n",
    "  epoch 0 step 344 lr 0.0002 logloss 0.031490 gN 0.05, Tue Mar 26 21:54:13 2019\n",
    "100%|██████████| 343/343 [05:17<00:00,  1.46it/s]\n",
    "# Epcho-time 198.26s Eval AUC 0.931217. Eval logloss 0.037947. Best AUC 0.931217.like\n",
    "6\n",
    "  epoch 0 step 100 lr 0.0002 logloss 0.033241 gN 0.05, Tue Mar 26 22:06:53 2019\n",
    "  epoch 0 step 200 lr 0.0002 logloss 0.033334 gN 0.05, Tue Mar 26 22:07:51 2019\n",
    "  epoch 0 step 300 lr 0.0002 logloss 0.032397 gN 0.04, Tue Mar 26 22:08:47 2019\n",
    "  epoch 0 step 344 lr 0.0002 logloss 0.033160 gN 0.05, Tue Mar 26 22:09:11 2019\n",
    "7\n",
    "  epoch 0 step 100 lr 0.0002 logloss 0.032565 gN 0.04, Tue Mar 26 22:12:13 2019\n",
    "  epoch 0 step 200 lr 0.0002 logloss 0.031471 gN 0.04, Tue Mar 26 22:13:13 2019\n",
    "  epoch 0 step 300 lr 0.0002 logloss 0.032515 gN 0.04, Tue Mar 26 22:14:11 2019\n",
    "  epoch 0 step 344 lr 0.0002 logloss 0.032878 gN 0.05, Tue Mar 26 22:14:35 2019\n",
    "100%|██████████| 343/343 [05:31<00:00,  1.36it/s]\n",
    "# Epcho-time 198.30s Eval AUC 0.932997. Eval logloss 0.037725. Best AUC 0.932997.like\n",
    "8\n",
    "  epoch 0 step 100 lr 0.0002 logloss 0.032578 gN 0.04, Tue Mar 26 22:24:11 2019\n",
    "  epoch 0 step 200 lr 0.0002 logloss 0.032907 gN 0.04, Tue Mar 26 22:25:12 2019\n",
    "  epoch 0 step 300 lr 0.0002 logloss 0.032219 gN 0.04, Tue Mar 26 22:26:16 2019\n",
    "  epoch 0 step 344 lr 0.0002 logloss 0.032389 gN 0.05, Tue Mar 26 22:26:41 2019\n",
    "9\n",
    "  epoch 0 step 100 lr 0.0002 logloss 0.032259 gN 0.04, Tue Mar 26 22:31:59 2019\n",
    "  epoch 0 step 200 lr 0.0002 logloss 0.031612 gN 0.04, Tue Mar 26 22:32:58 2019\n",
    "  epoch 0 step 300 lr 0.0002 logloss 0.032576 gN 0.04, Tue Mar 26 22:33:58 2019\n",
    "  epoch 0 step 344 lr 0.0002 logloss 0.031230 gN 0.04, Tue Mar 26 22:34:24 2019\n",
    "100%|██████████| 343/343 [05:50<00:00,  1.39it/s]\n",
    "# Epcho-time 205.63s Eval AUC 0.933394. Eval logloss 0.037321. Best AUC 0.933394.like"
   ]
  },
  {
   "cell_type": "code",
   "execution_count": null,
   "metadata": {},
   "outputs": [],
   "source": [
    "print(\"Dev Inference:\")\n",
    "preds=model.infer(test)\n",
    "test[hparam.label+'_probability']=preds.round(6) \n",
    "fpr, tpr, thresholds = metrics.roc_curve(test[hparam.label]+1, test[hparam.label+'_probability'], pos_label=2)\n",
    "auc=metrics.auc(fpr, tpr)\n",
    "print(hparam.label,round(auc,6))\n",
    "score=str(round(auc,6))\n",
    "del train\n",
    "del test\n",
    "gc.collect()"
   ]
  },
  {
   "cell_type": "code",
   "execution_count": null,
   "metadata": {},
   "outputs": [],
   "source": [
    "test=pd.read_pickle(\"data/test_NN.pkl\")    \n",
    "index=list(range(10))\n",
    "for i in range(5):\n",
    "    print(\"Fold\",i)\n",
    "    random.shuffle(index)\n",
    "    model=ctrNet.build_model(hparam)\n",
    "    for idx,k in enumerate(index):\n",
    "        print(idx,k)\n",
    "        train=pd.read_pickle('data/train_NN_'+str(k)+'.pkl')\n",
    "        model.train(train,None)\n",
    "    print(\"Test Inference:\")   \n",
    "    if i==0:\n",
    "        preds=model.infer(test)/5\n",
    "    else:\n",
    "        preds+=model.infer(test)/5\n",
    "\n",
    "\n",
    "\n",
    "test[hparam.label+'_probability']=preds.round(6)\n",
    "try:\n",
    "    os.mkdir('submission')\n",
    "except:\n",
    "    pass\n",
    "try:\n",
    "    os.mkdir('submission/'+hparam.label)\n",
    "except:\n",
    "    pass\n",
    "test[['uid','item_id',hparam.label+'_probability']].to_csv('submission/'+hparam.label+'/'+\\\n",
    "                                                           hparam.model+'_'+score+'.csv',index=False)"
   ]
  },
  {
   "cell_type": "code",
   "execution_count": null,
   "metadata": {
    "collapsed": true
   },
   "outputs": [],
   "source": [
    "score"
   ]
  },
  {
   "cell_type": "code",
   "execution_count": null,
   "metadata": {
    "collapsed": true
   },
   "outputs": [],
   "source": [
    "print(score)"
   ]
  },
  {
   "cell_type": "code",
   "execution_count": null,
   "metadata": {
    "collapsed": true
   },
   "outputs": [],
   "source": [
    "score"
   ]
  },
  {
   "cell_type": "code",
   "execution_count": null,
   "metadata": {
    "collapsed": true
   },
   "outputs": [],
   "source": [
    "score"
   ]
  },
  {
   "cell_type": "code",
   "execution_count": null,
   "metadata": {
    "collapsed": true
   },
   "outputs": [],
   "source": []
  }
 ],
 "metadata": {
  "kernelspec": {
   "display_name": "Python 3",
   "language": "python",
   "name": "python3"
  },
  "language_info": {
   "codemirror_mode": {
    "name": "ipython",
    "version": 3
   },
   "file_extension": ".py",
   "mimetype": "text/x-python",
   "name": "python",
   "nbconvert_exporter": "python",
   "pygments_lexer": "ipython3",
   "version": "3.6.7"
  }
 },
 "nbformat": 4,
 "nbformat_minor": 2
}
