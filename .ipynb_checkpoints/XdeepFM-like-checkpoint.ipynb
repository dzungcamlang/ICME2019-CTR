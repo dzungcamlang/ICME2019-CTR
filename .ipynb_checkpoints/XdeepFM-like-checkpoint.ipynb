{
 "cells": [
  {
   "cell_type": "code",
   "execution_count": 1,
   "metadata": {
    "collapsed": true
   },
   "outputs": [],
   "source": [
    "import numpy as np\n",
    "import pandas as pd\n",
    "import ctrNet\n",
    "import tensorflow as tf\n",
    "from src import misc_utils as utils\n",
    "import os\n",
    "import gc\n",
    "from sklearn import metrics\n",
    "import random\n",
    "np.random.seed(2019)\n",
    "os.environ[\"CUDA_DEVICE_ORDER\"]='PCI_BUS_ID'\n",
    "os.environ[\"CUDA_VISIBLE_DEVICES\"]='5'"
   ]
  },
  {
   "cell_type": "code",
   "execution_count": 2,
   "metadata": {
    "collapsed": true
   },
   "outputs": [],
   "source": [
    "label='like'\n",
    "single_features=['video_duration',\n",
    "              'did_like_positive_num', 'did_like_negative_num',  'did_all_cont','did_day_cont',\n",
    "              'author_id_like_positive_num', 'author_id_like_negative_num','author_id_all_cont','author_id_day_cont',\n",
    "              'item_id_like_positive_num', 'item_id_like_negative_num','item_id_all_cont','item_id_day_cont',\n",
    "             'uid_like_positive_num', 'uid_like_negative_num', \n",
    "             'user_city_like_positive_num', 'user_city_like_negative_num', \n",
    "             'item_city_like_positive_num', 'item_city_like_negative_num', \n",
    "             'music_id_like_positive_num', 'music_id_like_negative_num', \n",
    "                           'author_include_num_of_item','author_include_num_of_uid','author_id_did_all_cont'\n",
    "                 ,'author_include_num_of_item','author_include_num_of_uid',\n",
    "                'title_cont','uid_has_num_of_did','uid_channel_nunique','did_video_duration_max','channel_video_duration_min',\n",
    "                'item_id_uid_nunique',]\n",
    "cross_features=['uid','user_city','item_id','author_id','item_city','channel','music_id','did','video_duration']\n",
    "\n",
    "\n",
    "embedding_features=None\n",
    "multi_features=['title_keys']\n",
    "multi_weights=['title_values']\n",
    "dense_features=['audio_embedding_'+str(i) for i in range(64)]+['video_embedding_'+str(i) for i in range(32)]+['author_id_embedding_128_'+str(i) for i in range(128)]+\\\n",
    "                ['uid_embedding_128_'+str(i) for i in range(128)]+['did_embedding_128_'+str(i) for i in range(128)]\n",
    "dense_features+=['beauty_min','did_like_rate','author_id_like_rate','uid_like_rate','user_city_like_rate','item_city_like_rate',\n",
    "                'music_id_like_rate','item_id_like_rate','title_mean_rate_finish','title_max_rate_finish','title_min_rate_finish'] \n",
    "dense_features+=['uid_did_nunique', 'uid_did_count', 'uid_channel_nunique', 'did_video_duration_min', \n",
    "                        'did_video_duration_max', 'did_video_duration_mean', 'did_video_duration_std', \n",
    "                        'channel_video_duration_min', 'channel_video_duration_max', 'channel_video_duration_mean', \n",
    "                        'channel_video_duration_std', 'uid_item_id_unique_mean', 'uid_author_id_unique_mean', \n",
    "                        'uid_channel_unique_mean', 'did_item_id_unique_mean', 'did_author_id_unique_mean', \n",
    "                        'did_channel_unique_mean', 'uid_item_id_unique_var', 'uid_author_id_unique_var', \n",
    "                        'uid_channel_unique_var', 'did_item_id_unique_var', 'did_author_id_unique_var', \n",
    "                        'did_channel_unique_var', 'author_id_title_cont_skew', 'author_id_title_cont_mean', \n",
    "                        'author_id_title_cont_std', 'did_title_cont_skew', 'did_title_cont_mean', \n",
    "                        'did_title_cont_std', 'uid_channel_title_cont_skew', 'uid_channel_title_cont_mean', \n",
    "                        'uid_channel_title_cont_std', 'item_id_uid_nunique', 'item_id_uid_count', \n",
    "                        'author_id_item_id_nunique', 'author_id_item_id_count', 'uid_user_city_nunique', \n",
    "                        'uid_author_id_nunique', 'channel_user_city_nunique', 'did_video_duration_skew', \n",
    "                        'channel_video_duration_skew',  'item_id_pagerank', 'uid_item_id_pagerank', \n",
    "                        'uid_author_id_pagerank', 'did_item_id_pagerank', 'did_author_id_pagerank',\n",
    "                        'item_id_uid_pagerank', 'item_id_did_pagerank', 'author_id_uid_pagerank', \n",
    "                        'author_id_did_pagerank', 'title_mean', 'uid_title_mean_mean', \n",
    "                        'uid_title_mean_std', 'uid_title_mean_skew', 'author_id_title_mean_mean', \n",
    "                        'author_id_title_mean_std', 'author_id_title_mean_skew', 'did_title_mean_mean', \n",
    "                        'did_title_mean_std', 'did_title_mean_skew', 'uid_channel_title_mean_mean', \n",
    "                        'uid_channel_title_mean_std', 'uid_channel_title_mean_skew']\n",
    "dense_features+=[\"user_music_id_\"+str(i) for i in range(128)]+[\"user_item_id_\"+str(i) for i in range(128)]+[\"user_did_\"+str(i) for i in range(128)]+[\"user_author_id_\"+str(i) for i in range(128)]\n",
    "dense_features+=[\"item_author_id_\"+str(i) for i in range(64)]+[\"item_music_id_\"+str(i) for i in range(64)]+[\"item_did_\"+str(i) for i in range(64)]+[\"item_uid_\"+str(i) for i in range(64)]\n",
    "dense_features+=[\"did_author_id_\"+str(i) for i in range(64)]+[\"did_music_id_\"+str(i) for i in range(64)]+[\"did_item_id_\"+str(i) for i in range(64)]+[\"did_uid_\"+str(i) for i in range(64)]\n",
    "dense_features+=[\"author_did_\"+str(i) for i in range(64)]+[\"author_uid_\"+str(i) for i in range(64)]+[\"author_music_id_\"+str(i) for i in range(64)]+[\"author_item_id_\"+str(i) for i in range(64)]\n",
    "for f1,f2 in [('uid','item_id'),('uid','author_id'),('did','item_id'),('did','author_id')]:\n",
    "    for i in range(64):\n",
    "        dense_features.append(f1+'_'+ f2+'_'+f1+'_deepwalk_embedding_64_'+str(i))\n",
    "        dense_features.append(f1+'_'+ f2+'_'+f2+'_deepwalk_embedding_'+str(i))\n",
    "\n"
   ]
  },
  {
   "cell_type": "code",
   "execution_count": 3,
   "metadata": {},
   "outputs": [
    {
     "name": "stdout",
     "output_type": "stream",
     "text": [
      "  activation=['relu', 'relu', 'relu']\n",
      "  batch_norm_decay=0.9\n",
      "  batch_size=4096\n",
      "  cross_activation=identity\n",
      "  cross_features=['uid', 'user_city', 'item_id', 'author_id', 'item_city', 'channel', 'music_id', 'did', 'video_duration']\n",
      "  cross_hash_num=5000000\n",
      "  cross_layer_sizes=[300, 300]\n",
      "  dense_features=['audio_embedding_0', 'audio_embedding_1', 'audio_embedding_2', 'audio_embedding_3', 'audio_embedding_4', 'audio_embedding_5', 'audio_embedding_6', 'audio_embedding_7', 'audio_embedding_8', 'audio_embedding_9', 'audio_embedding_10', 'audio_embedding_11', 'audio_embedding_12', 'audio_embedding_13', 'audio_embedding_14', 'audio_embedding_15', 'audio_embedding_16', 'audio_embedding_17', 'audio_embedding_18', 'audio_embedding_19', 'audio_embedding_20', 'audio_embedding_21', 'audio_embedding_22', 'audio_embedding_23', 'audio_embedding_24', 'audio_embedding_25', 'audio_embedding_26', 'audio_embedding_27', 'audio_embedding_28', 'audio_embedding_29', 'audio_embedding_30', 'audio_embedding_31', 'audio_embedding_32', 'audio_embedding_33', 'audio_embedding_34', 'audio_embedding_35', 'audio_embedding_36', 'audio_embedding_37', 'audio_embedding_38', 'audio_embedding_39', 'audio_embedding_40', 'audio_embedding_41', 'audio_embedding_42', 'audio_embedding_43', 'audio_embedding_44', 'audio_embedding_45', 'audio_embedding_46', 'audio_embedding_47', 'audio_embedding_48', 'audio_embedding_49', 'audio_embedding_50', 'audio_embedding_51', 'audio_embedding_52', 'audio_embedding_53', 'audio_embedding_54', 'audio_embedding_55', 'audio_embedding_56', 'audio_embedding_57', 'audio_embedding_58', 'audio_embedding_59', 'audio_embedding_60', 'audio_embedding_61', 'audio_embedding_62', 'audio_embedding_63', 'video_embedding_0', 'video_embedding_1', 'video_embedding_2', 'video_embedding_3', 'video_embedding_4', 'video_embedding_5', 'video_embedding_6', 'video_embedding_7', 'video_embedding_8', 'video_embedding_9', 'video_embedding_10', 'video_embedding_11', 'video_embedding_12', 'video_embedding_13', 'video_embedding_14', 'video_embedding_15', 'video_embedding_16', 'video_embedding_17', 'video_embedding_18', 'video_embedding_19', 'video_embedding_20', 'video_embedding_21', 'video_embedding_22', 'video_embedding_23', 'video_embedding_24', 'video_embedding_25', 'video_embedding_26', 'video_embedding_27', 'video_embedding_28', 'video_embedding_29', 'video_embedding_30', 'video_embedding_31', 'author_id_embedding_128_0', 'author_id_embedding_128_1', 'author_id_embedding_128_2', 'author_id_embedding_128_3', 'author_id_embedding_128_4', 'author_id_embedding_128_5', 'author_id_embedding_128_6', 'author_id_embedding_128_7', 'author_id_embedding_128_8', 'author_id_embedding_128_9', 'author_id_embedding_128_10', 'author_id_embedding_128_11', 'author_id_embedding_128_12', 'author_id_embedding_128_13', 'author_id_embedding_128_14', 'author_id_embedding_128_15', 'author_id_embedding_128_16', 'author_id_embedding_128_17', 'author_id_embedding_128_18', 'author_id_embedding_128_19', 'author_id_embedding_128_20', 'author_id_embedding_128_21', 'author_id_embedding_128_22', 'author_id_embedding_128_23', 'author_id_embedding_128_24', 'author_id_embedding_128_25', 'author_id_embedding_128_26', 'author_id_embedding_128_27', 'author_id_embedding_128_28', 'author_id_embedding_128_29', 'author_id_embedding_128_30', 'author_id_embedding_128_31', 'author_id_embedding_128_32', 'author_id_embedding_128_33', 'author_id_embedding_128_34', 'author_id_embedding_128_35', 'author_id_embedding_128_36', 'author_id_embedding_128_37', 'author_id_embedding_128_38', 'author_id_embedding_128_39', 'author_id_embedding_128_40', 'author_id_embedding_128_41', 'author_id_embedding_128_42', 'author_id_embedding_128_43', 'author_id_embedding_128_44', 'author_id_embedding_128_45', 'author_id_embedding_128_46', 'author_id_embedding_128_47', 'author_id_embedding_128_48', 'author_id_embedding_128_49', 'author_id_embedding_128_50', 'author_id_embedding_128_51', 'author_id_embedding_128_52', 'author_id_embedding_128_53', 'author_id_embedding_128_54', 'author_id_embedding_128_55', 'author_id_embedding_128_56', 'author_id_embedding_128_57', 'author_id_embedding_128_58', 'author_id_embedding_128_59', 'author_id_embedding_128_60', 'author_id_embedding_128_61', 'author_id_embedding_128_62', 'author_id_embedding_128_63', 'author_id_embedding_128_64', 'author_id_embedding_128_65', 'author_id_embedding_128_66', 'author_id_embedding_128_67', 'author_id_embedding_128_68', 'author_id_embedding_128_69', 'author_id_embedding_128_70', 'author_id_embedding_128_71', 'author_id_embedding_128_72', 'author_id_embedding_128_73', 'author_id_embedding_128_74', 'author_id_embedding_128_75', 'author_id_embedding_128_76', 'author_id_embedding_128_77', 'author_id_embedding_128_78', 'author_id_embedding_128_79', 'author_id_embedding_128_80', 'author_id_embedding_128_81', 'author_id_embedding_128_82', 'author_id_embedding_128_83', 'author_id_embedding_128_84', 'author_id_embedding_128_85', 'author_id_embedding_128_86', 'author_id_embedding_128_87', 'author_id_embedding_128_88', 'author_id_embedding_128_89', 'author_id_embedding_128_90', 'author_id_embedding_128_91', 'author_id_embedding_128_92', 'author_id_embedding_128_93', 'author_id_embedding_128_94', 'author_id_embedding_128_95', 'author_id_embedding_128_96', 'author_id_embedding_128_97', 'author_id_embedding_128_98', 'author_id_embedding_128_99', 'author_id_embedding_128_100', 'author_id_embedding_128_101', 'author_id_embedding_128_102', 'author_id_embedding_128_103', 'author_id_embedding_128_104', 'author_id_embedding_128_105', 'author_id_embedding_128_106', 'author_id_embedding_128_107', 'author_id_embedding_128_108', 'author_id_embedding_128_109', 'author_id_embedding_128_110', 'author_id_embedding_128_111', 'author_id_embedding_128_112', 'author_id_embedding_128_113', 'author_id_embedding_128_114', 'author_id_embedding_128_115', 'author_id_embedding_128_116', 'author_id_embedding_128_117', 'author_id_embedding_128_118', 'author_id_embedding_128_119', 'author_id_embedding_128_120', 'author_id_embedding_128_121', 'author_id_embedding_128_122', 'author_id_embedding_128_123', 'author_id_embedding_128_124', 'author_id_embedding_128_125', 'author_id_embedding_128_126', 'author_id_embedding_128_127', 'uid_embedding_128_0', 'uid_embedding_128_1', 'uid_embedding_128_2', 'uid_embedding_128_3', 'uid_embedding_128_4', 'uid_embedding_128_5', 'uid_embedding_128_6', 'uid_embedding_128_7', 'uid_embedding_128_8', 'uid_embedding_128_9', 'uid_embedding_128_10', 'uid_embedding_128_11', 'uid_embedding_128_12', 'uid_embedding_128_13', 'uid_embedding_128_14', 'uid_embedding_128_15', 'uid_embedding_128_16', 'uid_embedding_128_17', 'uid_embedding_128_18', 'uid_embedding_128_19', 'uid_embedding_128_20', 'uid_embedding_128_21', 'uid_embedding_128_22', 'uid_embedding_128_23', 'uid_embedding_128_24', 'uid_embedding_128_25', 'uid_embedding_128_26', 'uid_embedding_128_27', 'uid_embedding_128_28', 'uid_embedding_128_29', 'uid_embedding_128_30', 'uid_embedding_128_31', 'uid_embedding_128_32', 'uid_embedding_128_33', 'uid_embedding_128_34', 'uid_embedding_128_35', 'uid_embedding_128_36', 'uid_embedding_128_37', 'uid_embedding_128_38', 'uid_embedding_128_39', 'uid_embedding_128_40', 'uid_embedding_128_41', 'uid_embedding_128_42', 'uid_embedding_128_43', 'uid_embedding_128_44', 'uid_embedding_128_45', 'uid_embedding_128_46', 'uid_embedding_128_47', 'uid_embedding_128_48', 'uid_embedding_128_49', 'uid_embedding_128_50', 'uid_embedding_128_51', 'uid_embedding_128_52', 'uid_embedding_128_53', 'uid_embedding_128_54', 'uid_embedding_128_55', 'uid_embedding_128_56', 'uid_embedding_128_57', 'uid_embedding_128_58', 'uid_embedding_128_59', 'uid_embedding_128_60', 'uid_embedding_128_61', 'uid_embedding_128_62', 'uid_embedding_128_63', 'uid_embedding_128_64', 'uid_embedding_128_65', 'uid_embedding_128_66', 'uid_embedding_128_67', 'uid_embedding_128_68', 'uid_embedding_128_69', 'uid_embedding_128_70', 'uid_embedding_128_71', 'uid_embedding_128_72', 'uid_embedding_128_73', 'uid_embedding_128_74', 'uid_embedding_128_75', 'uid_embedding_128_76', 'uid_embedding_128_77', 'uid_embedding_128_78', 'uid_embedding_128_79', 'uid_embedding_128_80', 'uid_embedding_128_81', 'uid_embedding_128_82', 'uid_embedding_128_83', 'uid_embedding_128_84', 'uid_embedding_128_85', 'uid_embedding_128_86', 'uid_embedding_128_87', 'uid_embedding_128_88', 'uid_embedding_128_89', 'uid_embedding_128_90', 'uid_embedding_128_91', 'uid_embedding_128_92', 'uid_embedding_128_93', 'uid_embedding_128_94', 'uid_embedding_128_95', 'uid_embedding_128_96', 'uid_embedding_128_97', 'uid_embedding_128_98', 'uid_embedding_128_99', 'uid_embedding_128_100', 'uid_embedding_128_101', 'uid_embedding_128_102', 'uid_embedding_128_103', 'uid_embedding_128_104', 'uid_embedding_128_105', 'uid_embedding_128_106', 'uid_embedding_128_107', 'uid_embedding_128_108', 'uid_embedding_128_109', 'uid_embedding_128_110', 'uid_embedding_128_111', 'uid_embedding_128_112', 'uid_embedding_128_113', 'uid_embedding_128_114', 'uid_embedding_128_115', 'uid_embedding_128_116', 'uid_embedding_128_117', 'uid_embedding_128_118', 'uid_embedding_128_119', 'uid_embedding_128_120', 'uid_embedding_128_121', 'uid_embedding_128_122', 'uid_embedding_128_123', 'uid_embedding_128_124', 'uid_embedding_128_125', 'uid_embedding_128_126', 'uid_embedding_128_127', 'did_embedding_128_0', 'did_embedding_128_1', 'did_embedding_128_2', 'did_embedding_128_3', 'did_embedding_128_4', 'did_embedding_128_5', 'did_embedding_128_6', 'did_embedding_128_7', 'did_embedding_128_8', 'did_embedding_128_9', 'did_embedding_128_10', 'did_embedding_128_11', 'did_embedding_128_12', 'did_embedding_128_13', 'did_embedding_128_14', 'did_embedding_128_15', 'did_embedding_128_16', 'did_embedding_128_17', 'did_embedding_128_18', 'did_embedding_128_19', 'did_embedding_128_20', 'did_embedding_128_21', 'did_embedding_128_22', 'did_embedding_128_23', 'did_embedding_128_24', 'did_embedding_128_25', 'did_embedding_128_26', 'did_embedding_128_27', 'did_embedding_128_28', 'did_embedding_128_29', 'did_embedding_128_30', 'did_embedding_128_31', 'did_embedding_128_32', 'did_embedding_128_33', 'did_embedding_128_34', 'did_embedding_128_35', 'did_embedding_128_36', 'did_embedding_128_37', 'did_embedding_128_38', 'did_embedding_128_39', 'did_embedding_128_40', 'did_embedding_128_41', 'did_embedding_128_42', 'did_embedding_128_43', 'did_embedding_128_44', 'did_embedding_128_45', 'did_embedding_128_46', 'did_embedding_128_47', 'did_embedding_128_48', 'did_embedding_128_49', 'did_embedding_128_50', 'did_embedding_128_51', 'did_embedding_128_52', 'did_embedding_128_53', 'did_embedding_128_54', 'did_embedding_128_55', 'did_embedding_128_56', 'did_embedding_128_57', 'did_embedding_128_58', 'did_embedding_128_59', 'did_embedding_128_60', 'did_embedding_128_61', 'did_embedding_128_62', 'did_embedding_128_63', 'did_embedding_128_64', 'did_embedding_128_65', 'did_embedding_128_66', 'did_embedding_128_67', 'did_embedding_128_68', 'did_embedding_128_69', 'did_embedding_128_70', 'did_embedding_128_71', 'did_embedding_128_72', 'did_embedding_128_73', 'did_embedding_128_74', 'did_embedding_128_75', 'did_embedding_128_76', 'did_embedding_128_77', 'did_embedding_128_78', 'did_embedding_128_79', 'did_embedding_128_80', 'did_embedding_128_81', 'did_embedding_128_82', 'did_embedding_128_83', 'did_embedding_128_84', 'did_embedding_128_85', 'did_embedding_128_86', 'did_embedding_128_87', 'did_embedding_128_88', 'did_embedding_128_89', 'did_embedding_128_90', 'did_embedding_128_91', 'did_embedding_128_92', 'did_embedding_128_93', 'did_embedding_128_94', 'did_embedding_128_95', 'did_embedding_128_96', 'did_embedding_128_97', 'did_embedding_128_98', 'did_embedding_128_99', 'did_embedding_128_100', 'did_embedding_128_101', 'did_embedding_128_102', 'did_embedding_128_103', 'did_embedding_128_104', 'did_embedding_128_105', 'did_embedding_128_106', 'did_embedding_128_107', 'did_embedding_128_108', 'did_embedding_128_109', 'did_embedding_128_110', 'did_embedding_128_111', 'did_embedding_128_112', 'did_embedding_128_113', 'did_embedding_128_114', 'did_embedding_128_115', 'did_embedding_128_116', 'did_embedding_128_117', 'did_embedding_128_118', 'did_embedding_128_119', 'did_embedding_128_120', 'did_embedding_128_121', 'did_embedding_128_122', 'did_embedding_128_123', 'did_embedding_128_124', 'did_embedding_128_125', 'did_embedding_128_126', 'did_embedding_128_127', 'beauty_min', 'did_like_rate', 'author_id_like_rate', 'uid_like_rate', 'user_city_like_rate', 'item_city_like_rate', 'music_id_like_rate', 'item_id_like_rate', 'title_mean_rate_finish', 'title_max_rate_finish', 'title_min_rate_finish', 'uid_did_nunique', 'uid_did_count', 'uid_channel_nunique', 'did_video_duration_min', 'did_video_duration_max', 'did_video_duration_mean', 'did_video_duration_std', 'channel_video_duration_min', 'channel_video_duration_max', 'channel_video_duration_mean', 'channel_video_duration_std', 'uid_item_id_unique_mean', 'uid_author_id_unique_mean', 'uid_channel_unique_mean', 'did_item_id_unique_mean', 'did_author_id_unique_mean', 'did_channel_unique_mean', 'uid_item_id_unique_var', 'uid_author_id_unique_var', 'uid_channel_unique_var', 'did_item_id_unique_var', 'did_author_id_unique_var', 'did_channel_unique_var', 'author_id_title_cont_skew', 'author_id_title_cont_mean', 'author_id_title_cont_std', 'did_title_cont_skew', 'did_title_cont_mean', 'did_title_cont_std', 'uid_channel_title_cont_skew', 'uid_channel_title_cont_mean', 'uid_channel_title_cont_std', 'item_id_uid_nunique', 'item_id_uid_count', 'author_id_item_id_nunique', 'author_id_item_id_count', 'uid_user_city_nunique', 'uid_author_id_nunique', 'channel_user_city_nunique', 'did_video_duration_skew', 'channel_video_duration_skew', 'item_id_pagerank', 'uid_item_id_pagerank', 'uid_author_id_pagerank', 'did_item_id_pagerank', 'did_author_id_pagerank', 'item_id_uid_pagerank', 'item_id_did_pagerank', 'author_id_uid_pagerank', 'author_id_did_pagerank', 'title_mean', 'uid_title_mean_mean', 'uid_title_mean_std', 'uid_title_mean_skew', 'author_id_title_mean_mean', 'author_id_title_mean_std', 'author_id_title_mean_skew', 'did_title_mean_mean', 'did_title_mean_std', 'did_title_mean_skew', 'uid_channel_title_mean_mean', 'uid_channel_title_mean_std', 'uid_channel_title_mean_skew', 'user_music_id_0', 'user_music_id_1', 'user_music_id_2', 'user_music_id_3', 'user_music_id_4', 'user_music_id_5', 'user_music_id_6', 'user_music_id_7', 'user_music_id_8', 'user_music_id_9', 'user_music_id_10', 'user_music_id_11', 'user_music_id_12', 'user_music_id_13', 'user_music_id_14', 'user_music_id_15', 'user_music_id_16', 'user_music_id_17', 'user_music_id_18', 'user_music_id_19', 'user_music_id_20', 'user_music_id_21', 'user_music_id_22', 'user_music_id_23', 'user_music_id_24', 'user_music_id_25', 'user_music_id_26', 'user_music_id_27', 'user_music_id_28', 'user_music_id_29', 'user_music_id_30', 'user_music_id_31', 'user_music_id_32', 'user_music_id_33', 'user_music_id_34', 'user_music_id_35', 'user_music_id_36', 'user_music_id_37', 'user_music_id_38', 'user_music_id_39', 'user_music_id_40', 'user_music_id_41', 'user_music_id_42', 'user_music_id_43', 'user_music_id_44', 'user_music_id_45', 'user_music_id_46', 'user_music_id_47', 'user_music_id_48', 'user_music_id_49', 'user_music_id_50', 'user_music_id_51', 'user_music_id_52', 'user_music_id_53', 'user_music_id_54', 'user_music_id_55', 'user_music_id_56', 'user_music_id_57', 'user_music_id_58', 'user_music_id_59', 'user_music_id_60', 'user_music_id_61', 'user_music_id_62', 'user_music_id_63', 'user_music_id_64', 'user_music_id_65', 'user_music_id_66', 'user_music_id_67', 'user_music_id_68', 'user_music_id_69', 'user_music_id_70', 'user_music_id_71', 'user_music_id_72', 'user_music_id_73', 'user_music_id_74', 'user_music_id_75', 'user_music_id_76', 'user_music_id_77', 'user_music_id_78', 'user_music_id_79', 'user_music_id_80', 'user_music_id_81', 'user_music_id_82', 'user_music_id_83', 'user_music_id_84', 'user_music_id_85', 'user_music_id_86', 'user_music_id_87', 'user_music_id_88', 'user_music_id_89', 'user_music_id_90', 'user_music_id_91', 'user_music_id_92', 'user_music_id_93', 'user_music_id_94', 'user_music_id_95', 'user_music_id_96', 'user_music_id_97', 'user_music_id_98', 'user_music_id_99', 'user_music_id_100', 'user_music_id_101', 'user_music_id_102', 'user_music_id_103', 'user_music_id_104', 'user_music_id_105', 'user_music_id_106', 'user_music_id_107', 'user_music_id_108', 'user_music_id_109', 'user_music_id_110', 'user_music_id_111', 'user_music_id_112', 'user_music_id_113', 'user_music_id_114', 'user_music_id_115', 'user_music_id_116', 'user_music_id_117', 'user_music_id_118', 'user_music_id_119', 'user_music_id_120', 'user_music_id_121', 'user_music_id_122', 'user_music_id_123', 'user_music_id_124', 'user_music_id_125', 'user_music_id_126', 'user_music_id_127', 'user_item_id_0', 'user_item_id_1', 'user_item_id_2', 'user_item_id_3', 'user_item_id_4', 'user_item_id_5', 'user_item_id_6', 'user_item_id_7', 'user_item_id_8', 'user_item_id_9', 'user_item_id_10', 'user_item_id_11', 'user_item_id_12', 'user_item_id_13', 'user_item_id_14', 'user_item_id_15', 'user_item_id_16', 'user_item_id_17', 'user_item_id_18', 'user_item_id_19', 'user_item_id_20', 'user_item_id_21', 'user_item_id_22', 'user_item_id_23', 'user_item_id_24', 'user_item_id_25', 'user_item_id_26', 'user_item_id_27', 'user_item_id_28', 'user_item_id_29', 'user_item_id_30', 'user_item_id_31', 'user_item_id_32', 'user_item_id_33', 'user_item_id_34', 'user_item_id_35', 'user_item_id_36', 'user_item_id_37', 'user_item_id_38', 'user_item_id_39', 'user_item_id_40', 'user_item_id_41', 'user_item_id_42', 'user_item_id_43', 'user_item_id_44', 'user_item_id_45', 'user_item_id_46', 'user_item_id_47', 'user_item_id_48', 'user_item_id_49', 'user_item_id_50', 'user_item_id_51', 'user_item_id_52', 'user_item_id_53', 'user_item_id_54', 'user_item_id_55', 'user_item_id_56', 'user_item_id_57', 'user_item_id_58', 'user_item_id_59', 'user_item_id_60', 'user_item_id_61', 'user_item_id_62', 'user_item_id_63', 'user_item_id_64', 'user_item_id_65', 'user_item_id_66', 'user_item_id_67', 'user_item_id_68', 'user_item_id_69', 'user_item_id_70', 'user_item_id_71', 'user_item_id_72', 'user_item_id_73', 'user_item_id_74', 'user_item_id_75', 'user_item_id_76', 'user_item_id_77', 'user_item_id_78', 'user_item_id_79', 'user_item_id_80', 'user_item_id_81', 'user_item_id_82', 'user_item_id_83', 'user_item_id_84', 'user_item_id_85', 'user_item_id_86', 'user_item_id_87', 'user_item_id_88', 'user_item_id_89', 'user_item_id_90', 'user_item_id_91', 'user_item_id_92', 'user_item_id_93', 'user_item_id_94', 'user_item_id_95', 'user_item_id_96', 'user_item_id_97', 'user_item_id_98', 'user_item_id_99', 'user_item_id_100', 'user_item_id_101', 'user_item_id_102', 'user_item_id_103', 'user_item_id_104', 'user_item_id_105', 'user_item_id_106', 'user_item_id_107', 'user_item_id_108', 'user_item_id_109', 'user_item_id_110', 'user_item_id_111', 'user_item_id_112', 'user_item_id_113', 'user_item_id_114', 'user_item_id_115', 'user_item_id_116', 'user_item_id_117', 'user_item_id_118', 'user_item_id_119', 'user_item_id_120', 'user_item_id_121', 'user_item_id_122', 'user_item_id_123', 'user_item_id_124', 'user_item_id_125', 'user_item_id_126', 'user_item_id_127', 'user_did_0', 'user_did_1', 'user_did_2', 'user_did_3', 'user_did_4', 'user_did_5', 'user_did_6', 'user_did_7', 'user_did_8', 'user_did_9', 'user_did_10', 'user_did_11', 'user_did_12', 'user_did_13', 'user_did_14', 'user_did_15', 'user_did_16', 'user_did_17', 'user_did_18', 'user_did_19', 'user_did_20', 'user_did_21', 'user_did_22', 'user_did_23', 'user_did_24', 'user_did_25', 'user_did_26', 'user_did_27', 'user_did_28', 'user_did_29', 'user_did_30', 'user_did_31', 'user_did_32', 'user_did_33', 'user_did_34', 'user_did_35', 'user_did_36', 'user_did_37', 'user_did_38', 'user_did_39', 'user_did_40', 'user_did_41', 'user_did_42', 'user_did_43', 'user_did_44', 'user_did_45', 'user_did_46', 'user_did_47', 'user_did_48', 'user_did_49', 'user_did_50', 'user_did_51', 'user_did_52', 'user_did_53', 'user_did_54', 'user_did_55', 'user_did_56', 'user_did_57', 'user_did_58', 'user_did_59', 'user_did_60', 'user_did_61', 'user_did_62', 'user_did_63', 'user_did_64', 'user_did_65', 'user_did_66', 'user_did_67', 'user_did_68', 'user_did_69', 'user_did_70', 'user_did_71', 'user_did_72', 'user_did_73', 'user_did_74', 'user_did_75', 'user_did_76', 'user_did_77', 'user_did_78', 'user_did_79', 'user_did_80', 'user_did_81', 'user_did_82', 'user_did_83', 'user_did_84', 'user_did_85', 'user_did_86', 'user_did_87', 'user_did_88', 'user_did_89', 'user_did_90', 'user_did_91', 'user_did_92', 'user_did_93', 'user_did_94', 'user_did_95', 'user_did_96', 'user_did_97', 'user_did_98', 'user_did_99', 'user_did_100', 'user_did_101', 'user_did_102', 'user_did_103', 'user_did_104', 'user_did_105', 'user_did_106', 'user_did_107', 'user_did_108', 'user_did_109', 'user_did_110', 'user_did_111', 'user_did_112', 'user_did_113', 'user_did_114', 'user_did_115', 'user_did_116', 'user_did_117', 'user_did_118', 'user_did_119', 'user_did_120', 'user_did_121', 'user_did_122', 'user_did_123', 'user_did_124', 'user_did_125', 'user_did_126', 'user_did_127', 'user_author_id_0', 'user_author_id_1', 'user_author_id_2', 'user_author_id_3', 'user_author_id_4', 'user_author_id_5', 'user_author_id_6', 'user_author_id_7', 'user_author_id_8', 'user_author_id_9', 'user_author_id_10', 'user_author_id_11', 'user_author_id_12', 'user_author_id_13', 'user_author_id_14', 'user_author_id_15', 'user_author_id_16', 'user_author_id_17', 'user_author_id_18', 'user_author_id_19', 'user_author_id_20', 'user_author_id_21', 'user_author_id_22', 'user_author_id_23', 'user_author_id_24', 'user_author_id_25', 'user_author_id_26', 'user_author_id_27', 'user_author_id_28', 'user_author_id_29', 'user_author_id_30', 'user_author_id_31', 'user_author_id_32', 'user_author_id_33', 'user_author_id_34', 'user_author_id_35', 'user_author_id_36', 'user_author_id_37', 'user_author_id_38', 'user_author_id_39', 'user_author_id_40', 'user_author_id_41', 'user_author_id_42', 'user_author_id_43', 'user_author_id_44', 'user_author_id_45', 'user_author_id_46', 'user_author_id_47', 'user_author_id_48', 'user_author_id_49', 'user_author_id_50', 'user_author_id_51', 'user_author_id_52', 'user_author_id_53', 'user_author_id_54', 'user_author_id_55', 'user_author_id_56', 'user_author_id_57', 'user_author_id_58', 'user_author_id_59', 'user_author_id_60', 'user_author_id_61', 'user_author_id_62', 'user_author_id_63', 'user_author_id_64', 'user_author_id_65', 'user_author_id_66', 'user_author_id_67', 'user_author_id_68', 'user_author_id_69', 'user_author_id_70', 'user_author_id_71', 'user_author_id_72', 'user_author_id_73', 'user_author_id_74', 'user_author_id_75', 'user_author_id_76', 'user_author_id_77', 'user_author_id_78', 'user_author_id_79', 'user_author_id_80', 'user_author_id_81', 'user_author_id_82', 'user_author_id_83', 'user_author_id_84', 'user_author_id_85', 'user_author_id_86', 'user_author_id_87', 'user_author_id_88', 'user_author_id_89', 'user_author_id_90', 'user_author_id_91', 'user_author_id_92', 'user_author_id_93', 'user_author_id_94', 'user_author_id_95', 'user_author_id_96', 'user_author_id_97', 'user_author_id_98', 'user_author_id_99', 'user_author_id_100', 'user_author_id_101', 'user_author_id_102', 'user_author_id_103', 'user_author_id_104', 'user_author_id_105', 'user_author_id_106', 'user_author_id_107', 'user_author_id_108', 'user_author_id_109', 'user_author_id_110', 'user_author_id_111', 'user_author_id_112', 'user_author_id_113', 'user_author_id_114', 'user_author_id_115', 'user_author_id_116', 'user_author_id_117', 'user_author_id_118', 'user_author_id_119', 'user_author_id_120', 'user_author_id_121', 'user_author_id_122', 'user_author_id_123', 'user_author_id_124', 'user_author_id_125', 'user_author_id_126', 'user_author_id_127', 'item_author_id_0', 'item_author_id_1', 'item_author_id_2', 'item_author_id_3', 'item_author_id_4', 'item_author_id_5', 'item_author_id_6', 'item_author_id_7', 'item_author_id_8', 'item_author_id_9', 'item_author_id_10', 'item_author_id_11', 'item_author_id_12', 'item_author_id_13', 'item_author_id_14', 'item_author_id_15', 'item_author_id_16', 'item_author_id_17', 'item_author_id_18', 'item_author_id_19', 'item_author_id_20', 'item_author_id_21', 'item_author_id_22', 'item_author_id_23', 'item_author_id_24', 'item_author_id_25', 'item_author_id_26', 'item_author_id_27', 'item_author_id_28', 'item_author_id_29', 'item_author_id_30', 'item_author_id_31', 'item_author_id_32', 'item_author_id_33', 'item_author_id_34', 'item_author_id_35', 'item_author_id_36', 'item_author_id_37', 'item_author_id_38', 'item_author_id_39', 'item_author_id_40', 'item_author_id_41', 'item_author_id_42', 'item_author_id_43', 'item_author_id_44', 'item_author_id_45', 'item_author_id_46', 'item_author_id_47', 'item_author_id_48', 'item_author_id_49', 'item_author_id_50', 'item_author_id_51', 'item_author_id_52', 'item_author_id_53', 'item_author_id_54', 'item_author_id_55', 'item_author_id_56', 'item_author_id_57', 'item_author_id_58', 'item_author_id_59', 'item_author_id_60', 'item_author_id_61', 'item_author_id_62', 'item_author_id_63', 'item_music_id_0', 'item_music_id_1', 'item_music_id_2', 'item_music_id_3', 'item_music_id_4', 'item_music_id_5', 'item_music_id_6', 'item_music_id_7', 'item_music_id_8', 'item_music_id_9', 'item_music_id_10', 'item_music_id_11', 'item_music_id_12', 'item_music_id_13', 'item_music_id_14', 'item_music_id_15', 'item_music_id_16', 'item_music_id_17', 'item_music_id_18', 'item_music_id_19', 'item_music_id_20', 'item_music_id_21', 'item_music_id_22', 'item_music_id_23', 'item_music_id_24', 'item_music_id_25', 'item_music_id_26', 'item_music_id_27', 'item_music_id_28', 'item_music_id_29', 'item_music_id_30', 'item_music_id_31', 'item_music_id_32', 'item_music_id_33', 'item_music_id_34', 'item_music_id_35', 'item_music_id_36', 'item_music_id_37', 'item_music_id_38', 'item_music_id_39', 'item_music_id_40', 'item_music_id_41', 'item_music_id_42', 'item_music_id_43', 'item_music_id_44', 'item_music_id_45', 'item_music_id_46', 'item_music_id_47', 'item_music_id_48', 'item_music_id_49', 'item_music_id_50', 'item_music_id_51', 'item_music_id_52', 'item_music_id_53', 'item_music_id_54', 'item_music_id_55', 'item_music_id_56', 'item_music_id_57', 'item_music_id_58', 'item_music_id_59', 'item_music_id_60', 'item_music_id_61', 'item_music_id_62', 'item_music_id_63', 'item_did_0', 'item_did_1', 'item_did_2', 'item_did_3', 'item_did_4', 'item_did_5', 'item_did_6', 'item_did_7', 'item_did_8', 'item_did_9', 'item_did_10', 'item_did_11', 'item_did_12', 'item_did_13', 'item_did_14', 'item_did_15', 'item_did_16', 'item_did_17', 'item_did_18', 'item_did_19', 'item_did_20', 'item_did_21', 'item_did_22', 'item_did_23', 'item_did_24', 'item_did_25', 'item_did_26', 'item_did_27', 'item_did_28', 'item_did_29', 'item_did_30', 'item_did_31', 'item_did_32', 'item_did_33', 'item_did_34', 'item_did_35', 'item_did_36', 'item_did_37', 'item_did_38', 'item_did_39', 'item_did_40', 'item_did_41', 'item_did_42', 'item_did_43', 'item_did_44', 'item_did_45', 'item_did_46', 'item_did_47', 'item_did_48', 'item_did_49', 'item_did_50', 'item_did_51', 'item_did_52', 'item_did_53', 'item_did_54', 'item_did_55', 'item_did_56', 'item_did_57', 'item_did_58', 'item_did_59', 'item_did_60', 'item_did_61', 'item_did_62', 'item_did_63', 'item_uid_0', 'item_uid_1', 'item_uid_2', 'item_uid_3', 'item_uid_4', 'item_uid_5', 'item_uid_6', 'item_uid_7', 'item_uid_8', 'item_uid_9', 'item_uid_10', 'item_uid_11', 'item_uid_12', 'item_uid_13', 'item_uid_14', 'item_uid_15', 'item_uid_16', 'item_uid_17', 'item_uid_18', 'item_uid_19', 'item_uid_20', 'item_uid_21', 'item_uid_22', 'item_uid_23', 'item_uid_24', 'item_uid_25', 'item_uid_26', 'item_uid_27', 'item_uid_28', 'item_uid_29', 'item_uid_30', 'item_uid_31', 'item_uid_32', 'item_uid_33', 'item_uid_34', 'item_uid_35', 'item_uid_36', 'item_uid_37', 'item_uid_38', 'item_uid_39', 'item_uid_40', 'item_uid_41', 'item_uid_42', 'item_uid_43', 'item_uid_44', 'item_uid_45', 'item_uid_46', 'item_uid_47', 'item_uid_48', 'item_uid_49', 'item_uid_50', 'item_uid_51', 'item_uid_52', 'item_uid_53', 'item_uid_54', 'item_uid_55', 'item_uid_56', 'item_uid_57', 'item_uid_58', 'item_uid_59', 'item_uid_60', 'item_uid_61', 'item_uid_62', 'item_uid_63', 'did_author_id_0', 'did_author_id_1', 'did_author_id_2', 'did_author_id_3', 'did_author_id_4', 'did_author_id_5', 'did_author_id_6', 'did_author_id_7', 'did_author_id_8', 'did_author_id_9', 'did_author_id_10', 'did_author_id_11', 'did_author_id_12', 'did_author_id_13', 'did_author_id_14', 'did_author_id_15', 'did_author_id_16', 'did_author_id_17', 'did_author_id_18', 'did_author_id_19', 'did_author_id_20', 'did_author_id_21', 'did_author_id_22', 'did_author_id_23', 'did_author_id_24', 'did_author_id_25', 'did_author_id_26', 'did_author_id_27', 'did_author_id_28', 'did_author_id_29', 'did_author_id_30', 'did_author_id_31', 'did_author_id_32', 'did_author_id_33', 'did_author_id_34', 'did_author_id_35', 'did_author_id_36', 'did_author_id_37', 'did_author_id_38', 'did_author_id_39', 'did_author_id_40', 'did_author_id_41', 'did_author_id_42', 'did_author_id_43', 'did_author_id_44', 'did_author_id_45', 'did_author_id_46', 'did_author_id_47', 'did_author_id_48', 'did_author_id_49', 'did_author_id_50', 'did_author_id_51', 'did_author_id_52', 'did_author_id_53', 'did_author_id_54', 'did_author_id_55', 'did_author_id_56', 'did_author_id_57', 'did_author_id_58', 'did_author_id_59', 'did_author_id_60', 'did_author_id_61', 'did_author_id_62', 'did_author_id_63', 'did_music_id_0', 'did_music_id_1', 'did_music_id_2', 'did_music_id_3', 'did_music_id_4', 'did_music_id_5', 'did_music_id_6', 'did_music_id_7', 'did_music_id_8', 'did_music_id_9', 'did_music_id_10', 'did_music_id_11', 'did_music_id_12', 'did_music_id_13', 'did_music_id_14', 'did_music_id_15', 'did_music_id_16', 'did_music_id_17', 'did_music_id_18', 'did_music_id_19', 'did_music_id_20', 'did_music_id_21', 'did_music_id_22', 'did_music_id_23', 'did_music_id_24', 'did_music_id_25', 'did_music_id_26', 'did_music_id_27', 'did_music_id_28', 'did_music_id_29', 'did_music_id_30', 'did_music_id_31', 'did_music_id_32', 'did_music_id_33', 'did_music_id_34', 'did_music_id_35', 'did_music_id_36', 'did_music_id_37', 'did_music_id_38', 'did_music_id_39', 'did_music_id_40', 'did_music_id_41', 'did_music_id_42', 'did_music_id_43', 'did_music_id_44', 'did_music_id_45', 'did_music_id_46', 'did_music_id_47', 'did_music_id_48', 'did_music_id_49', 'did_music_id_50', 'did_music_id_51', 'did_music_id_52', 'did_music_id_53', 'did_music_id_54', 'did_music_id_55', 'did_music_id_56', 'did_music_id_57', 'did_music_id_58', 'did_music_id_59', 'did_music_id_60', 'did_music_id_61', 'did_music_id_62', 'did_music_id_63', 'did_item_id_0', 'did_item_id_1', 'did_item_id_2', 'did_item_id_3', 'did_item_id_4', 'did_item_id_5', 'did_item_id_6', 'did_item_id_7', 'did_item_id_8', 'did_item_id_9', 'did_item_id_10', 'did_item_id_11', 'did_item_id_12', 'did_item_id_13', 'did_item_id_14', 'did_item_id_15', 'did_item_id_16', 'did_item_id_17', 'did_item_id_18', 'did_item_id_19', 'did_item_id_20', 'did_item_id_21', 'did_item_id_22', 'did_item_id_23', 'did_item_id_24', 'did_item_id_25', 'did_item_id_26', 'did_item_id_27', 'did_item_id_28', 'did_item_id_29', 'did_item_id_30', 'did_item_id_31', 'did_item_id_32', 'did_item_id_33', 'did_item_id_34', 'did_item_id_35', 'did_item_id_36', 'did_item_id_37', 'did_item_id_38', 'did_item_id_39', 'did_item_id_40', 'did_item_id_41', 'did_item_id_42', 'did_item_id_43', 'did_item_id_44', 'did_item_id_45', 'did_item_id_46', 'did_item_id_47', 'did_item_id_48', 'did_item_id_49', 'did_item_id_50', 'did_item_id_51', 'did_item_id_52', 'did_item_id_53', 'did_item_id_54', 'did_item_id_55', 'did_item_id_56', 'did_item_id_57', 'did_item_id_58', 'did_item_id_59', 'did_item_id_60', 'did_item_id_61', 'did_item_id_62', 'did_item_id_63', 'did_uid_0', 'did_uid_1', 'did_uid_2', 'did_uid_3', 'did_uid_4', 'did_uid_5', 'did_uid_6', 'did_uid_7', 'did_uid_8', 'did_uid_9', 'did_uid_10', 'did_uid_11', 'did_uid_12', 'did_uid_13', 'did_uid_14', 'did_uid_15', 'did_uid_16', 'did_uid_17', 'did_uid_18', 'did_uid_19', 'did_uid_20', 'did_uid_21', 'did_uid_22', 'did_uid_23', 'did_uid_24', 'did_uid_25', 'did_uid_26', 'did_uid_27', 'did_uid_28', 'did_uid_29', 'did_uid_30', 'did_uid_31', 'did_uid_32', 'did_uid_33', 'did_uid_34', 'did_uid_35', 'did_uid_36', 'did_uid_37', 'did_uid_38', 'did_uid_39', 'did_uid_40', 'did_uid_41', 'did_uid_42', 'did_uid_43', 'did_uid_44', 'did_uid_45', 'did_uid_46', 'did_uid_47', 'did_uid_48', 'did_uid_49', 'did_uid_50', 'did_uid_51', 'did_uid_52', 'did_uid_53', 'did_uid_54', 'did_uid_55', 'did_uid_56', 'did_uid_57', 'did_uid_58', 'did_uid_59', 'did_uid_60', 'did_uid_61', 'did_uid_62', 'did_uid_63', 'author_did_0', 'author_did_1', 'author_did_2', 'author_did_3', 'author_did_4', 'author_did_5', 'author_did_6', 'author_did_7', 'author_did_8', 'author_did_9', 'author_did_10', 'author_did_11', 'author_did_12', 'author_did_13', 'author_did_14', 'author_did_15', 'author_did_16', 'author_did_17', 'author_did_18', 'author_did_19', 'author_did_20', 'author_did_21', 'author_did_22', 'author_did_23', 'author_did_24', 'author_did_25', 'author_did_26', 'author_did_27', 'author_did_28', 'author_did_29', 'author_did_30', 'author_did_31', 'author_did_32', 'author_did_33', 'author_did_34', 'author_did_35', 'author_did_36', 'author_did_37', 'author_did_38', 'author_did_39', 'author_did_40', 'author_did_41', 'author_did_42', 'author_did_43', 'author_did_44', 'author_did_45', 'author_did_46', 'author_did_47', 'author_did_48', 'author_did_49', 'author_did_50', 'author_did_51', 'author_did_52', 'author_did_53', 'author_did_54', 'author_did_55', 'author_did_56', 'author_did_57', 'author_did_58', 'author_did_59', 'author_did_60', 'author_did_61', 'author_did_62', 'author_did_63', 'author_uid_0', 'author_uid_1', 'author_uid_2', 'author_uid_3', 'author_uid_4', 'author_uid_5', 'author_uid_6', 'author_uid_7', 'author_uid_8', 'author_uid_9', 'author_uid_10', 'author_uid_11', 'author_uid_12', 'author_uid_13', 'author_uid_14', 'author_uid_15', 'author_uid_16', 'author_uid_17', 'author_uid_18', 'author_uid_19', 'author_uid_20', 'author_uid_21', 'author_uid_22', 'author_uid_23', 'author_uid_24', 'author_uid_25', 'author_uid_26', 'author_uid_27', 'author_uid_28', 'author_uid_29', 'author_uid_30', 'author_uid_31', 'author_uid_32', 'author_uid_33', 'author_uid_34', 'author_uid_35', 'author_uid_36', 'author_uid_37', 'author_uid_38', 'author_uid_39', 'author_uid_40', 'author_uid_41', 'author_uid_42', 'author_uid_43', 'author_uid_44', 'author_uid_45', 'author_uid_46', 'author_uid_47', 'author_uid_48', 'author_uid_49', 'author_uid_50', 'author_uid_51', 'author_uid_52', 'author_uid_53', 'author_uid_54', 'author_uid_55', 'author_uid_56', 'author_uid_57', 'author_uid_58', 'author_uid_59', 'author_uid_60', 'author_uid_61', 'author_uid_62', 'author_uid_63', 'author_music_id_0', 'author_music_id_1', 'author_music_id_2', 'author_music_id_3', 'author_music_id_4', 'author_music_id_5', 'author_music_id_6', 'author_music_id_7', 'author_music_id_8', 'author_music_id_9', 'author_music_id_10', 'author_music_id_11', 'author_music_id_12', 'author_music_id_13', 'author_music_id_14', 'author_music_id_15', 'author_music_id_16', 'author_music_id_17', 'author_music_id_18', 'author_music_id_19', 'author_music_id_20', 'author_music_id_21', 'author_music_id_22', 'author_music_id_23', 'author_music_id_24', 'author_music_id_25', 'author_music_id_26', 'author_music_id_27', 'author_music_id_28', 'author_music_id_29', 'author_music_id_30', 'author_music_id_31', 'author_music_id_32', 'author_music_id_33', 'author_music_id_34', 'author_music_id_35', 'author_music_id_36', 'author_music_id_37', 'author_music_id_38', 'author_music_id_39', 'author_music_id_40', 'author_music_id_41', 'author_music_id_42', 'author_music_id_43', 'author_music_id_44', 'author_music_id_45', 'author_music_id_46', 'author_music_id_47', 'author_music_id_48', 'author_music_id_49', 'author_music_id_50', 'author_music_id_51', 'author_music_id_52', 'author_music_id_53', 'author_music_id_54', 'author_music_id_55', 'author_music_id_56', 'author_music_id_57', 'author_music_id_58', 'author_music_id_59', 'author_music_id_60', 'author_music_id_61', 'author_music_id_62', 'author_music_id_63', 'author_item_id_0', 'author_item_id_1', 'author_item_id_2', 'author_item_id_3', 'author_item_id_4', 'author_item_id_5', 'author_item_id_6', 'author_item_id_7', 'author_item_id_8', 'author_item_id_9', 'author_item_id_10', 'author_item_id_11', 'author_item_id_12', 'author_item_id_13', 'author_item_id_14', 'author_item_id_15', 'author_item_id_16', 'author_item_id_17', 'author_item_id_18', 'author_item_id_19', 'author_item_id_20', 'author_item_id_21', 'author_item_id_22', 'author_item_id_23', 'author_item_id_24', 'author_item_id_25', 'author_item_id_26', 'author_item_id_27', 'author_item_id_28', 'author_item_id_29', 'author_item_id_30', 'author_item_id_31', 'author_item_id_32', 'author_item_id_33', 'author_item_id_34', 'author_item_id_35', 'author_item_id_36', 'author_item_id_37', 'author_item_id_38', 'author_item_id_39', 'author_item_id_40', 'author_item_id_41', 'author_item_id_42', 'author_item_id_43', 'author_item_id_44', 'author_item_id_45', 'author_item_id_46', 'author_item_id_47', 'author_item_id_48', 'author_item_id_49', 'author_item_id_50', 'author_item_id_51', 'author_item_id_52', 'author_item_id_53', 'author_item_id_54', 'author_item_id_55', 'author_item_id_56', 'author_item_id_57', 'author_item_id_58', 'author_item_id_59', 'author_item_id_60', 'author_item_id_61', 'author_item_id_62', 'author_item_id_63', 'uid_item_id_uid_deepwalk_embedding_64_0', 'uid_item_id_item_id_deepwalk_embedding_0', 'uid_item_id_uid_deepwalk_embedding_64_1', 'uid_item_id_item_id_deepwalk_embedding_1', 'uid_item_id_uid_deepwalk_embedding_64_2', 'uid_item_id_item_id_deepwalk_embedding_2', 'uid_item_id_uid_deepwalk_embedding_64_3', 'uid_item_id_item_id_deepwalk_embedding_3', 'uid_item_id_uid_deepwalk_embedding_64_4', 'uid_item_id_item_id_deepwalk_embedding_4', 'uid_item_id_uid_deepwalk_embedding_64_5', 'uid_item_id_item_id_deepwalk_embedding_5', 'uid_item_id_uid_deepwalk_embedding_64_6', 'uid_item_id_item_id_deepwalk_embedding_6', 'uid_item_id_uid_deepwalk_embedding_64_7', 'uid_item_id_item_id_deepwalk_embedding_7', 'uid_item_id_uid_deepwalk_embedding_64_8', 'uid_item_id_item_id_deepwalk_embedding_8', 'uid_item_id_uid_deepwalk_embedding_64_9', 'uid_item_id_item_id_deepwalk_embedding_9', 'uid_item_id_uid_deepwalk_embedding_64_10', 'uid_item_id_item_id_deepwalk_embedding_10', 'uid_item_id_uid_deepwalk_embedding_64_11', 'uid_item_id_item_id_deepwalk_embedding_11', 'uid_item_id_uid_deepwalk_embedding_64_12', 'uid_item_id_item_id_deepwalk_embedding_12', 'uid_item_id_uid_deepwalk_embedding_64_13', 'uid_item_id_item_id_deepwalk_embedding_13', 'uid_item_id_uid_deepwalk_embedding_64_14', 'uid_item_id_item_id_deepwalk_embedding_14', 'uid_item_id_uid_deepwalk_embedding_64_15', 'uid_item_id_item_id_deepwalk_embedding_15', 'uid_item_id_uid_deepwalk_embedding_64_16', 'uid_item_id_item_id_deepwalk_embedding_16', 'uid_item_id_uid_deepwalk_embedding_64_17', 'uid_item_id_item_id_deepwalk_embedding_17', 'uid_item_id_uid_deepwalk_embedding_64_18', 'uid_item_id_item_id_deepwalk_embedding_18', 'uid_item_id_uid_deepwalk_embedding_64_19', 'uid_item_id_item_id_deepwalk_embedding_19', 'uid_item_id_uid_deepwalk_embedding_64_20', 'uid_item_id_item_id_deepwalk_embedding_20', 'uid_item_id_uid_deepwalk_embedding_64_21', 'uid_item_id_item_id_deepwalk_embedding_21', 'uid_item_id_uid_deepwalk_embedding_64_22', 'uid_item_id_item_id_deepwalk_embedding_22', 'uid_item_id_uid_deepwalk_embedding_64_23', 'uid_item_id_item_id_deepwalk_embedding_23', 'uid_item_id_uid_deepwalk_embedding_64_24', 'uid_item_id_item_id_deepwalk_embedding_24', 'uid_item_id_uid_deepwalk_embedding_64_25', 'uid_item_id_item_id_deepwalk_embedding_25', 'uid_item_id_uid_deepwalk_embedding_64_26', 'uid_item_id_item_id_deepwalk_embedding_26', 'uid_item_id_uid_deepwalk_embedding_64_27', 'uid_item_id_item_id_deepwalk_embedding_27', 'uid_item_id_uid_deepwalk_embedding_64_28', 'uid_item_id_item_id_deepwalk_embedding_28', 'uid_item_id_uid_deepwalk_embedding_64_29', 'uid_item_id_item_id_deepwalk_embedding_29', 'uid_item_id_uid_deepwalk_embedding_64_30', 'uid_item_id_item_id_deepwalk_embedding_30', 'uid_item_id_uid_deepwalk_embedding_64_31', 'uid_item_id_item_id_deepwalk_embedding_31', 'uid_item_id_uid_deepwalk_embedding_64_32', 'uid_item_id_item_id_deepwalk_embedding_32', 'uid_item_id_uid_deepwalk_embedding_64_33', 'uid_item_id_item_id_deepwalk_embedding_33', 'uid_item_id_uid_deepwalk_embedding_64_34', 'uid_item_id_item_id_deepwalk_embedding_34', 'uid_item_id_uid_deepwalk_embedding_64_35', 'uid_item_id_item_id_deepwalk_embedding_35', 'uid_item_id_uid_deepwalk_embedding_64_36', 'uid_item_id_item_id_deepwalk_embedding_36', 'uid_item_id_uid_deepwalk_embedding_64_37', 'uid_item_id_item_id_deepwalk_embedding_37', 'uid_item_id_uid_deepwalk_embedding_64_38', 'uid_item_id_item_id_deepwalk_embedding_38', 'uid_item_id_uid_deepwalk_embedding_64_39', 'uid_item_id_item_id_deepwalk_embedding_39', 'uid_item_id_uid_deepwalk_embedding_64_40', 'uid_item_id_item_id_deepwalk_embedding_40', 'uid_item_id_uid_deepwalk_embedding_64_41', 'uid_item_id_item_id_deepwalk_embedding_41', 'uid_item_id_uid_deepwalk_embedding_64_42', 'uid_item_id_item_id_deepwalk_embedding_42', 'uid_item_id_uid_deepwalk_embedding_64_43', 'uid_item_id_item_id_deepwalk_embedding_43', 'uid_item_id_uid_deepwalk_embedding_64_44', 'uid_item_id_item_id_deepwalk_embedding_44', 'uid_item_id_uid_deepwalk_embedding_64_45', 'uid_item_id_item_id_deepwalk_embedding_45', 'uid_item_id_uid_deepwalk_embedding_64_46', 'uid_item_id_item_id_deepwalk_embedding_46', 'uid_item_id_uid_deepwalk_embedding_64_47', 'uid_item_id_item_id_deepwalk_embedding_47', 'uid_item_id_uid_deepwalk_embedding_64_48', 'uid_item_id_item_id_deepwalk_embedding_48', 'uid_item_id_uid_deepwalk_embedding_64_49', 'uid_item_id_item_id_deepwalk_embedding_49', 'uid_item_id_uid_deepwalk_embedding_64_50', 'uid_item_id_item_id_deepwalk_embedding_50', 'uid_item_id_uid_deepwalk_embedding_64_51', 'uid_item_id_item_id_deepwalk_embedding_51', 'uid_item_id_uid_deepwalk_embedding_64_52', 'uid_item_id_item_id_deepwalk_embedding_52', 'uid_item_id_uid_deepwalk_embedding_64_53', 'uid_item_id_item_id_deepwalk_embedding_53', 'uid_item_id_uid_deepwalk_embedding_64_54', 'uid_item_id_item_id_deepwalk_embedding_54', 'uid_item_id_uid_deepwalk_embedding_64_55', 'uid_item_id_item_id_deepwalk_embedding_55', 'uid_item_id_uid_deepwalk_embedding_64_56', 'uid_item_id_item_id_deepwalk_embedding_56', 'uid_item_id_uid_deepwalk_embedding_64_57', 'uid_item_id_item_id_deepwalk_embedding_57', 'uid_item_id_uid_deepwalk_embedding_64_58', 'uid_item_id_item_id_deepwalk_embedding_58', 'uid_item_id_uid_deepwalk_embedding_64_59', 'uid_item_id_item_id_deepwalk_embedding_59', 'uid_item_id_uid_deepwalk_embedding_64_60', 'uid_item_id_item_id_deepwalk_embedding_60', 'uid_item_id_uid_deepwalk_embedding_64_61', 'uid_item_id_item_id_deepwalk_embedding_61', 'uid_item_id_uid_deepwalk_embedding_64_62', 'uid_item_id_item_id_deepwalk_embedding_62', 'uid_item_id_uid_deepwalk_embedding_64_63', 'uid_item_id_item_id_deepwalk_embedding_63', 'uid_author_id_uid_deepwalk_embedding_64_0', 'uid_author_id_author_id_deepwalk_embedding_0', 'uid_author_id_uid_deepwalk_embedding_64_1', 'uid_author_id_author_id_deepwalk_embedding_1', 'uid_author_id_uid_deepwalk_embedding_64_2', 'uid_author_id_author_id_deepwalk_embedding_2', 'uid_author_id_uid_deepwalk_embedding_64_3', 'uid_author_id_author_id_deepwalk_embedding_3', 'uid_author_id_uid_deepwalk_embedding_64_4', 'uid_author_id_author_id_deepwalk_embedding_4', 'uid_author_id_uid_deepwalk_embedding_64_5', 'uid_author_id_author_id_deepwalk_embedding_5', 'uid_author_id_uid_deepwalk_embedding_64_6', 'uid_author_id_author_id_deepwalk_embedding_6', 'uid_author_id_uid_deepwalk_embedding_64_7', 'uid_author_id_author_id_deepwalk_embedding_7', 'uid_author_id_uid_deepwalk_embedding_64_8', 'uid_author_id_author_id_deepwalk_embedding_8', 'uid_author_id_uid_deepwalk_embedding_64_9', 'uid_author_id_author_id_deepwalk_embedding_9', 'uid_author_id_uid_deepwalk_embedding_64_10', 'uid_author_id_author_id_deepwalk_embedding_10', 'uid_author_id_uid_deepwalk_embedding_64_11', 'uid_author_id_author_id_deepwalk_embedding_11', 'uid_author_id_uid_deepwalk_embedding_64_12', 'uid_author_id_author_id_deepwalk_embedding_12', 'uid_author_id_uid_deepwalk_embedding_64_13', 'uid_author_id_author_id_deepwalk_embedding_13', 'uid_author_id_uid_deepwalk_embedding_64_14', 'uid_author_id_author_id_deepwalk_embedding_14', 'uid_author_id_uid_deepwalk_embedding_64_15', 'uid_author_id_author_id_deepwalk_embedding_15', 'uid_author_id_uid_deepwalk_embedding_64_16', 'uid_author_id_author_id_deepwalk_embedding_16', 'uid_author_id_uid_deepwalk_embedding_64_17', 'uid_author_id_author_id_deepwalk_embedding_17', 'uid_author_id_uid_deepwalk_embedding_64_18', 'uid_author_id_author_id_deepwalk_embedding_18', 'uid_author_id_uid_deepwalk_embedding_64_19', 'uid_author_id_author_id_deepwalk_embedding_19', 'uid_author_id_uid_deepwalk_embedding_64_20', 'uid_author_id_author_id_deepwalk_embedding_20', 'uid_author_id_uid_deepwalk_embedding_64_21', 'uid_author_id_author_id_deepwalk_embedding_21', 'uid_author_id_uid_deepwalk_embedding_64_22', 'uid_author_id_author_id_deepwalk_embedding_22', 'uid_author_id_uid_deepwalk_embedding_64_23', 'uid_author_id_author_id_deepwalk_embedding_23', 'uid_author_id_uid_deepwalk_embedding_64_24', 'uid_author_id_author_id_deepwalk_embedding_24', 'uid_author_id_uid_deepwalk_embedding_64_25', 'uid_author_id_author_id_deepwalk_embedding_25', 'uid_author_id_uid_deepwalk_embedding_64_26', 'uid_author_id_author_id_deepwalk_embedding_26', 'uid_author_id_uid_deepwalk_embedding_64_27', 'uid_author_id_author_id_deepwalk_embedding_27', 'uid_author_id_uid_deepwalk_embedding_64_28', 'uid_author_id_author_id_deepwalk_embedding_28', 'uid_author_id_uid_deepwalk_embedding_64_29', 'uid_author_id_author_id_deepwalk_embedding_29', 'uid_author_id_uid_deepwalk_embedding_64_30', 'uid_author_id_author_id_deepwalk_embedding_30', 'uid_author_id_uid_deepwalk_embedding_64_31', 'uid_author_id_author_id_deepwalk_embedding_31', 'uid_author_id_uid_deepwalk_embedding_64_32', 'uid_author_id_author_id_deepwalk_embedding_32', 'uid_author_id_uid_deepwalk_embedding_64_33', 'uid_author_id_author_id_deepwalk_embedding_33', 'uid_author_id_uid_deepwalk_embedding_64_34', 'uid_author_id_author_id_deepwalk_embedding_34', 'uid_author_id_uid_deepwalk_embedding_64_35', 'uid_author_id_author_id_deepwalk_embedding_35', 'uid_author_id_uid_deepwalk_embedding_64_36', 'uid_author_id_author_id_deepwalk_embedding_36', 'uid_author_id_uid_deepwalk_embedding_64_37', 'uid_author_id_author_id_deepwalk_embedding_37', 'uid_author_id_uid_deepwalk_embedding_64_38', 'uid_author_id_author_id_deepwalk_embedding_38', 'uid_author_id_uid_deepwalk_embedding_64_39', 'uid_author_id_author_id_deepwalk_embedding_39', 'uid_author_id_uid_deepwalk_embedding_64_40', 'uid_author_id_author_id_deepwalk_embedding_40', 'uid_author_id_uid_deepwalk_embedding_64_41', 'uid_author_id_author_id_deepwalk_embedding_41', 'uid_author_id_uid_deepwalk_embedding_64_42', 'uid_author_id_author_id_deepwalk_embedding_42', 'uid_author_id_uid_deepwalk_embedding_64_43', 'uid_author_id_author_id_deepwalk_embedding_43', 'uid_author_id_uid_deepwalk_embedding_64_44', 'uid_author_id_author_id_deepwalk_embedding_44', 'uid_author_id_uid_deepwalk_embedding_64_45', 'uid_author_id_author_id_deepwalk_embedding_45', 'uid_author_id_uid_deepwalk_embedding_64_46', 'uid_author_id_author_id_deepwalk_embedding_46', 'uid_author_id_uid_deepwalk_embedding_64_47', 'uid_author_id_author_id_deepwalk_embedding_47', 'uid_author_id_uid_deepwalk_embedding_64_48', 'uid_author_id_author_id_deepwalk_embedding_48', 'uid_author_id_uid_deepwalk_embedding_64_49', 'uid_author_id_author_id_deepwalk_embedding_49', 'uid_author_id_uid_deepwalk_embedding_64_50', 'uid_author_id_author_id_deepwalk_embedding_50', 'uid_author_id_uid_deepwalk_embedding_64_51', 'uid_author_id_author_id_deepwalk_embedding_51', 'uid_author_id_uid_deepwalk_embedding_64_52', 'uid_author_id_author_id_deepwalk_embedding_52', 'uid_author_id_uid_deepwalk_embedding_64_53', 'uid_author_id_author_id_deepwalk_embedding_53', 'uid_author_id_uid_deepwalk_embedding_64_54', 'uid_author_id_author_id_deepwalk_embedding_54', 'uid_author_id_uid_deepwalk_embedding_64_55', 'uid_author_id_author_id_deepwalk_embedding_55', 'uid_author_id_uid_deepwalk_embedding_64_56', 'uid_author_id_author_id_deepwalk_embedding_56', 'uid_author_id_uid_deepwalk_embedding_64_57', 'uid_author_id_author_id_deepwalk_embedding_57', 'uid_author_id_uid_deepwalk_embedding_64_58', 'uid_author_id_author_id_deepwalk_embedding_58', 'uid_author_id_uid_deepwalk_embedding_64_59', 'uid_author_id_author_id_deepwalk_embedding_59', 'uid_author_id_uid_deepwalk_embedding_64_60', 'uid_author_id_author_id_deepwalk_embedding_60', 'uid_author_id_uid_deepwalk_embedding_64_61', 'uid_author_id_author_id_deepwalk_embedding_61', 'uid_author_id_uid_deepwalk_embedding_64_62', 'uid_author_id_author_id_deepwalk_embedding_62', 'uid_author_id_uid_deepwalk_embedding_64_63', 'uid_author_id_author_id_deepwalk_embedding_63', 'did_item_id_did_deepwalk_embedding_64_0', 'did_item_id_item_id_deepwalk_embedding_0', 'did_item_id_did_deepwalk_embedding_64_1', 'did_item_id_item_id_deepwalk_embedding_1', 'did_item_id_did_deepwalk_embedding_64_2', 'did_item_id_item_id_deepwalk_embedding_2', 'did_item_id_did_deepwalk_embedding_64_3', 'did_item_id_item_id_deepwalk_embedding_3', 'did_item_id_did_deepwalk_embedding_64_4', 'did_item_id_item_id_deepwalk_embedding_4', 'did_item_id_did_deepwalk_embedding_64_5', 'did_item_id_item_id_deepwalk_embedding_5', 'did_item_id_did_deepwalk_embedding_64_6', 'did_item_id_item_id_deepwalk_embedding_6', 'did_item_id_did_deepwalk_embedding_64_7', 'did_item_id_item_id_deepwalk_embedding_7', 'did_item_id_did_deepwalk_embedding_64_8', 'did_item_id_item_id_deepwalk_embedding_8', 'did_item_id_did_deepwalk_embedding_64_9', 'did_item_id_item_id_deepwalk_embedding_9', 'did_item_id_did_deepwalk_embedding_64_10', 'did_item_id_item_id_deepwalk_embedding_10', 'did_item_id_did_deepwalk_embedding_64_11', 'did_item_id_item_id_deepwalk_embedding_11', 'did_item_id_did_deepwalk_embedding_64_12', 'did_item_id_item_id_deepwalk_embedding_12', 'did_item_id_did_deepwalk_embedding_64_13', 'did_item_id_item_id_deepwalk_embedding_13', 'did_item_id_did_deepwalk_embedding_64_14', 'did_item_id_item_id_deepwalk_embedding_14', 'did_item_id_did_deepwalk_embedding_64_15', 'did_item_id_item_id_deepwalk_embedding_15', 'did_item_id_did_deepwalk_embedding_64_16', 'did_item_id_item_id_deepwalk_embedding_16', 'did_item_id_did_deepwalk_embedding_64_17', 'did_item_id_item_id_deepwalk_embedding_17', 'did_item_id_did_deepwalk_embedding_64_18', 'did_item_id_item_id_deepwalk_embedding_18', 'did_item_id_did_deepwalk_embedding_64_19', 'did_item_id_item_id_deepwalk_embedding_19', 'did_item_id_did_deepwalk_embedding_64_20', 'did_item_id_item_id_deepwalk_embedding_20', 'did_item_id_did_deepwalk_embedding_64_21', 'did_item_id_item_id_deepwalk_embedding_21', 'did_item_id_did_deepwalk_embedding_64_22', 'did_item_id_item_id_deepwalk_embedding_22', 'did_item_id_did_deepwalk_embedding_64_23', 'did_item_id_item_id_deepwalk_embedding_23', 'did_item_id_did_deepwalk_embedding_64_24', 'did_item_id_item_id_deepwalk_embedding_24', 'did_item_id_did_deepwalk_embedding_64_25', 'did_item_id_item_id_deepwalk_embedding_25', 'did_item_id_did_deepwalk_embedding_64_26', 'did_item_id_item_id_deepwalk_embedding_26', 'did_item_id_did_deepwalk_embedding_64_27', 'did_item_id_item_id_deepwalk_embedding_27', 'did_item_id_did_deepwalk_embedding_64_28', 'did_item_id_item_id_deepwalk_embedding_28', 'did_item_id_did_deepwalk_embedding_64_29', 'did_item_id_item_id_deepwalk_embedding_29', 'did_item_id_did_deepwalk_embedding_64_30', 'did_item_id_item_id_deepwalk_embedding_30', 'did_item_id_did_deepwalk_embedding_64_31', 'did_item_id_item_id_deepwalk_embedding_31', 'did_item_id_did_deepwalk_embedding_64_32', 'did_item_id_item_id_deepwalk_embedding_32', 'did_item_id_did_deepwalk_embedding_64_33', 'did_item_id_item_id_deepwalk_embedding_33', 'did_item_id_did_deepwalk_embedding_64_34', 'did_item_id_item_id_deepwalk_embedding_34', 'did_item_id_did_deepwalk_embedding_64_35', 'did_item_id_item_id_deepwalk_embedding_35', 'did_item_id_did_deepwalk_embedding_64_36', 'did_item_id_item_id_deepwalk_embedding_36', 'did_item_id_did_deepwalk_embedding_64_37', 'did_item_id_item_id_deepwalk_embedding_37', 'did_item_id_did_deepwalk_embedding_64_38', 'did_item_id_item_id_deepwalk_embedding_38', 'did_item_id_did_deepwalk_embedding_64_39', 'did_item_id_item_id_deepwalk_embedding_39', 'did_item_id_did_deepwalk_embedding_64_40', 'did_item_id_item_id_deepwalk_embedding_40', 'did_item_id_did_deepwalk_embedding_64_41', 'did_item_id_item_id_deepwalk_embedding_41', 'did_item_id_did_deepwalk_embedding_64_42', 'did_item_id_item_id_deepwalk_embedding_42', 'did_item_id_did_deepwalk_embedding_64_43', 'did_item_id_item_id_deepwalk_embedding_43', 'did_item_id_did_deepwalk_embedding_64_44', 'did_item_id_item_id_deepwalk_embedding_44', 'did_item_id_did_deepwalk_embedding_64_45', 'did_item_id_item_id_deepwalk_embedding_45', 'did_item_id_did_deepwalk_embedding_64_46', 'did_item_id_item_id_deepwalk_embedding_46', 'did_item_id_did_deepwalk_embedding_64_47', 'did_item_id_item_id_deepwalk_embedding_47', 'did_item_id_did_deepwalk_embedding_64_48', 'did_item_id_item_id_deepwalk_embedding_48', 'did_item_id_did_deepwalk_embedding_64_49', 'did_item_id_item_id_deepwalk_embedding_49', 'did_item_id_did_deepwalk_embedding_64_50', 'did_item_id_item_id_deepwalk_embedding_50', 'did_item_id_did_deepwalk_embedding_64_51', 'did_item_id_item_id_deepwalk_embedding_51', 'did_item_id_did_deepwalk_embedding_64_52', 'did_item_id_item_id_deepwalk_embedding_52', 'did_item_id_did_deepwalk_embedding_64_53', 'did_item_id_item_id_deepwalk_embedding_53', 'did_item_id_did_deepwalk_embedding_64_54', 'did_item_id_item_id_deepwalk_embedding_54', 'did_item_id_did_deepwalk_embedding_64_55', 'did_item_id_item_id_deepwalk_embedding_55', 'did_item_id_did_deepwalk_embedding_64_56', 'did_item_id_item_id_deepwalk_embedding_56', 'did_item_id_did_deepwalk_embedding_64_57', 'did_item_id_item_id_deepwalk_embedding_57', 'did_item_id_did_deepwalk_embedding_64_58', 'did_item_id_item_id_deepwalk_embedding_58', 'did_item_id_did_deepwalk_embedding_64_59', 'did_item_id_item_id_deepwalk_embedding_59', 'did_item_id_did_deepwalk_embedding_64_60', 'did_item_id_item_id_deepwalk_embedding_60', 'did_item_id_did_deepwalk_embedding_64_61', 'did_item_id_item_id_deepwalk_embedding_61', 'did_item_id_did_deepwalk_embedding_64_62', 'did_item_id_item_id_deepwalk_embedding_62', 'did_item_id_did_deepwalk_embedding_64_63', 'did_item_id_item_id_deepwalk_embedding_63', 'did_author_id_did_deepwalk_embedding_64_0', 'did_author_id_author_id_deepwalk_embedding_0', 'did_author_id_did_deepwalk_embedding_64_1', 'did_author_id_author_id_deepwalk_embedding_1', 'did_author_id_did_deepwalk_embedding_64_2', 'did_author_id_author_id_deepwalk_embedding_2', 'did_author_id_did_deepwalk_embedding_64_3', 'did_author_id_author_id_deepwalk_embedding_3', 'did_author_id_did_deepwalk_embedding_64_4', 'did_author_id_author_id_deepwalk_embedding_4', 'did_author_id_did_deepwalk_embedding_64_5', 'did_author_id_author_id_deepwalk_embedding_5', 'did_author_id_did_deepwalk_embedding_64_6', 'did_author_id_author_id_deepwalk_embedding_6', 'did_author_id_did_deepwalk_embedding_64_7', 'did_author_id_author_id_deepwalk_embedding_7', 'did_author_id_did_deepwalk_embedding_64_8', 'did_author_id_author_id_deepwalk_embedding_8', 'did_author_id_did_deepwalk_embedding_64_9', 'did_author_id_author_id_deepwalk_embedding_9', 'did_author_id_did_deepwalk_embedding_64_10', 'did_author_id_author_id_deepwalk_embedding_10', 'did_author_id_did_deepwalk_embedding_64_11', 'did_author_id_author_id_deepwalk_embedding_11', 'did_author_id_did_deepwalk_embedding_64_12', 'did_author_id_author_id_deepwalk_embedding_12', 'did_author_id_did_deepwalk_embedding_64_13', 'did_author_id_author_id_deepwalk_embedding_13', 'did_author_id_did_deepwalk_embedding_64_14', 'did_author_id_author_id_deepwalk_embedding_14', 'did_author_id_did_deepwalk_embedding_64_15', 'did_author_id_author_id_deepwalk_embedding_15', 'did_author_id_did_deepwalk_embedding_64_16', 'did_author_id_author_id_deepwalk_embedding_16', 'did_author_id_did_deepwalk_embedding_64_17', 'did_author_id_author_id_deepwalk_embedding_17', 'did_author_id_did_deepwalk_embedding_64_18', 'did_author_id_author_id_deepwalk_embedding_18', 'did_author_id_did_deepwalk_embedding_64_19', 'did_author_id_author_id_deepwalk_embedding_19', 'did_author_id_did_deepwalk_embedding_64_20', 'did_author_id_author_id_deepwalk_embedding_20', 'did_author_id_did_deepwalk_embedding_64_21', 'did_author_id_author_id_deepwalk_embedding_21', 'did_author_id_did_deepwalk_embedding_64_22', 'did_author_id_author_id_deepwalk_embedding_22', 'did_author_id_did_deepwalk_embedding_64_23', 'did_author_id_author_id_deepwalk_embedding_23', 'did_author_id_did_deepwalk_embedding_64_24', 'did_author_id_author_id_deepwalk_embedding_24', 'did_author_id_did_deepwalk_embedding_64_25', 'did_author_id_author_id_deepwalk_embedding_25', 'did_author_id_did_deepwalk_embedding_64_26', 'did_author_id_author_id_deepwalk_embedding_26', 'did_author_id_did_deepwalk_embedding_64_27', 'did_author_id_author_id_deepwalk_embedding_27', 'did_author_id_did_deepwalk_embedding_64_28', 'did_author_id_author_id_deepwalk_embedding_28', 'did_author_id_did_deepwalk_embedding_64_29', 'did_author_id_author_id_deepwalk_embedding_29', 'did_author_id_did_deepwalk_embedding_64_30', 'did_author_id_author_id_deepwalk_embedding_30', 'did_author_id_did_deepwalk_embedding_64_31', 'did_author_id_author_id_deepwalk_embedding_31', 'did_author_id_did_deepwalk_embedding_64_32', 'did_author_id_author_id_deepwalk_embedding_32', 'did_author_id_did_deepwalk_embedding_64_33', 'did_author_id_author_id_deepwalk_embedding_33', 'did_author_id_did_deepwalk_embedding_64_34', 'did_author_id_author_id_deepwalk_embedding_34', 'did_author_id_did_deepwalk_embedding_64_35', 'did_author_id_author_id_deepwalk_embedding_35', 'did_author_id_did_deepwalk_embedding_64_36', 'did_author_id_author_id_deepwalk_embedding_36', 'did_author_id_did_deepwalk_embedding_64_37', 'did_author_id_author_id_deepwalk_embedding_37', 'did_author_id_did_deepwalk_embedding_64_38', 'did_author_id_author_id_deepwalk_embedding_38', 'did_author_id_did_deepwalk_embedding_64_39', 'did_author_id_author_id_deepwalk_embedding_39', 'did_author_id_did_deepwalk_embedding_64_40', 'did_author_id_author_id_deepwalk_embedding_40', 'did_author_id_did_deepwalk_embedding_64_41', 'did_author_id_author_id_deepwalk_embedding_41', 'did_author_id_did_deepwalk_embedding_64_42', 'did_author_id_author_id_deepwalk_embedding_42', 'did_author_id_did_deepwalk_embedding_64_43', 'did_author_id_author_id_deepwalk_embedding_43', 'did_author_id_did_deepwalk_embedding_64_44', 'did_author_id_author_id_deepwalk_embedding_44', 'did_author_id_did_deepwalk_embedding_64_45', 'did_author_id_author_id_deepwalk_embedding_45', 'did_author_id_did_deepwalk_embedding_64_46', 'did_author_id_author_id_deepwalk_embedding_46', 'did_author_id_did_deepwalk_embedding_64_47', 'did_author_id_author_id_deepwalk_embedding_47', 'did_author_id_did_deepwalk_embedding_64_48', 'did_author_id_author_id_deepwalk_embedding_48', 'did_author_id_did_deepwalk_embedding_64_49', 'did_author_id_author_id_deepwalk_embedding_49', 'did_author_id_did_deepwalk_embedding_64_50', 'did_author_id_author_id_deepwalk_embedding_50', 'did_author_id_did_deepwalk_embedding_64_51', 'did_author_id_author_id_deepwalk_embedding_51', 'did_author_id_did_deepwalk_embedding_64_52', 'did_author_id_author_id_deepwalk_embedding_52', 'did_author_id_did_deepwalk_embedding_64_53', 'did_author_id_author_id_deepwalk_embedding_53', 'did_author_id_did_deepwalk_embedding_64_54', 'did_author_id_author_id_deepwalk_embedding_54', 'did_author_id_did_deepwalk_embedding_64_55', 'did_author_id_author_id_deepwalk_embedding_55', 'did_author_id_did_deepwalk_embedding_64_56', 'did_author_id_author_id_deepwalk_embedding_56', 'did_author_id_did_deepwalk_embedding_64_57', 'did_author_id_author_id_deepwalk_embedding_57', 'did_author_id_did_deepwalk_embedding_64_58', 'did_author_id_author_id_deepwalk_embedding_58', 'did_author_id_did_deepwalk_embedding_64_59', 'did_author_id_author_id_deepwalk_embedding_59', 'did_author_id_did_deepwalk_embedding_64_60', 'did_author_id_author_id_deepwalk_embedding_60', 'did_author_id_did_deepwalk_embedding_64_61', 'did_author_id_author_id_deepwalk_embedding_61', 'did_author_id_did_deepwalk_embedding_64_62', 'did_author_id_author_id_deepwalk_embedding_62', 'did_author_id_did_deepwalk_embedding_64_63', 'did_author_id_author_id_deepwalk_embedding_63']\n"
     ]
    },
    {
     "name": "stdout",
     "output_type": "stream",
     "text": [
      "  dense_hidden_size=[512, 256]\n",
      "  dropout=0\n",
      "  embedding_features=None\n",
      "  epoch=1\n",
      "  hidden_size=[1024, 512]\n",
      "  infer_batch_size=8192\n",
      "  init_method=tnormal\n",
      "  init_value=0.001\n",
      "  k=16\n",
      "  label=like\n",
      "  learning_rate=0.0002\n",
      "  metric=auc\n",
      "  model=xdeepfm\n",
      "  model_name=xdeepfm\n",
      "  multi_features=['title_keys']\n",
      "  multi_hash_num=1000000\n",
      "  multi_weights=['title_values']\n",
      "  norm=True\n",
      "  num_display_steps=100\n",
      "  optimizer=adam\n",
      "  single_features=['video_duration', 'did_like_positive_num', 'did_like_negative_num', 'did_all_cont', 'did_day_cont', 'author_id_like_positive_num', 'author_id_like_negative_num', 'author_id_all_cont', 'author_id_day_cont', 'item_id_like_positive_num', 'item_id_like_negative_num', 'item_id_all_cont', 'item_id_day_cont', 'uid_like_positive_num', 'uid_like_negative_num', 'user_city_like_positive_num', 'user_city_like_negative_num', 'item_city_like_positive_num', 'item_city_like_negative_num', 'music_id_like_positive_num', 'music_id_like_negative_num', 'author_include_num_of_item', 'author_include_num_of_uid', 'author_id_did_all_cont', 'author_include_num_of_item', 'author_include_num_of_uid', 'title_cont', 'uid_has_num_of_did', 'uid_channel_nunique', 'did_video_duration_max', 'channel_video_duration_min', 'item_id_uid_nunique']\n",
      "  single_hash_num=5000000\n",
      "  single_k=16\n",
      "  test=True\n"
     ]
    }
   ],
   "source": [
    "hparam=tf.contrib.training.HParams(\n",
    "            model='xdeepfm',\n",
    "            norm=True,\n",
    "            batch_norm_decay=0.9,\n",
    "            hidden_size=[1024,512],\n",
    "            dense_hidden_size=[512,256],\n",
    "            cross_layer_sizes=[300,300],\n",
    "            k=8,\n",
    "            single_k=8,\n",
    "            cross_hash_num=int(1e7),\n",
    "            single_hash_num=int(1e7),\n",
    "            multi_hash_num=int(1e6),\n",
    "            batch_size=4096,\n",
    "            infer_batch_size=2**13,\n",
    "            optimizer=\"adam\",\n",
    "            dropout=0.3,\n",
    "            learning_rate=0.0002,\n",
    "            num_display_steps=100,\n",
    "            epoch=1, #don't modify\n",
    "            metric='auc',\n",
    "            activation=['relu','relu','relu'],\n",
    "            init_method='tnormal',\n",
    "            cross_activation='identity',\n",
    "            init_value=0.001,\n",
    "            single_features=single_features,\n",
    "            multi_features=multi_features,\n",
    "            cross_features=cross_features,\n",
    "            multi_weights=multi_weights,\n",
    "            dense_features=dense_features,\n",
    "            embedding_features=embedding_features,\n",
    "            model_name=\"xdeepfm\",\n",
    "            test=True,\n",
    "            label=label)\n",
    "utils.print_hparams(hparam)"
   ]
  },
  {
   "cell_type": "code",
   "execution_count": 4,
   "metadata": {},
   "outputs": [
    {
     "name": "stdout",
     "output_type": "stream",
     "text": [
      "# Trainable variables\n",
      "  emb_v2_cross:0, (5000000, 16), \n",
      "  emb_v2_multi:0, (1000000, 16), \n",
      "  exfm_part/f_0:0, (1, 100, 300), \n",
      "  exfm_part/f_1:0, (1, 1500, 300), \n",
      "  exfm_part/w_nn_output:0, (450, 1), \n",
      "  exfm_part/b_nn_output:0, (1,), \n",
      "  emb_v2_single:0, (5000000, 16), \n",
      "  dense_norm/beta:0, (3018,), \n",
      "  dense_norm/gamma:0, (3018,), \n",
      "  Variable:0, (3018, 1024), \n",
      "  Variable_1:0, (1024, 512), \n",
      "  Variable_2:0, (512, 1), \n",
      "  Variable_3:0, (), \n"
     ]
    }
   ],
   "source": [
    "try:\n",
    "    del model\n",
    "    gc.collect()\n",
    "except:\n",
    "    pass\n",
    "model=ctrNet.build_model(hparam)"
   ]
  },
  {
   "cell_type": "code",
   "execution_count": null,
   "metadata": {
    "collapsed": true
   },
   "outputs": [],
   "source": [
    "test=pd.read_pickle('data/dev_NN.pkl')"
   ]
  },
  {
   "cell_type": "code",
   "execution_count": null,
   "metadata": {},
   "outputs": [
    {
     "name": "stdout",
     "output_type": "stream",
     "text": [
      "0\n",
      "  epoch 0 step 100 lr 0.0002 logloss 0.040249 gN 0.09, Wed Apr  3 20:11:19 2019\n",
      "  epoch 0 step 200 lr 0.0002 logloss 0.034840 gN 0.08, Wed Apr  3 20:13:40 2019\n",
      "  epoch 0 step 300 lr 0.0002 logloss 0.034380 gN 0.07, Wed Apr  3 20:16:01 2019\n",
      "  epoch 0 step 344 lr 0.0002 logloss 0.033071 gN 0.07, Wed Apr  3 20:17:01 2019\n",
      "1\n",
      "  epoch 0 step 100 lr 0.0002 logloss 0.033571 gN 0.07, Wed Apr  3 20:26:56 2019\n",
      "  epoch 0 step 200 lr 0.0002 logloss 0.033223 gN 0.06, Wed Apr  3 20:28:07 2019\n",
      "  epoch 0 step 300 lr 0.0002 logloss 0.033286 gN 0.06, Wed Apr  3 20:29:18 2019\n",
      "  epoch 0 step 344 lr 0.0002 logloss 0.033061 gN 0.06, Wed Apr  3 20:29:48 2019\n"
     ]
    },
    {
     "name": "stderr",
     "output_type": "stream",
     "text": [
      "100%|██████████| 343/343 [12:42<00:00,  1.19it/s]\n"
     ]
    },
    {
     "name": "stdout",
     "output_type": "stream",
     "text": [
      "# Epcho-time 278.21s Eval AUC 0.930695. Eval logloss 0.037917. Best AUC 0.930695.like\n",
      "2\n",
      "  epoch 0 step 100 lr 0.0002 logloss 0.032620 gN 0.05, Wed Apr  3 20:54:00 2019\n",
      "  epoch 0 step 200 lr 0.0002 logloss 0.033414 gN 0.05, Wed Apr  3 20:55:21 2019\n",
      "  epoch 0 step 300 lr 0.0002 logloss 0.032009 gN 0.05, Wed Apr  3 20:57:26 2019\n",
      "  epoch 0 step 344 lr 0.0002 logloss 0.032555 gN 0.05, Wed Apr  3 20:58:13 2019\n",
      "3\n",
      "  epoch 0 step 100 lr 0.0002 logloss 0.032002 gN 0.05, Wed Apr  3 21:03:59 2019\n",
      "  epoch 0 step 200 lr 0.0002 logloss 0.032778 gN 0.05, Wed Apr  3 21:05:07 2019\n",
      "  epoch 0 step 300 lr 0.0002 logloss 0.031761 gN 0.05, Wed Apr  3 21:06:16 2019\n",
      "  epoch 0 step 344 lr 0.0002 logloss 0.032139 gN 0.05, Wed Apr  3 21:06:45 2019\n"
     ]
    },
    {
     "name": "stderr",
     "output_type": "stream",
     "text": [
      " 69%|██████▊   | 235/343 [06:01<01:57,  1.09s/it]"
     ]
    }
   ],
   "source": [
    "k=10\n",
    "for i in range(k):\n",
    "    print(i)\n",
    "    train=pd.read_pickle('data/train_dev_NN_'+str(i)+'.pkl')\n",
    "    if (i+1)%2==0:\n",
    "        model.train(train,test)\n",
    "    else:\n",
    "        model.train(train,None)"
   ]
  },
  {
   "cell_type": "raw",
   "metadata": {},
   "source": [
    "0\n",
    "  epoch 0 step 100 lr 0.0002 logloss 0.044313 gN 0.11, Thu Mar 28 04:11:39 2019\n",
    "  epoch 0 step 200 lr 0.0002 logloss 0.037700 gN 0.10, Thu Mar 28 04:12:45 2019\n",
    "  epoch 0 step 300 lr 0.0002 logloss 0.036592 gN 0.09, Thu Mar 28 04:13:51 2019\n",
    "  epoch 0 step 344 lr 0.0002 logloss 0.034997 gN 0.08, Thu Mar 28 04:14:18 2019\n",
    "1\n",
    "  epoch 0 step 100 lr 0.0002 logloss 0.035681 gN 0.08, Thu Mar 28 04:18:58 2019\n",
    "  epoch 0 step 200 lr 0.0002 logloss 0.035097 gN 0.08, Thu Mar 28 04:20:05 2019\n",
    "  epoch 0 step 300 lr 0.0002 logloss 0.035289 gN 0.07, Thu Mar 28 04:21:13 2019\n",
    "  epoch 0 step 344 lr 0.0002 logloss 0.035018 gN 0.07, Thu Mar 28 04:21:41 2019\n",
    "100%|██████████| 343/343 [08:45<00:00,  1.19it/s]\n",
    "# Epcho-time 234.37s Eval AUC 0.930434. Eval logloss 0.038348. Best AUC 0.930434.like\n",
    "2\n",
    "  epoch 0 step 100 lr 0.0002 logloss 0.034463 gN 0.07, Thu Mar 28 04:35:21 2019\n",
    "  epoch 0 step 200 lr 0.0002 logloss 0.035357 gN 0.07, Thu Mar 28 04:36:27 2019\n",
    "  epoch 0 step 300 lr 0.0002 logloss 0.033866 gN 0.06, Thu Mar 28 04:37:28 2019\n",
    "  epoch 0 step 344 lr 0.0002 logloss 0.034169 gN 0.06, Thu Mar 28 04:37:54 2019\n",
    "3\n",
    "  epoch 0 step 100 lr 0.0002 logloss 0.033692 gN 0.06, Thu Mar 28 04:42:02 2019\n",
    "  epoch 0 step 200 lr 0.0002 logloss 0.034371 gN 0.06, Thu Mar 28 04:43:09 2019\n",
    "  epoch 0 step 300 lr 0.0002 logloss 0.033258 gN 0.06, Thu Mar 28 04:44:16 2019\n",
    "  epoch 0 step 344 lr 0.0002 logloss 0.033845 gN 0.06, Thu Mar 28 04:44:43 2019\n",
    "100%|██████████| 343/343 [09:14<00:00,  1.84s/it]\n",
    "# Epcho-time 231.19s Eval AUC 0.934889. Eval logloss 0.037417. Best AUC 0.934889.like\n",
    "4\n",
    "  epoch 0 step 100 lr 0.0002 logloss 0.033119 gN 0.06, Thu Mar 28 05:03:03 2019\n",
    "  epoch 0 step 200 lr 0.0002 logloss 0.033429 gN 0.05, Thu Mar 28 05:04:09 2019\n",
    "  epoch 0 step 300 lr 0.0002 logloss 0.033351 gN 0.06, Thu Mar 28 05:05:14 2019\n",
    "  epoch 0 step 344 lr 0.0002 logloss 0.032931 gN 0.06, Thu Mar 28 05:05:43 2019\n",
    "5\n",
    "  epoch 0 step 100 lr 0.0002 logloss 0.032725 gN 0.05, Thu Mar 28 05:14:32 2019\n",
    "  epoch 0 step 200 lr 0.0002 logloss 0.033456 gN 0.05, Thu Mar 28 05:15:43 2019\n",
    "  epoch 0 step 300 lr 0.0002 logloss 0.033282 gN 0.05, Thu Mar 28 05:16:56 2019\n",
    "  epoch 0 step 344 lr 0.0002 logloss 0.032015 gN 0.05, Thu Mar 28 05:17:32 2019\n",
    "100%|██████████| 343/343 [09:35<00:00,  1.67s/it]\n",
    "# Epcho-time 251.55s Eval AUC 0.934307. Eval logloss 0.037537. Best AUC 0.934889.like\n",
    "6\n",
    "  epoch 0 step 100 lr 0.0002 logloss 0.033797 gN 0.05, Thu Mar 28 05:35:01 2019\n",
    "  epoch 0 step 200 lr 0.0002 logloss 0.033681 gN 0.05, Thu Mar 28 05:36:08 2019\n",
    "  epoch 0 step 300 lr 0.0002 logloss 0.032891 gN 0.05, Thu Mar 28 05:37:15 2019\n",
    "  epoch 0 step 344 lr 0.0002 logloss 0.033511 gN 0.06, Thu Mar 28 05:37:42 2019\n",
    "7\n",
    "  epoch 0 step 100 lr 0.0002 logloss 0.032974 gN 0.05, Thu Mar 28 05:43:06 2019\n",
    "  epoch 0 step 200 lr 0.0002 logloss 0.031932 gN 0.05, Thu Mar 28 05:44:06 2019\n",
    "  epoch 0 step 300 lr 0.0002 logloss 0.032877 gN 0.05, Thu Mar 28 05:45:06 2019\n",
    "  epoch 0 step 344 lr 0.0002 logloss 0.033334 gN 0.05, Thu Mar 28 05:45:32 2019\n",
    "100%|██████████| 343/343 [10:40<00:00,  1.52s/it]\n",
    "# Epcho-time 206.46s Eval AUC 0.932716. Eval logloss 0.037602. Best AUC 0.934889.like\n",
    "8\n",
    "  epoch 0 step 100 lr 0.0002 logloss 0.033082 gN 0.05, Thu Mar 28 06:06:47 2019\n",
    "  epoch 0 step 200 lr 0.0002 logloss 0.033280 gN 0.05, Thu Mar 28 06:08:05 2019\n",
    "  epoch 0 step 300 lr 0.0002 logloss 0.032868 gN 0.05, Thu Mar 28 06:09:26 2019\n",
    "  epoch 0 step 344 lr 0.0002 logloss 0.032987 gN 0.05, Thu Mar 28 06:09:59 2019\n",
    "9\n",
    "  epoch 0 step 100 lr 0.0002 logloss 0.032637 gN 0.05, Thu Mar 28 06:14:58 2019\n",
    "  epoch 0 step 200 lr 0.0002 logloss 0.031926 gN 0.05, Thu Mar 28 06:16:43 2019\n",
    "  epoch 0 step 300 lr 0.0002 logloss 0.032883 gN 0.05, Thu Mar 28 06:18:23 2019\n",
    "  epoch 0 step 344 lr 0.0002 logloss 0.031738 gN 0.05, Thu Mar 28 06:19:06 2019\n",
    "100%|██████████| 343/343 [15:36<00:00,  2.09s/it]\n",
    "# Epcho-time 344.21s Eval AUC 0.933602. Eval logloss 0.037263. Best AUC 0.934889.like"
   ]
  },
  {
   "cell_type": "code",
   "execution_count": null,
   "metadata": {},
   "outputs": [],
   "source": [
    "print(\"Dev Inference:\")\n",
    "preds=model.infer(test)\n",
    "test[hparam.label+'_probability']=preds.round(6) \n",
    "fpr, tpr, thresholds = metrics.roc_curve(test[hparam.label]+1, test[hparam.label+'_probability'], pos_label=2)\n",
    "auc=metrics.auc(fpr, tpr)\n",
    "print(hparam.label,round(auc,6))\n",
    "score=str(round(auc,6))\n",
    "del train\n",
    "del test\n",
    "gc.collect()"
   ]
  },
  {
   "cell_type": "code",
   "execution_count": null,
   "metadata": {},
   "outputs": [],
   "source": [
    "test=pd.read_pickle(\"data/test_NN.pkl\")    \n",
    "index=list(range(10))\n",
    "for i in range(5):\n",
    "    print(\"Fold\",i)\n",
    "    random.shuffle(index)\n",
    "    model=ctrNet.build_model(hparam)\n",
    "    for idx,k in enumerate(index):\n",
    "        print(idx,k)\n",
    "        train=pd.read_pickle('data/train_NN_'+str(k)+'.pkl')\n",
    "        model.train(train,None)\n",
    "    print(\"Test Inference:\")   \n",
    "    if i==0:\n",
    "        preds=model.infer(test)/5\n",
    "        temp=preds*5\n",
    "        test[hparam.label+'_probability']=temp.round(6)\n",
    "    else:\n",
    "        preds+=model.infer(test)/5\n",
    "        temp=preds*5/(i+1)\n",
    "        test[hparam.label+'_probability']=temp.round(6)\n",
    "    test[['uid','item_id',hparam.label+'_probability']].to_csv('submission/'+hparam.label+'/'+\\\n",
    "                                                           hparam.model+'_'+score+'_'+str(i)+'.csv',index=False)\n",
    "\n",
    "\n",
    "\n",
    "test[hparam.label+'_probability']=preds.round(6)\n",
    "try:\n",
    "    os.mkdir('submission')\n",
    "except:\n",
    "    pass\n",
    "try:\n",
    "    os.mkdir('submission/'+hparam.label)\n",
    "except:\n",
    "    pass\n",
    "test[['uid','item_id',hparam.label+'_probability']].to_csv('submission/'+hparam.label+'/'+\\\n",
    "                                                           hparam.model+'_'+score+'.csv',index=False)\n",
    "print(test[hparam.label+'_probability'].mean())"
   ]
  },
  {
   "cell_type": "code",
   "execution_count": null,
   "metadata": {
    "collapsed": true
   },
   "outputs": [],
   "source": [
    "score"
   ]
  },
  {
   "cell_type": "code",
   "execution_count": null,
   "metadata": {
    "collapsed": true
   },
   "outputs": [],
   "source": [
    "print(score)"
   ]
  },
  {
   "cell_type": "code",
   "execution_count": null,
   "metadata": {
    "collapsed": true
   },
   "outputs": [],
   "source": [
    "score"
   ]
  },
  {
   "cell_type": "code",
   "execution_count": null,
   "metadata": {
    "collapsed": true
   },
   "outputs": [],
   "source": [
    "score"
   ]
  },
  {
   "cell_type": "code",
   "execution_count": null,
   "metadata": {
    "collapsed": true
   },
   "outputs": [],
   "source": []
  }
 ],
 "metadata": {
  "kernelspec": {
   "display_name": "Python 3",
   "language": "python",
   "name": "python3"
  },
  "language_info": {
   "codemirror_mode": {
    "name": "ipython",
    "version": 3
   },
   "file_extension": ".py",
   "mimetype": "text/x-python",
   "name": "python",
   "nbconvert_exporter": "python",
   "pygments_lexer": "ipython3",
   "version": "3.6.7"
  }
 },
 "nbformat": 4,
 "nbformat_minor": 2
}
