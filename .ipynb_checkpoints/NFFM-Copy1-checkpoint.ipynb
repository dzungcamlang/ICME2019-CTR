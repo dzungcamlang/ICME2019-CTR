{
 "cells": [
  {
   "cell_type": "code",
   "execution_count": 1,
   "metadata": {
    "collapsed": true
   },
   "outputs": [],
   "source": [
    "import numpy as np\n",
    "import pandas as pd\n",
    "import ctrNet\n",
    "import tensorflow as tf\n",
    "from src import misc_utils as utils\n",
    "import os\n",
    "import gc\n",
    "from sklearn import metrics\n",
    "import random\n",
    "np.random.seed(2019)\n",
    "os.environ[\"CUDA_DEVICE_ORDER\"]='PCI_BUS_ID'\n",
    "os.environ[\"CUDA_VISIBLE_DEVICES\"]='6'"
   ]
  },
  {
   "cell_type": "code",
   "execution_count": 2,
   "metadata": {
    "collapsed": true
   },
   "outputs": [],
   "source": [
    "label='finish'\n",
    "\n",
    "single_features=['did_finish_positive_num', 'did_finish_negative_num','did_all_cont','did_day_cont','author_id_finish_positive_num', 'author_id_finish_negative_num',\n",
    "                'author_id_all_cont','author_id_day_cont','item_id_finish_positive_num', 'item_id_finish_negative_num',\n",
    "                'item_id_all_cont','item_id_day_cont','author_id_did_all_cont','author_include_num_of_item','author_include_num_of_uid',\n",
    "                'title_cont','uid_has_num_of_did','uid_channel_nunique','did_video_duration_max','channel_video_duration_min',\n",
    "                'item_id_uid_nunique',]\n",
    "cross_features=['uid','user_city','item_id','author_id','item_city','channel','music_id','did','video_duration']\n",
    "embedding_features=None\n",
    "multi_features=['title_keys']\n",
    "multi_weights=['title_values']\n",
    "dense_features=['audio_embedding_'+str(i) for i in range(128)]+['author_id_embedding_'+str(i) for i in range(10)]+\\\n",
    "                ['uid_embedding_'+str(i) for i in range(10)]+['did_embedding_'+str(i) for i in range(10)]+\\\n",
    "    ['uid_deepwalk_embedding_'+str(i) for i in range(10)]+['item_id_deepwalk_embedding_'+str(i) for i in range(10)]\n",
    "dense_features+=['beauty_min','did_finish_rate','author_id_finish_rate','item_id_finish_rate','title_mean_rate_finish','title_max_rate_finish','title_min_rate_finish'] \n",
    "dense_features+=['uid_did_nunique', 'uid_did_count', 'uid_channel_nunique', 'did_video_duration_min', \n",
    "                        'did_video_duration_max', 'did_video_duration_mean', 'did_video_duration_std', \n",
    "                        'channel_video_duration_min', 'channel_video_duration_max', 'channel_video_duration_mean', \n",
    "                        'channel_video_duration_std', 'uid_item_id_unique_mean', 'uid_author_id_unique_mean', \n",
    "                        'uid_channel_unique_mean', 'did_item_id_unique_mean', 'did_author_id_unique_mean', \n",
    "                        'did_channel_unique_mean', 'uid_item_id_unique_var', 'uid_author_id_unique_var', \n",
    "                        'uid_channel_unique_var', 'did_item_id_unique_var', 'did_author_id_unique_var', \n",
    "                        'did_channel_unique_var', 'author_id_title_cont_skew', 'author_id_title_cont_mean', \n",
    "                        'author_id_title_cont_std', 'did_title_cont_skew', 'did_title_cont_mean', \n",
    "                        'did_title_cont_std', 'uid_channel_title_cont_skew', 'uid_channel_title_cont_mean', \n",
    "                        'uid_channel_title_cont_std', 'item_id_uid_nunique', 'item_id_uid_count', \n",
    "                        'author_id_item_id_nunique', 'author_id_item_id_count', 'uid_user_city_nunique', \n",
    "                        'uid_author_id_nunique', 'channel_user_city_nunique', 'did_video_duration_skew', \n",
    "                        'channel_video_duration_skew',  'item_id_pagerank', 'uid_item_id_pagerank', \n",
    "                        'uid_author_id_pagerank', 'did_item_id_pagerank', 'did_author_id_pagerank',\n",
    "                        'item_id_uid_pagerank', 'item_id_did_pagerank', 'author_id_uid_pagerank', \n",
    "                        'author_id_did_pagerank', 'title_mean', 'uid_title_mean_mean', \n",
    "                        'uid_title_mean_std', 'uid_title_mean_skew', 'author_id_title_mean_mean', \n",
    "                        'author_id_title_mean_std', 'author_id_title_mean_skew', 'did_title_mean_mean', \n",
    "                        'did_title_mean_std', 'did_title_mean_skew','uid_num_of_author_mean','uid_num_of_author_var','uid_num_of_author_fft_var']\n"
   ]
  },
  {
   "cell_type": "code",
   "execution_count": 3,
   "metadata": {},
   "outputs": [
    {
     "name": "stdout",
     "output_type": "stream",
     "text": [
      "  activation=['relu', 'relu', 'relu']\n",
      "  batch_norm_decay=0.9\n",
      "  batch_size=4096\n",
      "  cross_activation=relu\n",
      "  cross_features=['uid', 'user_city', 'item_id', 'author_id', 'item_city', 'channel', 'music_id', 'did', 'video_duration']\n",
      "  cross_hash_num=1000000\n",
      "  cross_layer_sizes=[128, 128]\n",
      "  dense_features=['audio_embedding_0', 'audio_embedding_1', 'audio_embedding_2', 'audio_embedding_3', 'audio_embedding_4', 'audio_embedding_5', 'audio_embedding_6', 'audio_embedding_7', 'audio_embedding_8', 'audio_embedding_9', 'audio_embedding_10', 'audio_embedding_11', 'audio_embedding_12', 'audio_embedding_13', 'audio_embedding_14', 'audio_embedding_15', 'audio_embedding_16', 'audio_embedding_17', 'audio_embedding_18', 'audio_embedding_19', 'audio_embedding_20', 'audio_embedding_21', 'audio_embedding_22', 'audio_embedding_23', 'audio_embedding_24', 'audio_embedding_25', 'audio_embedding_26', 'audio_embedding_27', 'audio_embedding_28', 'audio_embedding_29', 'audio_embedding_30', 'audio_embedding_31', 'audio_embedding_32', 'audio_embedding_33', 'audio_embedding_34', 'audio_embedding_35', 'audio_embedding_36', 'audio_embedding_37', 'audio_embedding_38', 'audio_embedding_39', 'audio_embedding_40', 'audio_embedding_41', 'audio_embedding_42', 'audio_embedding_43', 'audio_embedding_44', 'audio_embedding_45', 'audio_embedding_46', 'audio_embedding_47', 'audio_embedding_48', 'audio_embedding_49', 'audio_embedding_50', 'audio_embedding_51', 'audio_embedding_52', 'audio_embedding_53', 'audio_embedding_54', 'audio_embedding_55', 'audio_embedding_56', 'audio_embedding_57', 'audio_embedding_58', 'audio_embedding_59', 'audio_embedding_60', 'audio_embedding_61', 'audio_embedding_62', 'audio_embedding_63', 'audio_embedding_64', 'audio_embedding_65', 'audio_embedding_66', 'audio_embedding_67', 'audio_embedding_68', 'audio_embedding_69', 'audio_embedding_70', 'audio_embedding_71', 'audio_embedding_72', 'audio_embedding_73', 'audio_embedding_74', 'audio_embedding_75', 'audio_embedding_76', 'audio_embedding_77', 'audio_embedding_78', 'audio_embedding_79', 'audio_embedding_80', 'audio_embedding_81', 'audio_embedding_82', 'audio_embedding_83', 'audio_embedding_84', 'audio_embedding_85', 'audio_embedding_86', 'audio_embedding_87', 'audio_embedding_88', 'audio_embedding_89', 'audio_embedding_90', 'audio_embedding_91', 'audio_embedding_92', 'audio_embedding_93', 'audio_embedding_94', 'audio_embedding_95', 'audio_embedding_96', 'audio_embedding_97', 'audio_embedding_98', 'audio_embedding_99', 'audio_embedding_100', 'audio_embedding_101', 'audio_embedding_102', 'audio_embedding_103', 'audio_embedding_104', 'audio_embedding_105', 'audio_embedding_106', 'audio_embedding_107', 'audio_embedding_108', 'audio_embedding_109', 'audio_embedding_110', 'audio_embedding_111', 'audio_embedding_112', 'audio_embedding_113', 'audio_embedding_114', 'audio_embedding_115', 'audio_embedding_116', 'audio_embedding_117', 'audio_embedding_118', 'audio_embedding_119', 'audio_embedding_120', 'audio_embedding_121', 'audio_embedding_122', 'audio_embedding_123', 'audio_embedding_124', 'audio_embedding_125', 'audio_embedding_126', 'audio_embedding_127', 'author_id_embedding_0', 'author_id_embedding_1', 'author_id_embedding_2', 'author_id_embedding_3', 'author_id_embedding_4', 'author_id_embedding_5', 'author_id_embedding_6', 'author_id_embedding_7', 'author_id_embedding_8', 'author_id_embedding_9', 'uid_embedding_0', 'uid_embedding_1', 'uid_embedding_2', 'uid_embedding_3', 'uid_embedding_4', 'uid_embedding_5', 'uid_embedding_6', 'uid_embedding_7', 'uid_embedding_8', 'uid_embedding_9', 'did_embedding_0', 'did_embedding_1', 'did_embedding_2', 'did_embedding_3', 'did_embedding_4', 'did_embedding_5', 'did_embedding_6', 'did_embedding_7', 'did_embedding_8', 'did_embedding_9', 'uid_deepwalk_embedding_0', 'uid_deepwalk_embedding_1', 'uid_deepwalk_embedding_2', 'uid_deepwalk_embedding_3', 'uid_deepwalk_embedding_4', 'uid_deepwalk_embedding_5', 'uid_deepwalk_embedding_6', 'uid_deepwalk_embedding_7', 'uid_deepwalk_embedding_8', 'uid_deepwalk_embedding_9', 'item_id_deepwalk_embedding_0', 'item_id_deepwalk_embedding_1', 'item_id_deepwalk_embedding_2', 'item_id_deepwalk_embedding_3', 'item_id_deepwalk_embedding_4', 'item_id_deepwalk_embedding_5', 'item_id_deepwalk_embedding_6', 'item_id_deepwalk_embedding_7', 'item_id_deepwalk_embedding_8', 'item_id_deepwalk_embedding_9', 'beauty_min', 'did_finish_rate', 'author_id_finish_rate', 'item_id_finish_rate', 'title_mean_rate_finish', 'title_max_rate_finish', 'title_min_rate_finish', 'uid_did_nunique', 'uid_did_count', 'uid_channel_nunique', 'did_video_duration_min', 'did_video_duration_max', 'did_video_duration_mean', 'did_video_duration_std', 'channel_video_duration_min', 'channel_video_duration_max', 'channel_video_duration_mean', 'channel_video_duration_std', 'uid_item_id_unique_mean', 'uid_author_id_unique_mean', 'uid_channel_unique_mean', 'did_item_id_unique_mean', 'did_author_id_unique_mean', 'did_channel_unique_mean', 'uid_item_id_unique_var', 'uid_author_id_unique_var', 'uid_channel_unique_var', 'did_item_id_unique_var', 'did_author_id_unique_var', 'did_channel_unique_var', 'author_id_title_cont_skew', 'author_id_title_cont_mean', 'author_id_title_cont_std', 'did_title_cont_skew', 'did_title_cont_mean', 'did_title_cont_std', 'uid_channel_title_cont_skew', 'uid_channel_title_cont_mean', 'uid_channel_title_cont_std', 'item_id_uid_nunique', 'item_id_uid_count', 'author_id_item_id_nunique', 'author_id_item_id_count', 'uid_user_city_nunique', 'uid_author_id_nunique', 'channel_user_city_nunique', 'did_video_duration_skew', 'channel_video_duration_skew', 'item_id_pagerank', 'uid_item_id_pagerank', 'uid_author_id_pagerank', 'did_item_id_pagerank', 'did_author_id_pagerank', 'item_id_uid_pagerank', 'item_id_did_pagerank', 'author_id_uid_pagerank', 'author_id_did_pagerank', 'title_mean', 'uid_title_mean_mean', 'uid_title_mean_std', 'uid_title_mean_skew', 'author_id_title_mean_mean', 'author_id_title_mean_std', 'author_id_title_mean_skew', 'did_title_mean_mean', 'did_title_mean_std', 'did_title_mean_skew', 'uid_num_of_author_mean', 'uid_num_of_author_var', 'uid_num_of_author_fft_var']\n",
      "  dense_hidden_size=[512]\n",
      "  dropout=0\n",
      "  embedding_features=None\n",
      "  epoch=1\n",
      "  hidden_size=[512, 256]\n",
      "  infer_batch_size=8192\n",
      "  init_method=tnormal\n",
      "  init_value=0.001\n",
      "  k=10\n",
      "  label=finish\n",
      "  learning_rate=0.0002\n",
      "  metric=auc\n",
      "  model=nffm\n",
      "  model_name=nffm\n",
      "  multi_features=['title_keys']\n",
      "  multi_hash_num=10000\n",
      "  multi_weights=['title_values']\n",
      "  norm=True\n",
      "  num_display_steps=100\n",
      "  optimizer=adam\n",
      "  single_features=['did_finish_positive_num', 'did_finish_negative_num', 'did_all_cont', 'did_day_cont', 'author_id_finish_positive_num', 'author_id_finish_negative_num', 'author_id_all_cont', 'author_id_day_cont', 'item_id_finish_positive_num', 'item_id_finish_negative_num', 'item_id_all_cont', 'item_id_day_cont', 'author_id_did_all_cont', 'author_include_num_of_item', 'author_include_num_of_uid', 'title_cont', 'uid_has_num_of_did', 'uid_channel_nunique', 'did_video_duration_max', 'channel_video_duration_min', 'item_id_uid_nunique']\n",
      "  single_hash_num=1000000\n",
      "  test=True\n"
     ]
    }
   ],
   "source": [
    "hparam=tf.contrib.training.HParams(\n",
    "            model='nffm',\n",
    "            norm=True,\n",
    "            batch_norm_decay=0.9,\n",
    "            hidden_size=[512,256],\n",
    "            dense_hidden_size=[512],\n",
    "            cross_layer_sizes=[128,128],\n",
    "            k=10,\n",
    "            cross_hash_num=int(1e6),\n",
    "            single_hash_num=int(1e6),\n",
    "            multi_hash_num=int(1e4),\n",
    "            batch_size=4096,\n",
    "            infer_batch_size=2**13,\n",
    "            optimizer=\"adam\",\n",
    "            dropout=0,\n",
    "            learning_rate=0.0002,\n",
    "            num_display_steps=100,\n",
    "            epoch=1, #don't modify\n",
    "            metric='auc',\n",
    "            activation=['relu','relu','relu'],\n",
    "            init_method='tnormal',\n",
    "            cross_activation='relu',\n",
    "            init_value=0.001,\n",
    "            cross_features=cross_features,\n",
    "            single_features=single_features,\n",
    "            multi_features=multi_features,\n",
    "            multi_weights=multi_weights,\n",
    "            dense_features=dense_features,\n",
    "            embedding_features=embedding_features,\n",
    "            model_name=\"nffm\",\n",
    "            test=True,\n",
    "            label=label)\n",
    "utils.print_hparams(hparam)"
   ]
  },
  {
   "cell_type": "code",
   "execution_count": 4,
   "metadata": {},
   "outputs": [
    {
     "name": "stdout",
     "output_type": "stream",
     "text": [
      "# Trainable variables\n",
      "  emb_v2_cross:0, (1000000, 10, 10), \n",
      "  emb_v2_multi:0, (10000, 10, 10), \n",
      "  emb_v2_single:0, (1000000, 10), \n",
      "  dense_norm/beta:0, (1458,), \n",
      "  dense_norm/gamma:0, (1458,), \n",
      "  Variable:0, (1458, 512), \n",
      "  norm_0/beta:0, (512,), \n",
      "  norm_0/gamma:0, (512,), \n",
      "  Variable_1:0, (512, 256), \n",
      "  Variable_2:0, (256, 1), \n",
      "  Variable_3:0, (), \n"
     ]
    }
   ],
   "source": [
    "try:\n",
    "    del model\n",
    "    gc.collect()\n",
    "except:\n",
    "    pass\n",
    "model=ctrNet.build_model(hparam)"
   ]
  },
  {
   "cell_type": "code",
   "execution_count": null,
   "metadata": {
    "collapsed": true
   },
   "outputs": [],
   "source": [
    "test=pd.read_pickle('data/dev_NN.pkl')"
   ]
  },
  {
   "cell_type": "code",
   "execution_count": null,
   "metadata": {},
   "outputs": [
    {
     "name": "stdout",
     "output_type": "stream",
     "text": [
      "0\n"
     ]
    }
   ],
   "source": [
    "k=10\n",
    "for i in range(k):\n",
    "    print(i)\n",
    "    train=pd.read_pickle('data/train_dev_NN_'+str(i)+'.pkl')\n",
    "    if (i+1)%1==0:\n",
    "        model.train(train,test)\n",
    "    else:\n",
    "        model.train(train,None)"
   ]
  },
  {
   "cell_type": "raw",
   "metadata": {},
   "source": [
    "0\n",
    "  epoch 0 step 100 lr 0.0002 logloss 0.781235 gN 1.17, Sun Mar 24 08:36:59 2019\n",
    "  epoch 0 step 200 lr 0.0002 logloss 0.573022 gN 0.34, Sun Mar 24 08:37:40 2019\n",
    "  epoch 0 step 300 lr 0.0002 logloss 0.566668 gN 0.30, Sun Mar 24 08:38:22 2019\n",
    "  epoch 0 step 344 lr 0.0002 logloss 0.564335 gN 0.29, Sun Mar 24 08:38:39 2019\n",
    "100%|██████████| 343/343 [03:18<00:00,  2.37it/s]\n",
    "# Epcho-time 143.15s Eval AUC 0.720392. Eval logloss 0.590197. Best AUC 0.720392.finish\n",
    "1\n",
    "  epoch 0 step 100 lr 0.0002 logloss 0.564189 gN 0.27, Sun Mar 24 08:42:49 2019\n",
    "  epoch 0 step 200 lr 0.0002 logloss 0.565351 gN 0.27, Sun Mar 24 08:43:31 2019\n",
    "  epoch 0 step 300 lr 0.0002 logloss 0.562296 gN 0.25, Sun Mar 24 08:44:13 2019\n",
    "  epoch 0 step 344 lr 0.0002 logloss 0.563034 gN 0.25, Sun Mar 24 08:44:31 2019\n",
    "100%|██████████| 343/343 [03:19<00:00,  2.39it/s]\n",
    "# Epcho-time 142.97s Eval AUC 0.724017. Eval logloss 0.587383. Best AUC 0.724017.finish\n",
    "2\n",
    "  epoch 0 step 100 lr 0.0002 logloss 0.560643 gN 0.24, Sun Mar 24 08:48:43 2019\n",
    "  epoch 0 step 200 lr 0.0002 logloss 0.561141 gN 0.24, Sun Mar 24 08:49:25 2019\n",
    "  epoch 0 step 300 lr 0.0002 logloss 0.559780 gN 0.24, Sun Mar 24 08:50:06 2019\n",
    "  epoch 0 step 344 lr 0.0002 logloss 0.560959 gN 0.24, Sun Mar 24 08:50:24 2019\n",
    "100%|██████████| 343/343 [03:20<00:00,  2.31it/s]\n",
    "# Epcho-time 141.66s Eval AUC 0.726585. Eval logloss 0.585523. Best AUC 0.726585.finish\n",
    "3\n",
    "  epoch 0 step 100 lr 0.0002 logloss 0.560052 gN 0.22, Sun Mar 24 08:54:36 2019\n",
    "  epoch 0 step 200 lr 0.0002 logloss 0.559092 gN 0.22, Sun Mar 24 08:55:17 2019\n",
    "  epoch 0 step 300 lr 0.0002 logloss 0.558996 gN 0.22, Sun Mar 24 08:56:00 2019\n",
    "  epoch 0 step 344 lr 0.0002 logloss 0.557450 gN 0.22, Sun Mar 24 08:56:18 2019\n",
    "100%|██████████| 343/343 [03:46<00:00,  2.13it/s]\n",
    "# Epcho-time 143.39s Eval AUC 0.726111. Eval logloss 0.585842. Best AUC 0.726585.finish\n",
    "4\n",
    "  epoch 0 step 100 lr 0.0002 logloss 0.558156 gN 0.23, Sun Mar 24 09:00:56 2019\n",
    "  epoch 0 step 200 lr 0.0002 logloss 0.557144 gN 0.22, Sun Mar 24 09:01:39 2019\n",
    "  epoch 0 step 300 lr 0.0002 logloss 0.557692 gN 0.21, Sun Mar 24 09:02:21 2019\n",
    "  epoch 0 step 344 lr 0.0002 logloss 0.556392 gN 0.21, Sun Mar 24 09:02:39 2019\n",
    "100%|██████████| 343/343 [04:03<00:00,  2.04it/s]\n",
    "# Epcho-time 145.49s Eval AUC 0.728290. Eval logloss 0.584249. Best AUC 0.728290.finish\n",
    "5\n",
    "  epoch 0 step 100 lr 0.0002 logloss 0.556864 gN 0.21, Sun Mar 24 09:07:37 2019\n",
    "  epoch 0 step 200 lr 0.0002 logloss 0.555575 gN 0.21, Sun Mar 24 09:08:19 2019\n",
    "  epoch 0 step 300 lr 0.0002 logloss 0.556869 gN 0.21, Sun Mar 24 09:09:00 2019\n",
    "  epoch 0 step 344 lr 0.0002 logloss 0.555618 gN 0.21, Sun Mar 24 09:09:16 2019\n",
    "100%|██████████| 343/343 [03:27<00:00,  2.09it/s]\n",
    "# Epcho-time 142.80s Eval AUC 0.728566. Eval logloss 0.584010. Best AUC 0.728566.finish\n",
    "6\n",
    "  epoch 0 step 100 lr 0.0002 logloss 0.556288 gN 0.20, Sun Mar 24 09:13:36 2019\n",
    "  epoch 0 step 200 lr 0.0002 logloss 0.555377 gN 0.20, Sun Mar 24 09:14:17 2019\n",
    "  epoch 0 step 300 lr 0.0002 logloss 0.555758 gN 0.20, Sun Mar 24 09:14:59 2019\n",
    "  epoch 0 step 344 lr 0.0002 logloss 0.556648 gN 0.21, Sun Mar 24 09:15:16 2019\n",
    "100%|██████████| 343/343 [03:28<00:00,  2.01it/s]\n",
    "# Epcho-time 141.43s Eval AUC 0.729247. Eval logloss 0.583479. Best AUC 0.729247.finish\n",
    "7\n",
    "  epoch 0 step 100 lr 0.0002 logloss 0.554190 gN 0.20, Sun Mar 24 09:19:36 2019\n",
    "  epoch 0 step 200 lr 0.0002 logloss 0.554199 gN 0.20, Sun Mar 24 09:20:18 2019\n",
    "  epoch 0 step 300 lr 0.0002 logloss 0.555717 gN 0.20, Sun Mar 24 09:21:00 2019\n",
    "  epoch 0 step 344 lr 0.0002 logloss 0.556299 gN 0.20, Sun Mar 24 09:21:17 2019\n",
    "100%|██████████| 343/343 [03:29<00:00,  2.25it/s]\n",
    "# Epcho-time 142.41s Eval AUC 0.729341. Eval logloss 0.583081. Best AUC 0.729341.finish\n",
    "8\n",
    "  epoch 0 step 100 lr 0.0002 logloss 0.554149 gN 0.20, Sun Mar 24 09:25:40 2019\n",
    "  epoch 0 step 200 lr 0.0002 logloss 0.552530 gN 0.19, Sun Mar 24 09:26:20 2019\n",
    "  epoch 0 step 300 lr 0.0002 logloss 0.553619 gN 0.19, Sun Mar 24 09:27:02 2019\n",
    "  epoch 0 step 344 lr 0.0002 logloss 0.553498 gN 0.20, Sun Mar 24 09:27:20 2019\n",
    "100%|██████████| 343/343 [03:30<00:00,  1.95it/s]\n",
    "# Epcho-time 141.70s Eval AUC 0.732320. Eval logloss 0.581458. Best AUC 0.732320.finish\n",
    "9\n",
    "  epoch 0 step 100 lr 0.0002 logloss 0.552799 gN 0.19, Sun Mar 24 09:31:41 2019\n",
    "  epoch 0 step 200 lr 0.0002 logloss 0.552921 gN 0.19, Sun Mar 24 09:32:23 2019\n",
    "  epoch 0 step 300 lr 0.0002 logloss 0.551317 gN 0.20, Sun Mar 24 09:33:04 2019\n",
    "  epoch 0 step 344 lr 0.0002 logloss 0.552021 gN 0.20, Sun Mar 24 09:33:21 2019\n",
    "100%|██████████| 343/343 [03:29<00:00,  2.29it/s]\n",
    "# Epcho-time 140.73s Eval AUC 0.731490. Eval logloss 0.581952. Best AUC 0.732320.finish"
   ]
  },
  {
   "cell_type": "code",
   "execution_count": null,
   "metadata": {},
   "outputs": [],
   "source": [
    "print(\"Dev Inference:\")\n",
    "preds=model.infer(test)\n",
    "test[hparam.label+'_probability']=preds.round(6) \n",
    "fpr, tpr, thresholds = metrics.roc_curve(test[hparam.label]+1, test[hparam.label+'_probability'], pos_label=2)\n",
    "auc=metrics.auc(fpr, tpr)\n",
    "print(hparam.label,round(auc,6))\n",
    "score=str(round(auc,6))\n",
    "del train\n",
    "del test\n",
    "gc.collect()"
   ]
  },
  {
   "cell_type": "code",
   "execution_count": null,
   "metadata": {},
   "outputs": [],
   "source": [
    "test=pd.read_pickle(\"data/test_NN.pkl\")    \n",
    "index=list(range(10))\n",
    "for i in range(5):\n",
    "    print(\"Fold\",i)\n",
    "    random.shuffle(index)\n",
    "    model=ctrNet.build_model(hparam)\n",
    "    for idx,k in enumerate(index):\n",
    "        print(idx,k)\n",
    "        train=pd.read_pickle('data/train_NN_'+str(k)+'.pkl')\n",
    "        model.train(train,None)\n",
    "    print(\"Test Inference:\")   \n",
    "    if i==0:\n",
    "        preds=model.infer(test)/5\n",
    "    else:\n",
    "        preds+=model.infer(test)/5\n",
    "\n",
    "\n",
    "\n",
    "test[hparam.label+'_probability']=preds.round(6)\n",
    "try:\n",
    "    os.mkdir('submission')\n",
    "except:\n",
    "    pass\n",
    "try:\n",
    "    os.mkdir('submission/'+hparam.label)\n",
    "except:\n",
    "    pass\n",
    "test[['uid','item_id',hparam.label+'_probability']].to_csv('submission/'+hparam.label+'/'+\\\n",
    "                                                           hparam.model+'_'+score+'.csv',index=False)"
   ]
  },
  {
   "cell_type": "code",
   "execution_count": null,
   "metadata": {},
   "outputs": [],
   "source": [
    "score"
   ]
  },
  {
   "cell_type": "code",
   "execution_count": null,
   "metadata": {
    "collapsed": true
   },
   "outputs": [],
   "source": [
    "score"
   ]
  },
  {
   "cell_type": "code",
   "execution_count": null,
   "metadata": {
    "collapsed": true
   },
   "outputs": [],
   "source": []
  }
 ],
 "metadata": {
  "kernelspec": {
   "display_name": "Python 3",
   "language": "python",
   "name": "python3"
  },
  "language_info": {
   "codemirror_mode": {
    "name": "ipython",
    "version": 3
   },
   "file_extension": ".py",
   "mimetype": "text/x-python",
   "name": "python",
   "nbconvert_exporter": "python",
   "pygments_lexer": "ipython3",
   "version": "3.6.7"
  }
 },
 "nbformat": 4,
 "nbformat_minor": 2
}
